{
 "cells": [
  {
   "cell_type": "markdown",
   "metadata": {},
   "source": [
    "### - 서귀포 숙소 데이터"
   ]
  },
  {
   "cell_type": "markdown",
   "metadata": {},
   "source": [
    "- 숙소 데이터도 서귀포 쪽의 데이터가 없으므로 추가로 동일한 방법으로 추가한다.\n",
    "- 키워드 검색\n",
    "  - 질의어를 통해 장소 검색 결과 반환\n",
    "  - category_group_name, category_name, place_url\n",
    "- 키워드 장소 검색 : 일간 100,000건\n",
    "- 검색할 카테고리 선정 : 숙박\n",
    "  - AD5(숙박)\n",
    "- 법정동·리 별로 검색 : <a href = 'https://ko.wikipedia.org/wiki/%EC%84%9C%EA%B7%80%ED%8F%AC%EC%8B%9C%EC%9D%98_%ED%96%89%EC%A0%95_%EA%B5%AC%EC%97%AD' target='_blink'>위키백과</a>"
   ]
  },
  {
   "cell_type": "markdown",
   "metadata": {},
   "source": [
    "#### 1. 데이터 획득"
   ]
  },
  {
   "cell_type": "markdown",
   "metadata": {},
   "source": [
    "##### ◽카테고리, 키워드, 지역 변수"
   ]
  },
  {
   "cell_type": "code",
   "execution_count": 3,
   "metadata": {},
   "outputs": [],
   "source": [
    "keywords = ['호텔', '리조트', '콘도', '게스트하우스', '민박', '펜션']\n",
    "categorys = ['AD5']\n",
    "categorys_info = {'AD5' : '숙박'}"
   ]
  },
  {
   "cell_type": "code",
   "execution_count": 4,
   "metadata": {},
   "outputs": [],
   "source": [
    "jeju_range = ['법환동', '서호동', '호근동', '강정동', '도순동', '영남동', '월평동', '동홍동', '서홍동', '보목동','서귀동','토평동', '상효동', '상예동', '색달동', '하예동', '대포동', '중문동', '하원동', '회수동', '신효동', '하효동']"
   ]
  },
  {
   "cell_type": "markdown",
   "metadata": {},
   "source": [
    "##### ◽카카오 API 활용 함수 : 함수 재활용"
   ]
  },
  {
   "cell_type": "markdown",
   "metadata": {},
   "source": [
    "- search_result(keyword, category, jeju_name)\n",
    "  - (카테고리, 법정동_리) 검색 함수"
   ]
  },
  {
   "cell_type": "code",
   "execution_count": 5,
   "metadata": {},
   "outputs": [],
   "source": [
    "import json\n",
    "import requests\n",
    "\n",
    "def search_result(keyword, category, jeju_name):\n",
    "    result = []\n",
    "\n",
    "    # REST 키\n",
    "    rest_api_key = '63d0926cf9b14de298157081ba8a8d02'\n",
    "    # 헤더\n",
    "    headers = {\"Authorization\" : \"KakaoAK {}\".format(rest_api_key)}\n",
    "    # 파라미터\n",
    "    params = {\"query\" : f\"제주특별자치도 {jeju_name} {keyword}\", \"page\" : 1, \"category_group_code\" : f\"{category}\"}\n",
    "    url = \"https://dapi.kakao.com/v2/local/search/keyword.json\"\n",
    "\n",
    "    while True:\n",
    "        # GET을 이용하여 획득\n",
    "        res = requests.get(url, headers=headers, params=params)\n",
    "        if res.status_code == 200:\n",
    "            # Json을 이용하여 해제\n",
    "            doc = json.loads(res.text)\n",
    "            result.extend(doc['documents'])\n",
    "            if doc['meta']['is_end'] == True:\n",
    "                break\n",
    "            else:\n",
    "                params['page'] += 1\n",
    "    return result"
   ]
  },
  {
   "cell_type": "markdown",
   "metadata": {},
   "source": [
    "- search_df()\n",
    "  - 전체 숙박 데이터 프레임 반환 함수"
   ]
  },
  {
   "cell_type": "code",
   "execution_count": 6,
   "metadata": {},
   "outputs": [],
   "source": [
    "import pandas as pd\n",
    "from tqdm.notebook import tqdm\n",
    "\n",
    "def search_df():\n",
    "    results = []\n",
    "    for idx, jeju in tqdm(enumerate(jeju_range)):\n",
    "        for category in categorys:\n",
    "            for key in keywords:\n",
    "                r = pd.DataFrame(search_result(key, category, jeju))\n",
    "                r['keyword'] = key\n",
    "                results.append(r.copy())\n",
    "    return pd.concat(results).reset_index(drop=True)"
   ]
  },
  {
   "cell_type": "markdown",
   "metadata": {},
   "source": [
    "##### ◽카카오 API 활용 데이터 획득"
   ]
  },
  {
   "cell_type": "code",
   "execution_count": 7,
   "metadata": {},
   "outputs": [
    {
     "data": {
      "application/vnd.jupyter.widget-view+json": {
       "model_id": "cc742216dd4d432b996bbdbc1ed86260",
       "version_major": 2,
       "version_minor": 0
      },
      "text/plain": [
       "0it [00:00, ?it/s]"
      ]
     },
     "metadata": {},
     "output_type": "display_data"
    }
   ],
   "source": [
    "accommodation_poi_add = search_df()"
   ]
  },
  {
   "cell_type": "code",
   "execution_count": 9,
   "metadata": {},
   "outputs": [],
   "source": [
    "# accommodation_poi_add.to_excel('./data/220121/서귀포_숙박_POI.xlsx',index=False)"
   ]
  },
  {
   "cell_type": "code",
   "execution_count": 10,
   "metadata": {},
   "outputs": [
    {
     "data": {
      "text/html": [
       "<div>\n",
       "<style scoped>\n",
       "    .dataframe tbody tr th:only-of-type {\n",
       "        vertical-align: middle;\n",
       "    }\n",
       "\n",
       "    .dataframe tbody tr th {\n",
       "        vertical-align: top;\n",
       "    }\n",
       "\n",
       "    .dataframe thead th {\n",
       "        text-align: right;\n",
       "    }\n",
       "</style>\n",
       "<table border=\"1\" class=\"dataframe\">\n",
       "  <thead>\n",
       "    <tr style=\"text-align: right;\">\n",
       "      <th></th>\n",
       "      <th>address_name</th>\n",
       "      <th>category_group_code</th>\n",
       "      <th>category_group_name</th>\n",
       "      <th>category_name</th>\n",
       "      <th>distance</th>\n",
       "      <th>id</th>\n",
       "      <th>phone</th>\n",
       "      <th>place_name</th>\n",
       "      <th>place_url</th>\n",
       "      <th>road_address_name</th>\n",
       "      <th>x</th>\n",
       "      <th>y</th>\n",
       "      <th>keyword</th>\n",
       "    </tr>\n",
       "  </thead>\n",
       "  <tbody>\n",
       "    <tr>\n",
       "      <th>0</th>\n",
       "      <td>제주특별자치도 서귀포시 법환동 1513</td>\n",
       "      <td>AD5</td>\n",
       "      <td>숙박</td>\n",
       "      <td>여행 &gt; 숙박 &gt; 호텔</td>\n",
       "      <td></td>\n",
       "      <td>17017429</td>\n",
       "      <td>064-800-7200</td>\n",
       "      <td>더그랜드섬오름</td>\n",
       "      <td>http://place.map.kakao.com/17017429</td>\n",
       "      <td>제주특별자치도 서귀포시 막숙포로 114</td>\n",
       "      <td>126.51042079683762</td>\n",
       "      <td>33.23307218540021</td>\n",
       "      <td>호텔</td>\n",
       "    </tr>\n",
       "    <tr>\n",
       "      <th>1</th>\n",
       "      <td>제주특별자치도 서귀포시 법환동 745-1</td>\n",
       "      <td>AD5</td>\n",
       "      <td>숙박</td>\n",
       "      <td>여행 &gt; 숙박 &gt; 호텔</td>\n",
       "      <td></td>\n",
       "      <td>27224641</td>\n",
       "      <td>064-802-7000</td>\n",
       "      <td>비스타케이호텔 월드컵</td>\n",
       "      <td>http://place.map.kakao.com/27224641</td>\n",
       "      <td>제주특별자치도 서귀포시 김정문화로41번길 10-6</td>\n",
       "      <td>126.509787880491</td>\n",
       "      <td>33.251897501317295</td>\n",
       "      <td>호텔</td>\n",
       "    </tr>\n",
       "  </tbody>\n",
       "</table>\n",
       "</div>"
      ],
      "text/plain": [
       "             address_name category_group_code category_group_name  \\\n",
       "0   제주특별자치도 서귀포시 법환동 1513                 AD5                  숙박   \n",
       "1  제주특별자치도 서귀포시 법환동 745-1                 AD5                  숙박   \n",
       "\n",
       "  category_name distance        id         phone   place_name  \\\n",
       "0  여행 > 숙박 > 호텔           17017429  064-800-7200      더그랜드섬오름   \n",
       "1  여행 > 숙박 > 호텔           27224641  064-802-7000  비스타케이호텔 월드컵   \n",
       "\n",
       "                             place_url            road_address_name  \\\n",
       "0  http://place.map.kakao.com/17017429        제주특별자치도 서귀포시 막숙포로 114   \n",
       "1  http://place.map.kakao.com/27224641  제주특별자치도 서귀포시 김정문화로41번길 10-6   \n",
       "\n",
       "                    x                   y keyword  \n",
       "0  126.51042079683762   33.23307218540021      호텔  \n",
       "1    126.509787880491  33.251897501317295      호텔  "
      ]
     },
     "execution_count": 10,
     "metadata": {},
     "output_type": "execute_result"
    }
   ],
   "source": [
    "accommodation_poi_add.head(2)"
   ]
  },
  {
   "cell_type": "markdown",
   "metadata": {},
   "source": [
    "##### ◽데이터 확인(숙박_POI(API))"
   ]
  },
  {
   "cell_type": "markdown",
   "metadata": {},
   "source": [
    "- 엑셀을 통해 중복(keyword, id) 제거"
   ]
  },
  {
   "cell_type": "code",
   "execution_count": 23,
   "metadata": {},
   "outputs": [],
   "source": [
    "import pandas as pd\n",
    "\n",
    "accommodation_poi_add = pd.read_excel('./data/220121/서귀포_숙박_POI.xlsx', index_col=False)"
   ]
  },
  {
   "cell_type": "code",
   "execution_count": 24,
   "metadata": {},
   "outputs": [
    {
     "name": "stdout",
     "output_type": "stream",
     "text": [
      "<class 'pandas.core.frame.DataFrame'>\n",
      "RangeIndex: 1076 entries, 0 to 1075\n",
      "Data columns (total 13 columns):\n",
      " #   Column               Non-Null Count  Dtype  \n",
      "---  ------               --------------  -----  \n",
      " 0   address_name         1076 non-null   object \n",
      " 1   category_group_code  1076 non-null   object \n",
      " 2   category_group_name  1076 non-null   object \n",
      " 3   category_name        1076 non-null   object \n",
      " 4   distance             0 non-null      float64\n",
      " 5   id                   1076 non-null   int64  \n",
      " 6   phone                754 non-null    object \n",
      " 7   place_name           1076 non-null   object \n",
      " 8   place_url            1076 non-null   object \n",
      " 9   road_address_name    1066 non-null   object \n",
      " 10  x                    1076 non-null   float64\n",
      " 11  y                    1076 non-null   float64\n",
      " 12  keyword              1076 non-null   object \n",
      "dtypes: float64(3), int64(1), object(9)\n",
      "memory usage: 109.4+ KB\n"
     ]
    }
   ],
   "source": [
    "accommodation_poi_add.info()"
   ]
  },
  {
   "cell_type": "code",
   "execution_count": 25,
   "metadata": {},
   "outputs": [
    {
     "data": {
      "text/html": [
       "<div>\n",
       "<style scoped>\n",
       "    .dataframe tbody tr th:only-of-type {\n",
       "        vertical-align: middle;\n",
       "    }\n",
       "\n",
       "    .dataframe tbody tr th {\n",
       "        vertical-align: top;\n",
       "    }\n",
       "\n",
       "    .dataframe thead th {\n",
       "        text-align: right;\n",
       "    }\n",
       "</style>\n",
       "<table border=\"1\" class=\"dataframe\">\n",
       "  <thead>\n",
       "    <tr style=\"text-align: right;\">\n",
       "      <th></th>\n",
       "      <th>keyword</th>\n",
       "    </tr>\n",
       "  </thead>\n",
       "  <tbody>\n",
       "    <tr>\n",
       "      <th>펜션</th>\n",
       "      <td>446</td>\n",
       "    </tr>\n",
       "    <tr>\n",
       "      <th>민박</th>\n",
       "      <td>185</td>\n",
       "    </tr>\n",
       "    <tr>\n",
       "      <th>호텔</th>\n",
       "      <td>168</td>\n",
       "    </tr>\n",
       "    <tr>\n",
       "      <th>게스트하우스</th>\n",
       "      <td>168</td>\n",
       "    </tr>\n",
       "    <tr>\n",
       "      <th>리조트/콘도</th>\n",
       "      <td>109</td>\n",
       "    </tr>\n",
       "  </tbody>\n",
       "</table>\n",
       "</div>"
      ],
      "text/plain": [
       "        keyword\n",
       "펜션          446\n",
       "민박          185\n",
       "호텔          168\n",
       "게스트하우스      168\n",
       "리조트/콘도      109"
      ]
     },
     "execution_count": 25,
     "metadata": {},
     "output_type": "execute_result"
    }
   ],
   "source": [
    "pd.DataFrame(accommodation_poi_add['keyword'].value_counts())"
   ]
  },
  {
   "cell_type": "markdown",
   "metadata": {},
   "source": [
    "#### 2. id 중복 처리 : 키워드 정리"
   ]
  },
  {
   "cell_type": "markdown",
   "metadata": {},
   "source": [
    "##### ◽id 중복 확인"
   ]
  },
  {
   "cell_type": "code",
   "execution_count": 27,
   "metadata": {},
   "outputs": [],
   "source": [
    "import pandas as pd\n",
    "\n",
    "accommodation_poi_add = pd.read_excel('./data/220121/서귀포_숙박_POI.xlsx', index_col=False)"
   ]
  },
  {
   "cell_type": "markdown",
   "metadata": {},
   "source": [
    "- id 값으로 조회\n",
    "  - keyword와 category를 비교하여 맞지않는 경우 삭제"
   ]
  },
  {
   "cell_type": "code",
   "execution_count": 28,
   "metadata": {},
   "outputs": [],
   "source": [
    "del_index = []\n",
    "for idx, row in accommodation_poi_add.iterrows():\n",
    "    key = row['keyword']\n",
    "    if '리조트' in key:\n",
    "        key = '리조트'\n",
    "    if key not in row['category_name']:\n",
    "            del_index.append(idx)"
   ]
  },
  {
   "cell_type": "code",
   "execution_count": 29,
   "metadata": {},
   "outputs": [
    {
     "data": {
      "text/plain": [
       "46"
      ]
     },
     "execution_count": 29,
     "metadata": {},
     "output_type": "execute_result"
    }
   ],
   "source": [
    "# 삭제할 인덱스의 수\n",
    "len(del_index)"
   ]
  },
  {
   "cell_type": "code",
   "execution_count": 30,
   "metadata": {},
   "outputs": [],
   "source": [
    "# 중복 id의 인덱스 삭제\n",
    "accommodation_poi_del = accommodation_poi_add.drop(del_index, axis=0)"
   ]
  },
  {
   "cell_type": "code",
   "execution_count": 31,
   "metadata": {},
   "outputs": [
    {
     "name": "stdout",
     "output_type": "stream",
     "text": [
      "<class 'pandas.core.frame.DataFrame'>\n",
      "Int64Index: 1030 entries, 0 to 1075\n",
      "Data columns (total 13 columns):\n",
      " #   Column               Non-Null Count  Dtype  \n",
      "---  ------               --------------  -----  \n",
      " 0   address_name         1030 non-null   object \n",
      " 1   category_group_code  1030 non-null   object \n",
      " 2   category_group_name  1030 non-null   object \n",
      " 3   category_name        1030 non-null   object \n",
      " 4   distance             0 non-null      float64\n",
      " 5   id                   1030 non-null   int64  \n",
      " 6   phone                717 non-null    object \n",
      " 7   place_name           1030 non-null   object \n",
      " 8   place_url            1030 non-null   object \n",
      " 9   road_address_name    1021 non-null   object \n",
      " 10  x                    1030 non-null   float64\n",
      " 11  y                    1030 non-null   float64\n",
      " 12  keyword              1030 non-null   object \n",
      "dtypes: float64(3), int64(1), object(9)\n",
      "memory usage: 112.7+ KB\n"
     ]
    }
   ],
   "source": [
    "accommodation_poi_del.info()"
   ]
  },
  {
   "cell_type": "code",
   "execution_count": 32,
   "metadata": {},
   "outputs": [
    {
     "data": {
      "text/plain": [
       "1030"
      ]
     },
     "execution_count": 32,
     "metadata": {},
     "output_type": "execute_result"
    }
   ],
   "source": [
    "len(accommodation_poi_del['id'].unique())"
   ]
  },
  {
   "cell_type": "code",
   "execution_count": 33,
   "metadata": {},
   "outputs": [],
   "source": [
    "# accommodation_poi_del.to_excel('./data/220121/서귀포_숙박_POI_최종RAW.xlsx', index=False)"
   ]
  },
  {
   "cell_type": "markdown",
   "metadata": {},
   "source": [
    "#### 3. 셀레니움 : 이미지, 평점, 호텔 등급 데이터 확보"
   ]
  },
  {
   "cell_type": "markdown",
   "metadata": {},
   "source": [
    "##### ◽데이터 확인"
   ]
  },
  {
   "cell_type": "code",
   "execution_count": 34,
   "metadata": {},
   "outputs": [],
   "source": [
    "import pandas as pd\n",
    "\n",
    "accommodation = pd.read_excel('./data/220121/서귀포_숙박_POI_최종RAW.xlsx', index_col=False)"
   ]
  },
  {
   "cell_type": "code",
   "execution_count": 35,
   "metadata": {},
   "outputs": [
    {
     "data": {
      "text/plain": [
       "Index(['address_name', 'category_group_code', 'category_group_name',\n",
       "       'category_name', 'distance', 'id', 'phone', 'place_name', 'place_url',\n",
       "       'road_address_name', 'x', 'y', 'keyword'],\n",
       "      dtype='object')"
      ]
     },
     "execution_count": 35,
     "metadata": {},
     "output_type": "execute_result"
    }
   ],
   "source": [
    "accommodation.columns"
   ]
  },
  {
   "cell_type": "code",
   "execution_count": 36,
   "metadata": {},
   "outputs": [
    {
     "data": {
      "text/plain": [
       "(1030, 13)"
      ]
     },
     "execution_count": 36,
     "metadata": {},
     "output_type": "execute_result"
    }
   ],
   "source": [
    "accommodation.shape"
   ]
  },
  {
   "cell_type": "code",
   "execution_count": 37,
   "metadata": {},
   "outputs": [
    {
     "data": {
      "text/html": [
       "<div>\n",
       "<style scoped>\n",
       "    .dataframe tbody tr th:only-of-type {\n",
       "        vertical-align: middle;\n",
       "    }\n",
       "\n",
       "    .dataframe tbody tr th {\n",
       "        vertical-align: top;\n",
       "    }\n",
       "\n",
       "    .dataframe thead th {\n",
       "        text-align: right;\n",
       "    }\n",
       "</style>\n",
       "<table border=\"1\" class=\"dataframe\">\n",
       "  <thead>\n",
       "    <tr style=\"text-align: right;\">\n",
       "      <th></th>\n",
       "      <th>address_name</th>\n",
       "      <th>category_group_code</th>\n",
       "      <th>category_group_name</th>\n",
       "      <th>category_name</th>\n",
       "      <th>distance</th>\n",
       "      <th>id</th>\n",
       "      <th>phone</th>\n",
       "      <th>place_name</th>\n",
       "      <th>place_url</th>\n",
       "      <th>road_address_name</th>\n",
       "      <th>x</th>\n",
       "      <th>y</th>\n",
       "      <th>keyword</th>\n",
       "    </tr>\n",
       "  </thead>\n",
       "  <tbody>\n",
       "    <tr>\n",
       "      <th>0</th>\n",
       "      <td>제주특별자치도 서귀포시 법환동 1513</td>\n",
       "      <td>AD5</td>\n",
       "      <td>숙박</td>\n",
       "      <td>여행 &gt; 숙박 &gt; 호텔</td>\n",
       "      <td>NaN</td>\n",
       "      <td>17017429</td>\n",
       "      <td>064-800-7200</td>\n",
       "      <td>더그랜드섬오름</td>\n",
       "      <td>http://place.map.kakao.com/17017429</td>\n",
       "      <td>제주특별자치도 서귀포시 막숙포로 114</td>\n",
       "      <td>126.510421</td>\n",
       "      <td>33.233072</td>\n",
       "      <td>호텔</td>\n",
       "    </tr>\n",
       "    <tr>\n",
       "      <th>1</th>\n",
       "      <td>제주특별자치도 서귀포시 법환동 745-1</td>\n",
       "      <td>AD5</td>\n",
       "      <td>숙박</td>\n",
       "      <td>여행 &gt; 숙박 &gt; 호텔</td>\n",
       "      <td>NaN</td>\n",
       "      <td>27224641</td>\n",
       "      <td>064-802-7000</td>\n",
       "      <td>비스타케이호텔 월드컵</td>\n",
       "      <td>http://place.map.kakao.com/27224641</td>\n",
       "      <td>제주특별자치도 서귀포시 김정문화로41번길 10-6</td>\n",
       "      <td>126.509788</td>\n",
       "      <td>33.251898</td>\n",
       "      <td>호텔</td>\n",
       "    </tr>\n",
       "  </tbody>\n",
       "</table>\n",
       "</div>"
      ],
      "text/plain": [
       "             address_name category_group_code category_group_name  \\\n",
       "0   제주특별자치도 서귀포시 법환동 1513                 AD5                  숙박   \n",
       "1  제주특별자치도 서귀포시 법환동 745-1                 AD5                  숙박   \n",
       "\n",
       "  category_name  distance        id         phone   place_name  \\\n",
       "0  여행 > 숙박 > 호텔       NaN  17017429  064-800-7200      더그랜드섬오름   \n",
       "1  여행 > 숙박 > 호텔       NaN  27224641  064-802-7000  비스타케이호텔 월드컵   \n",
       "\n",
       "                             place_url            road_address_name  \\\n",
       "0  http://place.map.kakao.com/17017429        제주특별자치도 서귀포시 막숙포로 114   \n",
       "1  http://place.map.kakao.com/27224641  제주특별자치도 서귀포시 김정문화로41번길 10-6   \n",
       "\n",
       "            x          y keyword  \n",
       "0  126.510421  33.233072      호텔  \n",
       "1  126.509788  33.251898      호텔  "
      ]
     },
     "execution_count": 37,
     "metadata": {},
     "output_type": "execute_result"
    }
   ],
   "source": [
    "accommodation.head(2)"
   ]
  },
  {
   "cell_type": "markdown",
   "metadata": {},
   "source": [
    "##### ◽셀레니움 함수"
   ]
  },
  {
   "cell_type": "markdown",
   "metadata": {},
   "source": [
    "- 평점 : #mArticle > div.cont_essential > div:nth-child(1) > div.place_details > div > div > a:nth-child(3) > span.color_b\n",
    "- 호텔등급 : span.txt_location\n",
    "- 이미지 : #mArticle > div.cont_photo.no_category > div.photo_area > ul > li.size_l > a"
   ]
  },
  {
   "cell_type": "code",
   "execution_count": 38,
   "metadata": {},
   "outputs": [],
   "source": [
    "import json\n",
    "import requests\n",
    "import time\n",
    "from tqdm.notebook import tqdm\n",
    "from selenium import webdriver\n",
    "from selenium.webdriver.common.keys import Keys\n",
    "from fake_useragent import UserAgent\n",
    "\n",
    "def selenium_result(url):    \n",
    "    rate = 0\n",
    "    grade = False\n",
    "    image = False\n",
    "    ua = UserAgent()\n",
    "    options = webdriver.ChromeOptions()\n",
    "    options.add_argument(\"--headless\")\n",
    "    options.add_argument(\"--incognito\")\n",
    "    options.add_argument(\"--no-sandbox\")\n",
    "    options.add_argument(\"--disable-setuid-sandbox\")\n",
    "    options.add_argument('--disable-dev-shm-usage')\n",
    "    options.add_argument(f'user-agent={ua.ie}')\n",
    "    # options.add_argument('--proxy-server=socks5://127.0.0.1:9150')\n",
    "    options.add_experimental_option('excludeSwitches', ['enable-logging'])\n",
    "\n",
    "    driver = webdriver.Chrome('./driver/chromedriver.exe', options=options)\n",
    "    time.sleep(0.5)\n",
    "    driver.implicitly_wait(8)\n",
    "    driver.get(url)\n",
    "    try:\n",
    "        rate = driver.find_element_by_css_selector('''#mArticle > div.cont_essential > div:nth-child(1) > div.place_details > div > div > a:nth-child(3) > span.color_b''').text\n",
    "    except:\n",
    "        pass\n",
    "    try:\n",
    "        grade = driver.find_element_by_css_selector('''span.txt_location''').text\n",
    "    except:\n",
    "        pass\n",
    "    try :\n",
    "        image = driver.find_element_by_css_selector('''#mArticle > div.cont_photo.no_category > div.photo_area > ul > li.size_l > a''')\n",
    "    except:\n",
    "        pass\n",
    "    else:\n",
    "        image = 'https:'+image.get_attribute('style')[23:-3]\n",
    "    driver.quit()\n",
    "\n",
    "    return rate, grade, image"
   ]
  },
  {
   "cell_type": "markdown",
   "metadata": {},
   "source": [
    "- 각 행의 place_url을 통해 해당 정보 추출"
   ]
  },
  {
   "cell_type": "code",
   "execution_count": null,
   "metadata": {},
   "outputs": [],
   "source": [
    "accommodation['rating'] = 0\n",
    "accommodation['grade'] = accommodation['keyword']\n",
    "accommodation['image'] = 'Not Image'"
   ]
  },
  {
   "cell_type": "code",
   "execution_count": 45,
   "metadata": {},
   "outputs": [
    {
     "data": {
      "application/vnd.jupyter.widget-view+json": {
       "model_id": "02aab9229d164d0a943e4b27df0f00b2",
       "version_major": 2,
       "version_minor": 0
      },
      "text/plain": [
       "  0%|          | 0/273 [00:00<?, ?it/s]"
      ]
     },
     "metadata": {},
     "output_type": "display_data"
    }
   ],
   "source": [
    "from tqdm.notebook import tqdm\n",
    "\n",
    "for idx in tqdm(range(757, len(accommodation))):\n",
    "    url = accommodation.loc[idx, 'place_url']\n",
    "    rate, grade, image = selenium_result(url)\n",
    "    accommodation.loc[idx, 'rating'] = rate\n",
    "    if grade != False:\n",
    "        accommodation.loc[idx, 'grade'] = grade\n",
    "    if image != False:\n",
    "        accommodation.loc[idx, 'image'] = image"
   ]
  },
  {
   "cell_type": "markdown",
   "metadata": {},
   "source": [
    "- 오류가 발생하므로 각각의 데이터를 저장 후 합쳐주었다."
   ]
  },
  {
   "cell_type": "code",
   "execution_count": 46,
   "metadata": {},
   "outputs": [],
   "source": [
    "# accommodation.to_excel('./data/220121/서귀포_숙박_selenium.xlsx', index=False)"
   ]
  },
  {
   "cell_type": "markdown",
   "metadata": {},
   "source": [
    "##### ◽셀레니움 데이터 확인"
   ]
  },
  {
   "cell_type": "markdown",
   "metadata": {},
   "source": [
    "- 최종 합본 데이터 확인"
   ]
  },
  {
   "cell_type": "code",
   "execution_count": 53,
   "metadata": {},
   "outputs": [],
   "source": [
    "import pandas as pd\n",
    "\n",
    "accommodation_all = pd.read_excel('./data/220121/_서귀포_숙박_selenium_final.xlsx', index_col=False)"
   ]
  },
  {
   "cell_type": "code",
   "execution_count": 54,
   "metadata": {},
   "outputs": [
    {
     "name": "stdout",
     "output_type": "stream",
     "text": [
      "<class 'pandas.core.frame.DataFrame'>\n",
      "RangeIndex: 1030 entries, 0 to 1029\n",
      "Data columns (total 16 columns):\n",
      " #   Column               Non-Null Count  Dtype  \n",
      "---  ------               --------------  -----  \n",
      " 0   address_name         1030 non-null   object \n",
      " 1   category_group_code  1030 non-null   object \n",
      " 2   category_group_name  1030 non-null   object \n",
      " 3   category_name        1030 non-null   object \n",
      " 4   distance             0 non-null      float64\n",
      " 5   id                   1030 non-null   int64  \n",
      " 6   phone                717 non-null    object \n",
      " 7   place_name           1030 non-null   object \n",
      " 8   place_url            1030 non-null   object \n",
      " 9   road_address_name    1021 non-null   object \n",
      " 10  x                    1030 non-null   float64\n",
      " 11  y                    1030 non-null   float64\n",
      " 12  keyword              1030 non-null   object \n",
      " 13  rating               1030 non-null   float64\n",
      " 14  grade                1030 non-null   object \n",
      " 15  image                1030 non-null   object \n",
      "dtypes: float64(4), int64(1), object(11)\n",
      "memory usage: 128.9+ KB\n"
     ]
    }
   ],
   "source": [
    "accommodation_all.info()"
   ]
  },
  {
   "cell_type": "code",
   "execution_count": 55,
   "metadata": {},
   "outputs": [
    {
     "data": {
      "text/html": [
       "<div>\n",
       "<style scoped>\n",
       "    .dataframe tbody tr th:only-of-type {\n",
       "        vertical-align: middle;\n",
       "    }\n",
       "\n",
       "    .dataframe tbody tr th {\n",
       "        vertical-align: top;\n",
       "    }\n",
       "\n",
       "    .dataframe thead th {\n",
       "        text-align: right;\n",
       "    }\n",
       "</style>\n",
       "<table border=\"1\" class=\"dataframe\">\n",
       "  <thead>\n",
       "    <tr style=\"text-align: right;\">\n",
       "      <th></th>\n",
       "      <th>id</th>\n",
       "      <th>rating</th>\n",
       "      <th>grade</th>\n",
       "      <th>image</th>\n",
       "    </tr>\n",
       "  </thead>\n",
       "  <tbody>\n",
       "    <tr>\n",
       "      <th>0</th>\n",
       "      <td>17017429</td>\n",
       "      <td>4.0</td>\n",
       "      <td>호텔</td>\n",
       "      <td>Not Image</td>\n",
       "    </tr>\n",
       "    <tr>\n",
       "      <th>1</th>\n",
       "      <td>27224641</td>\n",
       "      <td>2.8</td>\n",
       "      <td>호텔</td>\n",
       "      <td>https://img1.kakaocdn.net/relay/local/R640x320...</td>\n",
       "    </tr>\n",
       "    <tr>\n",
       "      <th>2</th>\n",
       "      <td>1971607879</td>\n",
       "      <td>4.1</td>\n",
       "      <td>호텔</td>\n",
       "      <td>https://img1.kakaocdn.net/relay/local/R640x320...</td>\n",
       "    </tr>\n",
       "  </tbody>\n",
       "</table>\n",
       "</div>"
      ],
      "text/plain": [
       "           id  rating grade                                              image\n",
       "0    17017429     4.0    호텔                                          Not Image\n",
       "1    27224641     2.8    호텔  https://img1.kakaocdn.net/relay/local/R640x320...\n",
       "2  1971607879     4.1    호텔  https://img1.kakaocdn.net/relay/local/R640x320..."
      ]
     },
     "execution_count": 55,
     "metadata": {},
     "output_type": "execute_result"
    }
   ],
   "source": [
    "accommodation_all[['id', 'rating', 'grade', 'image']].head(3)"
   ]
  },
  {
   "cell_type": "markdown",
   "metadata": {},
   "source": [
    "- 1000개 정도의 숙박 시설은 이미지가 없는 것 확인"
   ]
  },
  {
   "cell_type": "code",
   "execution_count": 56,
   "metadata": {},
   "outputs": [
    {
     "data": {
      "text/plain": [
       "True     661\n",
       "False    369\n",
       "Name: image, dtype: int64"
      ]
     },
     "execution_count": 56,
     "metadata": {},
     "output_type": "execute_result"
    }
   ],
   "source": [
    "(accommodation_all['image'] != 'Not Image').value_counts()"
   ]
  },
  {
   "cell_type": "code",
   "execution_count": 57,
   "metadata": {},
   "outputs": [
    {
     "data": {
      "text/plain": [
       "펜션        446\n",
       "민박        178\n",
       "호텔        166\n",
       "게스트하우스    162\n",
       "리조트/콘도     78\n",
       "Name: keyword, dtype: int64"
      ]
     },
     "execution_count": 57,
     "metadata": {},
     "output_type": "execute_result"
    }
   ],
   "source": [
    "accommodation_all['keyword'].value_counts()"
   ]
  },
  {
   "cell_type": "code",
   "execution_count": 58,
   "metadata": {},
   "outputs": [
    {
     "data": {
      "text/plain": [
       "펜션        446\n",
       "민박        178\n",
       "게스트하우스    162\n",
       "호텔        150\n",
       "콘도,리조트     78\n",
       "특급호텔       16\n",
       "Name: grade, dtype: int64"
      ]
     },
     "execution_count": 58,
     "metadata": {},
     "output_type": "execute_result"
    }
   ],
   "source": [
    "accommodation_all['grade'].value_counts()"
   ]
  },
  {
   "cell_type": "markdown",
   "metadata": {},
   "source": [
    "##### ◽이미지 데이터 다운로드"
   ]
  },
  {
   "cell_type": "markdown",
   "metadata": {},
   "source": [
    "- 이미지 다운로드 함수 작성\n",
    "  - image_download(place_name, place_id, place_image_url):"
   ]
  },
  {
   "cell_type": "code",
   "execution_count": 59,
   "metadata": {},
   "outputs": [],
   "source": [
    "import requests\n",
    "\n",
    "def image_download(place_name, place_id, place_image_url):    \n",
    "    response = requests.get(place_image_url)\n",
    "    name = f'{place_name}_{place_id}'\n",
    "    # 이름 내에 슬래시('/')가 있으면 디렉터리로 인식하므로\n",
    "    # replace를 통해 변경해준다.\n",
    "    if '/' in name:\n",
    "        name = name.replace('/', '-')\n",
    "    with open(\"./data/220121/서귀포_숙박_이미지/{}.png\".format(name), \"wb\") as f:\n",
    "        f.write(response.content)"
   ]
  },
  {
   "cell_type": "markdown",
   "metadata": {},
   "source": [
    "- 데이터 불러오기"
   ]
  },
  {
   "cell_type": "code",
   "execution_count": 60,
   "metadata": {},
   "outputs": [],
   "source": [
    "import pandas as pd\n",
    "\n",
    "accommodation_all = pd.read_excel('./data/220121/_서귀포_숙박_selenium_final.xlsx', index_col=False)"
   ]
  },
  {
   "cell_type": "code",
   "execution_count": 61,
   "metadata": {},
   "outputs": [
    {
     "data": {
      "text/html": [
       "<div>\n",
       "<style scoped>\n",
       "    .dataframe tbody tr th:only-of-type {\n",
       "        vertical-align: middle;\n",
       "    }\n",
       "\n",
       "    .dataframe tbody tr th {\n",
       "        vertical-align: top;\n",
       "    }\n",
       "\n",
       "    .dataframe thead th {\n",
       "        text-align: right;\n",
       "    }\n",
       "</style>\n",
       "<table border=\"1\" class=\"dataframe\">\n",
       "  <thead>\n",
       "    <tr style=\"text-align: right;\">\n",
       "      <th></th>\n",
       "      <th>address_name</th>\n",
       "      <th>category_group_code</th>\n",
       "      <th>category_group_name</th>\n",
       "      <th>category_name</th>\n",
       "      <th>distance</th>\n",
       "      <th>id</th>\n",
       "      <th>phone</th>\n",
       "      <th>place_name</th>\n",
       "      <th>place_url</th>\n",
       "      <th>road_address_name</th>\n",
       "      <th>x</th>\n",
       "      <th>y</th>\n",
       "      <th>keyword</th>\n",
       "      <th>rating</th>\n",
       "      <th>grade</th>\n",
       "      <th>image</th>\n",
       "    </tr>\n",
       "  </thead>\n",
       "  <tbody>\n",
       "    <tr>\n",
       "      <th>0</th>\n",
       "      <td>제주특별자치도 서귀포시 법환동 1513</td>\n",
       "      <td>AD5</td>\n",
       "      <td>숙박</td>\n",
       "      <td>여행 &gt; 숙박 &gt; 호텔</td>\n",
       "      <td>NaN</td>\n",
       "      <td>17017429</td>\n",
       "      <td>064-800-7200</td>\n",
       "      <td>더그랜드섬오름</td>\n",
       "      <td>http://place.map.kakao.com/17017429</td>\n",
       "      <td>제주특별자치도 서귀포시 막숙포로 114</td>\n",
       "      <td>126.510421</td>\n",
       "      <td>33.233072</td>\n",
       "      <td>호텔</td>\n",
       "      <td>4.0</td>\n",
       "      <td>호텔</td>\n",
       "      <td>Not Image</td>\n",
       "    </tr>\n",
       "    <tr>\n",
       "      <th>1</th>\n",
       "      <td>제주특별자치도 서귀포시 법환동 745-1</td>\n",
       "      <td>AD5</td>\n",
       "      <td>숙박</td>\n",
       "      <td>여행 &gt; 숙박 &gt; 호텔</td>\n",
       "      <td>NaN</td>\n",
       "      <td>27224641</td>\n",
       "      <td>064-802-7000</td>\n",
       "      <td>비스타케이호텔 월드컵</td>\n",
       "      <td>http://place.map.kakao.com/27224641</td>\n",
       "      <td>제주특별자치도 서귀포시 김정문화로41번길 10-6</td>\n",
       "      <td>126.509788</td>\n",
       "      <td>33.251898</td>\n",
       "      <td>호텔</td>\n",
       "      <td>2.8</td>\n",
       "      <td>호텔</td>\n",
       "      <td>https://img1.kakaocdn.net/relay/local/R640x320...</td>\n",
       "    </tr>\n",
       "  </tbody>\n",
       "</table>\n",
       "</div>"
      ],
      "text/plain": [
       "             address_name category_group_code category_group_name  \\\n",
       "0   제주특별자치도 서귀포시 법환동 1513                 AD5                  숙박   \n",
       "1  제주특별자치도 서귀포시 법환동 745-1                 AD5                  숙박   \n",
       "\n",
       "  category_name  distance        id         phone   place_name  \\\n",
       "0  여행 > 숙박 > 호텔       NaN  17017429  064-800-7200      더그랜드섬오름   \n",
       "1  여행 > 숙박 > 호텔       NaN  27224641  064-802-7000  비스타케이호텔 월드컵   \n",
       "\n",
       "                             place_url            road_address_name  \\\n",
       "0  http://place.map.kakao.com/17017429        제주특별자치도 서귀포시 막숙포로 114   \n",
       "1  http://place.map.kakao.com/27224641  제주특별자치도 서귀포시 김정문화로41번길 10-6   \n",
       "\n",
       "            x          y keyword  rating grade  \\\n",
       "0  126.510421  33.233072      호텔     4.0    호텔   \n",
       "1  126.509788  33.251898      호텔     2.8    호텔   \n",
       "\n",
       "                                               image  \n",
       "0                                          Not Image  \n",
       "1  https://img1.kakaocdn.net/relay/local/R640x320...  "
      ]
     },
     "execution_count": 61,
     "metadata": {},
     "output_type": "execute_result"
    }
   ],
   "source": [
    "accommodation_all.head(2)"
   ]
  },
  {
   "cell_type": "markdown",
   "metadata": {},
   "source": [
    "- 이미지 저장"
   ]
  },
  {
   "cell_type": "code",
   "execution_count": 62,
   "metadata": {},
   "outputs": [
    {
     "data": {
      "application/vnd.jupyter.widget-view+json": {
       "model_id": "9b0d1acd92b444698ddb9a8051ba1365",
       "version_major": 2,
       "version_minor": 0
      },
      "text/plain": [
       "  0%|          | 0/1030 [00:00<?, ?it/s]"
      ]
     },
     "metadata": {},
     "output_type": "display_data"
    }
   ],
   "source": [
    "import pandas as pd\n",
    "import time\n",
    "from tqdm.notebook import tqdm\n",
    "\n",
    "not_image = pd.DataFrame({'place_name' : [], 'id' : [], 'idx' : []})\n",
    "cnt = 0\n",
    "for idx in tqdm(range(len(accommodation_all))):\n",
    "    p_name, p_id, p_image = accommodation_all.loc[idx, ['place_name', 'id', 'image']]\n",
    "    if p_image != 'Not Image':\n",
    "        image_download(p_name, p_id, p_image)\n",
    "        time.sleep(0.5)\n",
    "    else:\n",
    "        not_image.loc[cnt] = {'place_name' : p_image, 'id' : str(p_id), 'idx' : idx}\n",
    "        cnt += 1\n",
    "\n",
    "not_image.loc[:, 'idx'] = not_image.loc[:, 'idx'].astype('int')"
   ]
  },
  {
   "cell_type": "code",
   "execution_count": 63,
   "metadata": {},
   "outputs": [
    {
     "name": "stdout",
     "output_type": "stream",
     "text": [
      "<class 'pandas.core.frame.DataFrame'>\n",
      "Int64Index: 369 entries, 0 to 368\n",
      "Data columns (total 3 columns):\n",
      " #   Column      Non-Null Count  Dtype \n",
      "---  ------      --------------  ----- \n",
      " 0   place_name  369 non-null    object\n",
      " 1   id          369 non-null    object\n",
      " 2   idx         369 non-null    int32 \n",
      "dtypes: int32(1), object(2)\n",
      "memory usage: 10.1+ KB\n"
     ]
    }
   ],
   "source": [
    "not_image.info()"
   ]
  },
  {
   "cell_type": "code",
   "execution_count": 64,
   "metadata": {},
   "outputs": [],
   "source": [
    "# not_image.to_excel('./data/220121/서귀포_숙박_not_image.xlsx', index=False)"
   ]
  },
  {
   "cell_type": "markdown",
   "metadata": {},
   "source": [
    "#### 4. 이미지 삭제 : 로고, 음식 사진인 경우 삭제"
   ]
  },
  {
   "cell_type": "markdown",
   "metadata": {},
   "source": [
    "- 각 이미지를 확인하여 잘못된 경우 삭제한다."
   ]
  },
  {
   "cell_type": "markdown",
   "metadata": {},
   "source": [
    "##### ◽이미지 ID 확인"
   ]
  },
  {
   "cell_type": "markdown",
   "metadata": {},
   "source": [
    "- 데이터 확인"
   ]
  },
  {
   "cell_type": "code",
   "execution_count": 97,
   "metadata": {},
   "outputs": [],
   "source": [
    "import pandas as pd\n",
    "\n",
    "seogipo_accom = pd.read_excel('./data/220121/_서귀포_숙박_selenium_del.xlsx', index_col=False)\n",
    "jeju_accom = pd.read_excel('./data/220117/_숙박_selenium_del.xlsx', index_col=False)"
   ]
  },
  {
   "cell_type": "code",
   "execution_count": 98,
   "metadata": {},
   "outputs": [
    {
     "data": {
      "text/html": [
       "<div>\n",
       "<style scoped>\n",
       "    .dataframe tbody tr th:only-of-type {\n",
       "        vertical-align: middle;\n",
       "    }\n",
       "\n",
       "    .dataframe tbody tr th {\n",
       "        vertical-align: top;\n",
       "    }\n",
       "\n",
       "    .dataframe thead th {\n",
       "        text-align: right;\n",
       "    }\n",
       "</style>\n",
       "<table border=\"1\" class=\"dataframe\">\n",
       "  <thead>\n",
       "    <tr style=\"text-align: right;\">\n",
       "      <th></th>\n",
       "      <th>address_name</th>\n",
       "      <th>category_group_code</th>\n",
       "      <th>category_group_name</th>\n",
       "      <th>category_name</th>\n",
       "      <th>distance</th>\n",
       "      <th>id</th>\n",
       "      <th>phone</th>\n",
       "      <th>place_name</th>\n",
       "      <th>place_url</th>\n",
       "      <th>road_address_name</th>\n",
       "      <th>x</th>\n",
       "      <th>y</th>\n",
       "      <th>keyword</th>\n",
       "      <th>rating</th>\n",
       "      <th>grade</th>\n",
       "      <th>image</th>\n",
       "    </tr>\n",
       "  </thead>\n",
       "  <tbody>\n",
       "    <tr>\n",
       "      <th>0</th>\n",
       "      <td>제주특별자치도 서귀포시 법환동 745-1</td>\n",
       "      <td>AD5</td>\n",
       "      <td>숙박</td>\n",
       "      <td>여행 &gt; 숙박 &gt; 호텔</td>\n",
       "      <td>NaN</td>\n",
       "      <td>27224641</td>\n",
       "      <td>064-802-7000</td>\n",
       "      <td>비스타케이호텔 월드컵</td>\n",
       "      <td>http://place.map.kakao.com/27224641</td>\n",
       "      <td>제주특별자치도 서귀포시 김정문화로41번길 10-6</td>\n",
       "      <td>126.509788</td>\n",
       "      <td>33.251898</td>\n",
       "      <td>호텔</td>\n",
       "      <td>2.8</td>\n",
       "      <td>호텔</td>\n",
       "      <td>https://img1.kakaocdn.net/relay/local/R640x320...</td>\n",
       "    </tr>\n",
       "  </tbody>\n",
       "</table>\n",
       "</div>"
      ],
      "text/plain": [
       "             address_name category_group_code category_group_name  \\\n",
       "0  제주특별자치도 서귀포시 법환동 745-1                 AD5                  숙박   \n",
       "\n",
       "  category_name  distance        id         phone   place_name  \\\n",
       "0  여행 > 숙박 > 호텔       NaN  27224641  064-802-7000  비스타케이호텔 월드컵   \n",
       "\n",
       "                             place_url            road_address_name  \\\n",
       "0  http://place.map.kakao.com/27224641  제주특별자치도 서귀포시 김정문화로41번길 10-6   \n",
       "\n",
       "            x          y keyword  rating grade  \\\n",
       "0  126.509788  33.251898      호텔     2.8    호텔   \n",
       "\n",
       "                                               image  \n",
       "0  https://img1.kakaocdn.net/relay/local/R640x320...  "
      ]
     },
     "execution_count": 98,
     "metadata": {},
     "output_type": "execute_result"
    }
   ],
   "source": [
    "seogipo_accom.head(1)"
   ]
  },
  {
   "cell_type": "code",
   "execution_count": 100,
   "metadata": {},
   "outputs": [
    {
     "data": {
      "text/html": [
       "<div>\n",
       "<style scoped>\n",
       "    .dataframe tbody tr th:only-of-type {\n",
       "        vertical-align: middle;\n",
       "    }\n",
       "\n",
       "    .dataframe tbody tr th {\n",
       "        vertical-align: top;\n",
       "    }\n",
       "\n",
       "    .dataframe thead th {\n",
       "        text-align: right;\n",
       "    }\n",
       "</style>\n",
       "<table border=\"1\" class=\"dataframe\">\n",
       "  <thead>\n",
       "    <tr style=\"text-align: right;\">\n",
       "      <th></th>\n",
       "      <th>address_name</th>\n",
       "      <th>category_group_code</th>\n",
       "      <th>category_group_name</th>\n",
       "      <th>category_name</th>\n",
       "      <th>distance</th>\n",
       "      <th>id</th>\n",
       "      <th>phone</th>\n",
       "      <th>place_name</th>\n",
       "      <th>place_url</th>\n",
       "      <th>road_address_name</th>\n",
       "      <th>x</th>\n",
       "      <th>y</th>\n",
       "      <th>keyword</th>\n",
       "      <th>rating</th>\n",
       "      <th>grade</th>\n",
       "      <th>image</th>\n",
       "    </tr>\n",
       "  </thead>\n",
       "  <tbody>\n",
       "    <tr>\n",
       "      <th>0</th>\n",
       "      <td>제주특별자치도 제주시 구좌읍 월정리 699-3</td>\n",
       "      <td>AD5</td>\n",
       "      <td>숙박</td>\n",
       "      <td>여행 &gt; 숙박 &gt; 펜션</td>\n",
       "      <td>NaN</td>\n",
       "      <td>907075</td>\n",
       "      <td>010-6858-2257</td>\n",
       "      <td>월정힐펜션</td>\n",
       "      <td>http://place.map.kakao.com/907075</td>\n",
       "      <td>제주특별자치도 제주시 구좌읍 월정중길 19-9</td>\n",
       "      <td>126.791441</td>\n",
       "      <td>33.557925</td>\n",
       "      <td>펜션</td>\n",
       "      <td>5.0</td>\n",
       "      <td>펜션</td>\n",
       "      <td>https://img1.kakaocdn.net/relay/local/R640x320...</td>\n",
       "    </tr>\n",
       "  </tbody>\n",
       "</table>\n",
       "</div>"
      ],
      "text/plain": [
       "                address_name category_group_code category_group_name  \\\n",
       "0  제주특별자치도 제주시 구좌읍 월정리 699-3                 AD5                  숙박   \n",
       "\n",
       "  category_name  distance      id          phone place_name  \\\n",
       "0  여행 > 숙박 > 펜션       NaN  907075  010-6858-2257      월정힐펜션   \n",
       "\n",
       "                           place_url          road_address_name           x  \\\n",
       "0  http://place.map.kakao.com/907075  제주특별자치도 제주시 구좌읍 월정중길 19-9  126.791441   \n",
       "\n",
       "           y keyword  rating grade  \\\n",
       "0  33.557925      펜션     5.0    펜션   \n",
       "\n",
       "                                               image  \n",
       "0  https://img1.kakaocdn.net/relay/local/R640x320...  "
      ]
     },
     "execution_count": 100,
     "metadata": {},
     "output_type": "execute_result"
    }
   ],
   "source": [
    "jeju_accom.head(1)"
   ]
  },
  {
   "cell_type": "code",
   "execution_count": 101,
   "metadata": {},
   "outputs": [],
   "source": [
    "del_index = []\n",
    "del_names = []\n",
    "for idx, row in seogipo_accom.iterrows():\n",
    "    s_id = row['id']\n",
    "    s_name = row['place_name']\n",
    "    if int(s_id) in list(map(int, jeju_accom['id'])):\n",
    "        del_index.append(idx)\n",
    "        del_names.append((s_id, s_name))"
   ]
  },
  {
   "cell_type": "code",
   "execution_count": 102,
   "metadata": {},
   "outputs": [
    {
     "data": {
      "text/plain": [
       "([213, 238, 239, 240, 241],\n",
       " 167,\n",
       " [(24838363, '루체빌리조트'), (26598426, '라마다제주시티호텔')])"
      ]
     },
     "execution_count": 102,
     "metadata": {},
     "output_type": "execute_result"
    }
   ],
   "source": [
    "del_index[:5], len(del_index), del_names[:2]"
   ]
  },
  {
   "cell_type": "markdown",
   "metadata": {},
   "source": [
    "##### ◽중복 행 삭제"
   ]
  },
  {
   "cell_type": "markdown",
   "metadata": {},
   "source": [
    "- jeju_accom에 존재하는 데이터는 삭제한다."
   ]
  },
  {
   "cell_type": "code",
   "execution_count": 105,
   "metadata": {},
   "outputs": [],
   "source": [
    "seogipo_accom_del = seogipo_accom.drop(del_index, axis=0)"
   ]
  },
  {
   "cell_type": "code",
   "execution_count": 106,
   "metadata": {},
   "outputs": [
    {
     "data": {
      "text/html": [
       "<div>\n",
       "<style scoped>\n",
       "    .dataframe tbody tr th:only-of-type {\n",
       "        vertical-align: middle;\n",
       "    }\n",
       "\n",
       "    .dataframe tbody tr th {\n",
       "        vertical-align: top;\n",
       "    }\n",
       "\n",
       "    .dataframe thead th {\n",
       "        text-align: right;\n",
       "    }\n",
       "</style>\n",
       "<table border=\"1\" class=\"dataframe\">\n",
       "  <thead>\n",
       "    <tr style=\"text-align: right;\">\n",
       "      <th></th>\n",
       "      <th>address_name</th>\n",
       "      <th>category_group_code</th>\n",
       "      <th>category_group_name</th>\n",
       "      <th>category_name</th>\n",
       "      <th>distance</th>\n",
       "      <th>id</th>\n",
       "      <th>phone</th>\n",
       "      <th>place_name</th>\n",
       "      <th>place_url</th>\n",
       "      <th>road_address_name</th>\n",
       "      <th>x</th>\n",
       "      <th>y</th>\n",
       "      <th>keyword</th>\n",
       "      <th>rating</th>\n",
       "      <th>grade</th>\n",
       "      <th>image</th>\n",
       "    </tr>\n",
       "  </thead>\n",
       "  <tbody>\n",
       "    <tr>\n",
       "      <th>0</th>\n",
       "      <td>제주특별자치도 서귀포시 법환동 745-1</td>\n",
       "      <td>AD5</td>\n",
       "      <td>숙박</td>\n",
       "      <td>여행 &gt; 숙박 &gt; 호텔</td>\n",
       "      <td>NaN</td>\n",
       "      <td>27224641</td>\n",
       "      <td>064-802-7000</td>\n",
       "      <td>비스타케이호텔 월드컵</td>\n",
       "      <td>http://place.map.kakao.com/27224641</td>\n",
       "      <td>제주특별자치도 서귀포시 김정문화로41번길 10-6</td>\n",
       "      <td>126.509788</td>\n",
       "      <td>33.251898</td>\n",
       "      <td>호텔</td>\n",
       "      <td>2.8</td>\n",
       "      <td>호텔</td>\n",
       "      <td>https://img1.kakaocdn.net/relay/local/R640x320...</td>\n",
       "    </tr>\n",
       "  </tbody>\n",
       "</table>\n",
       "</div>"
      ],
      "text/plain": [
       "             address_name category_group_code category_group_name  \\\n",
       "0  제주특별자치도 서귀포시 법환동 745-1                 AD5                  숙박   \n",
       "\n",
       "  category_name  distance        id         phone   place_name  \\\n",
       "0  여행 > 숙박 > 호텔       NaN  27224641  064-802-7000  비스타케이호텔 월드컵   \n",
       "\n",
       "                             place_url            road_address_name  \\\n",
       "0  http://place.map.kakao.com/27224641  제주특별자치도 서귀포시 김정문화로41번길 10-6   \n",
       "\n",
       "            x          y keyword  rating grade  \\\n",
       "0  126.509788  33.251898      호텔     2.8    호텔   \n",
       "\n",
       "                                               image  \n",
       "0  https://img1.kakaocdn.net/relay/local/R640x320...  "
      ]
     },
     "execution_count": 106,
     "metadata": {},
     "output_type": "execute_result"
    }
   ],
   "source": [
    "seogipo_accom_del.head(1)"
   ]
  },
  {
   "cell_type": "code",
   "execution_count": 107,
   "metadata": {},
   "outputs": [],
   "source": [
    "# seogipo_accom_del.to_excel('./data/220121/_서귀포_숙박_final.xlsx', index=False)"
   ]
  },
  {
   "cell_type": "markdown",
   "metadata": {},
   "source": [
    "##### ◽이미지 삭제"
   ]
  },
  {
   "cell_type": "markdown",
   "metadata": {},
   "source": [
    "- 삭제할 이미지 id 확인"
   ]
  },
  {
   "cell_type": "code",
   "execution_count": null,
   "metadata": {},
   "outputs": [],
   "source": [
    "import os\n",
    "\n",
    "del_id = []\n",
    "for file in os.listdir('./data/220121/서귀포_숙박_삭제'):\n",
    "    p_id = file.split('_')[1][:-4]\n",
    "    del_id.append(p_id)"
   ]
  },
  {
   "cell_type": "code",
   "execution_count": null,
   "metadata": {},
   "outputs": [
    {
     "data": {
      "text/plain": [
       "['417849940', '456438925', '1292047314', '20258222', '26549993']"
      ]
     },
     "metadata": {},
     "output_type": "display_data"
    }
   ],
   "source": [
    "del_id[:5]"
   ]
  },
  {
   "cell_type": "markdown",
   "metadata": {},
   "source": [
    "- 해당 데이터 삭제"
   ]
  },
  {
   "cell_type": "code",
   "execution_count": null,
   "metadata": {},
   "outputs": [],
   "source": [
    "import pandas as pd\n",
    "\n",
    "accommodation_all = pd.read_excel('./data/220121/_서귀포_숙박_final.xlsx', index_col=False)"
   ]
  },
  {
   "cell_type": "code",
   "execution_count": null,
   "metadata": {},
   "outputs": [
    {
     "data": {
      "text/html": [
       "<div>\n",
       "<style scoped>\n",
       "    .dataframe tbody tr th:only-of-type {\n",
       "        vertical-align: middle;\n",
       "    }\n",
       "\n",
       "    .dataframe tbody tr th {\n",
       "        vertical-align: top;\n",
       "    }\n",
       "\n",
       "    .dataframe thead th {\n",
       "        text-align: right;\n",
       "    }\n",
       "</style>\n",
       "<table border=\"1\" class=\"dataframe\">\n",
       "  <thead>\n",
       "    <tr style=\"text-align: right;\">\n",
       "      <th></th>\n",
       "      <th>address_name</th>\n",
       "      <th>category_group_code</th>\n",
       "      <th>category_group_name</th>\n",
       "      <th>category_name</th>\n",
       "      <th>distance</th>\n",
       "      <th>id</th>\n",
       "      <th>phone</th>\n",
       "      <th>place_name</th>\n",
       "      <th>place_url</th>\n",
       "      <th>road_address_name</th>\n",
       "      <th>x</th>\n",
       "      <th>y</th>\n",
       "      <th>keyword</th>\n",
       "      <th>rating</th>\n",
       "      <th>grade</th>\n",
       "      <th>image</th>\n",
       "    </tr>\n",
       "  </thead>\n",
       "  <tbody>\n",
       "    <tr>\n",
       "      <th>0</th>\n",
       "      <td>제주특별자치도 서귀포시 법환동 745-1</td>\n",
       "      <td>AD5</td>\n",
       "      <td>숙박</td>\n",
       "      <td>여행 &gt; 숙박 &gt; 호텔</td>\n",
       "      <td>NaN</td>\n",
       "      <td>27224641</td>\n",
       "      <td>064-802-7000</td>\n",
       "      <td>비스타케이호텔 월드컵</td>\n",
       "      <td>http://place.map.kakao.com/27224641</td>\n",
       "      <td>제주특별자치도 서귀포시 김정문화로41번길 10-6</td>\n",
       "      <td>126.509788</td>\n",
       "      <td>33.251898</td>\n",
       "      <td>호텔</td>\n",
       "      <td>2.8</td>\n",
       "      <td>호텔</td>\n",
       "      <td>https://img1.kakaocdn.net/relay/local/R640x320...</td>\n",
       "    </tr>\n",
       "  </tbody>\n",
       "</table>\n",
       "</div>"
      ],
      "text/plain": [
       "             address_name category_group_code category_group_name  \\\n",
       "0  제주특별자치도 서귀포시 법환동 745-1                 AD5                  숙박   \n",
       "\n",
       "  category_name  distance        id         phone   place_name  \\\n",
       "0  여행 > 숙박 > 호텔       NaN  27224641  064-802-7000  비스타케이호텔 월드컵   \n",
       "\n",
       "                             place_url            road_address_name  \\\n",
       "0  http://place.map.kakao.com/27224641  제주특별자치도 서귀포시 김정문화로41번길 10-6   \n",
       "\n",
       "            x          y keyword  rating grade  \\\n",
       "0  126.509788  33.251898      호텔     2.8    호텔   \n",
       "\n",
       "                                               image  \n",
       "0  https://img1.kakaocdn.net/relay/local/R640x320...  "
      ]
     },
     "metadata": {},
     "output_type": "display_data"
    }
   ],
   "source": [
    "accommodation_all.head(1)"
   ]
  },
  {
   "cell_type": "code",
   "execution_count": null,
   "metadata": {},
   "outputs": [],
   "source": [
    "del_idx = []\n",
    "\n",
    "for idx, row in accommodation_all.iterrows():\n",
    "    if str(row['id']) in del_id:\n",
    "        del_idx.append(idx)"
   ]
  },
  {
   "cell_type": "code",
   "execution_count": null,
   "metadata": {},
   "outputs": [
    {
     "data": {
      "text/plain": [
       "(59, [0, 5, 7, 11])"
      ]
     },
     "metadata": {},
     "output_type": "display_data"
    }
   ],
   "source": [
    "len(del_idx), del_idx[:4]"
   ]
  },
  {
   "cell_type": "code",
   "execution_count": null,
   "metadata": {},
   "outputs": [],
   "source": [
    "accom_del = accommodation_all.drop(del_idx, axis=0)"
   ]
  },
  {
   "cell_type": "code",
   "execution_count": null,
   "metadata": {},
   "outputs": [],
   "source": [
    "# accom_del.to_excel('./data/220121/_서귀포_숙박_최종.xlsx', index=False)"
   ]
  },
  {
   "cell_type": "markdown",
   "metadata": {},
   "source": [
    "##### ◽이미지 데이터 재다운로드"
   ]
  },
  {
   "cell_type": "markdown",
   "metadata": {},
   "source": [
    "- 이미지 다운로드 함수 작성\n",
    "  - image_download(place_name, place_id, place_image_url):"
   ]
  },
  {
   "cell_type": "code",
   "execution_count": null,
   "metadata": {},
   "outputs": [],
   "source": [
    "import requests\n",
    "\n",
    "def image_download(place_name, place_id, place_image_url):    \n",
    "    response = requests.get(place_image_url)\n",
    "    name = f'{place_name}_{place_id}'\n",
    "    # 이름 내에 슬래시('/')가 있으면 디렉터리로 인식하므로\n",
    "    # replace를 통해 변경해준다.\n",
    "    if '/' in name:\n",
    "        name = name.replace('/', '-')\n",
    "    with open(\"./data/220121/서귀포_숙박_이미지/{}.png\".format(name), \"wb\") as f:\n",
    "        f.write(response.content)"
   ]
  },
  {
   "cell_type": "markdown",
   "metadata": {},
   "source": [
    "- 데이터 불러오기"
   ]
  },
  {
   "cell_type": "code",
   "execution_count": null,
   "metadata": {},
   "outputs": [],
   "source": [
    "import pandas as pd\n",
    "\n",
    "accommodation_all = pd.read_excel('./data/220121/_서귀포_숙박_최종.xlsx', index_col=False)"
   ]
  },
  {
   "cell_type": "code",
   "execution_count": null,
   "metadata": {},
   "outputs": [
    {
     "data": {
      "text/html": [
       "<div>\n",
       "<style scoped>\n",
       "    .dataframe tbody tr th:only-of-type {\n",
       "        vertical-align: middle;\n",
       "    }\n",
       "\n",
       "    .dataframe tbody tr th {\n",
       "        vertical-align: top;\n",
       "    }\n",
       "\n",
       "    .dataframe thead th {\n",
       "        text-align: right;\n",
       "    }\n",
       "</style>\n",
       "<table border=\"1\" class=\"dataframe\">\n",
       "  <thead>\n",
       "    <tr style=\"text-align: right;\">\n",
       "      <th></th>\n",
       "      <th>address_name</th>\n",
       "      <th>category_group_code</th>\n",
       "      <th>category_group_name</th>\n",
       "      <th>category_name</th>\n",
       "      <th>distance</th>\n",
       "      <th>id</th>\n",
       "      <th>phone</th>\n",
       "      <th>place_name</th>\n",
       "      <th>place_url</th>\n",
       "      <th>road_address_name</th>\n",
       "      <th>x</th>\n",
       "      <th>y</th>\n",
       "      <th>keyword</th>\n",
       "      <th>rating</th>\n",
       "      <th>grade</th>\n",
       "      <th>image</th>\n",
       "    </tr>\n",
       "  </thead>\n",
       "  <tbody>\n",
       "    <tr>\n",
       "      <th>0</th>\n",
       "      <td>제주특별자치도 서귀포시 법환동 745-2</td>\n",
       "      <td>AD5</td>\n",
       "      <td>숙박</td>\n",
       "      <td>여행 &gt; 숙박 &gt; 호텔</td>\n",
       "      <td>NaN</td>\n",
       "      <td>1971607879</td>\n",
       "      <td>064-738-0009</td>\n",
       "      <td>타마라 제주</td>\n",
       "      <td>http://place.map.kakao.com/1971607879</td>\n",
       "      <td>제주특별자치도 서귀포시 김정문화로41번길 10-8</td>\n",
       "      <td>126.510122</td>\n",
       "      <td>33.251846</td>\n",
       "      <td>호텔</td>\n",
       "      <td>4.1</td>\n",
       "      <td>호텔</td>\n",
       "      <td>https://img1.kakaocdn.net/relay/local/R640x320...</td>\n",
       "    </tr>\n",
       "    <tr>\n",
       "      <th>1</th>\n",
       "      <td>제주특별자치도 서귀포시 법환동 745-6</td>\n",
       "      <td>AD5</td>\n",
       "      <td>숙박</td>\n",
       "      <td>여행 &gt; 숙박 &gt; 호텔</td>\n",
       "      <td>NaN</td>\n",
       "      <td>137464688</td>\n",
       "      <td>064-738-7077</td>\n",
       "      <td>브릿지레지던스호텔</td>\n",
       "      <td>http://place.map.kakao.com/137464688</td>\n",
       "      <td>제주특별자치도 서귀포시 김정문화로 49</td>\n",
       "      <td>126.510000</td>\n",
       "      <td>33.251510</td>\n",
       "      <td>호텔</td>\n",
       "      <td>4.0</td>\n",
       "      <td>호텔</td>\n",
       "      <td>https://img1.kakaocdn.net/relay/local/R640x320...</td>\n",
       "    </tr>\n",
       "  </tbody>\n",
       "</table>\n",
       "</div>"
      ],
      "text/plain": [
       "             address_name category_group_code category_group_name  \\\n",
       "0  제주특별자치도 서귀포시 법환동 745-2                 AD5                  숙박   \n",
       "1  제주특별자치도 서귀포시 법환동 745-6                 AD5                  숙박   \n",
       "\n",
       "  category_name  distance          id         phone place_name  \\\n",
       "0  여행 > 숙박 > 호텔       NaN  1971607879  064-738-0009     타마라 제주   \n",
       "1  여행 > 숙박 > 호텔       NaN   137464688  064-738-7077  브릿지레지던스호텔   \n",
       "\n",
       "                               place_url            road_address_name  \\\n",
       "0  http://place.map.kakao.com/1971607879  제주특별자치도 서귀포시 김정문화로41번길 10-8   \n",
       "1   http://place.map.kakao.com/137464688        제주특별자치도 서귀포시 김정문화로 49   \n",
       "\n",
       "            x          y keyword  rating grade  \\\n",
       "0  126.510122  33.251846      호텔     4.1    호텔   \n",
       "1  126.510000  33.251510      호텔     4.0    호텔   \n",
       "\n",
       "                                               image  \n",
       "0  https://img1.kakaocdn.net/relay/local/R640x320...  \n",
       "1  https://img1.kakaocdn.net/relay/local/R640x320...  "
      ]
     },
     "metadata": {},
     "output_type": "display_data"
    }
   ],
   "source": [
    "accommodation_all.head(2)"
   ]
  },
  {
   "cell_type": "markdown",
   "metadata": {},
   "source": [
    "- 이미지 저장"
   ]
  },
  {
   "cell_type": "code",
   "execution_count": null,
   "metadata": {},
   "outputs": [
    {
     "data": {
      "application/vnd.jupyter.widget-view+json": {
       "model_id": "b9a67af079004d7e9443a1bc2a65d257",
       "version_major": 2,
       "version_minor": 0
      },
      "text/plain": [
       "  0%|          | 0/435 [00:00<?, ?it/s]"
      ]
     },
     "metadata": {},
     "output_type": "display_data"
    }
   ],
   "source": [
    "import pandas as pd\n",
    "import time\n",
    "from tqdm.notebook import tqdm\n",
    "\n",
    "for idx in tqdm(range(len(accommodation_all))):\n",
    "    p_name, p_id, p_image = accommodation_all.loc[idx, ['place_name', 'id', 'image']]\n",
    "    \n",
    "    image_download(p_name, p_id, p_image)\n",
    "    time.sleep(0.5)"
   ]
  }
 ],
 "metadata": {
  "interpreter": {
   "hash": "51b46dc78c05e2d39b28ced298f5e3e2fec06f080b2991ae6dc0981efed4b363"
  },
  "kernelspec": {
   "display_name": "Python 3.8.11 64-bit ('ds_study(38)': conda)",
   "language": "python",
   "name": "python3"
  },
  "language_info": {
   "codemirror_mode": {
    "name": "ipython",
    "version": 3
   },
   "file_extension": ".py",
   "mimetype": "text/x-python",
   "name": "python",
   "nbconvert_exporter": "python",
   "pygments_lexer": "ipython3",
   "version": "3.8.11"
  },
  "orig_nbformat": 4
 },
 "nbformat": 4,
 "nbformat_minor": 2
}
