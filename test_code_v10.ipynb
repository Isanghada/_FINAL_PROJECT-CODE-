{
 "cells": [
  {
   "cell_type": "markdown",
   "metadata": {},
   "source": [
    "### - 특성 벡터 추출 테스트"
   ]
  },
  {
   "cell_type": "markdown",
   "metadata": {},
   "source": [
    "- VGGNet 활용\n",
    "- PCA를 사용하여 N차원으로 축소\n",
    "- `tensorflow`로 실행하니 오류 발생 => `keras`로 실행하니 정상 작동\n",
    "  - 왜 인지는 불명.."
   ]
  },
  {
   "cell_type": "markdown",
   "metadata": {},
   "source": [
    "#### 1. 모델 생성"
   ]
  },
  {
   "cell_type": "markdown",
   "metadata": {},
   "source": [
    "##### ◽모델 불러오기 : 사전 학습 모델(VGG16)"
   ]
  },
  {
   "cell_type": "code",
   "execution_count": null,
   "metadata": {},
   "outputs": [
    {
     "name": "stdout",
     "output_type": "stream",
     "text": [
      "Model: \"vgg16\"\n",
      "_________________________________________________________________\n",
      " Layer (type)                Output Shape              Param #   \n",
      "=================================================================\n",
      " input_1 (InputLayer)        [(None, 224, 224, 3)]     0         \n",
      "                                                                 \n",
      " block1_conv1 (Conv2D)       (None, 224, 224, 64)      1792      \n",
      "                                                                 \n",
      " block1_conv2 (Conv2D)       (None, 224, 224, 64)      36928     \n",
      "                                                                 \n",
      " block1_pool (MaxPooling2D)  (None, 112, 112, 64)      0         \n",
      "                                                                 \n",
      " block2_conv1 (Conv2D)       (None, 112, 112, 128)     73856     \n",
      "                                                                 \n",
      " block2_conv2 (Conv2D)       (None, 112, 112, 128)     147584    \n",
      "                                                                 \n",
      " block2_pool (MaxPooling2D)  (None, 56, 56, 128)       0         \n",
      "                                                                 \n",
      " block3_conv1 (Conv2D)       (None, 56, 56, 256)       295168    \n",
      "                                                                 \n",
      " block3_conv2 (Conv2D)       (None, 56, 56, 256)       590080    \n",
      "                                                                 \n",
      " block3_conv3 (Conv2D)       (None, 56, 56, 256)       590080    \n",
      "                                                                 \n",
      " block3_pool (MaxPooling2D)  (None, 28, 28, 256)       0         \n",
      "                                                                 \n",
      " block4_conv1 (Conv2D)       (None, 28, 28, 512)       1180160   \n",
      "                                                                 \n",
      " block4_conv2 (Conv2D)       (None, 28, 28, 512)       2359808   \n",
      "                                                                 \n",
      " block4_conv3 (Conv2D)       (None, 28, 28, 512)       2359808   \n",
      "                                                                 \n",
      " block4_pool (MaxPooling2D)  (None, 14, 14, 512)       0         \n",
      "                                                                 \n",
      " block5_conv1 (Conv2D)       (None, 14, 14, 512)       2359808   \n",
      "                                                                 \n",
      " block5_conv2 (Conv2D)       (None, 14, 14, 512)       2359808   \n",
      "                                                                 \n",
      " block5_conv3 (Conv2D)       (None, 14, 14, 512)       2359808   \n",
      "                                                                 \n",
      " block5_pool (MaxPooling2D)  (None, 7, 7, 512)         0         \n",
      "                                                                 \n",
      " flatten (Flatten)           (None, 25088)             0         \n",
      "                                                                 \n",
      " fc1 (Dense)                 (None, 4096)              102764544 \n",
      "                                                                 \n",
      " fc2 (Dense)                 (None, 4096)              16781312  \n",
      "                                                                 \n",
      " predictions (Dense)         (None, 1000)              4097000   \n",
      "                                                                 \n",
      "=================================================================\n",
      "Total params: 138,357,544\n",
      "Trainable params: 138,357,544\n",
      "Non-trainable params: 0\n",
      "_________________________________________________________________\n"
     ]
    }
   ],
   "source": [
    "import cv2\n",
    "from matplotlib import pyplot\n",
    "from keras.models import Model\n",
    "from keras.applications.vgg16 import VGG16, preprocess_input\n",
    "from keras.preprocessing.image import img_to_array\n",
    "\n",
    "# 모델 불러오기\n",
    "base_model = VGG16(weights='imagenet')\n",
    "# 모델 확인하기\n",
    "base_model.summary()"
   ]
  },
  {
   "cell_type": "markdown",
   "metadata": {},
   "source": [
    "##### ◽모델 자르기 : 특징 벡터까지로 수정"
   ]
  },
  {
   "cell_type": "code",
   "execution_count": null,
   "metadata": {},
   "outputs": [
    {
     "name": "stdout",
     "output_type": "stream",
     "text": [
      "Model: \"model\"\n",
      "_________________________________________________________________\n",
      " Layer (type)                Output Shape              Param #   \n",
      "=================================================================\n",
      " input_1 (InputLayer)        [(None, 224, 224, 3)]     0         \n",
      "                                                                 \n",
      " block1_conv1 (Conv2D)       (None, 224, 224, 64)      1792      \n",
      "                                                                 \n",
      " block1_conv2 (Conv2D)       (None, 224, 224, 64)      36928     \n",
      "                                                                 \n",
      " block1_pool (MaxPooling2D)  (None, 112, 112, 64)      0         \n",
      "                                                                 \n",
      " block2_conv1 (Conv2D)       (None, 112, 112, 128)     73856     \n",
      "                                                                 \n",
      " block2_conv2 (Conv2D)       (None, 112, 112, 128)     147584    \n",
      "                                                                 \n",
      " block2_pool (MaxPooling2D)  (None, 56, 56, 128)       0         \n",
      "                                                                 \n",
      " block3_conv1 (Conv2D)       (None, 56, 56, 256)       295168    \n",
      "                                                                 \n",
      " block3_conv2 (Conv2D)       (None, 56, 56, 256)       590080    \n",
      "                                                                 \n",
      " block3_conv3 (Conv2D)       (None, 56, 56, 256)       590080    \n",
      "                                                                 \n",
      " block3_pool (MaxPooling2D)  (None, 28, 28, 256)       0         \n",
      "                                                                 \n",
      " block4_conv1 (Conv2D)       (None, 28, 28, 512)       1180160   \n",
      "                                                                 \n",
      " block4_conv2 (Conv2D)       (None, 28, 28, 512)       2359808   \n",
      "                                                                 \n",
      " block4_conv3 (Conv2D)       (None, 28, 28, 512)       2359808   \n",
      "                                                                 \n",
      " block4_pool (MaxPooling2D)  (None, 14, 14, 512)       0         \n",
      "                                                                 \n",
      " block5_conv1 (Conv2D)       (None, 14, 14, 512)       2359808   \n",
      "                                                                 \n",
      " block5_conv2 (Conv2D)       (None, 14, 14, 512)       2359808   \n",
      "                                                                 \n",
      " block5_conv3 (Conv2D)       (None, 14, 14, 512)       2359808   \n",
      "                                                                 \n",
      " block5_pool (MaxPooling2D)  (None, 7, 7, 512)         0         \n",
      "                                                                 \n",
      " flatten (Flatten)           (None, 25088)             0         \n",
      "                                                                 \n",
      "=================================================================\n",
      "Total params: 14,714,688\n",
      "Trainable params: 14,714,688\n",
      "Non-trainable params: 0\n",
      "_________________________________________________________________\n"
     ]
    }
   ],
   "source": [
    "# Feature Vector 추출 모델 생성\n",
    "model = Model(inputs = base_model.input, outputs = base_model.get_layer('flatten').output)\n",
    "model.summary()"
   ]
  },
  {
   "cell_type": "markdown",
   "metadata": {},
   "source": [
    "#### 2. 특징 벡터 테스트"
   ]
  },
  {
   "cell_type": "code",
   "execution_count": null,
   "metadata": {},
   "outputs": [],
   "source": [
    "image1 = cv2.imread('1.png')\n",
    "image2 = cv2.imread('2.png')\n",
    "image3 = cv2.imread('3.png')\n",
    "image4 = cv2.imread('4.png')\n",
    "\n",
    "image1 = img_to_array(image1)\n",
    "image2 = img_to_array(image2)\n",
    "image3 = img_to_array(image3)\n",
    "image4 = img_to_array(image4)\n",
    "\n",
    "image1 = image1.reshape((1, image1.shape[0], image1.shape[1], image1.shape[2]))\n",
    "image2 = image2.reshape((1, image2.shape[0], image2.shape[1], image2.shape[2]))\n",
    "image3 = image3.reshape((1, image3.shape[0], image3.shape[1], image3.shape[2]))\n",
    "image4 = image4.reshape((1, image4.shape[0], image4.shape[1], image4.shape[2]))"
   ]
  },
  {
   "cell_type": "code",
   "execution_count": null,
   "metadata": {},
   "outputs": [],
   "source": [
    "image1 = preprocess_input(image1)\n",
    "feature_vector1 = model.predict(image1)"
   ]
  },
  {
   "cell_type": "code",
   "execution_count": null,
   "metadata": {},
   "outputs": [
    {
     "data": {
      "text/plain": [
       "array([[0.       , 0.       , 0.       , ..., 0.       , 0.       ,\n",
       "        3.0114553]], dtype=float32)"
      ]
     },
     "metadata": {},
     "output_type": "display_data"
    }
   ],
   "source": [
    "feature_vector1"
   ]
  },
  {
   "cell_type": "code",
   "execution_count": null,
   "metadata": {},
   "outputs": [],
   "source": [
    "image2 = preprocess_input(image2)\n",
    "feature_vector2 = model.predict(image2)"
   ]
  },
  {
   "cell_type": "code",
   "execution_count": null,
   "metadata": {},
   "outputs": [
    {
     "data": {
      "text/plain": [
       "array([[ 0.       ,  0.       ,  0.       , ...,  0.       , 12.084741 ,\n",
       "         0.8450042]], dtype=float32)"
      ]
     },
     "metadata": {},
     "output_type": "display_data"
    }
   ],
   "source": [
    "feature_vector2"
   ]
  },
  {
   "cell_type": "code",
   "execution_count": null,
   "metadata": {},
   "outputs": [],
   "source": [
    "image3 = preprocess_input(image3)\n",
    "feature_vector3 = model.predict(image3)"
   ]
  },
  {
   "cell_type": "code",
   "execution_count": null,
   "metadata": {},
   "outputs": [
    {
     "data": {
      "text/plain": [
       "array([[0.       , 0.       , 0.       , ..., 0.       , 7.9911184,\n",
       "        0.       ]], dtype=float32)"
      ]
     },
     "metadata": {},
     "output_type": "display_data"
    }
   ],
   "source": [
    "feature_vector3"
   ]
  },
  {
   "cell_type": "code",
   "execution_count": null,
   "metadata": {},
   "outputs": [],
   "source": [
    "image4 = preprocess_input(image4)\n",
    "feature_vector4 = model.predict(image4)"
   ]
  },
  {
   "cell_type": "code",
   "execution_count": null,
   "metadata": {},
   "outputs": [
    {
     "data": {
      "text/plain": [
       "array([[0., 0., 0., ..., 0., 0., 0.]], dtype=float32)"
      ]
     },
     "metadata": {},
     "output_type": "display_data"
    }
   ],
   "source": [
    "feature_vector4"
   ]
  },
  {
   "cell_type": "markdown",
   "metadata": {},
   "source": [
    "#### 3. 코사인 유사도 테스트"
   ]
  },
  {
   "cell_type": "code",
   "execution_count": null,
   "metadata": {},
   "outputs": [
    {
     "data": {
      "text/plain": [
       "array([[1.0000002 , 0.15940237, 0.10766608, 0.4710593 ]], dtype=float32)"
      ]
     },
     "metadata": {},
     "output_type": "display_data"
    }
   ],
   "source": [
    "from sklearn.metrics.pairwise import cosine_similarity\n",
    "\n",
    "cosine_similarity(feature_vector1, [feature_vector1[0], feature_vector2[0], feature_vector3[0], feature_vector4[0]])"
   ]
  },
  {
   "cell_type": "markdown",
   "metadata": {},
   "source": [
    "##### ◽ㅇ"
   ]
  },
  {
   "cell_type": "markdown",
   "metadata": {},
   "source": [
    "### - 긴급)서귀포 데이터 획득"
   ]
  },
  {
   "cell_type": "markdown",
   "metadata": {},
   "source": [
    "- 수집된 데이터를 확인한 결과 '서귀포' 데이터가 없는 것을 확인\n",
    "- 서귀포에 대한 부분만 새로 획득"
   ]
  },
  {
   "cell_type": "markdown",
   "metadata": {},
   "source": [
    "#### 1. 데이터 획득"
   ]
  },
  {
   "cell_type": "markdown",
   "metadata": {},
   "source": [
    "##### ◽카테고리, 키워드, 지역 변수"
   ]
  },
  {
   "cell_type": "code",
   "execution_count": null,
   "metadata": {},
   "outputs": [],
   "source": [
    "keywords = ['맛집', '분위기 좋은', '테마파크' ,'오션뷰', '감성', '가족여행', '체험', '휴식', '레포츠', '가볼만한 곳']\n",
    "categorys = ['CT1', 'AT4', 'FD6', 'CE7']\n",
    "categorys_info = {'CT1' : '문화시설', 'AT4' : '관광명소', 'FD6' : '음식점', 'CE7' : '카페'}"
   ]
  },
  {
   "cell_type": "code",
   "execution_count": null,
   "metadata": {},
   "outputs": [],
   "source": [
    "jeju_range = ['법환동', '서호동', '호근동', '강정동', '도순동', '영남동', '월평동', '동홍동', '서홍동', '보목동','서귀동','토평동', '상효동', '상예동', '색달동', '하예동', '대포동', '중문동', '하원동', '회수동', '신효동', '하효동']"
   ]
  },
  {
   "cell_type": "markdown",
   "metadata": {},
   "source": [
    "##### ◽카카오 API 활용 함수 : 함수 재활용"
   ]
  },
  {
   "cell_type": "markdown",
   "metadata": {},
   "source": [
    "- search_result(keyword, category, jeju_name)\n",
    "  - (카테고리, 법정동_리) 검색 함수"
   ]
  },
  {
   "cell_type": "code",
   "execution_count": null,
   "metadata": {},
   "outputs": [],
   "source": [
    "import json\n",
    "import requests\n",
    "\n",
    "def search_result(keyword, category, jeju_name):\n",
    "    result = []\n",
    "\n",
    "    # REST 키\n",
    "    rest_api_key = '63d0926cf9b14de298157081ba8a8d02'\n",
    "    # 헤더\n",
    "    headers = {\"Authorization\" : \"KakaoAK {}\".format(rest_api_key)}\n",
    "    # 파라미터\n",
    "    params = {\"query\" : f\"제주특별자치도 {jeju_name} {keyword}\", \"page\" : 1, \"category_group_code\" : f\"{category}\"}\n",
    "    url = \"https://dapi.kakao.com/v2/local/search/keyword.json\"\n",
    "\n",
    "    while True:\n",
    "        # GET을 이용하여 획득\n",
    "        res = requests.get(url, headers=headers, params=params)\n",
    "        if res.status_code == 200:\n",
    "            # Json을 이용하여 해제\n",
    "            doc = json.loads(res.text)\n",
    "            result.extend(doc['documents'])\n",
    "            if doc['meta']['is_end'] == True:\n",
    "                break\n",
    "            else:\n",
    "                params['page'] += 1\n",
    "    return result"
   ]
  },
  {
   "cell_type": "markdown",
   "metadata": {},
   "source": [
    "- search_df()\n",
    "  - 전체 숙박 데이터 프레임 반환 함수"
   ]
  },
  {
   "cell_type": "code",
   "execution_count": null,
   "metadata": {},
   "outputs": [],
   "source": [
    "import pandas as pd\n",
    "from tqdm.notebook import tqdm\n",
    "\n",
    "def search_df():\n",
    "    results = []\n",
    "    for idx, jeju in tqdm(enumerate(jeju_range)):\n",
    "        for category in categorys:\n",
    "            for key in keywords:\n",
    "                r = pd.DataFrame(search_result(key, category, jeju))\n",
    "                r['keyword'] = key\n",
    "                results.append(r.copy())\n",
    "    return pd.concat(results).reset_index(drop=True)"
   ]
  },
  {
   "cell_type": "markdown",
   "metadata": {},
   "source": [
    "##### ◽카카오 API 활용 데이터 획득"
   ]
  },
  {
   "cell_type": "code",
   "execution_count": null,
   "metadata": {},
   "outputs": [
    {
     "data": {
      "application/vnd.jupyter.widget-view+json": {
       "model_id": "7ba2483d83fb439d8566478de261fd65",
       "version_major": 2,
       "version_minor": 0
      },
      "text/plain": [
       "0it [00:00, ?it/s]"
      ]
     },
     "metadata": {},
     "output_type": "display_data"
    }
   ],
   "source": [
    "jeju_poi_additional = search_df()"
   ]
  },
  {
   "cell_type": "code",
   "execution_count": null,
   "metadata": {},
   "outputs": [],
   "source": [
    "# jeju_poi_additional.to_excel('./data/220119/제주_POI_서귀포.xlsx',index=False)"
   ]
  },
  {
   "cell_type": "code",
   "execution_count": null,
   "metadata": {},
   "outputs": [
    {
     "data": {
      "text/html": [
       "<div>\n",
       "<style scoped>\n",
       "    .dataframe tbody tr th:only-of-type {\n",
       "        vertical-align: middle;\n",
       "    }\n",
       "\n",
       "    .dataframe tbody tr th {\n",
       "        vertical-align: top;\n",
       "    }\n",
       "\n",
       "    .dataframe thead th {\n",
       "        text-align: right;\n",
       "    }\n",
       "</style>\n",
       "<table border=\"1\" class=\"dataframe\">\n",
       "  <thead>\n",
       "    <tr style=\"text-align: right;\">\n",
       "      <th></th>\n",
       "      <th>keyword</th>\n",
       "      <th>address_name</th>\n",
       "      <th>category_group_code</th>\n",
       "      <th>category_group_name</th>\n",
       "      <th>category_name</th>\n",
       "      <th>distance</th>\n",
       "      <th>id</th>\n",
       "      <th>phone</th>\n",
       "      <th>place_name</th>\n",
       "      <th>place_url</th>\n",
       "      <th>road_address_name</th>\n",
       "      <th>x</th>\n",
       "      <th>y</th>\n",
       "    </tr>\n",
       "  </thead>\n",
       "  <tbody>\n",
       "    <tr>\n",
       "      <th>0</th>\n",
       "      <td>테마파크</td>\n",
       "      <td>제주특별자치도 서귀포시 법환동 877-3</td>\n",
       "      <td>AT4</td>\n",
       "      <td>관광명소</td>\n",
       "      <td>여행 &gt; 관광,명소 &gt; 테마파크</td>\n",
       "      <td></td>\n",
       "      <td>10472331</td>\n",
       "      <td>064-739-8254</td>\n",
       "      <td>세리월드</td>\n",
       "      <td>http://place.map.kakao.com/10472331</td>\n",
       "      <td>제주특별자치도 서귀포시 법환상로2번길 97-17</td>\n",
       "      <td>126.511874293757</td>\n",
       "      <td>33.2470161809819</td>\n",
       "    </tr>\n",
       "    <tr>\n",
       "      <th>1</th>\n",
       "      <td>테마파크</td>\n",
       "      <td>제주특별자치도 서귀포시 법환동 914</td>\n",
       "      <td>AT4</td>\n",
       "      <td>관광명소</td>\n",
       "      <td>여행 &gt; 관광,명소 &gt; 테마파크 &gt; 워터테마파크</td>\n",
       "      <td></td>\n",
       "      <td>17150892</td>\n",
       "      <td>064-739-1930</td>\n",
       "      <td>제주워터월드</td>\n",
       "      <td>http://place.map.kakao.com/17150892</td>\n",
       "      <td>제주특별자치도 서귀포시 월드컵로 33</td>\n",
       "      <td>126.50854558896376</td>\n",
       "      <td>33.24550727132407</td>\n",
       "    </tr>\n",
       "  </tbody>\n",
       "</table>\n",
       "</div>"
      ],
      "text/plain": [
       "  keyword            address_name category_group_code category_group_name  \\\n",
       "0    테마파크  제주특별자치도 서귀포시 법환동 877-3                 AT4                관광명소   \n",
       "1    테마파크    제주특별자치도 서귀포시 법환동 914                 AT4                관광명소   \n",
       "\n",
       "                category_name distance        id         phone place_name  \\\n",
       "0           여행 > 관광,명소 > 테마파크           10472331  064-739-8254       세리월드   \n",
       "1  여행 > 관광,명소 > 테마파크 > 워터테마파크           17150892  064-739-1930     제주워터월드   \n",
       "\n",
       "                             place_url           road_address_name  \\\n",
       "0  http://place.map.kakao.com/10472331  제주특별자치도 서귀포시 법환상로2번길 97-17   \n",
       "1  http://place.map.kakao.com/17150892        제주특별자치도 서귀포시 월드컵로 33   \n",
       "\n",
       "                    x                  y  \n",
       "0    126.511874293757   33.2470161809819  \n",
       "1  126.50854558896376  33.24550727132407  "
      ]
     },
     "metadata": {},
     "output_type": "display_data"
    }
   ],
   "source": [
    "jeju_poi_additional.head(2)"
   ]
  },
  {
   "cell_type": "markdown",
   "metadata": {},
   "source": [
    "##### ◽데이터 확인(제주_POI_서귀포)"
   ]
  },
  {
   "cell_type": "markdown",
   "metadata": {},
   "source": [
    "- 엑셀을 통해 중복(keyword, id) 제거"
   ]
  },
  {
   "cell_type": "code",
   "execution_count": null,
   "metadata": {},
   "outputs": [],
   "source": [
    "import pandas as pd\n",
    "\n",
    "jeju_poi_additional = pd.read_excel('./data/220119/제주_POI_서귀포.xlsx', index_col=False)"
   ]
  },
  {
   "cell_type": "code",
   "execution_count": null,
   "metadata": {},
   "outputs": [
    {
     "name": "stdout",
     "output_type": "stream",
     "text": [
      "<class 'pandas.core.frame.DataFrame'>\n",
      "RangeIndex: 4157 entries, 0 to 4156\n",
      "Data columns (total 13 columns):\n",
      " #   Column               Non-Null Count  Dtype  \n",
      "---  ------               --------------  -----  \n",
      " 0   keyword              4157 non-null   object \n",
      " 1   address_name         4157 non-null   object \n",
      " 2   category_group_code  4157 non-null   object \n",
      " 3   category_group_name  4157 non-null   object \n",
      " 4   category_name        4157 non-null   object \n",
      " 5   distance             0 non-null      float64\n",
      " 6   id                   4157 non-null   int64  \n",
      " 7   phone                2510 non-null   object \n",
      " 8   place_name           4157 non-null   object \n",
      " 9   place_url            4157 non-null   object \n",
      " 10  road_address_name    3461 non-null   object \n",
      " 11  x                    4157 non-null   float64\n",
      " 12  y                    4157 non-null   float64\n",
      "dtypes: float64(3), int64(1), object(9)\n",
      "memory usage: 422.3+ KB\n"
     ]
    }
   ],
   "source": [
    "jeju_poi_additional.info()"
   ]
  },
  {
   "cell_type": "code",
   "execution_count": null,
   "metadata": {},
   "outputs": [
    {
     "data": {
      "text/html": [
       "<div>\n",
       "<style scoped>\n",
       "    .dataframe tbody tr th:only-of-type {\n",
       "        vertical-align: middle;\n",
       "    }\n",
       "\n",
       "    .dataframe tbody tr th {\n",
       "        vertical-align: top;\n",
       "    }\n",
       "\n",
       "    .dataframe thead th {\n",
       "        text-align: right;\n",
       "    }\n",
       "</style>\n",
       "<table border=\"1\" class=\"dataframe\">\n",
       "  <thead>\n",
       "    <tr style=\"text-align: right;\">\n",
       "      <th></th>\n",
       "      <th>keyword</th>\n",
       "    </tr>\n",
       "  </thead>\n",
       "  <tbody>\n",
       "    <tr>\n",
       "      <th>맛집</th>\n",
       "      <td>1980</td>\n",
       "    </tr>\n",
       "    <tr>\n",
       "      <th>가볼만한 곳</th>\n",
       "      <td>990</td>\n",
       "    </tr>\n",
       "    <tr>\n",
       "      <th>분위기 좋은</th>\n",
       "      <td>843</td>\n",
       "    </tr>\n",
       "    <tr>\n",
       "      <th>테마파크</th>\n",
       "      <td>175</td>\n",
       "    </tr>\n",
       "    <tr>\n",
       "      <th>오션뷰</th>\n",
       "      <td>76</td>\n",
       "    </tr>\n",
       "    <tr>\n",
       "      <th>감성</th>\n",
       "      <td>56</td>\n",
       "    </tr>\n",
       "    <tr>\n",
       "      <th>가족여행</th>\n",
       "      <td>25</td>\n",
       "    </tr>\n",
       "    <tr>\n",
       "      <th>체험</th>\n",
       "      <td>10</td>\n",
       "    </tr>\n",
       "    <tr>\n",
       "      <th>레포츠</th>\n",
       "      <td>2</td>\n",
       "    </tr>\n",
       "  </tbody>\n",
       "</table>\n",
       "</div>"
      ],
      "text/plain": [
       "        keyword\n",
       "맛집         1980\n",
       "가볼만한 곳      990\n",
       "분위기 좋은      843\n",
       "테마파크        175\n",
       "오션뷰          76\n",
       "감성           56\n",
       "가족여행         25\n",
       "체험           10\n",
       "레포츠           2"
      ]
     },
     "metadata": {},
     "output_type": "display_data"
    }
   ],
   "source": [
    "pd.DataFrame(jeju_poi_additional['keyword'].value_counts())"
   ]
  },
  {
   "cell_type": "markdown",
   "metadata": {},
   "source": [
    "#### 2. id 중복 처리 : 키워드 합치기"
   ]
  },
  {
   "cell_type": "markdown",
   "metadata": {},
   "source": [
    "##### ◽id 중복 확인"
   ]
  },
  {
   "cell_type": "code",
   "execution_count": null,
   "metadata": {},
   "outputs": [],
   "source": [
    "import pandas as pd\n",
    "\n",
    "jeju_poi_additional = pd.read_excel('./data/220119/제주_POI_서귀포.xlsx', index_col=False)"
   ]
  },
  {
   "cell_type": "code",
   "execution_count": null,
   "metadata": {},
   "outputs": [
    {
     "data": {
      "text/plain": [
       "(4157, 1708)"
      ]
     },
     "metadata": {},
     "output_type": "display_data"
    }
   ],
   "source": [
    "# 중복되는 id 확인\n",
    "len(jeju_poi_additional), len(jeju_poi_additional['id'].unique())"
   ]
  },
  {
   "cell_type": "code",
   "execution_count": null,
   "metadata": {},
   "outputs": [
    {
     "name": "stdout",
     "output_type": "stream",
     "text": [
      "<class 'pandas.core.frame.DataFrame'>\n",
      "RangeIndex: 4157 entries, 0 to 4156\n",
      "Data columns (total 13 columns):\n",
      " #   Column               Non-Null Count  Dtype  \n",
      "---  ------               --------------  -----  \n",
      " 0   keyword              4157 non-null   object \n",
      " 1   address_name         4157 non-null   object \n",
      " 2   category_group_code  4157 non-null   object \n",
      " 3   category_group_name  4157 non-null   object \n",
      " 4   category_name        4157 non-null   object \n",
      " 5   distance             0 non-null      float64\n",
      " 6   id                   4157 non-null   int64  \n",
      " 7   phone                2510 non-null   object \n",
      " 8   place_name           4157 non-null   object \n",
      " 9   place_url            4157 non-null   object \n",
      " 10  road_address_name    3461 non-null   object \n",
      " 11  x                    4157 non-null   float64\n",
      " 12  y                    4157 non-null   float64\n",
      "dtypes: float64(3), int64(1), object(9)\n",
      "memory usage: 422.3+ KB\n"
     ]
    }
   ],
   "source": [
    "jeju_poi_additional.info()"
   ]
  },
  {
   "cell_type": "markdown",
   "metadata": {},
   "source": [
    "##### ◽id 중복 처리 : 키워드 합치기"
   ]
  },
  {
   "cell_type": "code",
   "execution_count": null,
   "metadata": {},
   "outputs": [],
   "source": [
    "import pandas as pd\n",
    "\n",
    "jeju_poi_additional = pd.read_excel('./data/220119/제주_POI_서귀포.xlsx', index_col=False)"
   ]
  },
  {
   "cell_type": "code",
   "execution_count": null,
   "metadata": {},
   "outputs": [
    {
     "name": "stdout",
     "output_type": "stream",
     "text": [
      "<class 'pandas.core.frame.DataFrame'>\n",
      "RangeIndex: 4157 entries, 0 to 4156\n",
      "Data columns (total 13 columns):\n",
      " #   Column               Non-Null Count  Dtype  \n",
      "---  ------               --------------  -----  \n",
      " 0   keyword              4157 non-null   object \n",
      " 1   address_name         4157 non-null   object \n",
      " 2   category_group_code  4157 non-null   object \n",
      " 3   category_group_name  4157 non-null   object \n",
      " 4   category_name        4157 non-null   object \n",
      " 5   distance             0 non-null      float64\n",
      " 6   id                   4157 non-null   int64  \n",
      " 7   phone                2510 non-null   object \n",
      " 8   place_name           4157 non-null   object \n",
      " 9   place_url            4157 non-null   object \n",
      " 10  road_address_name    3461 non-null   object \n",
      " 11  x                    4157 non-null   float64\n",
      " 12  y                    4157 non-null   float64\n",
      "dtypes: float64(3), int64(1), object(9)\n",
      "memory usage: 422.3+ KB\n"
     ]
    }
   ],
   "source": [
    "jeju_poi_additional.info()"
   ]
  },
  {
   "cell_type": "markdown",
   "metadata": {},
   "source": [
    "- id 값으로 조회하여 값이 2개이상인 경우\n",
    "  - 각 데이터의 키워드를 합치고 1개의 행만 남긴다.\n",
    "  - included : 중복된 id일 경우를 식별하기 위해 dict형으로 확인한 경우 추가\n",
    "  - del_index : 중복된 id의 인덱스 중 1개만 사용할 것이기에 삭제할 인덱스 추가"
   ]
  },
  {
   "cell_type": "code",
   "execution_count": null,
   "metadata": {},
   "outputs": [],
   "source": [
    "included = {}\n",
    "del_index = []\n",
    "for idx, row in jeju_poi_additional.iterrows():\n",
    "    id = row['id']\n",
    "    temp = jeju_poi_additional[jeju_poi_additional['id'] == id].copy()\n",
    "    cnt = len(temp)\n",
    "    if id not in included and cnt > 1:\n",
    "        included[id] = True\n",
    "        for i, r in temp.iterrows():\n",
    "            if idx == i:\n",
    "                continue\n",
    "            else:\n",
    "                if r['keyword'] not in jeju_poi_additional.loc[idx, 'keyword']:\n",
    "                    jeju_poi_additional.loc[idx, 'keyword'] = jeju_poi_additional.loc[idx, 'keyword'] + ',' + r['keyword']\n",
    "                del_index.append(i)"
   ]
  },
  {
   "cell_type": "code",
   "execution_count": null,
   "metadata": {},
   "outputs": [
    {
     "data": {
      "text/plain": [
       "(652, 2449)"
      ]
     },
     "metadata": {},
     "output_type": "display_data"
    }
   ],
   "source": [
    "# 중복 id의 수, 삭제할 인덱스의 수\n",
    "len(included.keys()), len(del_index)"
   ]
  },
  {
   "cell_type": "code",
   "execution_count": null,
   "metadata": {},
   "outputs": [],
   "source": [
    "# 중복 id의 인덱스 삭제\n",
    "jeju_poi_additional_del = jeju_poi_additional.drop(del_index, axis=0)"
   ]
  },
  {
   "cell_type": "markdown",
   "metadata": {},
   "source": [
    "- 행의 수와 id의 수가 일치하므로 중복된 id가 없음을 확인할 수 있다."
   ]
  },
  {
   "cell_type": "code",
   "execution_count": null,
   "metadata": {},
   "outputs": [
    {
     "data": {
      "text/plain": [
       "(1708, 1708)"
      ]
     },
     "metadata": {},
     "output_type": "display_data"
    }
   ],
   "source": [
    "len(jeju_poi_additional_del['id'].unique()), len(jeju_poi_additional_del)"
   ]
  },
  {
   "cell_type": "code",
   "execution_count": null,
   "metadata": {},
   "outputs": [],
   "source": [
    "# jeju_poi_additional_del.to_excel('./data/220119/제주_POI_서귀포_키워드묶음.xlsx', index=False)"
   ]
  },
  {
   "cell_type": "markdown",
   "metadata": {},
   "source": [
    "##### ◽id 중복 제거 데이터 확인"
   ]
  },
  {
   "cell_type": "code",
   "execution_count": null,
   "metadata": {},
   "outputs": [],
   "source": [
    "import pandas as pd\n",
    "\n",
    "jeju_poi_add = pd.read_excel('./data/220119/제주_POI_서귀포_키워드묶음.xlsx', index_col=False)"
   ]
  },
  {
   "cell_type": "code",
   "execution_count": null,
   "metadata": {},
   "outputs": [
    {
     "name": "stdout",
     "output_type": "stream",
     "text": [
      "<class 'pandas.core.frame.DataFrame'>\n",
      "RangeIndex: 1708 entries, 0 to 1707\n",
      "Data columns (total 13 columns):\n",
      " #   Column               Non-Null Count  Dtype  \n",
      "---  ------               --------------  -----  \n",
      " 0   keyword              1708 non-null   object \n",
      " 1   address_name         1708 non-null   object \n",
      " 2   category_group_code  1708 non-null   object \n",
      " 3   category_group_name  1708 non-null   object \n",
      " 4   category_name        1708 non-null   object \n",
      " 5   distance             0 non-null      float64\n",
      " 6   id                   1708 non-null   int64  \n",
      " 7   phone                1143 non-null   object \n",
      " 8   place_name           1708 non-null   object \n",
      " 9   place_url            1708 non-null   object \n",
      " 10  road_address_name    1498 non-null   object \n",
      " 11  x                    1708 non-null   float64\n",
      " 12  y                    1708 non-null   float64\n",
      "dtypes: float64(3), int64(1), object(9)\n",
      "memory usage: 173.6+ KB\n"
     ]
    }
   ],
   "source": [
    "jeju_poi_add.info()"
   ]
  },
  {
   "cell_type": "code",
   "execution_count": null,
   "metadata": {},
   "outputs": [
    {
     "data": {
      "text/html": [
       "<div>\n",
       "<style scoped>\n",
       "    .dataframe tbody tr th:only-of-type {\n",
       "        vertical-align: middle;\n",
       "    }\n",
       "\n",
       "    .dataframe tbody tr th {\n",
       "        vertical-align: top;\n",
       "    }\n",
       "\n",
       "    .dataframe thead th {\n",
       "        text-align: right;\n",
       "    }\n",
       "</style>\n",
       "<table border=\"1\" class=\"dataframe\">\n",
       "  <thead>\n",
       "    <tr style=\"text-align: right;\">\n",
       "      <th></th>\n",
       "      <th>category_group_name</th>\n",
       "    </tr>\n",
       "  </thead>\n",
       "  <tbody>\n",
       "    <tr>\n",
       "      <th>음식점</th>\n",
       "      <td>866</td>\n",
       "    </tr>\n",
       "    <tr>\n",
       "      <th>카페</th>\n",
       "      <td>559</td>\n",
       "    </tr>\n",
       "    <tr>\n",
       "      <th>관광명소</th>\n",
       "      <td>279</td>\n",
       "    </tr>\n",
       "    <tr>\n",
       "      <th>문화시설</th>\n",
       "      <td>4</td>\n",
       "    </tr>\n",
       "  </tbody>\n",
       "</table>\n",
       "</div>"
      ],
      "text/plain": [
       "      category_group_name\n",
       "음식점                   866\n",
       "카페                    559\n",
       "관광명소                  279\n",
       "문화시설                    4"
      ]
     },
     "metadata": {},
     "output_type": "display_data"
    }
   ],
   "source": [
    "pd.DataFrame(jeju_poi_add['category_group_name'].value_counts())"
   ]
  },
  {
   "cell_type": "markdown",
   "metadata": {},
   "source": [
    "#### 3. 수집된 id 처리"
   ]
  },
  {
   "cell_type": "markdown",
   "metadata": {},
   "source": [
    "- 앞서 API를 사용하여 수집한 데이터에 이번 데이터가 있을 수 있다.\n",
    "- 해당 데이터들을 확인하고 삭제해준다."
   ]
  },
  {
   "cell_type": "markdown",
   "metadata": {},
   "source": [
    "##### ◽데이터 확인"
   ]
  },
  {
   "cell_type": "code",
   "execution_count": null,
   "metadata": {},
   "outputs": [],
   "source": [
    "import pandas as pd\n",
    "\n",
    "jeju_poi_add = pd.read_excel('./data/220119/제주_POI_서귀포_키워드묶음.xlsx', index_col=False)\n",
    "jeju_poi = pd.read_excel('./data/220119/_제주도_POI_컬럼 정리.xlsx', index_col = 0)"
   ]
  },
  {
   "cell_type": "markdown",
   "metadata": {},
   "source": [
    "- 서귀포 데이터"
   ]
  },
  {
   "cell_type": "code",
   "execution_count": null,
   "metadata": {},
   "outputs": [
    {
     "data": {
      "text/html": [
       "<div>\n",
       "<style scoped>\n",
       "    .dataframe tbody tr th:only-of-type {\n",
       "        vertical-align: middle;\n",
       "    }\n",
       "\n",
       "    .dataframe tbody tr th {\n",
       "        vertical-align: top;\n",
       "    }\n",
       "\n",
       "    .dataframe thead th {\n",
       "        text-align: right;\n",
       "    }\n",
       "</style>\n",
       "<table border=\"1\" class=\"dataframe\">\n",
       "  <thead>\n",
       "    <tr style=\"text-align: right;\">\n",
       "      <th></th>\n",
       "      <th>keyword</th>\n",
       "      <th>address_name</th>\n",
       "      <th>category_group_code</th>\n",
       "      <th>category_group_name</th>\n",
       "      <th>category_name</th>\n",
       "      <th>distance</th>\n",
       "      <th>id</th>\n",
       "      <th>phone</th>\n",
       "      <th>place_name</th>\n",
       "      <th>place_url</th>\n",
       "      <th>road_address_name</th>\n",
       "      <th>x</th>\n",
       "      <th>y</th>\n",
       "    </tr>\n",
       "  </thead>\n",
       "  <tbody>\n",
       "    <tr>\n",
       "      <th>0</th>\n",
       "      <td>테마파크,가볼만한 곳</td>\n",
       "      <td>제주특별자치도 서귀포시 법환동 877-3</td>\n",
       "      <td>AT4</td>\n",
       "      <td>관광명소</td>\n",
       "      <td>여행 &gt; 관광,명소 &gt; 테마파크</td>\n",
       "      <td>NaN</td>\n",
       "      <td>10472331</td>\n",
       "      <td>064-739-8254</td>\n",
       "      <td>세리월드</td>\n",
       "      <td>http://place.map.kakao.com/10472331</td>\n",
       "      <td>제주특별자치도 서귀포시 법환상로2번길 97-17</td>\n",
       "      <td>126.511874</td>\n",
       "      <td>33.247016</td>\n",
       "    </tr>\n",
       "  </tbody>\n",
       "</table>\n",
       "</div>"
      ],
      "text/plain": [
       "       keyword            address_name category_group_code  \\\n",
       "0  테마파크,가볼만한 곳  제주특별자치도 서귀포시 법환동 877-3                 AT4   \n",
       "\n",
       "  category_group_name      category_name  distance        id         phone  \\\n",
       "0                관광명소  여행 > 관광,명소 > 테마파크       NaN  10472331  064-739-8254   \n",
       "\n",
       "  place_name                            place_url           road_address_name  \\\n",
       "0       세리월드  http://place.map.kakao.com/10472331  제주특별자치도 서귀포시 법환상로2번길 97-17   \n",
       "\n",
       "            x          y  \n",
       "0  126.511874  33.247016  "
      ]
     },
     "metadata": {},
     "output_type": "display_data"
    }
   ],
   "source": [
    "jeju_poi_add.head(1)"
   ]
  },
  {
   "cell_type": "markdown",
   "metadata": {},
   "source": [
    "- 제주도 데이터"
   ]
  },
  {
   "cell_type": "code",
   "execution_count": null,
   "metadata": {},
   "outputs": [
    {
     "data": {
      "text/html": [
       "<div>\n",
       "<style scoped>\n",
       "    .dataframe tbody tr th:only-of-type {\n",
       "        vertical-align: middle;\n",
       "    }\n",
       "\n",
       "    .dataframe tbody tr th {\n",
       "        vertical-align: top;\n",
       "    }\n",
       "\n",
       "    .dataframe thead th {\n",
       "        text-align: right;\n",
       "    }\n",
       "</style>\n",
       "<table border=\"1\" class=\"dataframe\">\n",
       "  <thead>\n",
       "    <tr style=\"text-align: right;\">\n",
       "      <th></th>\n",
       "      <th>keyword</th>\n",
       "      <th>address_name</th>\n",
       "      <th>category_group_name</th>\n",
       "      <th>category_name</th>\n",
       "      <th>id</th>\n",
       "      <th>place_name</th>\n",
       "      <th>x</th>\n",
       "      <th>y</th>\n",
       "      <th>rating</th>\n",
       "    </tr>\n",
       "  </thead>\n",
       "  <tbody>\n",
       "    <tr>\n",
       "      <th>0</th>\n",
       "      <td>테마파크</td>\n",
       "      <td>제주특별자치도 제주시 연동 1320</td>\n",
       "      <td>관광명소</td>\n",
       "      <td>문화,예술 &gt; 문화시설 &gt; 박물관</td>\n",
       "      <td>26388484</td>\n",
       "      <td>수목원테마파크 아이스뮤지엄</td>\n",
       "      <td>126.488398</td>\n",
       "      <td>33.470777</td>\n",
       "      <td>1.0</td>\n",
       "    </tr>\n",
       "  </tbody>\n",
       "</table>\n",
       "</div>"
      ],
      "text/plain": [
       "  keyword         address_name category_group_name       category_name  \\\n",
       "0    테마파크  제주특별자치도 제주시 연동 1320                관광명소  문화,예술 > 문화시설 > 박물관   \n",
       "\n",
       "         id      place_name           x          y  rating  \n",
       "0  26388484  수목원테마파크 아이스뮤지엄  126.488398  33.470777     1.0  "
      ]
     },
     "metadata": {},
     "output_type": "display_data"
    }
   ],
   "source": [
    "jeju_poi.head(1)"
   ]
  },
  {
   "cell_type": "markdown",
   "metadata": {},
   "source": [
    "##### ◽수집된 데이터 삭제"
   ]
  },
  {
   "cell_type": "markdown",
   "metadata": {},
   "source": [
    "- id를 기준으로 jeju_poi에 수집된 데이터는 삭제한다."
   ]
  },
  {
   "cell_type": "code",
   "execution_count": null,
   "metadata": {},
   "outputs": [],
   "source": [
    "included_id = list(jeju_poi['id'].unique())\n",
    "add_id = list(jeju_poi_add['id'].unique())\n",
    "\n",
    "for ID in add_id:\n",
    "    if ID in included_id:\n",
    "        jeju_poi_add = jeju_poi_add[jeju_poi_add['id'] != ID].copy()"
   ]
  },
  {
   "cell_type": "markdown",
   "metadata": {},
   "source": [
    "- 120개 가량의 데이터가 삭제되었다."
   ]
  },
  {
   "cell_type": "code",
   "execution_count": null,
   "metadata": {},
   "outputs": [
    {
     "data": {
      "text/plain": [
       "(1580, 1708)"
      ]
     },
     "metadata": {},
     "output_type": "display_data"
    }
   ],
   "source": [
    "len(jeju_poi_add), len(add_id)"
   ]
  },
  {
   "cell_type": "code",
   "execution_count": null,
   "metadata": {},
   "outputs": [
    {
     "data": {
      "text/html": [
       "<div>\n",
       "<style scoped>\n",
       "    .dataframe tbody tr th:only-of-type {\n",
       "        vertical-align: middle;\n",
       "    }\n",
       "\n",
       "    .dataframe tbody tr th {\n",
       "        vertical-align: top;\n",
       "    }\n",
       "\n",
       "    .dataframe thead th {\n",
       "        text-align: right;\n",
       "    }\n",
       "</style>\n",
       "<table border=\"1\" class=\"dataframe\">\n",
       "  <thead>\n",
       "    <tr style=\"text-align: right;\">\n",
       "      <th></th>\n",
       "      <th>category_group_name</th>\n",
       "    </tr>\n",
       "  </thead>\n",
       "  <tbody>\n",
       "    <tr>\n",
       "      <th>음식점</th>\n",
       "      <td>832</td>\n",
       "    </tr>\n",
       "    <tr>\n",
       "      <th>카페</th>\n",
       "      <td>514</td>\n",
       "    </tr>\n",
       "    <tr>\n",
       "      <th>관광명소</th>\n",
       "      <td>231</td>\n",
       "    </tr>\n",
       "    <tr>\n",
       "      <th>문화시설</th>\n",
       "      <td>3</td>\n",
       "    </tr>\n",
       "  </tbody>\n",
       "</table>\n",
       "</div>"
      ],
      "text/plain": [
       "      category_group_name\n",
       "음식점                   832\n",
       "카페                    514\n",
       "관광명소                  231\n",
       "문화시설                    3"
      ]
     },
     "metadata": {},
     "output_type": "display_data"
    }
   ],
   "source": [
    "pd.DataFrame(jeju_poi_add['category_group_name'].value_counts())"
   ]
  },
  {
   "cell_type": "code",
   "execution_count": null,
   "metadata": {},
   "outputs": [],
   "source": [
    "# jeju_poi_add.to_excel('./data/220119/_서귀포_POI_최종RAW.xlsx', index=False)"
   ]
  },
  {
   "cell_type": "markdown",
   "metadata": {},
   "source": [
    "### - 자연어 처리 테스트"
   ]
  },
  {
   "cell_type": "markdown",
   "metadata": {},
   "source": [
    "- 자연어 처리..\n",
    "- 진행중~~"
   ]
  },
  {
   "cell_type": "markdown",
   "metadata": {},
   "source": [
    "#### 1. 데이터 읽기"
   ]
  },
  {
   "cell_type": "code",
   "execution_count": null,
   "metadata": {},
   "outputs": [],
   "source": [
    "import pandas as pd\n",
    "\n",
    "jeju_poi = pd.read_excel('./data/220119/_제주도_POI_컬럼 정리.xlsx', index_col=0)"
   ]
  },
  {
   "cell_type": "code",
   "execution_count": null,
   "metadata": {},
   "outputs": [
    {
     "name": "stdout",
     "output_type": "stream",
     "text": [
      "<class 'pandas.core.frame.DataFrame'>\n",
      "Int64Index: 2306 entries, 0 to 5740\n",
      "Data columns (total 9 columns):\n",
      " #   Column               Non-Null Count  Dtype  \n",
      "---  ------               --------------  -----  \n",
      " 0   keyword              2306 non-null   object \n",
      " 1   address_name         2306 non-null   object \n",
      " 2   category_group_name  2306 non-null   object \n",
      " 3   category_name        2306 non-null   object \n",
      " 4   id                   2306 non-null   int64  \n",
      " 5   place_name           2306 non-null   object \n",
      " 6   x                    2306 non-null   float64\n",
      " 7   y                    2306 non-null   float64\n",
      " 8   rating               2306 non-null   float64\n",
      "dtypes: float64(3), int64(1), object(5)\n",
      "memory usage: 180.2+ KB\n"
     ]
    }
   ],
   "source": [
    "jeju_poi.info()"
   ]
  },
  {
   "cell_type": "code",
   "execution_count": null,
   "metadata": {},
   "outputs": [
    {
     "data": {
      "text/html": [
       "<div>\n",
       "<style scoped>\n",
       "    .dataframe tbody tr th:only-of-type {\n",
       "        vertical-align: middle;\n",
       "    }\n",
       "\n",
       "    .dataframe tbody tr th {\n",
       "        vertical-align: top;\n",
       "    }\n",
       "\n",
       "    .dataframe thead th {\n",
       "        text-align: right;\n",
       "    }\n",
       "</style>\n",
       "<table border=\"1\" class=\"dataframe\">\n",
       "  <thead>\n",
       "    <tr style=\"text-align: right;\">\n",
       "      <th></th>\n",
       "      <th>keyword</th>\n",
       "      <th>address_name</th>\n",
       "      <th>category_group_name</th>\n",
       "      <th>category_name</th>\n",
       "      <th>id</th>\n",
       "      <th>place_name</th>\n",
       "      <th>x</th>\n",
       "      <th>y</th>\n",
       "      <th>rating</th>\n",
       "    </tr>\n",
       "  </thead>\n",
       "  <tbody>\n",
       "    <tr>\n",
       "      <th>0</th>\n",
       "      <td>테마파크</td>\n",
       "      <td>제주특별자치도 제주시 연동 1320</td>\n",
       "      <td>관광명소</td>\n",
       "      <td>문화,예술 &gt; 문화시설 &gt; 박물관</td>\n",
       "      <td>26388484</td>\n",
       "      <td>수목원테마파크 아이스뮤지엄</td>\n",
       "      <td>126.488398</td>\n",
       "      <td>33.470777</td>\n",
       "      <td>1.0</td>\n",
       "    </tr>\n",
       "    <tr>\n",
       "      <th>1</th>\n",
       "      <td>테마파크,가볼만한 곳</td>\n",
       "      <td>제주특별자치도 제주시 애월읍 신엄리 2880-12</td>\n",
       "      <td>관광명소</td>\n",
       "      <td>여행 &gt; 관광,명소 &gt; 테마파크</td>\n",
       "      <td>1129394481</td>\n",
       "      <td>고스트타운</td>\n",
       "      <td>126.356936</td>\n",
       "      <td>33.476195</td>\n",
       "      <td>3.4</td>\n",
       "    </tr>\n",
       "    <tr>\n",
       "      <th>2</th>\n",
       "      <td>테마파크,가볼만한 곳</td>\n",
       "      <td>제주특별자치도 제주시 애월읍 유수암리 1083</td>\n",
       "      <td>관광명소</td>\n",
       "      <td>여행 &gt; 관광,명소 &gt; 테마파크</td>\n",
       "      <td>891104398</td>\n",
       "      <td>제주불빛정원</td>\n",
       "      <td>126.409179</td>\n",
       "      <td>33.422294</td>\n",
       "      <td>4.1</td>\n",
       "    </tr>\n",
       "    <tr>\n",
       "      <th>3</th>\n",
       "      <td>테마파크,가볼만한 곳</td>\n",
       "      <td>제주특별자치도 제주시 애월읍 어음리 산 131-3</td>\n",
       "      <td>관광명소</td>\n",
       "      <td>여행 &gt; 관광,명소 &gt; 테마파크</td>\n",
       "      <td>1868828759</td>\n",
       "      <td>9.81파크</td>\n",
       "      <td>126.366664</td>\n",
       "      <td>33.390290</td>\n",
       "      <td>3.6</td>\n",
       "    </tr>\n",
       "    <tr>\n",
       "      <th>4</th>\n",
       "      <td>테마파크,가볼만한 곳</td>\n",
       "      <td>제주특별자치도 제주시 애월읍 광령리 2698</td>\n",
       "      <td>관광명소</td>\n",
       "      <td>여행 &gt; 관광,명소 &gt; 테마파크</td>\n",
       "      <td>9401924</td>\n",
       "      <td>제주공룡랜드</td>\n",
       "      <td>126.433869</td>\n",
       "      <td>33.441255</td>\n",
       "      <td>2.2</td>\n",
       "    </tr>\n",
       "  </tbody>\n",
       "</table>\n",
       "</div>"
      ],
      "text/plain": [
       "       keyword                 address_name category_group_name  \\\n",
       "0         테마파크          제주특별자치도 제주시 연동 1320                관광명소   \n",
       "1  테마파크,가볼만한 곳  제주특별자치도 제주시 애월읍 신엄리 2880-12                관광명소   \n",
       "2  테마파크,가볼만한 곳    제주특별자치도 제주시 애월읍 유수암리 1083                관광명소   \n",
       "3  테마파크,가볼만한 곳  제주특별자치도 제주시 애월읍 어음리 산 131-3                관광명소   \n",
       "4  테마파크,가볼만한 곳     제주특별자치도 제주시 애월읍 광령리 2698                관광명소   \n",
       "\n",
       "        category_name          id      place_name           x          y  \\\n",
       "0  문화,예술 > 문화시설 > 박물관    26388484  수목원테마파크 아이스뮤지엄  126.488398  33.470777   \n",
       "1   여행 > 관광,명소 > 테마파크  1129394481           고스트타운  126.356936  33.476195   \n",
       "2   여행 > 관광,명소 > 테마파크   891104398          제주불빛정원  126.409179  33.422294   \n",
       "3   여행 > 관광,명소 > 테마파크  1868828759          9.81파크  126.366664  33.390290   \n",
       "4   여행 > 관광,명소 > 테마파크     9401924          제주공룡랜드  126.433869  33.441255   \n",
       "\n",
       "   rating  \n",
       "0     1.0  \n",
       "1     3.4  \n",
       "2     4.1  \n",
       "3     3.6  \n",
       "4     2.2  "
      ]
     },
     "metadata": {},
     "output_type": "display_data"
    }
   ],
   "source": [
    "jeju_poi.head()"
   ]
  },
  {
   "cell_type": "markdown",
   "metadata": {},
   "source": [
    "#### 2. 자연어 선택"
   ]
  },
  {
   "cell_type": "markdown",
   "metadata": {},
   "source": [
    "- keyword와 category_group_name 사용"
   ]
  },
  {
   "cell_type": "code",
   "execution_count": null,
   "metadata": {},
   "outputs": [],
   "source": [
    "keywords = set()\n",
    "for keyword in jeju_poi['keyword'].unique():\n",
    "    for k in keyword.split(','):\n",
    "        keywords.add(k)\n",
    "keywords = list(keywords)"
   ]
  },
  {
   "cell_type": "code",
   "execution_count": null,
   "metadata": {},
   "outputs": [
    {
     "data": {
      "text/plain": [
       "['가볼만한 곳', '테마파크', '감성', '맛집', '분위기 좋은', '오션뷰', '레포츠', '가족여행', '체험']"
      ]
     },
     "metadata": {},
     "output_type": "display_data"
    }
   ],
   "source": [
    "keywords"
   ]
  },
  {
   "cell_type": "code",
   "execution_count": null,
   "metadata": {},
   "outputs": [],
   "source": [
    "groups = []\n",
    "for category in jeju_poi['category_group_name'].unique():\n",
    "    groups.append(category)"
   ]
  },
  {
   "cell_type": "code",
   "execution_count": null,
   "metadata": {},
   "outputs": [
    {
     "data": {
      "text/plain": [
       "['관광명소', '음식점', '카페']"
      ]
     },
     "metadata": {},
     "output_type": "display_data"
    }
   ],
   "source": [
    "groups"
   ]
  },
  {
   "cell_type": "code",
   "execution_count": null,
   "metadata": {},
   "outputs": [
    {
     "data": {
      "text/html": [
       "<div>\n",
       "<style scoped>\n",
       "    .dataframe tbody tr th:only-of-type {\n",
       "        vertical-align: middle;\n",
       "    }\n",
       "\n",
       "    .dataframe tbody tr th {\n",
       "        vertical-align: top;\n",
       "    }\n",
       "\n",
       "    .dataframe thead th {\n",
       "        text-align: right;\n",
       "    }\n",
       "</style>\n",
       "<table border=\"1\" class=\"dataframe\">\n",
       "  <thead>\n",
       "    <tr style=\"text-align: right;\">\n",
       "      <th></th>\n",
       "      <th>id</th>\n",
       "      <th>place_name</th>\n",
       "      <th>keyword</th>\n",
       "      <th>category_group_name</th>\n",
       "    </tr>\n",
       "  </thead>\n",
       "  <tbody>\n",
       "    <tr>\n",
       "      <th>0</th>\n",
       "      <td>26388484</td>\n",
       "      <td>수목원테마파크 아이스뮤지엄</td>\n",
       "      <td>테마파크</td>\n",
       "      <td>관광명소</td>\n",
       "    </tr>\n",
       "    <tr>\n",
       "      <th>1</th>\n",
       "      <td>1129394481</td>\n",
       "      <td>고스트타운</td>\n",
       "      <td>테마파크,가볼만한 곳</td>\n",
       "      <td>관광명소</td>\n",
       "    </tr>\n",
       "  </tbody>\n",
       "</table>\n",
       "</div>"
      ],
      "text/plain": [
       "           id      place_name      keyword category_group_name\n",
       "0    26388484  수목원테마파크 아이스뮤지엄         테마파크                관광명소\n",
       "1  1129394481           고스트타운  테마파크,가볼만한 곳                관광명소"
      ]
     },
     "metadata": {},
     "output_type": "display_data"
    }
   ],
   "source": [
    "jeju_poi[['id', 'place_name', 'keyword', 'category_group_name']].head(2)"
   ]
  },
  {
   "cell_type": "markdown",
   "metadata": {},
   "source": [
    "#### 3. ㅇ"
   ]
  },
  {
   "cell_type": "markdown",
   "metadata": {},
   "source": [
    "##### ◽ㅇ"
   ]
  },
  {
   "cell_type": "markdown",
   "metadata": {},
   "source": [
    "#### 1. ㅇ"
   ]
  },
  {
   "cell_type": "markdown",
   "metadata": {},
   "source": [
    "##### ◽ㅇ"
   ]
  }
 ],
 "metadata": {
  "interpreter": {
   "hash": "45aa316f501ba1dc9efd5e8590959096dae19d05c3823b98dd982bf251523aa1"
  },
  "kernelspec": {
   "display_name": "Python 3.8.12 64-bit ('ds_study(tf_cv)': conda)",
   "language": "python",
   "name": "python3"
  },
  "language_info": {
   "name": "python",
   "version": "3.8.12"
  },
  "orig_nbformat": 4
 },
 "nbformat": 4,
 "nbformat_minor": 2
}
