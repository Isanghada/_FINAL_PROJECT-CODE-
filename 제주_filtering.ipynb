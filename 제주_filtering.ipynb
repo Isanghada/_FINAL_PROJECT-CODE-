{
 "cells": [
  {
   "cell_type": "code",
   "execution_count": 1,
   "metadata": {},
   "outputs": [],
   "source": [
    "import requests\n",
    "from urllib.parse import quote    \n",
    "import pandas as pd"
   ]
  },
  {
   "cell_type": "code",
   "execution_count": 8,
   "metadata": {},
   "outputs": [],
   "source": [
    "client_id = \"aqlcM2k1b3Bk4nct7Dv6\"\n",
    "client_secret = \"llTbPa_NZs\""
   ]
  },
  {
   "cell_type": "code",
   "execution_count": 9,
   "metadata": {},
   "outputs": [],
   "source": [
    "headers = {\"X-Naver-Client-Id\":client_id,\"X-Naver-Client-Secret\":client_secret}"
   ]
  },
  {
   "cell_type": "code",
   "execution_count": 19,
   "metadata": {},
   "outputs": [],
   "source": [
    "url_base=\"https://openapi.naver.com/v1/search/local.json?query=\"     #url의 앞부분, 키워드 입력 전까지~\n",
    "keyword = quote(input(\"검색 키워드를 입력하세요. : \"))                   #input으로 받은 문자열을 ascii코드로 변환합니다!\n",
    "url_middle= \"$&start=\"                                             #키워드 이후부터 숫자 사이\n",
    "number=input(\"몇 번째부터 검색할까요? : \")  "
   ]
  },
  {
   "cell_type": "code",
   "execution_count": 20,
   "metadata": {},
   "outputs": [
    {
     "data": {
      "text/plain": [
       "{'lastBuildDate': 'Wed, 05 Jan 2022 14:51:02 +0900',\n",
       " 'total': 1,\n",
       " 'start': 1,\n",
       " 'display': 1,\n",
       " 'items': [{'title': '<b>스타벅스</b> 홍제역점',\n",
       "   'link': 'http://www.starbucks.co.kr/',\n",
       "   'category': '카페,디저트>카페',\n",
       "   'description': '',\n",
       "   'telephone': '',\n",
       "   'address': '서울특별시 서대문구 홍제동 301-19 홍제빌딩',\n",
       "   'roadAddress': '서울특별시 서대문구 통일로 451',\n",
       "   'mapx': '306925',\n",
       "   'mapy': '554572'}]}"
      ]
     },
     "execution_count": 20,
     "metadata": {},
     "output_type": "execute_result"
    }
   ],
   "source": [
    "url = url_base + keyword + url_middle + number\n",
    "\n",
    "result = requests.get(url,headers = headers).json()                  #결과값을 변수로 지정\n",
    "result                           \n",
    "\n"
   ]
  },
  {
   "cell_type": "code",
   "execution_count": 31,
   "metadata": {},
   "outputs": [
    {
     "data": {
      "text/plain": [
       "{'lastBuildDate': 'Wed, 05 Jan 2022 15:27:30 +0900',\n",
       " 'total': 5,\n",
       " 'start': 1,\n",
       " 'display': 5,\n",
       " 'items': [{'title': '<b>스타벅스</b> 한국프레스센터점',\n",
       "   'link': 'http://www.starbucks.co.kr/',\n",
       "   'category': '카페,디저트>카페',\n",
       "   'description': '',\n",
       "   'telephone': '',\n",
       "   'address': '서울특별시 중구 태평로1가 25 프레스센터',\n",
       "   'roadAddress': '서울특별시 중구 세종대로 124',\n",
       "   'mapx': '309914',\n",
       "   'mapy': '552181'},\n",
       "  {'title': '<b>스타벅스</b> 무교로점',\n",
       "   'link': 'http://www.starbucks.co.kr/',\n",
       "   'category': '카페,디저트>카페',\n",
       "   'description': '',\n",
       "   'telephone': '',\n",
       "   'address': '서울특별시 중구 무교동 32-2 남강건설회관빌딩',\n",
       "   'roadAddress': '서울특별시 중구 무교로 15',\n",
       "   'mapx': '310008',\n",
       "   'mapy': '552165'},\n",
       "  {'title': '<b>스타벅스</b> 시청점',\n",
       "   'link': 'http://www.starbucks.co.kr/',\n",
       "   'category': '카페,디저트>카페',\n",
       "   'description': '',\n",
       "   'telephone': '',\n",
       "   'address': '서울특별시 중구 을지로1가 50 삼성화재 삼성빌딩1층',\n",
       "   'roadAddress': '서울특별시 중구 을지로 19',\n",
       "   'mapx': '310072',\n",
       "   'mapy': '552055'},\n",
       "  {'title': '<b>스타벅스</b> 시청플러스점',\n",
       "   'link': 'http://www.starbucks.co.kr/',\n",
       "   'category': '카페,디저트>카페',\n",
       "   'description': '',\n",
       "   'telephone': '',\n",
       "   'address': '서울특별시 중구 을지로1가 50 삼성화재 삼성빌딩1층',\n",
       "   'roadAddress': '서울특별시 중구 을지로 19',\n",
       "   'mapx': '310094',\n",
       "   'mapy': '552060'},\n",
       "  {'title': '<b>스타벅스</b> 무교동점',\n",
       "   'link': 'http://www.starbucks.co.kr/',\n",
       "   'category': '카페,디저트>카페',\n",
       "   'description': '',\n",
       "   'telephone': '',\n",
       "   'address': '서울특별시 중구 무교동 45 코오롱빌딩',\n",
       "   'roadAddress': '서울특별시 중구 무교로 21',\n",
       "   'mapx': '309999',\n",
       "   'mapy': '552235'}]}"
      ]
     },
     "execution_count": 31,
     "metadata": {},
     "output_type": "execute_result"
    }
   ],
   "source": [
    "url_base=\"https://openapi.naver.com/v1/search/local.json?query=\"\n",
    "keyword = quote(input(\"검색 키워드를 입력하세요. : \"))\n",
    "url_middle=\"&display=10 & start=\"\n",
    "keyword_number=input(\"몇 번째부터 검색할까요? : \")\n",
    "\n",
    "url = url_base + keyword + url_middle  + number\n",
    "\n",
    "result = requests.get(url,headers = headers).json()                  #결과값을 변수로 지정\n",
    "result                                                               #결과값 출력"
   ]
  },
  {
   "cell_type": "code",
   "execution_count": null,
   "metadata": {},
   "outputs": [],
   "source": []
  }
 ],
 "metadata": {
  "interpreter": {
   "hash": "e8d1aadc86641a503cc85f3c31cf023fc3f320b31f990619997eea29654d4852"
  },
  "kernelspec": {
   "display_name": "Python 3.8.11 64-bit ('ds_study': conda)",
   "language": "python",
   "name": "python3"
  },
  "language_info": {
   "codemirror_mode": {
    "name": "ipython",
    "version": 3
   },
   "file_extension": ".py",
   "mimetype": "text/x-python",
   "name": "python",
   "nbconvert_exporter": "python",
   "pygments_lexer": "ipython3",
   "version": "3.8.11"
  },
  "orig_nbformat": 4
 },
 "nbformat": 4,
 "nbformat_minor": 2
}
