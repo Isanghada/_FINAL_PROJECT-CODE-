{
 "cells": [
  {
   "cell_type": "markdown",
   "metadata": {},
   "source": [
    "### - 카카오 API : 키워드 검색"
   ]
  },
  {
   "cell_type": "markdown",
   "metadata": {},
   "source": [
    "- 카카오 API 테스트\n",
    "  - 앱 ID : \n",
    "  - 네이티브 앱 키 : \n",
    "  - REST API 키 : \n",
    "  - JavaScript 키 : \n",
    "  - Admin 키 : \n",
    "- 키워드 검색\n",
    "  - 질의어를 통해 장소 검색 결과 반환\n",
    "  - category_group_name, category_name, place_url"
   ]
  },
  {
   "cell_type": "code",
   "execution_count": null,
   "metadata": {},
   "outputs": [
    {
     "data": {
      "text/plain": [
       "200"
      ]
     },
     "metadata": {},
     "output_type": "display_data"
    }
   ],
   "source": [
    "import json\n",
    "import requests\n",
    "# REST 키\n",
    "rest_api_key = ''\n",
    "# 헤더\n",
    "headers = {\"Authorization\" : \"KakaoAK {}\".format(rest_api_key)}\n",
    "# 파라미터\n",
    "params = {\"query\" : \"제주도 맛집\", \"page\" : 10}\n",
    "url = \"https://dapi.kakao.com/v2/local/search/keyword.json\"\n",
    "\n",
    "# GET을 이용하여 획득\n",
    "res = requests.get(url, headers=headers, params=params)\n",
    "# Json을 이용하여 해제\n",
    "doc = json.loads(res.text)\n",
    "# 200일 경우 정상\n",
    "res.status_code"
   ]
  },
  {
   "cell_type": "code",
   "execution_count": null,
   "metadata": {},
   "outputs": [
    {
     "data": {
      "text/plain": [
       "{'documents': [{'address_name': '제주특별자치도 제주시 추자면 묵리',\n",
       "   'category_group_code': 'AT4',\n",
       "   'category_group_name': '관광명소',\n",
       "   'category_name': '여행 > 관광,명소 > 섬',\n",
       "   'distance': '',\n",
       "   'id': '10839940',\n",
       "   'phone': '064-728-4281',\n",
       "   'place_name': '추자도',\n",
       "   'place_url': 'http://place.map.kakao.com/10839940',\n",
       "   'road_address_name': '',\n",
       "   'x': '126.314847295503',\n",
       "   'y': '33.9528630502803'},\n",
       "  {'address_name': '제주특별자치도 제주시 추자면 대서리 4-9',\n",
       "   'category_group_code': '',\n",
       "   'category_group_name': '',\n",
       "   'category_name': '금융,보험 > 금융서비스 > 협동,소비조합 > 수산업협동조합',\n",
       "   'distance': '',\n",
       "   'id': '12868902',\n",
       "   'phone': '064-742-8193',\n",
       "   'place_name': '추자도수협',\n",
       "   'place_url': 'http://place.map.kakao.com/12868902',\n",
       "   'road_address_name': '제주특별자치도 제주시 추자면 추자로 2',\n",
       "   'x': '126.29819666571721',\n",
       "   'y': '33.96255605970134'},\n",
       "  {'address_name': '제주특별자치도 제주시 추자면 대서리 4-41',\n",
       "   'category_group_code': '',\n",
       "   'category_group_name': '',\n",
       "   'category_name': '교통,수송 > 교통시설 > 항구,포구',\n",
       "   'distance': '',\n",
       "   'id': '8115207',\n",
       "   'phone': '',\n",
       "   'place_name': '상추자도항',\n",
       "   'place_url': 'http://place.map.kakao.com/8115207',\n",
       "   'road_address_name': '',\n",
       "   'x': '126.29748114024576',\n",
       "   'y': '33.96220669891634'},\n",
       "  {'address_name': '제주특별자치도 제주시 추자면 예초리 343',\n",
       "   'category_group_code': 'AD5',\n",
       "   'category_group_name': '숙박',\n",
       "   'category_name': '여행 > 숙박 > 펜션',\n",
       "   'distance': '',\n",
       "   'id': '23406950',\n",
       "   'phone': '010-2715-5979',\n",
       "   'place_name': '추자도에코하우스펜션',\n",
       "   'place_url': 'http://place.map.kakao.com/23406950',\n",
       "   'road_address_name': '제주특별자치도 제주시 추자면 추자로 657',\n",
       "   'x': '126.32925982416374',\n",
       "   'y': '33.949734836007586'},\n",
       "  {'address_name': '제주특별자치도 제주시 추자면 묵리 399-1',\n",
       "   'category_group_code': 'AD5',\n",
       "   'category_group_name': '숙박',\n",
       "   'category_name': '여행 > 숙박 > 민박',\n",
       "   'distance': '',\n",
       "   'id': '1545775404',\n",
       "   'phone': '064-744-0907',\n",
       "   'place_name': '추자도민박',\n",
       "   'place_url': 'http://place.map.kakao.com/1545775404',\n",
       "   'road_address_name': '제주특별자치도 제주시 추자면 묵리2길 37-7',\n",
       "   'x': '126.31457363935306',\n",
       "   'y': '33.94543665536303'},\n",
       "  {'address_name': '제주특별자치도 제주시 도두일동 2635-1',\n",
       "   'category_group_code': '',\n",
       "   'category_group_name': '',\n",
       "   'category_name': '가정,생활 > 식품판매 > 수산물판매',\n",
       "   'distance': '',\n",
       "   'id': '994154563',\n",
       "   'phone': '064-746-3162',\n",
       "   'place_name': '추자도수산',\n",
       "   'place_url': 'http://place.map.kakao.com/994154563',\n",
       "   'road_address_name': '제주특별자치도 제주시 도두항서길 26',\n",
       "   'x': '126.4658085726156',\n",
       "   'y': '33.506498620943155'},\n",
       "  {'address_name': '제주특별자치도 제주시 추자면 묵리',\n",
       "   'category_group_code': 'AT4',\n",
       "   'category_group_name': '관광명소',\n",
       "   'category_name': '여행 > 관광,명소 > 섬',\n",
       "   'distance': '',\n",
       "   'id': '18376919',\n",
       "   'phone': '',\n",
       "   'place_name': '하추자도',\n",
       "   'place_url': 'http://place.map.kakao.com/18376919',\n",
       "   'road_address_name': '',\n",
       "   'x': '126.320623866253',\n",
       "   'y': '33.945816373877'},\n",
       "  {'address_name': '제주특별자치도 제주시 추자면 영흥리 77-3',\n",
       "   'category_group_code': '',\n",
       "   'category_group_name': '',\n",
       "   'category_name': '교통,수송 > 교통시설 > 등대',\n",
       "   'distance': '',\n",
       "   'id': '13723853',\n",
       "   'phone': '064-742-3780',\n",
       "   'place_name': '추자도등대',\n",
       "   'place_url': 'http://place.map.kakao.com/13723853',\n",
       "   'road_address_name': '',\n",
       "   'x': '126.29669880634921',\n",
       "   'y': '33.9552515767028'},\n",
       "  {'address_name': '제주특별자치도 제주시 추자면 영흥리',\n",
       "   'category_group_code': 'AT4',\n",
       "   'category_group_name': '관광명소',\n",
       "   'category_name': '여행 > 관광,명소 > 섬',\n",
       "   'distance': '',\n",
       "   'id': '18376814',\n",
       "   'phone': '',\n",
       "   'place_name': '상추자도',\n",
       "   'place_url': 'http://place.map.kakao.com/18376814',\n",
       "   'road_address_name': '',\n",
       "   'x': '126.293272487492',\n",
       "   'y': '33.960111834008'},\n",
       "  {'address_name': '제주특별자치도 제주시 추자면 신양리 874-11',\n",
       "   'category_group_code': 'AD5',\n",
       "   'category_group_name': '숙박',\n",
       "   'category_name': '여행 > 숙박 > 펜션',\n",
       "   'distance': '',\n",
       "   'id': '1884148888',\n",
       "   'phone': '010-2726-6921',\n",
       "   'place_name': '추자도휴양펜션',\n",
       "   'place_url': 'http://place.map.kakao.com/1884148888',\n",
       "   'road_address_name': '제주특별자치도 제주시 추자면 석두리길 4',\n",
       "   'x': '126.3234871180682',\n",
       "   'y': '33.9399425387159'},\n",
       "  {'address_name': '제주특별자치도 제주시 추자면 대서리 9',\n",
       "   'category_group_code': '',\n",
       "   'category_group_name': '',\n",
       "   'category_name': '사회,공공기관 > 행정기관 > 과학기술정보통신부 > 우체국',\n",
       "   'distance': '',\n",
       "   'id': '10839944',\n",
       "   'phone': '064-742-3588',\n",
       "   'place_name': '추자도우체국',\n",
       "   'place_url': 'http://place.map.kakao.com/10839944',\n",
       "   'road_address_name': '제주특별자치도 제주시 추자면 대서2길 11',\n",
       "   'x': '126.297005914133',\n",
       "   'y': '33.9639484092359'},\n",
       "  {'address_name': '제주특별자치도 제주시 노형동 2590-4',\n",
       "   'category_group_code': '',\n",
       "   'category_group_name': '',\n",
       "   'category_name': '가정,생활 > 식품판매 > 수산물판매',\n",
       "   'distance': '',\n",
       "   'id': '10839941',\n",
       "   'phone': '064-746-0060',\n",
       "   'place_name': '추자도수산물직매장 만재수산',\n",
       "   'place_url': 'http://place.map.kakao.com/10839941',\n",
       "   'road_address_name': '제주특별자치도 제주시 광평동로 24',\n",
       "   'x': '126.470490919783',\n",
       "   'y': '33.4823326669326'},\n",
       "  {'address_name': '제주특별자치도 제주시 추자면 대서리 4-4',\n",
       "   'category_group_code': 'AD5',\n",
       "   'category_group_name': '숙박',\n",
       "   'category_name': '여행 > 숙박 > 여관,모텔',\n",
       "   'distance': '',\n",
       "   'id': '12170792',\n",
       "   'phone': '064-742-8111',\n",
       "   'place_name': '추자도여정여관',\n",
       "   'place_url': 'http://place.map.kakao.com/12170792',\n",
       "   'road_address_name': '제주특별자치도 제주시 추자면 추자로 4-1',\n",
       "   'x': '126.297860040612',\n",
       "   'y': '33.9627055936595'},\n",
       "  {'address_name': '제주특별자치도 제주시 추자면 대서리 19-1',\n",
       "   'category_group_code': '',\n",
       "   'category_group_name': '',\n",
       "   'category_name': '여행 > 관광,명소 > 관광안내소',\n",
       "   'distance': '',\n",
       "   'id': '1317879688',\n",
       "   'phone': '',\n",
       "   'place_name': '추자도여행자센터',\n",
       "   'place_url': 'http://place.map.kakao.com/1317879688',\n",
       "   'road_address_name': '제주특별자치도 제주시 추자면 추자로 26',\n",
       "   'x': '126.296065099635',\n",
       "   'y': '33.9634967840242'},\n",
       "  {'address_name': '제주특별자치도 제주시 추자면 예초리 311-1',\n",
       "   'category_group_code': '',\n",
       "   'category_group_name': '',\n",
       "   'category_name': '서비스,산업 > 농축산',\n",
       "   'distance': '',\n",
       "   'id': '22453826',\n",
       "   'phone': '064-742-1009',\n",
       "   'place_name': '추자도참굴비수산',\n",
       "   'place_url': 'http://place.map.kakao.com/22453826',\n",
       "   'road_address_name': '제주특별자치도 제주시 추자면 예초1길 15',\n",
       "   'x': '126.331677954114',\n",
       "   'y': '33.9536984269262'}],\n",
       " 'meta': {'is_end': False,\n",
       "  'pageable_count': 31,\n",
       "  'same_name': {'keyword': '추자도', 'region': [], 'selected_region': '제주특별자치도'},\n",
       "  'total_count': 31}}"
      ]
     },
     "metadata": {},
     "output_type": "display_data"
    }
   ],
   "source": [
    "# 결과(Dict형으로 표현)\n",
    "# documets : 각 검색 결과 정보\n",
    "#  - address_name(String) : 전체 지번 주소\n",
    "#  - category_group_code(String) : 중요 카테고리만 그룹핑한 카테고리 그룹 코드\n",
    "#  - category_group_name(String) : 중요 카테고리만 그룹핑한 카테고리 그룹명\n",
    "#  - category_name(String) : 카테고리 이름\n",
    "#  - distance(String) : 중심좌표까지의 거리 (단, x,y 파라미터를 준 경우에만 존재), 단위 meter\n",
    "#  - id(String) : 장소 ID\n",
    "#  - phone(String) : 전화번호\n",
    "#  - place_name(String) : 장소명, 업체명\n",
    "#  - place_url(String) : 장소 상세페이지 URL\n",
    "#  - road_address_name(String) : 전체 도로명 주소\n",
    "#  - x(String) : X 좌표값, 경위도인 경우 longitude (경도)\n",
    "#  - y(String) : Y 좌표값, 경위도인 경우 latitude(위도)\n",
    "# meta : 검색 결과 메타 정보\n",
    "doc"
   ]
  },
  {
   "cell_type": "markdown",
   "metadata": {},
   "source": [
    "### - 네이버 API : 지역 검색"
   ]
  },
  {
   "cell_type": "markdown",
   "metadata": {},
   "source": [
    "- 네이버 API 테스트\n",
    "  - Client ID : \n",
    "  - Client Secret : \n",
    "- 지역 검색\n",
    "  - 질의어를 통해 장소 검색 결과 반환\n",
    "  - category, description 사용 가능"
   ]
  },
  {
   "cell_type": "code",
   "execution_count": 44,
   "metadata": {},
   "outputs": [
    {
     "data": {
      "text/plain": [
       "200"
      ]
     },
     "execution_count": 44,
     "metadata": {},
     "output_type": "execute_result"
    }
   ],
   "source": [
    "import json\n",
    "import urllib\n",
    "import requests\n",
    "# REST 키\n",
    "client_key = 'xzjv8j9BbPlDkjv3L4cP'\n",
    "client_secret = 'qXSjpcpeln'\n",
    "# 헤더\n",
    "headers = {\"X-Naver-Client-Id\" : client_key, \n",
    "           \"X-Naver-Client-Secret\" : client_secret}\n",
    "# 파라미터\n",
    "encText = urllib.parse.quote(\"제주 소리섬박물관\")\n",
    "url = \"https://openapi.naver.com/v1/search/local.json?query=\"+encText\n",
    "\n",
    "# GET을 이용하여 획득\n",
    "res = requests.get(url, headers=headers)\n",
    "# Json을 이용하여 해제\n",
    "doc = json.loads(res.text)\n",
    "# 200일 경우 정상\n",
    "res.status_code"
   ]
  },
  {
   "cell_type": "code",
   "execution_count": 45,
   "metadata": {},
   "outputs": [
    {
     "data": {
      "text/plain": [
       "{'lastBuildDate': 'Mon, 10 Jan 2022 10:55:09 +0900',\n",
       " 'total': 0,\n",
       " 'start': 1,\n",
       " 'display': 0,\n",
       " 'items': []}"
      ]
     },
     "execution_count": 45,
     "metadata": {},
     "output_type": "execute_result"
    }
   ],
   "source": [
    "# 결과(Dict형으로 표현)\n",
    "# items : 각 검색 결과 정보\n",
    "#  - title(String) : 업체, 기관명\n",
    "#  - link(String) : 기관의 상세 정보가 제공되는 네이버 페이지의 하이퍼텍스트 link\n",
    "#  - category(String) : 중요 카테고리만 그룹핑한 카테고리 그룹명\n",
    "#  - description(String) : 기관명에 대한 설명을 제공\n",
    "#  - telephone(String) : 하위 호환성을 위해 존재\n",
    "#  - address(String) : 기관명의 주소를 제공\n",
    "#  - roadAddress(String) : 기관명의 도로명 주소를 제공\n",
    "#  - mapx(String) : x좌표를 제공한다. 제공값은 카텍좌표계 값으로 제공\n",
    "#  - mapy(String) : y좌표를 제공한다. 제공값은 카텍 좌표계 값으로 제공\n",
    "doc"
   ]
  },
  {
   "cell_type": "markdown",
   "metadata": {},
   "source": [
    "### - 네이버 API : 이미지 검색"
   ]
  },
  {
   "cell_type": "markdown",
   "metadata": {},
   "source": [
    "- 네이버 API 테스트\n",
    "  - Client ID : \n",
    "  - Client Secret : \n",
    "- 지역 검색\n",
    "  - 질의어를 통해 이미지 검색 결과 반환\n",
    "  - image 링크 반환"
   ]
  },
  {
   "cell_type": "code",
   "execution_count": 14,
   "metadata": {},
   "outputs": [
    {
     "data": {
      "text/plain": [
       "200"
      ]
     },
     "execution_count": 14,
     "metadata": {},
     "output_type": "execute_result"
    }
   ],
   "source": [
    "import json\n",
    "import urllib\n",
    "import requests\n",
    "# REST 키\n",
    "client_key = 'xzjv8j9BbPlDkjv3L4cP'\n",
    "client_secret = 'qXSjpcpeln'\n",
    "# 헤더\n",
    "headers = {\"X-Naver-Client-Id\" : client_key, \n",
    "           \"X-Naver-Client-Secret\" : client_secret}\n",
    "# 파라미터\n",
    "encText = urllib.parse.quote(\"성산일출봉\")\n",
    "url = \"https://openapi.naver.com/v1/search/image?query=\"+encText\n",
    "\n",
    "# GET을 이용하여 획득\n",
    "res = requests.get(url, headers=headers)\n",
    "# Json을 이용하여 해제\n",
    "doc = json.loads(res.text)\n",
    "# 200일 경우 정상\n",
    "res.status_code"
   ]
  },
  {
   "cell_type": "code",
   "execution_count": 19,
   "metadata": {},
   "outputs": [
    {
     "data": {
      "text/plain": [
       "{'title': '수백만 년 전, 자연이 선사한 선물오름 성산일출봉',\n",
       " 'link': 'http://post.phinf.naver.net/MjAyMTAzMDRfMTI4/MDAxNjE0ODIyMzEyMjUy.UJoOkQGq43hZtMB3rhAs_V73lVh10vnEHGqMp-9xu-kg.akFfJf-nMnM1ZHGQk4g5TehGydfR4zvM9emo6L6S7asg.PNG/I4FcB_p87GevbFGBBn4O2DNGHAVo.jpg',\n",
       " 'thumbnail': 'https://search.pstatic.net/common/?src=http://post.phinf.naver.net/MjAyMTAzMDRfMTI4/MDAxNjE0ODIyMzEyMjUy.UJoOkQGq43hZtMB3rhAs_V73lVh10vnEHGqMp-9xu-kg.akFfJf-nMnM1ZHGQk4g5TehGydfR4zvM9emo6L6S7asg.PNG/I4FcB_p87GevbFGBBn4O2DNGHAVo.jpg&type=b150',\n",
       " 'sizeheight': '818',\n",
       " 'sizewidth': '543'}"
      ]
     },
     "execution_count": 19,
     "metadata": {},
     "output_type": "execute_result"
    }
   ],
   "source": [
    "# 결과(Dict형으로 표현)\n",
    "doc['items'][0]"
   ]
  },
  {
   "cell_type": "markdown",
   "metadata": {},
   "source": [
    "### - 한국관광공사 LOD"
   ]
  },
  {
   "cell_type": "markdown",
   "metadata": {},
   "source": [
    "- Python에서 SPARQL을 사용하기 위해 `pip install sparqlwrapper`"
   ]
  },
  {
   "cell_type": "markdown",
   "metadata": {},
   "source": [
    "- 기본 정보"
   ]
  },
  {
   "cell_type": "markdown",
   "metadata": {},
   "source": [
    "#### 1. 한국관광공사 LOD 테스트"
   ]
  },
  {
   "cell_type": "code",
   "execution_count": 91,
   "metadata": {},
   "outputs": [],
   "source": [
    "from SPARQLWrapper import SPARQLWrapper, JSON\n",
    "\n",
    "def getInfo():\n",
    "    sparql = SPARQLWrapper(\"http://data.visitkorea.or.kr/sparql\")\n",
    "    prefix = \"\"\"\n",
    "                PREFIX skos: <http://www.w3.org/2004/02/skos/core#>\n",
    "                PREFIX rdf: <http://www.w3.org/1999/02/22-rdf-syntax-ns#>\n",
    "                PREFIX rdfs: <http://www.w3.org/2000/01/rdf-schema#>\n",
    "                PREFIX dc: <http://purl.org/dc/elements/1.1/>\n",
    "                PREFIX owl: <http://www.w3.org/2002/07/owl#>\n",
    "                PREFIX xsd: <http://www.w3.org/2001/XMLSchema#>\n",
    "                PREFIX vi: <http://www.saltlux.com/transformer/views#>\n",
    "                PREFIX kto: <http://data.visitkorea.or.kr/ontology/>\n",
    "                PREFIX ktop: <http://data.visitkorea.or.kr/property/>\n",
    "                PREFIX ids: <http://data.visitkorea.or.kr/resource/>\n",
    "                PREFIX wgs: <http://www.w3.org/2003/01/geo/wgs84_pos#>\n",
    "                PREFIX foaf: <http://xmlns.com/foaf/0.1/>\n",
    "                PREFIX geo: <http://www.saltlux.com/geo/property#>\n",
    "                PREFIX pf: <http://www.saltlux.com/DARQ/property#> \n",
    "             \"\"\"\n",
    "\n",
    "    select_state = \"\"\"\n",
    "                    SELECT * \n",
    "                    WHERE {\n",
    "                        ?resource a kto:Place ;\n",
    "                            rdfs:label ?name ;\n",
    "                            ktop:category ?category . \n",
    "                        ?category skos:prefLabel ?category_name . \n",
    "                        FILTER langMatches( lang(?category_name), \"KO\" ) \n",
    "                    } limit 10\n",
    "                   \"\"\"\n",
    "    sparql.setQuery(prefix + select_state)\n",
    "    sparql.setReturnFormat(JSON)\n",
    "    result = sparql.query().convert()\n",
    "\n",
    "    for r in result['results']['bindings']:\n",
    "        print(r['name']['value'], ':', r['category_name']['value'])\n",
    "    # return result"
   ]
  },
  {
   "cell_type": "code",
   "execution_count": 92,
   "metadata": {},
   "outputs": [
    {
     "name": "stdout",
     "output_type": "stream",
     "text": [
      "응봉산(울진) : 산\n",
      "서울특별시교육청 구로도서관 : 도서관\n",
      "일민미술관 : 미술관/화랑\n",
      "서대문자연사박물관 : 박물관\n",
      "백덕산(평창) : 산\n",
      "이중섭 미술관 : 기념관\n",
      "양산시립박물관 : 박물관\n",
      "야미도 : 섬\n",
      "황매산(산청) : 산\n",
      "전라북도교육문화회관 : 수련시설\n"
     ]
    }
   ],
   "source": [
    "getInfo()"
   ]
  },
  {
   "cell_type": "markdown",
   "metadata": {},
   "source": [
    "#### 2. 한국관광공사 LOD : 이미지"
   ]
  },
  {
   "cell_type": "markdown",
   "metadata": {},
   "source": [
    "- 이미지 정보 : 대표 이미지(가장 첫 이미지)만 반환"
   ]
  },
  {
   "cell_type": "code",
   "execution_count": 297,
   "metadata": {},
   "outputs": [],
   "source": [
    "from SPARQLWrapper import SPARQLWrapper, JSON\n",
    "\n",
    "def getImage(ids):\n",
    "    sparql = SPARQLWrapper(\"http://data.visitkorea.or.kr/sparql\")\n",
    "    prefix = \"\"\"\n",
    "                PREFIX skos: <http://www.w3.org/2004/02/skos/core#>\n",
    "                PREFIX rdf: <http://www.w3.org/1999/02/22-rdf-syntax-ns#>\n",
    "                PREFIX rdfs: <http://www.w3.org/2000/01/rdf-schema#>\n",
    "                PREFIX dc: <http://purl.org/dc/elements/1.1/>\n",
    "                PREFIX owl: <http://www.w3.org/2002/07/owl#>\n",
    "                PREFIX xsd: <http://www.w3.org/2001/XMLSchema#>\n",
    "                PREFIX vi: <http://www.saltlux.com/transformer/views#>\n",
    "                PREFIX kto: <http://data.visitkorea.or.kr/ontology/>\n",
    "                PREFIX ktop: <http://data.visitkorea.or.kr/property/>\n",
    "                PREFIX ids: <http://data.visitkorea.or.kr/resource/>\n",
    "                PREFIX wgs: <http://www.w3.org/2003/01/geo/wgs84_pos#>\n",
    "                PREFIX foaf: <http://xmlns.com/foaf/0.1/>\n",
    "                PREFIX geo: <http://www.saltlux.com/geo/property#>\n",
    "                PREFIX pf: <http://www.saltlux.com/DARQ/property#> \n",
    "             \"\"\"\n",
    "\n",
    "    select_state = \"\"\"\n",
    "                    SELECT *\n",
    "                    WHERE {\n",
    "                        ids:\"\"\" + str(ids) + \"\"\" a kto:Place ;\n",
    "                            foaf:depiction ?depiction .\n",
    "                        ?depiction foaf:depicts ?depicts ;\n",
    "                            foaf:thumbnail ?thumbnail .\n",
    "                    }\n",
    "                   \"\"\"\n",
    "    sparql.setQuery(prefix + select_state)\n",
    "    sparql.setReturnFormat(JSON)\n",
    "    result = sparql.query().convert()\n",
    "    # 가장 첫 이미지 주소 반환\n",
    "    try :\n",
    "        return result['results']['bindings'][0]['depiction']['value']\n",
    "    except:\n",
    "        return ''"
   ]
  },
  {
   "cell_type": "code",
   "execution_count": 298,
   "metadata": {},
   "outputs": [
    {
     "data": {
      "text/plain": [
       "'http://tong.visitkorea.or.kr/cms/resource/56/2012856_image2_1.jpg'"
      ]
     },
     "execution_count": 298,
     "metadata": {},
     "output_type": "execute_result"
    }
   ],
   "source": [
    "getImage(125587)"
   ]
  },
  {
   "cell_type": "markdown",
   "metadata": {},
   "source": [
    "#### 3. 한국관광공사 LOD : 제주도 정보"
   ]
  },
  {
   "cell_type": "markdown",
   "metadata": {},
   "source": [
    "- 제주도 정보 : 1362개\n",
    "  - IDS\n",
    "  - 이름\n",
    "  - 카테고리\n",
    "  - 개요\n",
    "  - 타입\n",
    "  - 주소"
   ]
  },
  {
   "cell_type": "code",
   "execution_count": 235,
   "metadata": {},
   "outputs": [],
   "source": [
    "from SPARQLWrapper import SPARQLWrapper, JSON\n",
    "\n",
    "def getJeju(ASC = True):\n",
    "    sparql = SPARQLWrapper(\"http://data.visitkorea.or.kr/sparql\")\n",
    "    prefix = \"\"\"\n",
    "                PREFIX skos: <http://www.w3.org/2004/02/skos/core#>\n",
    "                PREFIX rdf: <http://www.w3.org/1999/02/22-rdf-syntax-ns#>\n",
    "                PREFIX rdfs: <http://www.w3.org/2000/01/rdf-schema#>\n",
    "                PREFIX dc: <http://purl.org/dc/elements/1.1/>\n",
    "                PREFIX owl: <http://www.w3.org/2002/07/owl#>\n",
    "                PREFIX xsd: <http://www.w3.org/2001/XMLSchema#>\n",
    "                PREFIX vi: <http://www.saltlux.com/transformer/views#>\n",
    "                PREFIX kto: <http://data.visitkorea.or.kr/ontology/>\n",
    "                PREFIX ktop: <http://data.visitkorea.or.kr/property/>\n",
    "                PREFIX ids: <http://data.visitkorea.or.kr/resource/>\n",
    "                PREFIX wgs: <http://www.w3.org/2003/01/geo/wgs84_pos#>\n",
    "                PREFIX foaf: <http://xmlns.com/foaf/0.1/>\n",
    "                PREFIX geo: <http://www.saltlux.com/geo/property#>\n",
    "                PREFIX pf: <http://www.saltlux.com/DARQ/property#> \n",
    "             \"\"\"\n",
    "\n",
    "    # select_state = \"\"\"\n",
    "    #                 SELECT (COUNT(?name) AS ?CNT)\n",
    "    #                 WHERE {\n",
    "    #                     ?resource a kto:Place ;\n",
    "    #                         rdfs:label ?name ;\n",
    "    #                         ktop:address ?address .\n",
    "    #                         FILTER (contains(?address, \"제주\") )\n",
    "    #                 }\n",
    "    #                \"\"\"\n",
    "    if ASC:\n",
    "        select_state = \"\"\"\n",
    "                        SELECT *\n",
    "                        WHERE {\n",
    "                            ?resource a kto:Place ;\n",
    "                                rdfs:label ?name ;\n",
    "                                ktop:category ?category ;\n",
    "                                dc:description ?description ;\n",
    "                                ktop:address ?address .\n",
    "                                FILTER (contains(?address, \"제주\"))\n",
    "                            ?category rdfs:label ?category_name .\n",
    "                            FILTER langMatches( lang(?category_name), \"KO\" )\n",
    "                        }\n",
    "                        ORDER BY ASC(?name)\n",
    "                    \"\"\"\n",
    "    else:\n",
    "        select_state = \"\"\"\n",
    "                        SELECT *\n",
    "                        WHERE {\n",
    "                            ?resource a kto:Place ;\n",
    "                                rdfs:label ?name ;\n",
    "                                ktop:category ?category ;\n",
    "                                dc:description ?description ;\n",
    "                                ktop:address ?address .\n",
    "                                FILTER (contains(?address, \"제주\"))\n",
    "                            ?category rdfs:label ?category_name .\n",
    "                            FILTER langMatches( lang(?category_name), \"KO\" )\n",
    "                        }\n",
    "                        ORDER BY DESC(?name)\n",
    "                    \"\"\"\n",
    "    sparql.setQuery(prefix + select_state)\n",
    "    sparql.setReturnFormat(JSON)\n",
    "    result = sparql.query().convert()\n",
    "\n",
    "    # for r in result['results']['bindings']:\n",
    "    #     print(r['name']['value'], ':', r['category_name']['value'])\n",
    "    return result"
   ]
  },
  {
   "cell_type": "markdown",
   "metadata": {},
   "source": [
    "- 테스트"
   ]
  },
  {
   "cell_type": "code",
   "execution_count": 233,
   "metadata": {},
   "outputs": [],
   "source": [
    "test = getJeju()"
   ]
  },
  {
   "cell_type": "markdown",
   "metadata": {},
   "source": [
    "- 내용 예시"
   ]
  },
  {
   "cell_type": "markdown",
   "metadata": {},
   "source": [
    "'head': {'vars': ['resource', 'name', 'category', 'description', 'type', 'address', 'type_name', 'category_name']},  \n",
    "'results': {'bindings': [{'resource': {'type': 'uri', 'value': 'http://data.visitkorea.or.kr/resource/130494'},  \n",
    "'name': {'type': 'literal', 'xml:lang': 'ko', 'value': '이중섭 미술관'},  \n",
    "'category': {'type': 'uri', 'value': 'http://data.visitkorea.or.kr/resource/A02060200'},  \n",
    "'description': {'type': 'literal', 'xml:lang': 'ko', 'value': '※ 코로나바이러스감염증-19 공지사항 ※ 내용 : 사전예약제 (2020.06.18 ~ 별도안내시) → 코로나...'},  \n",
    "'type': {'type': 'uri', 'value': 'http://data.visitkorea.or.kr/ontology/Attraction'},  \n",
    "'address': {'type': 'literal', 'xml:lang': 'ko', 'value': '제주특별자치도 서귀포시 이중섭로 27-3'},  \n",
    "'type_name': {'type': 'literal', 'xml:lang': 'ko', 'value': '명소'},  \n",
    "'category_name': {'type': 'literal', 'xml:lang': 'ko', 'value': '기념관'}}  "
   ]
  },
  {
   "cell_type": "markdown",
   "metadata": {},
   "source": [
    "- 첫 인덱스 값 확인"
   ]
  },
  {
   "cell_type": "code",
   "execution_count": 198,
   "metadata": {},
   "outputs": [],
   "source": [
    "test0 = test['results']['bindings'][0]"
   ]
  },
  {
   "cell_type": "code",
   "execution_count": 199,
   "metadata": {},
   "outputs": [
    {
     "data": {
      "text/plain": [
       "('2741519',\n",
       " '(주)제주글램핑',\n",
       " '야영장,오토캠핑장',\n",
       " '제주글램핑은 천혜의 자연 경관을 제주에서 즐길 수 있는 수목원 같은 숲속 글램핑장으로 국내',\n",
       " '제주특별자치도 제주시 구좌읍 중산간동로 1921')"
      ]
     },
     "execution_count": 199,
     "metadata": {},
     "output_type": "execute_result"
    }
   ],
   "source": [
    "test0['resource']['value'].split('/')[-1], test0['name']['value'], test0['category_name']['value'], test0['description']['value'][:50], test0['address']['value']"
   ]
  },
  {
   "cell_type": "markdown",
   "metadata": {},
   "source": [
    "#### 4. 한국관광공사 LOD : 제주도 정보 => DF화"
   ]
  },
  {
   "cell_type": "markdown",
   "metadata": {},
   "source": [
    "- df 추출 함수 정의"
   ]
  },
  {
   "cell_type": "code",
   "execution_count": 305,
   "metadata": {},
   "outputs": [],
   "source": [
    "import pandas as pd\n",
    "\n",
    "def getJeju_df():\n",
    "    ids = []\n",
    "    name = []\n",
    "    category_name = []\n",
    "    description = []\n",
    "    address = []\n",
    "    img = []\n",
    "    # 1000개 씩 결과를 가져오기 때문에 오름차순, 내림차순으로 정렬하여 확인\n",
    "    jeju = getJeju(True)\n",
    "    for value in jeju['results']['bindings']:\n",
    "        ids.append(value['resource']['value'].split('/')[-1])\n",
    "        name.append(value['name']['value'])\n",
    "        category_name.append(value['category_name']['value'])\n",
    "        description.append(value['description']['value'])\n",
    "        address.append(value['address']['value'])\n",
    "    last_ids = ids[-1]\n",
    "\n",
    "    jeju = getJeju(False)\n",
    "    for value in jeju['results']['bindings']:\n",
    "        if value['resource']['value'].split('/')[-1] == last_ids:\n",
    "            break\n",
    "        ids.append(value['resource']['value'].split('/')[-1])\n",
    "        name.append(value['name']['value'])\n",
    "        category_name.append(value['category_name']['value'])\n",
    "        description.append(value['description']['value'])\n",
    "        address.append(value['address']['value'])\n",
    "    \n",
    "    for i in ids:\n",
    "        img.append(getImage(i))\n",
    "\n",
    "    jeju_df = pd.DataFrame({\n",
    "        'ids' : ids,\n",
    "        'name' : name,\n",
    "        'category' : category_name,\n",
    "        'description' : description,\n",
    "        'address' : address,\n",
    "        'img' : img,\n",
    "    })\n",
    "\n",
    "    return jeju_df"
   ]
  },
  {
   "cell_type": "code",
   "execution_count": null,
   "metadata": {},
   "outputs": [],
   "source": [
    "test_df = getJeju_df()"
   ]
  },
  {
   "cell_type": "markdown",
   "metadata": {},
   "source": [
    "- type 컬럼 추가"
   ]
  },
  {
   "cell_type": "code",
   "execution_count": null,
   "metadata": {},
   "outputs": [],
   "source": [
    "from SPARQLWrapper import SPARQLWrapper, JSON\n",
    "def getType(ids):\n",
    "    type_list = []\n",
    "\n",
    "    sparql = SPARQLWrapper(\"http://data.visitkorea.or.kr/sparql\")\n",
    "    prefix = \"\"\"\n",
    "                PREFIX skos: <http://www.w3.org/2004/02/skos/core#>\n",
    "                PREFIX rdf: <http://www.w3.org/1999/02/22-rdf-syntax-ns#>\n",
    "                PREFIX rdfs: <http://www.w3.org/2000/01/rdf-schema#>\n",
    "                PREFIX dc: <http://purl.org/dc/elements/1.1/>\n",
    "                PREFIX owl: <http://www.w3.org/2002/07/owl#>\n",
    "                PREFIX xsd: <http://www.w3.org/2001/XMLSchema#>\n",
    "                PREFIX vi: <http://www.saltlux.com/transformer/views#>\n",
    "                PREFIX kto: <http://data.visitkorea.or.kr/ontology/>\n",
    "                PREFIX ktop: <http://data.visitkorea.or.kr/property/>\n",
    "                PREFIX ids: <http://data.visitkorea.or.kr/resource/>\n",
    "                PREFIX wgs: <http://www.w3.org/2003/01/geo/wgs84_pos#>\n",
    "                PREFIX foaf: <http://xmlns.com/foaf/0.1/>\n",
    "                PREFIX geo: <http://www.saltlux.com/geo/property#>\n",
    "                PREFIX pf: <http://www.saltlux.com/DARQ/property#> \n",
    "             \"\"\"\n",
    "\n",
    "    select_state = \"\"\"\n",
    "                    SELECT * \n",
    "                    WHERE {\n",
    "                        ids:\"\"\"+str(ids)+\"\"\" a kto:Place ;\n",
    "                            rdf:type ?type .\n",
    "                        ?type rdfs:label ?type_name .\n",
    "                        FILTER langMatches( lang(?type_name), \"KO\" ) \n",
    "                    }\n",
    "                   \"\"\"\n",
    "    sparql.setQuery(prefix + select_state)\n",
    "    sparql.setReturnFormat(JSON)\n",
    "    result = sparql.query().convert()\n",
    "\n",
    "    for r in result['results']['bindings']:\n",
    "        type_list.append(r['type_name']['value'])\n",
    "    \n",
    "    return type_list"
   ]
  },
  {
   "cell_type": "code",
   "execution_count": 309,
   "metadata": {},
   "outputs": [],
   "source": [
    "test_df['type'] = ''\n",
    "for idx, row in test_df.iterrows():\n",
    "    type_list = getType(row['ids'])\n",
    "\n",
    "    test_df.loc[idx, 'type'] = ','.join(type_list)  "
   ]
  },
  {
   "cell_type": "code",
   "execution_count": 311,
   "metadata": {},
   "outputs": [
    {
     "name": "stdout",
     "output_type": "stream",
     "text": [
      "<class 'pandas.core.frame.DataFrame'>\n",
      "RangeIndex: 1358 entries, 0 to 1357\n",
      "Data columns (total 7 columns):\n",
      " #   Column       Non-Null Count  Dtype \n",
      "---  ------       --------------  ----- \n",
      " 0   ids          1358 non-null   object\n",
      " 1   name         1358 non-null   object\n",
      " 2   category     1358 non-null   object\n",
      " 3   description  1358 non-null   object\n",
      " 4   address      1358 non-null   object\n",
      " 5   img          1358 non-null   object\n",
      " 6   type         1358 non-null   object\n",
      "dtypes: object(7)\n",
      "memory usage: 74.4+ KB\n"
     ]
    }
   ],
   "source": [
    "test_df.info()"
   ]
  },
  {
   "cell_type": "markdown",
   "metadata": {},
   "source": [
    "- 주소가 제주도인 경우 모두 DataFrame로 추출 : 총 1358개\n",
    "- 이미지가 없는 경우 459개, 있는 경우 899개"
   ]
  },
  {
   "cell_type": "code",
   "execution_count": 324,
   "metadata": {},
   "outputs": [
    {
     "data": {
      "text/plain": [
       "True     899\n",
       "False    459\n",
       "Name: img, dtype: int64"
      ]
     },
     "execution_count": 324,
     "metadata": {},
     "output_type": "execute_result"
    }
   ],
   "source": [
    "(test_df['img'] != '').value_counts()"
   ]
  },
  {
   "cell_type": "markdown",
   "metadata": {},
   "source": [
    "- 데이터 저장"
   ]
  },
  {
   "cell_type": "code",
   "execution_count": 325,
   "metadata": {},
   "outputs": [],
   "source": [
    "# test_df.to_excel('./data/220110/한국관광공사_LOD_제주도.xlsx')"
   ]
  },
  {
   "cell_type": "markdown",
   "metadata": {},
   "source": [
    "### - 관광 / 숙박 분리"
   ]
  },
  {
   "cell_type": "markdown",
   "metadata": {},
   "source": [
    "- 관광 / 숙박은 카테고리상 차이가 나기 때문에 분리해주도록 한다."
   ]
  },
  {
   "cell_type": "markdown",
   "metadata": {},
   "source": [
    "#### 1. 데이터 확인"
   ]
  },
  {
   "cell_type": "markdown",
   "metadata": {},
   "source": [
    "- 필터링1 버전으로 실행\n",
    "- 필터링2는 레저/스포츠 부분만 전처리를 진행하였기 때문에 관광/숙박 시설은 필터링1과 동일"
   ]
  },
  {
   "cell_type": "code",
   "execution_count": null,
   "metadata": {},
   "outputs": [
    {
     "data": {
      "text/html": [
       "<div>\n",
       "<style scoped>\n",
       "    .dataframe tbody tr th:only-of-type {\n",
       "        vertical-align: middle;\n",
       "    }\n",
       "\n",
       "    .dataframe tbody tr th {\n",
       "        vertical-align: top;\n",
       "    }\n",
       "\n",
       "    .dataframe thead th {\n",
       "        text-align: right;\n",
       "    }\n",
       "</style>\n",
       "<table border=\"1\" class=\"dataframe\">\n",
       "  <thead>\n",
       "    <tr style=\"text-align: right;\">\n",
       "      <th></th>\n",
       "      <th>위치좌표 X축값</th>\n",
       "      <th>위치좌표 Y축값</th>\n",
       "      <th>구분</th>\n",
       "      <th>장소명</th>\n",
       "      <th>소재지</th>\n",
       "    </tr>\n",
       "  </thead>\n",
       "  <tbody>\n",
       "    <tr>\n",
       "      <th>0</th>\n",
       "      <td>126.495979</td>\n",
       "      <td>33.486592</td>\n",
       "      <td>관광/숙박</td>\n",
       "      <td>코리아나호텔</td>\n",
       "      <td>제주특별자치도 제주시 연동 303-10</td>\n",
       "    </tr>\n",
       "    <tr>\n",
       "      <th>1</th>\n",
       "      <td>126.385364</td>\n",
       "      <td>33.470809</td>\n",
       "      <td>관광/숙박</td>\n",
       "      <td>수산유원지</td>\n",
       "      <td>제주특별자치도 제주시 애월읍 수산리 1918</td>\n",
       "    </tr>\n",
       "    <tr>\n",
       "      <th>2</th>\n",
       "      <td>126.771241</td>\n",
       "      <td>33.529109</td>\n",
       "      <td>관광/숙박</td>\n",
       "      <td>만장굴</td>\n",
       "      <td>제주특별자치도 제주시 구좌읍 월정리 41</td>\n",
       "    </tr>\n",
       "    <tr>\n",
       "      <th>3</th>\n",
       "      <td>126.941753</td>\n",
       "      <td>33.458386</td>\n",
       "      <td>관광/숙박</td>\n",
       "      <td>성산일출봉</td>\n",
       "      <td>제주특별자치도 서귀포시 성산읍 신천리 114</td>\n",
       "    </tr>\n",
       "    <tr>\n",
       "      <th>4</th>\n",
       "      <td>126.394439</td>\n",
       "      <td>33.408524</td>\n",
       "      <td>관광/숙박</td>\n",
       "      <td>제주경마공원</td>\n",
       "      <td>제주특별자치도 제주시 애월읍 소길리 1206</td>\n",
       "    </tr>\n",
       "  </tbody>\n",
       "</table>\n",
       "</div>"
      ],
      "text/plain": [
       "    위치좌표 X축값   위치좌표 Y축값      구분     장소명                       소재지\n",
       "0  126.495979  33.486592  관광/숙박  코리아나호텔     제주특별자치도 제주시 연동 303-10\n",
       "1  126.385364  33.470809  관광/숙박   수산유원지  제주특별자치도 제주시 애월읍 수산리 1918\n",
       "2  126.771241  33.529109  관광/숙박     만장굴    제주특별자치도 제주시 구좌읍 월정리 41\n",
       "3  126.941753  33.458386  관광/숙박   성산일출봉  제주특별자치도 서귀포시 성산읍 신천리 114\n",
       "4  126.394439  33.408524  관광/숙박  제주경마공원  제주특별자치도 제주시 애월읍 소길리 1206"
      ]
     },
     "metadata": {},
     "output_type": "display_data"
    }
   ],
   "source": [
    "import pandas as pd\n",
    "\n",
    "df = pd.read_excel('./data/제주도 장소(POI) - 필터링1.xlsx')\n",
    "df.head()"
   ]
  },
  {
   "cell_type": "code",
   "execution_count": null,
   "metadata": {},
   "outputs": [
    {
     "name": "stdout",
     "output_type": "stream",
     "text": [
      "<class 'pandas.core.frame.DataFrame'>\n",
      "RangeIndex: 7466 entries, 0 to 7465\n",
      "Data columns (total 5 columns):\n",
      " #   Column     Non-Null Count  Dtype  \n",
      "---  ------     --------------  -----  \n",
      " 0   위치좌표 X축값   7466 non-null   float64\n",
      " 1   위치좌표 Y축값   7466 non-null   float64\n",
      " 2   구분         7466 non-null   object \n",
      " 3   장소명        7466 non-null   object \n",
      " 4   소재지        7466 non-null   object \n",
      "dtypes: float64(2), object(3)\n",
      "memory usage: 291.8+ KB\n"
     ]
    }
   ],
   "source": [
    "df.info()"
   ]
  },
  {
   "cell_type": "markdown",
   "metadata": {},
   "source": [
    "- 구분 컬럼으로 카운트 확인"
   ]
  },
  {
   "cell_type": "code",
   "execution_count": null,
   "metadata": {},
   "outputs": [
    {
     "data": {
      "text/plain": [
       "array(['관광/숙박', '문화/종교/예술', '공원/산/동.식물원', '레져/스포츠'], dtype=object)"
      ]
     },
     "metadata": {},
     "output_type": "display_data"
    }
   ],
   "source": [
    "df['구분'].unique()"
   ]
  },
  {
   "cell_type": "code",
   "execution_count": null,
   "metadata": {},
   "outputs": [
    {
     "data": {
      "text/plain": [
       "관광/숙박         4621\n",
       "레져/스포츠        2230\n",
       "문화/종교/예술       347\n",
       "공원/산/동.식물원     268\n",
       "Name: 구분, dtype: int64"
      ]
     },
     "metadata": {},
     "output_type": "display_data"
    }
   ],
   "source": [
    "df['구분'].value_counts()"
   ]
  },
  {
   "cell_type": "markdown",
   "metadata": {},
   "source": [
    "#### 2. 관광 / 숙박 : 숙박 시설 확인"
   ]
  },
  {
   "cell_type": "markdown",
   "metadata": {},
   "source": [
    "- 관광/숙박 컬럼 선택"
   ]
  },
  {
   "cell_type": "code",
   "execution_count": null,
   "metadata": {},
   "outputs": [
    {
     "data": {
      "text/html": [
       "<div>\n",
       "<style scoped>\n",
       "    .dataframe tbody tr th:only-of-type {\n",
       "        vertical-align: middle;\n",
       "    }\n",
       "\n",
       "    .dataframe tbody tr th {\n",
       "        vertical-align: top;\n",
       "    }\n",
       "\n",
       "    .dataframe thead th {\n",
       "        text-align: right;\n",
       "    }\n",
       "</style>\n",
       "<table border=\"1\" class=\"dataframe\">\n",
       "  <thead>\n",
       "    <tr style=\"text-align: right;\">\n",
       "      <th></th>\n",
       "      <th>위치좌표 X축값</th>\n",
       "      <th>위치좌표 Y축값</th>\n",
       "      <th>구분</th>\n",
       "      <th>장소명</th>\n",
       "      <th>소재지</th>\n",
       "    </tr>\n",
       "  </thead>\n",
       "  <tbody>\n",
       "    <tr>\n",
       "      <th>0</th>\n",
       "      <td>126.495979</td>\n",
       "      <td>33.486592</td>\n",
       "      <td>관광/숙박</td>\n",
       "      <td>코리아나호텔</td>\n",
       "      <td>제주특별자치도 제주시 연동 303-10</td>\n",
       "    </tr>\n",
       "    <tr>\n",
       "      <th>1</th>\n",
       "      <td>126.385364</td>\n",
       "      <td>33.470809</td>\n",
       "      <td>관광/숙박</td>\n",
       "      <td>수산유원지</td>\n",
       "      <td>제주특별자치도 제주시 애월읍 수산리 1918</td>\n",
       "    </tr>\n",
       "    <tr>\n",
       "      <th>2</th>\n",
       "      <td>126.771241</td>\n",
       "      <td>33.529109</td>\n",
       "      <td>관광/숙박</td>\n",
       "      <td>만장굴</td>\n",
       "      <td>제주특별자치도 제주시 구좌읍 월정리 41</td>\n",
       "    </tr>\n",
       "    <tr>\n",
       "      <th>3</th>\n",
       "      <td>126.941753</td>\n",
       "      <td>33.458386</td>\n",
       "      <td>관광/숙박</td>\n",
       "      <td>성산일출봉</td>\n",
       "      <td>제주특별자치도 서귀포시 성산읍 신천리 114</td>\n",
       "    </tr>\n",
       "    <tr>\n",
       "      <th>4</th>\n",
       "      <td>126.394439</td>\n",
       "      <td>33.408524</td>\n",
       "      <td>관광/숙박</td>\n",
       "      <td>제주경마공원</td>\n",
       "      <td>제주특별자치도 제주시 애월읍 소길리 1206</td>\n",
       "    </tr>\n",
       "  </tbody>\n",
       "</table>\n",
       "</div>"
      ],
      "text/plain": [
       "    위치좌표 X축값   위치좌표 Y축값      구분     장소명                       소재지\n",
       "0  126.495979  33.486592  관광/숙박  코리아나호텔     제주특별자치도 제주시 연동 303-10\n",
       "1  126.385364  33.470809  관광/숙박   수산유원지  제주특별자치도 제주시 애월읍 수산리 1918\n",
       "2  126.771241  33.529109  관광/숙박     만장굴    제주특별자치도 제주시 구좌읍 월정리 41\n",
       "3  126.941753  33.458386  관광/숙박   성산일출봉  제주특별자치도 서귀포시 성산읍 신천리 114\n",
       "4  126.394439  33.408524  관광/숙박  제주경마공원  제주특별자치도 제주시 애월읍 소길리 1206"
      ]
     },
     "metadata": {},
     "output_type": "display_data"
    }
   ],
   "source": [
    "# all = df.query('구분 == \"관광/숙박\"')\n",
    "all = df[df['구분'] == '관광/숙박']\n",
    "all.head()"
   ]
  },
  {
   "cell_type": "code",
   "execution_count": null,
   "metadata": {},
   "outputs": [
    {
     "name": "stdout",
     "output_type": "stream",
     "text": [
      "<class 'pandas.core.frame.DataFrame'>\n",
      "Int64Index: 4621 entries, 0 to 7465\n",
      "Data columns (total 5 columns):\n",
      " #   Column     Non-Null Count  Dtype  \n",
      "---  ------     --------------  -----  \n",
      " 0   위치좌표 X축값   4621 non-null   float64\n",
      " 1   위치좌표 Y축값   4621 non-null   float64\n",
      " 2   구분         4621 non-null   object \n",
      " 3   장소명        4621 non-null   object \n",
      " 4   소재지        4621 non-null   object \n",
      "dtypes: float64(2), object(3)\n",
      "memory usage: 216.6+ KB\n"
     ]
    }
   ],
   "source": [
    "all.info()"
   ]
  },
  {
   "cell_type": "markdown",
   "metadata": {},
   "source": [
    "- 숙박 시설 확인\n",
    "  - '호텔', '민박', '모텔', '여관', '리조트', '펜션', '여인숙', '별장', '팬션', '콘도', '호스텔', '하우스'\n",
    "  - '--텔'로 끝나는 경우\n",
    "  - 2480개"
   ]
  },
  {
   "cell_type": "code",
   "execution_count": null,
   "metadata": {},
   "outputs": [],
   "source": [
    "accommodations = ['호텔', '민박', '모텔', '여관', '리조트', '펜션', '여인숙', '별장', '팬션', '콘도', '호스텔', '하우스']\n",
    "\n",
    "accommodation_df = all.query(f'장소명.str.contains(\"{\"|\".join(accommodations)}\") or 장소명.str.endswith(\"텔\")', engine='python').copy()"
   ]
  },
  {
   "cell_type": "markdown",
   "metadata": {},
   "source": [
    "- 숙박 시설 DataFrame"
   ]
  },
  {
   "cell_type": "code",
   "execution_count": null,
   "metadata": {},
   "outputs": [
    {
     "name": "stdout",
     "output_type": "stream",
     "text": [
      "<class 'pandas.core.frame.DataFrame'>\n",
      "Int64Index: 2480 entries, 0 to 7465\n",
      "Data columns (total 5 columns):\n",
      " #   Column     Non-Null Count  Dtype  \n",
      "---  ------     --------------  -----  \n",
      " 0   위치좌표 X축값   2480 non-null   float64\n",
      " 1   위치좌표 Y축값   2480 non-null   float64\n",
      " 2   구분         2480 non-null   object \n",
      " 3   장소명        2480 non-null   object \n",
      " 4   소재지        2480 non-null   object \n",
      "dtypes: float64(2), object(3)\n",
      "memory usage: 116.2+ KB\n"
     ]
    }
   ],
   "source": [
    "accommodation_df.info()"
   ]
  },
  {
   "cell_type": "code",
   "execution_count": null,
   "metadata": {},
   "outputs": [
    {
     "data": {
      "text/plain": [
       "2388"
      ]
     },
     "metadata": {},
     "output_type": "display_data"
    }
   ],
   "source": [
    "len(accommodation_df['장소명'].unique())"
   ]
  },
  {
   "cell_type": "code",
   "execution_count": null,
   "metadata": {},
   "outputs": [],
   "source": [
    "# accommodation_df.to_excel('./accomodation.xlsx')"
   ]
  },
  {
   "cell_type": "markdown",
   "metadata": {},
   "source": [
    "#### 3. 관광 / 숙박 : 관광 시설 확인"
   ]
  },
  {
   "cell_type": "markdown",
   "metadata": {},
   "source": [
    "- 숙박 시설의 인덱스를 제거하여 관광 시설 판별"
   ]
  },
  {
   "cell_type": "code",
   "execution_count": null,
   "metadata": {},
   "outputs": [
    {
     "name": "stdout",
     "output_type": "stream",
     "text": [
      "<class 'pandas.core.frame.DataFrame'>\n",
      "Int64Index: 2141 entries, 1 to 7454\n",
      "Data columns (total 5 columns):\n",
      " #   Column     Non-Null Count  Dtype  \n",
      "---  ------     --------------  -----  \n",
      " 0   위치좌표 X축값   2141 non-null   float64\n",
      " 1   위치좌표 Y축값   2141 non-null   float64\n",
      " 2   구분         2141 non-null   object \n",
      " 3   장소명        2141 non-null   object \n",
      " 4   소재지        2141 non-null   object \n",
      "dtypes: float64(2), object(3)\n",
      "memory usage: 100.4+ KB\n"
     ]
    }
   ],
   "source": [
    "tourism_df = all.drop(accommodation_df.index, axis=0).copy()\n",
    "tourism_df.info()"
   ]
  },
  {
   "cell_type": "code",
   "execution_count": null,
   "metadata": {},
   "outputs": [
    {
     "data": {
      "text/plain": [
       "2067"
      ]
     },
     "metadata": {},
     "output_type": "display_data"
    }
   ],
   "source": [
    "len(tourism_df['장소명'].unique())"
   ]
  },
  {
   "cell_type": "code",
   "execution_count": null,
   "metadata": {},
   "outputs": [],
   "source": [
    "# tourism_df.to_excel('tourism.xlsx')"
   ]
  },
  {
   "cell_type": "markdown",
   "metadata": {},
   "source": [
    "#### 4. 관광 / 숙박 : 관광 시설 추가 관찰"
   ]
  },
  {
   "cell_type": "markdown",
   "metadata": {},
   "source": [
    "- 엑셀을 이용해 직접 확인"
   ]
  },
  {
   "cell_type": "markdown",
   "metadata": {},
   "source": [
    "### - 중복 좌표 처리"
   ]
  },
  {
   "cell_type": "markdown",
   "metadata": {},
   "source": [
    "#### 1. 데이터 확인"
   ]
  },
  {
   "cell_type": "markdown",
   "metadata": {},
   "source": [
    "- 필터링2 버전으로 실행\n",
    "- 같은 좌표가 2개 이상인 경우만 추가하여 확인"
   ]
  },
  {
   "cell_type": "code",
   "execution_count": 1,
   "metadata": {},
   "outputs": [
    {
     "data": {
      "text/html": [
       "<div>\n",
       "<style scoped>\n",
       "    .dataframe tbody tr th:only-of-type {\n",
       "        vertical-align: middle;\n",
       "    }\n",
       "\n",
       "    .dataframe tbody tr th {\n",
       "        vertical-align: top;\n",
       "    }\n",
       "\n",
       "    .dataframe thead th {\n",
       "        text-align: right;\n",
       "    }\n",
       "</style>\n",
       "<table border=\"1\" class=\"dataframe\">\n",
       "  <thead>\n",
       "    <tr style=\"text-align: right;\">\n",
       "      <th></th>\n",
       "      <th>위치좌표 X축값</th>\n",
       "      <th>위치좌표 Y축값</th>\n",
       "      <th>구분</th>\n",
       "      <th>장소명</th>\n",
       "      <th>소재지</th>\n",
       "    </tr>\n",
       "  </thead>\n",
       "  <tbody>\n",
       "    <tr>\n",
       "      <th>0</th>\n",
       "      <td>126.495979</td>\n",
       "      <td>33.486592</td>\n",
       "      <td>관광/숙박</td>\n",
       "      <td>코리아나호텔</td>\n",
       "      <td>제주특별자치도 제주시 연동 303-10</td>\n",
       "    </tr>\n",
       "    <tr>\n",
       "      <th>1</th>\n",
       "      <td>126.385364</td>\n",
       "      <td>33.470809</td>\n",
       "      <td>관광/숙박</td>\n",
       "      <td>수산유원지</td>\n",
       "      <td>제주특별자치도 제주시 애월읍 수산리 1918</td>\n",
       "    </tr>\n",
       "    <tr>\n",
       "      <th>2</th>\n",
       "      <td>126.771241</td>\n",
       "      <td>33.529109</td>\n",
       "      <td>관광/숙박</td>\n",
       "      <td>만장굴</td>\n",
       "      <td>제주특별자치도 제주시 구좌읍 월정리 41</td>\n",
       "    </tr>\n",
       "    <tr>\n",
       "      <th>3</th>\n",
       "      <td>126.941753</td>\n",
       "      <td>33.458386</td>\n",
       "      <td>관광/숙박</td>\n",
       "      <td>성산일출봉</td>\n",
       "      <td>제주특별자치도 서귀포시 성산읍 신천리 114</td>\n",
       "    </tr>\n",
       "    <tr>\n",
       "      <th>4</th>\n",
       "      <td>126.394439</td>\n",
       "      <td>33.408524</td>\n",
       "      <td>관광/숙박</td>\n",
       "      <td>제주경마공원</td>\n",
       "      <td>제주특별자치도 제주시 애월읍 소길리 1206</td>\n",
       "    </tr>\n",
       "  </tbody>\n",
       "</table>\n",
       "</div>"
      ],
      "text/plain": [
       "    위치좌표 X축값   위치좌표 Y축값      구분     장소명                       소재지\n",
       "0  126.495979  33.486592  관광/숙박  코리아나호텔     제주특별자치도 제주시 연동 303-10\n",
       "1  126.385364  33.470809  관광/숙박   수산유원지  제주특별자치도 제주시 애월읍 수산리 1918\n",
       "2  126.771241  33.529109  관광/숙박     만장굴    제주특별자치도 제주시 구좌읍 월정리 41\n",
       "3  126.941753  33.458386  관광/숙박   성산일출봉  제주특별자치도 서귀포시 성산읍 신천리 114\n",
       "4  126.394439  33.408524  관광/숙박  제주경마공원  제주특별자치도 제주시 애월읍 소길리 1206"
      ]
     },
     "execution_count": 1,
     "metadata": {},
     "output_type": "execute_result"
    }
   ],
   "source": [
    "import pandas as pd\n",
    "\n",
    "df = pd.read_excel('./data/제주도 장소(POI) - 필터링2.xlsx')\n",
    "df.head()"
   ]
  },
  {
   "cell_type": "code",
   "execution_count": 2,
   "metadata": {},
   "outputs": [
    {
     "name": "stdout",
     "output_type": "stream",
     "text": [
      "<class 'pandas.core.frame.DataFrame'>\n",
      "RangeIndex: 6510 entries, 0 to 6509\n",
      "Data columns (total 5 columns):\n",
      " #   Column     Non-Null Count  Dtype  \n",
      "---  ------     --------------  -----  \n",
      " 0   위치좌표 X축값   6510 non-null   float64\n",
      " 1   위치좌표 Y축값   6510 non-null   float64\n",
      " 2   구분         6510 non-null   object \n",
      " 3   장소명        6510 non-null   object \n",
      " 4   소재지        6510 non-null   object \n",
      "dtypes: float64(2), object(3)\n",
      "memory usage: 254.4+ KB\n"
     ]
    }
   ],
   "source": [
    "df.info()"
   ]
  },
  {
   "cell_type": "code",
   "execution_count": 3,
   "metadata": {},
   "outputs": [
    {
     "data": {
      "text/plain": [
       "Index(['위치좌표 X축값 ', '위치좌표 Y축값 ', '구분', '장소명', '소재지'], dtype='object')"
      ]
     },
     "execution_count": 3,
     "metadata": {},
     "output_type": "execute_result"
    }
   ],
   "source": [
    "df.columns"
   ]
  },
  {
   "cell_type": "code",
   "execution_count": 4,
   "metadata": {},
   "outputs": [],
   "source": [
    "include_index = []      # 탐색한 좌표\n",
    "duplicate_index = []    # 중복 좌표\n",
    "\n",
    "for idx, row in df.iterrows():\n",
    "    # 중복 좌표가 아닌 경우 탐색\n",
    "    if idx not in include_index:\n",
    "        # 중복 좌표의 인덱스 확인\n",
    "        temp = list(df[((df['위치좌표 X축값 '] == row['위치좌표 X축값 ']) & (df['위치좌표 Y축값 '] == row['위치좌표 Y축값 ']))].index)\n",
    "        # 길이가 2 이상인 경우 : 중복 좌표가 존재함을 의미\n",
    "        if len(temp) >=2 :\n",
    "            include_index.extend(temp)\n",
    "            duplicate_index.append(temp)\n",
    "        # 길이가 1인 경우 : 중복 좌표가 존재하지 않음을 의미\n",
    "        else:\n",
    "            include_index.append(idx)"
   ]
  },
  {
   "cell_type": "markdown",
   "metadata": {},
   "source": [
    "- 전체 인덱스 개수"
   ]
  },
  {
   "cell_type": "code",
   "execution_count": 5,
   "metadata": {},
   "outputs": [
    {
     "data": {
      "text/plain": [
       "6510"
      ]
     },
     "execution_count": 5,
     "metadata": {},
     "output_type": "execute_result"
    }
   ],
   "source": [
    "len(include_index)"
   ]
  },
  {
   "cell_type": "markdown",
   "metadata": {},
   "source": [
    "- 중복 좌표 개수"
   ]
  },
  {
   "cell_type": "code",
   "execution_count": 6,
   "metadata": {},
   "outputs": [
    {
     "data": {
      "text/plain": [
       "1073"
      ]
     },
     "execution_count": 6,
     "metadata": {},
     "output_type": "execute_result"
    }
   ],
   "source": [
    "len(duplicate_index)"
   ]
  },
  {
   "cell_type": "markdown",
   "metadata": {},
   "source": [
    "#### 2. 중복 좌표 삭제"
   ]
  },
  {
   "cell_type": "code",
   "execution_count": 7,
   "metadata": {},
   "outputs": [],
   "source": [
    "total = 0\n",
    "names = {}\n",
    "for idx, index_list in enumerate(duplicate_index, start=1):\n",
    "    total += len(index_list)    # 중복 좌표의 개수 확인\n",
    "    names[index_list[0]] = []   # 중복 좌표의 다른 이름 추가\n",
    "    for idx2, index in enumerate(index_list):\n",
    "        if idx2 != 0:\n",
    "            # 다른 이름 추가\n",
    "            names[index_list[0]].append(df.loc[index, '장소명'])\n",
    "            # 행 삭제\n",
    "            df.drop(index, axis=0, inplace=True)"
   ]
  },
  {
   "cell_type": "markdown",
   "metadata": {},
   "source": [
    "- 전체 중복 좌표 수"
   ]
  },
  {
   "cell_type": "code",
   "execution_count": 8,
   "metadata": {},
   "outputs": [
    {
     "data": {
      "text/plain": [
       "2634"
      ]
     },
     "execution_count": 8,
     "metadata": {},
     "output_type": "execute_result"
    }
   ],
   "source": [
    "total"
   ]
  },
  {
   "cell_type": "markdown",
   "metadata": {},
   "source": [
    "- 삭제한 행의 수"
   ]
  },
  {
   "cell_type": "code",
   "execution_count": 9,
   "metadata": {},
   "outputs": [
    {
     "data": {
      "text/plain": [
       "1561"
      ]
     },
     "execution_count": 9,
     "metadata": {},
     "output_type": "execute_result"
    }
   ],
   "source": [
    "total - len(duplicate_index)"
   ]
  },
  {
   "cell_type": "markdown",
   "metadata": {},
   "source": [
    "- 중복 컬럼 삭제 후 정보"
   ]
  },
  {
   "cell_type": "code",
   "execution_count": 10,
   "metadata": {},
   "outputs": [
    {
     "name": "stdout",
     "output_type": "stream",
     "text": [
      "<class 'pandas.core.frame.DataFrame'>\n",
      "Int64Index: 4949 entries, 0 to 6431\n",
      "Data columns (total 5 columns):\n",
      " #   Column     Non-Null Count  Dtype  \n",
      "---  ------     --------------  -----  \n",
      " 0   위치좌표 X축값   4949 non-null   float64\n",
      " 1   위치좌표 Y축값   4949 non-null   float64\n",
      " 2   구분         4949 non-null   object \n",
      " 3   장소명        4949 non-null   object \n",
      " 4   소재지        4949 non-null   object \n",
      "dtypes: float64(2), object(3)\n",
      "memory usage: 232.0+ KB\n"
     ]
    }
   ],
   "source": [
    "df.info()"
   ]
  },
  {
   "cell_type": "code",
   "execution_count": 11,
   "metadata": {},
   "outputs": [
    {
     "data": {
      "text/plain": [
       "관광/숙박         3701\n",
       "레져/스포츠         805\n",
       "문화/종교/예술       234\n",
       "공원/산/동.식물원     209\n",
       "Name: 구분, dtype: int64"
      ]
     },
     "execution_count": 11,
     "metadata": {},
     "output_type": "execute_result"
    }
   ],
   "source": [
    "df['구분'].value_counts()"
   ]
  },
  {
   "cell_type": "code",
   "execution_count": 12,
   "metadata": {},
   "outputs": [],
   "source": [
    "# 추가 이름 컬럼 생성\n",
    "# 중복 좌표의 '이름' 추가, 없을 경우 '.'으로 표현\n",
    "df['Additional_Name'] = '.'\n",
    "for idx, value in names.items():\n",
    "    df.loc[idx, 'Additional_Name'] = ','.join(value)"
   ]
  },
  {
   "cell_type": "code",
   "execution_count": 13,
   "metadata": {},
   "outputs": [
    {
     "data": {
      "text/html": [
       "<div>\n",
       "<style scoped>\n",
       "    .dataframe tbody tr th:only-of-type {\n",
       "        vertical-align: middle;\n",
       "    }\n",
       "\n",
       "    .dataframe tbody tr th {\n",
       "        vertical-align: top;\n",
       "    }\n",
       "\n",
       "    .dataframe thead th {\n",
       "        text-align: right;\n",
       "    }\n",
       "</style>\n",
       "<table border=\"1\" class=\"dataframe\">\n",
       "  <thead>\n",
       "    <tr style=\"text-align: right;\">\n",
       "      <th></th>\n",
       "      <th>위치좌표 X축값</th>\n",
       "      <th>위치좌표 Y축값</th>\n",
       "      <th>구분</th>\n",
       "      <th>장소명</th>\n",
       "      <th>소재지</th>\n",
       "      <th>Additional_Name</th>\n",
       "    </tr>\n",
       "  </thead>\n",
       "  <tbody>\n",
       "    <tr>\n",
       "      <th>0</th>\n",
       "      <td>126.495979</td>\n",
       "      <td>33.486592</td>\n",
       "      <td>관광/숙박</td>\n",
       "      <td>코리아나호텔</td>\n",
       "      <td>제주특별자치도 제주시 연동 303-10</td>\n",
       "      <td>.</td>\n",
       "    </tr>\n",
       "    <tr>\n",
       "      <th>1</th>\n",
       "      <td>126.385364</td>\n",
       "      <td>33.470809</td>\n",
       "      <td>관광/숙박</td>\n",
       "      <td>수산유원지</td>\n",
       "      <td>제주특별자치도 제주시 애월읍 수산리 1918</td>\n",
       "      <td>.</td>\n",
       "    </tr>\n",
       "    <tr>\n",
       "      <th>2</th>\n",
       "      <td>126.771241</td>\n",
       "      <td>33.529109</td>\n",
       "      <td>관광/숙박</td>\n",
       "      <td>만장굴</td>\n",
       "      <td>제주특별자치도 제주시 구좌읍 월정리 41</td>\n",
       "      <td>(거문오름용암동굴계)만장굴,(제주화산섬과용암동굴)만장굴</td>\n",
       "    </tr>\n",
       "    <tr>\n",
       "      <th>3</th>\n",
       "      <td>126.941753</td>\n",
       "      <td>33.458386</td>\n",
       "      <td>관광/숙박</td>\n",
       "      <td>성산일출봉</td>\n",
       "      <td>제주특별자치도 서귀포시 성산읍 신천리 114</td>\n",
       "      <td>일출봉,(제주화산섬과용암동굴)성산일출봉</td>\n",
       "    </tr>\n",
       "    <tr>\n",
       "      <th>4</th>\n",
       "      <td>126.394439</td>\n",
       "      <td>33.408524</td>\n",
       "      <td>관광/숙박</td>\n",
       "      <td>제주경마공원</td>\n",
       "      <td>제주특별자치도 제주시 애월읍 소길리 1206</td>\n",
       "      <td>경마공원,제주경마장</td>\n",
       "    </tr>\n",
       "  </tbody>\n",
       "</table>\n",
       "</div>"
      ],
      "text/plain": [
       "    위치좌표 X축값   위치좌표 Y축값      구분     장소명                       소재지  \\\n",
       "0  126.495979  33.486592  관광/숙박  코리아나호텔     제주특별자치도 제주시 연동 303-10   \n",
       "1  126.385364  33.470809  관광/숙박   수산유원지  제주특별자치도 제주시 애월읍 수산리 1918   \n",
       "2  126.771241  33.529109  관광/숙박     만장굴    제주특별자치도 제주시 구좌읍 월정리 41   \n",
       "3  126.941753  33.458386  관광/숙박   성산일출봉  제주특별자치도 서귀포시 성산읍 신천리 114   \n",
       "4  126.394439  33.408524  관광/숙박  제주경마공원  제주특별자치도 제주시 애월읍 소길리 1206   \n",
       "\n",
       "                  Additional_Name  \n",
       "0                               .  \n",
       "1                               .  \n",
       "2  (거문오름용암동굴계)만장굴,(제주화산섬과용암동굴)만장굴  \n",
       "3           일출봉,(제주화산섬과용암동굴)성산일출봉  \n",
       "4                      경마공원,제주경마장  "
      ]
     },
     "execution_count": 13,
     "metadata": {},
     "output_type": "execute_result"
    }
   ],
   "source": [
    "df.head()"
   ]
  },
  {
   "cell_type": "markdown",
   "metadata": {},
   "source": [
    "- 중복 좌표 삭제"
   ]
  },
  {
   "cell_type": "code",
   "execution_count": null,
   "metadata": {},
   "outputs": [],
   "source": [
    "# df.to_excel('./data/제주도 장소(POI) - 필터링3.xlsx')"
   ]
  },
  {
   "cell_type": "markdown",
   "metadata": {},
   "source": [
    "### - 데이터 분리(구분)"
   ]
  },
  {
   "cell_type": "markdown",
   "metadata": {},
   "source": [
    "- 필터링3 활용\n",
    "- 구분 컬럼별로 데이터를 분리하여 저장"
   ]
  },
  {
   "cell_type": "code",
   "execution_count": 13,
   "metadata": {},
   "outputs": [
    {
     "data": {
      "text/html": [
       "<div>\n",
       "<style scoped>\n",
       "    .dataframe tbody tr th:only-of-type {\n",
       "        vertical-align: middle;\n",
       "    }\n",
       "\n",
       "    .dataframe tbody tr th {\n",
       "        vertical-align: top;\n",
       "    }\n",
       "\n",
       "    .dataframe thead th {\n",
       "        text-align: right;\n",
       "    }\n",
       "</style>\n",
       "<table border=\"1\" class=\"dataframe\">\n",
       "  <thead>\n",
       "    <tr style=\"text-align: right;\">\n",
       "      <th></th>\n",
       "      <th>위치좌표 X축값</th>\n",
       "      <th>위치좌표 Y축값</th>\n",
       "      <th>구분</th>\n",
       "      <th>장소명</th>\n",
       "      <th>소재지</th>\n",
       "      <th>Additional_Name</th>\n",
       "    </tr>\n",
       "  </thead>\n",
       "  <tbody>\n",
       "    <tr>\n",
       "      <th>0</th>\n",
       "      <td>126.495979</td>\n",
       "      <td>33.486592</td>\n",
       "      <td>관광/숙박</td>\n",
       "      <td>코리아나호텔</td>\n",
       "      <td>제주특별자치도 제주시 연동 303-10</td>\n",
       "      <td>.</td>\n",
       "    </tr>\n",
       "    <tr>\n",
       "      <th>1</th>\n",
       "      <td>126.385364</td>\n",
       "      <td>33.470809</td>\n",
       "      <td>관광/숙박</td>\n",
       "      <td>수산유원지</td>\n",
       "      <td>제주특별자치도 제주시 애월읍 수산리 1918</td>\n",
       "      <td>.</td>\n",
       "    </tr>\n",
       "  </tbody>\n",
       "</table>\n",
       "</div>"
      ],
      "text/plain": [
       "    위치좌표 X축값   위치좌표 Y축값      구분     장소명                       소재지  \\\n",
       "0  126.495979  33.486592  관광/숙박  코리아나호텔     제주특별자치도 제주시 연동 303-10   \n",
       "1  126.385364  33.470809  관광/숙박   수산유원지  제주특별자치도 제주시 애월읍 수산리 1918   \n",
       "\n",
       "  Additional_Name  \n",
       "0               .  \n",
       "1               .  "
      ]
     },
     "execution_count": 13,
     "metadata": {},
     "output_type": "execute_result"
    }
   ],
   "source": [
    "import pandas as pd\n",
    "\n",
    "df_poi = pd.read_excel(\"./data/제주도 장소(POI) - 필터링3.xlsx\", index_col=0)\n",
    "df_poi.head(2)"
   ]
  },
  {
   "cell_type": "code",
   "execution_count": 24,
   "metadata": {},
   "outputs": [
    {
     "data": {
      "text/plain": [
       "array(['관광/숙박', '문화/종교/예술', '공원/산/동.식물원', '레져/스포츠'], dtype=object)"
      ]
     },
     "execution_count": 24,
     "metadata": {},
     "output_type": "execute_result"
    }
   ],
   "source": [
    "df_poi['구분'].unique()"
   ]
  },
  {
   "cell_type": "code",
   "execution_count": 26,
   "metadata": {},
   "outputs": [],
   "source": [
    "df_poi['구분'].unique()\n",
    "for kind in df_poi['구분'].unique():\n",
    "    df_poi[df_poi['구분'] == kind].to_excel('''./data/220110/POI_{}.xlsx'''.format(kind.replace('/', '_')))"
   ]
  },
  {
   "cell_type": "markdown",
   "metadata": {},
   "source": [
    "### - 데이터 확인"
   ]
  },
  {
   "cell_type": "markdown",
   "metadata": {},
   "source": [
    "#### 1. 각 엑셀 데이터 확인"
   ]
  },
  {
   "cell_type": "markdown",
   "metadata": {},
   "source": [
    "- 장소 정보1"
   ]
  },
  {
   "cell_type": "code",
   "execution_count": 21,
   "metadata": {},
   "outputs": [],
   "source": [
    "import pandas as pd\n",
    "\n",
    "park_df = pd.read_excel('./data/220110/네이버 API 결과 추가/공원_장소처리.xlsx')\n",
    "tour_df = pd.read_excel('./data/220110/네이버 API 결과 추가/관광지_장소처리.xlsx')\n",
    "culture_df = pd.read_excel('./data/220110/네이버 API 결과 추가/문화예술_장소처리.xlsx')\n",
    "accom_df = pd.read_excel('./data/220110/네이버 API 결과 추가/숙박_장소처리.xlsx')\n",
    "leisure_df = pd.read_excel('./data/220110/네이버 API 결과 추가/레저_스포츠_장소처리.xlsx')"
   ]
  },
  {
   "cell_type": "code",
   "execution_count": 24,
   "metadata": {},
   "outputs": [
    {
     "name": "stdout",
     "output_type": "stream",
     "text": [
      "(159, 9) (1208, 9) (160, 9) (1301, 9) (540, 9)\n",
      "3368\n"
     ]
    }
   ],
   "source": [
    "print(park_df.shape, tour_df.shape, culture_df.shape, accom_df.shape, leisure_df.shape)\n",
    "print(sum([park_df.shape[0], tour_df.shape[0], culture_df.shape[0], accom_df.shape[0], leisure_df.shape[0]]))"
   ]
  },
  {
   "cell_type": "markdown",
   "metadata": {},
   "source": [
    "#### 2. 각 POI 정보 결합"
   ]
  },
  {
   "cell_type": "markdown",
   "metadata": {},
   "source": [
    "- 장소 정보2\n",
    "  - 각 엑셀 데이터 결합"
   ]
  },
  {
   "cell_type": "code",
   "execution_count": 29,
   "metadata": {},
   "outputs": [
    {
     "name": "stdout",
     "output_type": "stream",
     "text": [
      "<class 'pandas.core.frame.DataFrame'>\n",
      "RangeIndex: 3368 entries, 0 to 3367\n",
      "Data columns (total 6 columns):\n",
      " #   Column           Non-Null Count  Dtype  \n",
      "---  ------           --------------  -----  \n",
      " 0   위치좌표 X축값         3368 non-null   float64\n",
      " 1   위치좌표 Y축값         3368 non-null   float64\n",
      " 2   구분               3368 non-null   object \n",
      " 3   장소명              3368 non-null   object \n",
      " 4   소재지              3368 non-null   object \n",
      " 5   Additional_Name  3368 non-null   object \n",
      "dtypes: float64(2), object(4)\n",
      "memory usage: 158.0+ KB\n"
     ]
    }
   ],
   "source": [
    "import pandas as pd\n",
    "\n",
    "poi_df = pd.read_excel('./data/220111/POI_장소처리.xlsx')\n",
    "poi_df.info()"
   ]
  },
  {
   "cell_type": "markdown",
   "metadata": {},
   "source": [
    "#### 3. 식당 데이터"
   ]
  },
  {
   "cell_type": "markdown",
   "metadata": {},
   "source": [
    "- 식당 정보"
   ]
  },
  {
   "cell_type": "code",
   "execution_count": 27,
   "metadata": {},
   "outputs": [
    {
     "data": {
      "text/plain": [
       "(20096, 39)"
      ]
     },
     "execution_count": 27,
     "metadata": {},
     "output_type": "execute_result"
    }
   ],
   "source": [
    "restaurant_df = pd.read_excel('./data/식당/제주도 식당 정보_전체.xlsx')\n",
    "restaurant_df.shape"
   ]
  },
  {
   "cell_type": "code",
   "execution_count": 28,
   "metadata": {},
   "outputs": [
    {
     "data": {
      "text/plain": [
       "Index(['상가업소번호', '상호명', '지점명', '상권업종대분류코드', '상권업종대분류명', '상권업종중분류코드',\n",
       "       '상권업종중분류명', '상권업종소분류코드', '상권업종소분류명', '표준산업분류코드', '표준산업분류명', '시도코드',\n",
       "       '시도명', '시군구코드', '시군구명', '행정동코드', '행정동명', '법정동코드', '법정동명', '지번코드',\n",
       "       '대지구분코드', '대지구분명', '지번본번지', '지번부번지', '지번주소', '도로명코드', '도로명', '건물본번지',\n",
       "       '건물부번지', '건물관리번호', '건물명', '도로명주소', '구우편번호', '신우편번호', '동정보', '층정보',\n",
       "       '호정보', '경도', '위도'],\n",
       "      dtype='object')"
      ]
     },
     "execution_count": 28,
     "metadata": {},
     "output_type": "execute_result"
    }
   ],
   "source": [
    "restaurant_df.columns"
   ]
  },
  {
   "cell_type": "markdown",
   "metadata": {},
   "source": [
    "### - 레져/스포츠 필요없는 데이터 삭제"
   ]
  },
  {
   "cell_type": "markdown",
   "metadata": {},
   "source": [
    "#### 1. 필요없는 장소 삭제"
   ]
  },
  {
   "cell_type": "markdown",
   "metadata": {},
   "source": [
    "- ['헬스', '휘트니스', '리조트', '연수원', '당구', '탁구', '볼링', '수련', '체육', '교육원', '테니스', '대피소', '주차장', '매표소', '요가', '게이트볼', '유도', '학교', '수양', '훈련', '휴게소', '사무소', '악지소'] 데이터 삭제"
   ]
  },
  {
   "cell_type": "code",
   "execution_count": 30,
   "metadata": {},
   "outputs": [],
   "source": [
    "import pandas as pd\n",
    "\n",
    "poi_df = pd.read_excel('./data/220111/POI_장소처리.xlsx')"
   ]
  },
  {
   "cell_type": "code",
   "execution_count": 40,
   "metadata": {},
   "outputs": [
    {
     "name": "stdout",
     "output_type": "stream",
     "text": [
      "<class 'pandas.core.frame.DataFrame'>\n",
      "RangeIndex: 3368 entries, 0 to 3367\n",
      "Data columns (total 6 columns):\n",
      " #   Column           Non-Null Count  Dtype  \n",
      "---  ------           --------------  -----  \n",
      " 0   위치좌표 X축값         3368 non-null   float64\n",
      " 1   위치좌표 Y축값         3368 non-null   float64\n",
      " 2   구분               3368 non-null   object \n",
      " 3   장소명              3368 non-null   object \n",
      " 4   소재지              3368 non-null   object \n",
      " 5   Additional_Name  3368 non-null   object \n",
      "dtypes: float64(2), object(4)\n",
      "memory usage: 158.0+ KB\n"
     ]
    }
   ],
   "source": [
    "poi_df.info()"
   ]
  },
  {
   "cell_type": "code",
   "execution_count": 31,
   "metadata": {},
   "outputs": [
    {
     "data": {
      "text/plain": [
       "array(['공원/산/동.식물원', '관광지', '레져/스포츠', '문화/종교/예술', '숙박'], dtype=object)"
      ]
     },
     "execution_count": 31,
     "metadata": {},
     "output_type": "execute_result"
    }
   ],
   "source": [
    "poi_df['구분'].unique()"
   ]
  },
  {
   "cell_type": "code",
   "execution_count": 39,
   "metadata": {},
   "outputs": [
    {
     "data": {
      "text/plain": [
       "178"
      ]
     },
     "execution_count": 39,
     "metadata": {},
     "output_type": "execute_result"
    }
   ],
   "source": [
    "leisure = ['헬스', '휘트니스', '리조트', '연수원', '당구', '탁구', '볼링', '수련', '체육', '교육원', '테니스', '대피소', '주차장', '매표소', '요가', '게이트볼', '유도', '학교', '수양', '훈련', '휴게소', '사무소', '악지소']\n",
    "leisure_df = poi_df.query('구분 == \"레져/스포츠\"')\n",
    "drop_index = leisure_df.query(f'장소명.str.contains(\"{\"|\".join(leisure)}\")', engine='python').index\n",
    "len(drop_index)"
   ]
  },
  {
   "cell_type": "code",
   "execution_count": 41,
   "metadata": {},
   "outputs": [],
   "source": [
    "poi_df.drop(drop_index, axis=0, inplace=True)\n",
    "poi_df.reset_index(drop=True, inplace=True)"
   ]
  },
  {
   "cell_type": "code",
   "execution_count": 42,
   "metadata": {},
   "outputs": [
    {
     "name": "stdout",
     "output_type": "stream",
     "text": [
      "<class 'pandas.core.frame.DataFrame'>\n",
      "RangeIndex: 3190 entries, 0 to 3189\n",
      "Data columns (total 6 columns):\n",
      " #   Column           Non-Null Count  Dtype  \n",
      "---  ------           --------------  -----  \n",
      " 0   위치좌표 X축값         3190 non-null   float64\n",
      " 1   위치좌표 Y축값         3190 non-null   float64\n",
      " 2   구분               3190 non-null   object \n",
      " 3   장소명              3190 non-null   object \n",
      " 4   소재지              3190 non-null   object \n",
      " 5   Additional_Name  3190 non-null   object \n",
      "dtypes: float64(2), object(4)\n",
      "memory usage: 149.7+ KB\n"
     ]
    }
   ],
   "source": [
    "poi_df.info()"
   ]
  },
  {
   "cell_type": "code",
   "execution_count": 43,
   "metadata": {},
   "outputs": [],
   "source": [
    "# poi_df.to_excel('./data/220111/POI_장소처리2.xlsx', index=False)"
   ]
  },
  {
   "cell_type": "markdown",
   "metadata": {},
   "source": [
    "#### 2. 중복 장소 삭제"
   ]
  },
  {
   "cell_type": "markdown",
   "metadata": {},
   "source": [
    "- 엑셀을 통해 직접 눈으로 보며 같은 장소이면서 좌표가 다른 경우 삭제"
   ]
  },
  {
   "cell_type": "code",
   "execution_count": 45,
   "metadata": {},
   "outputs": [],
   "source": [
    "import pandas as pd\n",
    "\n",
    "poi_df3 = pd.read_excel('./data/220111/POI_장소처리3.xlsx')"
   ]
  },
  {
   "cell_type": "code",
   "execution_count": 46,
   "metadata": {},
   "outputs": [
    {
     "name": "stdout",
     "output_type": "stream",
     "text": [
      "<class 'pandas.core.frame.DataFrame'>\n",
      "RangeIndex: 3068 entries, 0 to 3067\n",
      "Data columns (total 6 columns):\n",
      " #   Column           Non-Null Count  Dtype  \n",
      "---  ------           --------------  -----  \n",
      " 0   위치좌표 X축값         3068 non-null   float64\n",
      " 1   위치좌표 Y축값         3068 non-null   float64\n",
      " 2   구분               3068 non-null   object \n",
      " 3   장소명              3068 non-null   object \n",
      " 4   소재지              3068 non-null   object \n",
      " 5   Additional_Name  3068 non-null   object \n",
      "dtypes: float64(2), object(4)\n",
      "memory usage: 143.9+ KB\n"
     ]
    }
   ],
   "source": [
    "poi_df3.info()"
   ]
  },
  {
   "cell_type": "markdown",
   "metadata": {},
   "source": [
    "### - 필요없는 데이터 삭제"
   ]
  },
  {
   "cell_type": "markdown",
   "metadata": {},
   "source": [
    "- 문화/종교/예술, 공원/산/동.식물원, 숙박, 관광지 데이터 중 필요없는 데이터 삭제\n",
    "  - 같은 장소이지만 경도, 위도가 다른 경우\n",
    "  - 관광지가 아닌 경우 (ex) 놀이터(어린이 공원), 동네 운동장 등"
   ]
  },
  {
   "cell_type": "markdown",
   "metadata": {},
   "source": [
    "### - ㅇ"
   ]
  }
 ],
 "metadata": {
  "interpreter": {
   "hash": "51b46dc78c05e2d39b28ced298f5e3e2fec06f080b2991ae6dc0981efed4b363"
  },
  "kernelspec": {
   "display_name": "Python 3.8.11 64-bit ('ds_study(38)': conda)",
   "language": "python",
   "name": "python3"
  },
  "language_info": {
   "codemirror_mode": {
    "name": "ipython",
    "version": 3
   },
   "file_extension": ".py",
   "mimetype": "text/x-python",
   "name": "python",
   "nbconvert_exporter": "python",
   "pygments_lexer": "ipython3",
   "version": "3.8.11"
  },
  "orig_nbformat": 4
 },
 "nbformat": 4,
 "nbformat_minor": 2
}
