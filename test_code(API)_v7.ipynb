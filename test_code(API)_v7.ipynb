{
 "cells": [
  {
   "cell_type": "markdown",
   "metadata": {},
   "source": [
    "### - 카카오 API(키워드 검색) : 데이터 획득"
   ]
  },
  {
   "cell_type": "markdown",
   "metadata": {},
   "source": [
    "- 키워드 검색\n",
    "  - 질의어를 통해 장소 검색 결과 반환\n",
    "  - category_group_name, category_name, place_url\n",
    "- 키워드 장소 검색 : 일간 100,000건\n",
    "- 검색 키워드 선정\n",
    "  - 분위기 좋은, 감성적인, 오션뷰, 가족여행, 조용한, 맛집, 핫플레이스, 휴식/힐링, 화려한, 커플여행, 경치, 재미있는, 친구여행, 레포츠, 체험, 관람, 테마파크\n",
    "- 검색할 카테고리 선정\n",
    "  - CT1(문화시설), AT4(관광명소), FD6(음식점), CE7(카페), AD5(숙박)\n",
    "- 법정동·리 별로 검색 : <a href = 'https://ko.wikipedia.org/wiki/%EC%A0%9C%EC%A3%BC%EC%8B%9C%EC%9D%98_%ED%96%89%EC%A0%95_%EA%B5%AC%EC%97%AD' target='_blink'>위키백과</a>"
   ]
  },
  {
   "cell_type": "markdown",
   "metadata": {},
   "source": [
    "#### 1. 키워드, 카테고리 선정"
   ]
  },
  {
   "cell_type": "code",
   "execution_count": null,
   "metadata": {},
   "outputs": [],
   "source": [
    "keywords = ['분위기 좋은', '감성', '오션뷰', '가족여행', '조용한', '맛집', '핫플레이스', \n",
    "            '휴식', '화려한', '커플여행', '경치', '재미있는', '친구여행', '레포츠', \n",
    "            '체험', '관람', '테마파크']\n",
    "categorys = ['CT1', 'AT4', 'FD6', 'CE7']\n",
    "categorys_info = {'CT1' : '문화시설', 'AT4' : '관광명소', 'FD6' : '음식점', 'CE7' : '카페'}"
   ]
  },
  {
   "cell_type": "code",
   "execution_count": null,
   "metadata": {},
   "outputs": [
    {
     "data": {
      "text/html": [
       "<div>\n",
       "<style scoped>\n",
       "    .dataframe tbody tr th:only-of-type {\n",
       "        vertical-align: middle;\n",
       "    }\n",
       "\n",
       "    .dataframe tbody tr th {\n",
       "        vertical-align: top;\n",
       "    }\n",
       "\n",
       "    .dataframe thead th {\n",
       "        text-align: right;\n",
       "    }\n",
       "</style>\n",
       "<table border=\"1\" class=\"dataframe\">\n",
       "  <thead>\n",
       "    <tr style=\"text-align: right;\">\n",
       "      <th></th>\n",
       "      <th>이름</th>\n",
       "      <th>한자</th>\n",
       "      <th>인구</th>\n",
       "      <th>면적</th>\n",
       "      <th>법정동_리</th>\n",
       "    </tr>\n",
       "  </thead>\n",
       "  <tbody>\n",
       "    <tr>\n",
       "      <th>0</th>\n",
       "      <td>애월읍</td>\n",
       "      <td>涯月邑</td>\n",
       "      <td>31790</td>\n",
       "      <td>202.16</td>\n",
       "      <td>고내리,고성리,곽지리,광령리,구엄리,금성리,남읍리,봉성리,상가리,상귀리,소길리,수산...</td>\n",
       "    </tr>\n",
       "    <tr>\n",
       "      <th>1</th>\n",
       "      <td>조천읍</td>\n",
       "      <td>朝天邑</td>\n",
       "      <td>21547</td>\n",
       "      <td>150.64</td>\n",
       "      <td>교래리,대흘리,북촌리,선흘리,신촌리,신흥리,와산리,와흘리,조천리,함덕리</td>\n",
       "    </tr>\n",
       "    <tr>\n",
       "      <th>2</th>\n",
       "      <td>한림읍</td>\n",
       "      <td>翰林邑</td>\n",
       "      <td>23143</td>\n",
       "      <td>91.09</td>\n",
       "      <td>귀덕리,금능리,금악리,대림리,동명리,명월리,상대리,상명리,수원리,옹포리,월령리,월림...</td>\n",
       "    </tr>\n",
       "    <tr>\n",
       "      <th>3</th>\n",
       "      <td>구좌읍</td>\n",
       "      <td>舊左邑</td>\n",
       "      <td>15216</td>\n",
       "      <td>185.93</td>\n",
       "      <td>김녕리,덕천리,동복리,상도리,세화리,송당리,월정리,종달리,평대리,하도리,한동리,행원리</td>\n",
       "    </tr>\n",
       "    <tr>\n",
       "      <th>4</th>\n",
       "      <td>한경면</td>\n",
       "      <td>翰京面</td>\n",
       "      <td>8775</td>\n",
       "      <td>79.03</td>\n",
       "      <td>고산리,금등리,낙천리,두모리,신창리,용수리,저지리,조수리,청수리,판포리</td>\n",
       "    </tr>\n",
       "  </tbody>\n",
       "</table>\n",
       "</div>"
      ],
      "text/plain": [
       "    이름   한자     인구      면적                                              법정동_리\n",
       "0  애월읍  涯月邑  31790  202.16  고내리,고성리,곽지리,광령리,구엄리,금성리,남읍리,봉성리,상가리,상귀리,소길리,수산...\n",
       "1  조천읍  朝天邑  21547  150.64            교래리,대흘리,북촌리,선흘리,신촌리,신흥리,와산리,와흘리,조천리,함덕리\n",
       "2  한림읍  翰林邑  23143   91.09  귀덕리,금능리,금악리,대림리,동명리,명월리,상대리,상명리,수원리,옹포리,월령리,월림...\n",
       "3  구좌읍  舊左邑  15216  185.93    김녕리,덕천리,동복리,상도리,세화리,송당리,월정리,종달리,평대리,하도리,한동리,행원리\n",
       "4  한경면  翰京面   8775   79.03            고산리,금등리,낙천리,두모리,신창리,용수리,저지리,조수리,청수리,판포리"
      ]
     },
     "metadata": {},
     "output_type": "display_data"
    }
   ],
   "source": [
    "import pandas as pd\n",
    "\n",
    "jeju_range = pd.read_excel('./data/220113/제주도_법정동_리.xlsx')\n",
    "jeju_range.head()"
   ]
  },
  {
   "cell_type": "code",
   "execution_count": null,
   "metadata": {},
   "outputs": [
    {
     "data": {
      "text/plain": [
       "['고내리', '고성리', '곽지리', '광령리', '구엄리']"
      ]
     },
     "metadata": {},
     "output_type": "display_data"
    }
   ],
   "source": [
    "jeju_range['법정동_리'][0].split(',')[:5]"
   ]
  },
  {
   "cell_type": "markdown",
   "metadata": {},
   "source": [
    "#### 2. 데이터 획득 테스트"
   ]
  },
  {
   "cell_type": "markdown",
   "metadata": {},
   "source": [
    "- 카테고리, 키워드, 법정동_리를 이용해 기본 데이터 획득"
   ]
  },
  {
   "cell_type": "code",
   "execution_count": null,
   "metadata": {},
   "outputs": [
    {
     "data": {
      "text/plain": [
       "200"
      ]
     },
     "metadata": {},
     "output_type": "display_data"
    }
   ],
   "source": [
    "import json\n",
    "import requests\n",
    "# REST 키\n",
    "rest_api_key = ''\n",
    "# 헤더\n",
    "headers = {\"Authorization\" : \"KakaoAK {}\".format(rest_api_key)}\n",
    "# 파라미터\n",
    "params = {\"query\" : \"도련2동\", \"page\" : 1}\n",
    "url = \"https://dapi.kakao.com/v2/local/search/keyword.json\"\n",
    "\n",
    "# GET을 이용하여 획득\n",
    "res = requests.get(url, headers=headers, params=params)\n",
    "# Json을 이용하여 해제\n",
    "doc = json.loads(res.text)\n",
    "# 200일 경우 정상\n",
    "res.status_code"
   ]
  },
  {
   "cell_type": "code",
   "execution_count": null,
   "metadata": {},
   "outputs": [
    {
     "data": {
      "text/plain": [
       "{'documents': [{'address_name': '제주특별자치도 제주시 도련이동',\n",
       "   'category_group_code': '',\n",
       "   'category_group_name': '',\n",
       "   'category_name': '여행 > 관광,명소 > 하천',\n",
       "   'distance': '',\n",
       "   'id': '8050463',\n",
       "   'phone': '',\n",
       "   'place_name': '음나물내',\n",
       "   'place_url': 'http://place.map.kakao.com/8050463',\n",
       "   'road_address_name': '',\n",
       "   'x': '126.597220145304',\n",
       "   'y': '33.5145202456339'},\n",
       "  {'address_name': '제주특별자치도 제주시 도련이동 568-1',\n",
       "   'category_group_code': '',\n",
       "   'category_group_name': '',\n",
       "   'category_name': '교통,수송 > 자동차 > 자동차검사소',\n",
       "   'distance': '',\n",
       "   'id': '8195545',\n",
       "   'phone': '064-723-3114',\n",
       "   'place_name': '한국교통안전공단 제주검사소',\n",
       "   'place_url': 'http://place.map.kakao.com/8195545',\n",
       "   'road_address_name': '제주특별자치도 제주시 삼봉로 79',\n",
       "   'x': '126.58952788804208',\n",
       "   'y': '33.514228124535926'},\n",
       "  {'address_name': '제주특별자치도 제주시 도련이동 548',\n",
       "   'category_group_code': '',\n",
       "   'category_group_name': '',\n",
       "   'category_name': '부동산 > 주거시설 > 아파트',\n",
       "   'distance': '',\n",
       "   'id': '18710150',\n",
       "   'phone': '',\n",
       "   'place_name': '제주삼화사랑으로부영1차아파트',\n",
       "   'place_url': 'http://place.map.kakao.com/18710150',\n",
       "   'road_address_name': '제주특별자치도 제주시 화삼북로 136',\n",
       "   'x': '126.58745519626575',\n",
       "   'y': '33.516428338973505'},\n",
       "  {'address_name': '제주특별자치도 제주시 도련이동 568-1',\n",
       "   'category_group_code': '',\n",
       "   'category_group_name': '',\n",
       "   'category_name': '사회,공공기관 > 공사,공단 > 한국교통안전공단',\n",
       "   'distance': '',\n",
       "   'id': '21692001',\n",
       "   'phone': '064-723-3111',\n",
       "   'place_name': '한국교통안전공단 제주본부',\n",
       "   'place_url': 'http://place.map.kakao.com/21692001',\n",
       "   'road_address_name': '제주특별자치도 제주시 삼봉로 79',\n",
       "   'x': '126.589527360104',\n",
       "   'y': '33.5143399203468'},\n",
       "  {'address_name': '제주특별자치도 제주시 도련이동 579-9',\n",
       "   'category_group_code': 'CS2',\n",
       "   'category_group_name': '편의점',\n",
       "   'category_name': '가정,생활 > 편의점 > CU',\n",
       "   'distance': '',\n",
       "   'id': '19200784',\n",
       "   'phone': '',\n",
       "   'place_name': 'CU 제주도련사거리점',\n",
       "   'place_url': 'http://place.map.kakao.com/19200784',\n",
       "   'road_address_name': '제주특별자치도 제주시 연삼로 978',\n",
       "   'x': '126.58957503855',\n",
       "   'y': '33.5151839695183'},\n",
       "  {'address_name': '제주특별자치도 제주시 도련이동 550',\n",
       "   'category_group_code': '',\n",
       "   'category_group_name': '',\n",
       "   'category_name': '부동산 > 주거시설 > 아파트',\n",
       "   'distance': '',\n",
       "   'id': '27295745',\n",
       "   'phone': '',\n",
       "   'place_name': '제주삼화LH3단지아파트',\n",
       "   'place_url': 'http://place.map.kakao.com/27295745',\n",
       "   'road_address_name': '제주특별자치도 제주시 화삼로 110',\n",
       "   'x': '126.58651955371637',\n",
       "   'y': '33.51445253411716'},\n",
       "  {'address_name': '제주특별자치도 제주시 도련이동 550',\n",
       "   'category_group_code': 'CS2',\n",
       "   'category_group_name': '편의점',\n",
       "   'category_name': '가정,생활 > 편의점 > GS25',\n",
       "   'distance': '',\n",
       "   'id': '27499636',\n",
       "   'phone': '',\n",
       "   'place_name': 'GS25 삼화LH점',\n",
       "   'place_url': 'http://place.map.kakao.com/27499636',\n",
       "   'road_address_name': '제주특별자치도 제주시 화삼로 110',\n",
       "   'x': '126.584904288002',\n",
       "   'y': '33.5141622287769'},\n",
       "  {'address_name': '제주특별자치도 제주시 도련이동 387-1',\n",
       "   'category_group_code': '',\n",
       "   'category_group_name': '',\n",
       "   'category_name': '가정,생활 > 가구판매 > 리바트',\n",
       "   'distance': '',\n",
       "   'id': '18235221',\n",
       "   'phone': '064-758-0065',\n",
       "   'place_name': '리바트네오스 동서가구',\n",
       "   'place_url': 'http://place.map.kakao.com/18235221',\n",
       "   'road_address_name': '제주특별자치도 제주시 매촌동길 89',\n",
       "   'x': '126.5974534702079',\n",
       "   'y': '33.517128412023624'},\n",
       "  {'address_name': '제주특별자치도 제주시 도련이동 611-1',\n",
       "   'category_group_code': '',\n",
       "   'category_group_name': '',\n",
       "   'category_name': '교통,수송 > 자동차 > 자동차정비',\n",
       "   'distance': '',\n",
       "   'id': '2065697136',\n",
       "   'phone': '064-804-0911',\n",
       "   'place_name': '포르쉐 서비스센터 제주',\n",
       "   'place_url': 'http://place.map.kakao.com/2065697136',\n",
       "   'road_address_name': '제주특별자치도 제주시 연삼로 993',\n",
       "   'x': '126.590454850215',\n",
       "   'y': '33.5162327293009'},\n",
       "  {'address_name': '제주특별자치도 제주시 도련이동 387-1',\n",
       "   'category_group_code': '',\n",
       "   'category_group_name': '',\n",
       "   'category_name': '가정,생활 > 가구판매 > 리바트',\n",
       "   'distance': '',\n",
       "   'id': '26825284',\n",
       "   'phone': '064-711-1774',\n",
       "   'place_name': '리바트 신제주대리점',\n",
       "   'place_url': 'http://place.map.kakao.com/26825284',\n",
       "   'road_address_name': '제주특별자치도 제주시 매촌동길 89',\n",
       "   'x': '126.59746199311789',\n",
       "   'y': '33.51713214286978'},\n",
       "  {'address_name': '제주특별자치도 제주시 도련이동 619-1',\n",
       "   'category_group_code': '',\n",
       "   'category_group_name': '',\n",
       "   'category_name': '가정,생활 > 세탁소 > 셀프빨래방 > 더런드리',\n",
       "   'distance': '',\n",
       "   'id': '350984755',\n",
       "   'phone': '010-8585-3134',\n",
       "   'place_name': '더런드리 제주삼화점',\n",
       "   'place_url': 'http://place.map.kakao.com/350984755',\n",
       "   'road_address_name': '제주특별자치도 제주시 연삼로 990',\n",
       "   'x': '126.59064207182',\n",
       "   'y': '33.515560759724'},\n",
       "  {'address_name': '제주특별자치도 제주시 도련이동 619-1',\n",
       "   'category_group_code': '',\n",
       "   'category_group_name': '',\n",
       "   'category_name': '교통,수송 > 자동차 > 세차장 > 셀프세차장',\n",
       "   'distance': '',\n",
       "   'id': '2091037446',\n",
       "   'phone': '',\n",
       "   'place_name': '셀세모 셀스퀘어점',\n",
       "   'place_url': 'http://place.map.kakao.com/2091037446',\n",
       "   'road_address_name': '제주특별자치도 제주시 연삼로 990',\n",
       "   'x': '126.590636605244',\n",
       "   'y': '33.515578773521'},\n",
       "  {'address_name': '제주특별자치도 제주시 도련이동 387-1',\n",
       "   'category_group_code': '',\n",
       "   'category_group_name': '',\n",
       "   'category_name': '가정,생활 > 가구판매',\n",
       "   'distance': '',\n",
       "   'id': '16268037',\n",
       "   'phone': '064-758-0027',\n",
       "   'place_name': '동서가구 제주점',\n",
       "   'place_url': 'http://place.map.kakao.com/16268037',\n",
       "   'road_address_name': '제주특별자치도 제주시 매촌동길 89',\n",
       "   'x': '126.59746330351186',\n",
       "   'y': '33.517096888217225'},\n",
       "  {'address_name': '제주특별자치도 제주시 도련이동',\n",
       "   'category_group_code': '',\n",
       "   'category_group_name': '',\n",
       "   'category_name': '교통,수송 > 도로시설 > 교차로',\n",
       "   'distance': '',\n",
       "   'id': '10309762',\n",
       "   'phone': '',\n",
       "   'place_name': '도련사거리',\n",
       "   'place_url': 'http://place.map.kakao.com/10309762',\n",
       "   'road_address_name': '',\n",
       "   'x': '126.588848517359',\n",
       "   'y': '33.5149543588511'},\n",
       "  {'address_name': '제주특별자치도 제주시 도련이동 631-1',\n",
       "   'category_group_code': '',\n",
       "   'category_group_name': '',\n",
       "   'category_name': '교통,수송 > 자동차 > 썬팅,광택 > 루마썬팅',\n",
       "   'distance': '',\n",
       "   'id': '1792280949',\n",
       "   'phone': '010-2226-0904',\n",
       "   'place_name': '루마버텍스 제주도련점',\n",
       "   'place_url': 'http://place.map.kakao.com/1792280949',\n",
       "   'road_address_name': '제주특별자치도 제주시 매촌2길 1',\n",
       "   'x': '126.589931766076',\n",
       "   'y': '33.5153149803066'}],\n",
       " 'meta': {'is_end': False,\n",
       "  'pageable_count': 45,\n",
       "  'same_name': {'keyword': '', 'region': [], 'selected_region': '제주 제주시 도련이동'},\n",
       "  'total_count': 144}}"
      ]
     },
     "metadata": {},
     "output_type": "display_data"
    }
   ],
   "source": [
    "# 결과(Dict형으로 표현)\n",
    "doc"
   ]
  },
  {
   "cell_type": "markdown",
   "metadata": {},
   "source": [
    "#### 3. 셀레니움, 뷰티풀수프 데이터 추가 테스트"
   ]
  },
  {
   "cell_type": "markdown",
   "metadata": {},
   "source": [
    "- 평점, 이미지, 호텔등급 등 데이터 추가"
   ]
  },
  {
   "cell_type": "code",
   "execution_count": null,
   "metadata": {},
   "outputs": [],
   "source": [
    "import json\n",
    "import requests\n",
    "from selenium import webdriver\n",
    "from selenium.webdriver.common.keys import Keys\n",
    "\n",
    "driver = webdriver.Chrome('./driver/chromedriver.exe')\n",
    "driver.get(\"https://place.map.kakao.com/7862728\")"
   ]
  },
  {
   "cell_type": "markdown",
   "metadata": {},
   "source": [
    "- 평점 : #mArticle > div.cont_essential > div:nth-child(1) > div.place_details > div > div > a:nth-child(3) > span.color_b\n",
    "- 호텔등급 : span.txt_location\n",
    "- 이미지는 태그가 다른 경우가 있어 2가지로 생각\n",
    "  - 더 많을 수도 있으므로 확인 필요\n",
    "  - 이미지1 : #mArticle > div.cont_photo.no_category > div.photo_area > ul > li.size_l > a\n",
    "  - 이미지2 : #mArticle > div.cont_photo > div.photo_area > ul > li.size_l > a"
   ]
  },
  {
   "cell_type": "code",
   "execution_count": null,
   "metadata": {},
   "outputs": [],
   "source": [
    "try:\n",
    "    rate = driver.find_element_by_css_selector('''#mArticle > div.cont_essential > div:nth-child(1) > div.place_details > div > div > a:nth-child(3) > span.color_b''')\n",
    "except:\n",
    "    rate = False\n",
    "try:\n",
    "    hotel = driver.find_element_by_css_selector('''span.txt_location''')\n",
    "except:\n",
    "    hotel = False\n",
    "try :\n",
    "    image = driver.find_element_by_css_selector('''#mArticle > div.cont_photo.no_category > div.photo_area > ul > li.size_l > a''')\n",
    "except:\n",
    "    try:\n",
    "        image = driver.find_element_by_css_selector('''#mArticle > div.cont_photo > div.photo_area > ul > li.size_l > a''')\n",
    "    except:\n",
    "        image = False"
   ]
  },
  {
   "cell_type": "code",
   "execution_count": null,
   "metadata": {},
   "outputs": [
    {
     "name": "stdout",
     "output_type": "stream",
     "text": [
      "4.2\n",
      "특급호텔\n",
      "https://img1.kakaocdn.net/relay/local/R640x320/?fname=http%3A%2F%2Ft1.daumcdn.net%2Fcfile%2F174835514DB4C9FF2F\n"
     ]
    }
   ],
   "source": [
    "print(rate.text)\n",
    "print(hotel.text)\n",
    "if image:\n",
    "    image = 'https:'+image.get_attribute('style')[23:-3]\n",
    "print(image)"
   ]
  },
  {
   "cell_type": "code",
   "execution_count": null,
   "metadata": {},
   "outputs": [],
   "source": [
    "response = requests.get(image)\n",
    "name = '_test'\n",
    "# 이름 내에 슬래시('/')가 있으면 디렉터리로 인식하므로\n",
    "# replace를 통해 변경해준다.\n",
    "if '/' in name:\n",
    "    name = name.replace('/', '-')\n",
    "with open(\"{}.png\".format(name), \"wb\") as f:\n",
    "    f.write(response.content)"
   ]
  },
  {
   "cell_type": "code",
   "execution_count": null,
   "metadata": {},
   "outputs": [],
   "source": [
    "driver.quit()"
   ]
  },
  {
   "cell_type": "markdown",
   "metadata": {},
   "source": [
    "#### 4. 데이터 획득"
   ]
  },
  {
   "cell_type": "markdown",
   "metadata": {},
   "source": [
    "- 카카오 API(키워드 검색) JSON 형식\n",
    "  - 'documents' : ['address_name', 'category_group_code', 'category_group_name', 'category_name', 'distance', 'id', 'phone', 'place_name', 'place_url', 'road_address_name', 'x', 'y']\n",
    "  - 'meta' : ['is_end', 'pageable_count', 'same_name', 'total_count']"
   ]
  },
  {
   "cell_type": "markdown",
   "metadata": {},
   "source": [
    "---\n",
    "**중복을 제거한 후 관광지 등의 데이터가 너무 부족하여 키워드를 재설정하여 크롤링 시행**  \n",
    "- 아래 코드는 결과가 부족하게 나왔지만 진행상황을 보기위해 남겨두었음.\n",
    "---\n"
   ]
  },
  {
   "cell_type": "markdown",
   "metadata": {},
   "source": [
    "##### ◽카테고리, 키워드, 지역 변수"
   ]
  },
  {
   "cell_type": "code",
   "execution_count": null,
   "metadata": {},
   "outputs": [],
   "source": [
    "keywords = ['분위기 좋은', '감성', '오션뷰', '가족여행', '조용한', '맛집', '핫플레이스', \n",
    "            '휴식', '화려한', '커플여행', '경치', '재미있는', '친구여행', '레포츠', \n",
    "            '체험', '관람', '테마파크']\n",
    "categorys = ['CT1', 'AT4', 'FD6', 'CE7']\n",
    "categorys_info = {'CT1' : '문화시설', 'AT4' : '관광명소', 'FD6' : '음식점', 'CE7' : '카페'}"
   ]
  },
  {
   "cell_type": "code",
   "execution_count": null,
   "metadata": {},
   "outputs": [
    {
     "data": {
      "text/html": [
       "<div>\n",
       "<style scoped>\n",
       "    .dataframe tbody tr th:only-of-type {\n",
       "        vertical-align: middle;\n",
       "    }\n",
       "\n",
       "    .dataframe tbody tr th {\n",
       "        vertical-align: top;\n",
       "    }\n",
       "\n",
       "    .dataframe thead th {\n",
       "        text-align: right;\n",
       "    }\n",
       "</style>\n",
       "<table border=\"1\" class=\"dataframe\">\n",
       "  <thead>\n",
       "    <tr style=\"text-align: right;\">\n",
       "      <th></th>\n",
       "      <th>이름</th>\n",
       "      <th>한자</th>\n",
       "      <th>인구</th>\n",
       "      <th>면적</th>\n",
       "      <th>법정동_리</th>\n",
       "    </tr>\n",
       "  </thead>\n",
       "  <tbody>\n",
       "    <tr>\n",
       "      <th>0</th>\n",
       "      <td>애월읍</td>\n",
       "      <td>涯月邑</td>\n",
       "      <td>31790</td>\n",
       "      <td>202.16</td>\n",
       "      <td>고내리,고성리,곽지리,광령리,구엄리,금성리,남읍리,봉성리,상가리,상귀리,소길리,수산...</td>\n",
       "    </tr>\n",
       "    <tr>\n",
       "      <th>1</th>\n",
       "      <td>조천읍</td>\n",
       "      <td>朝天邑</td>\n",
       "      <td>21547</td>\n",
       "      <td>150.64</td>\n",
       "      <td>교래리,대흘리,북촌리,선흘리,신촌리,신흥리,와산리,와흘리,조천리,함덕리</td>\n",
       "    </tr>\n",
       "    <tr>\n",
       "      <th>2</th>\n",
       "      <td>한림읍</td>\n",
       "      <td>翰林邑</td>\n",
       "      <td>23143</td>\n",
       "      <td>91.09</td>\n",
       "      <td>귀덕리,금능리,금악리,대림리,동명리,명월리,상대리,상명리,수원리,옹포리,월령리,월림...</td>\n",
       "    </tr>\n",
       "    <tr>\n",
       "      <th>3</th>\n",
       "      <td>구좌읍</td>\n",
       "      <td>舊左邑</td>\n",
       "      <td>15216</td>\n",
       "      <td>185.93</td>\n",
       "      <td>김녕리,덕천리,동복리,상도리,세화리,송당리,월정리,종달리,평대리,하도리,한동리,행원리</td>\n",
       "    </tr>\n",
       "    <tr>\n",
       "      <th>4</th>\n",
       "      <td>한경면</td>\n",
       "      <td>翰京面</td>\n",
       "      <td>8775</td>\n",
       "      <td>79.03</td>\n",
       "      <td>고산리,금등리,낙천리,두모리,신창리,용수리,저지리,조수리,청수리,판포리</td>\n",
       "    </tr>\n",
       "  </tbody>\n",
       "</table>\n",
       "</div>"
      ],
      "text/plain": [
       "    이름   한자     인구      면적                                              법정동_리\n",
       "0  애월읍  涯月邑  31790  202.16  고내리,고성리,곽지리,광령리,구엄리,금성리,남읍리,봉성리,상가리,상귀리,소길리,수산...\n",
       "1  조천읍  朝天邑  21547  150.64            교래리,대흘리,북촌리,선흘리,신촌리,신흥리,와산리,와흘리,조천리,함덕리\n",
       "2  한림읍  翰林邑  23143   91.09  귀덕리,금능리,금악리,대림리,동명리,명월리,상대리,상명리,수원리,옹포리,월령리,월림...\n",
       "3  구좌읍  舊左邑  15216  185.93    김녕리,덕천리,동복리,상도리,세화리,송당리,월정리,종달리,평대리,하도리,한동리,행원리\n",
       "4  한경면  翰京面   8775   79.03            고산리,금등리,낙천리,두모리,신창리,용수리,저지리,조수리,청수리,판포리"
      ]
     },
     "metadata": {},
     "output_type": "display_data"
    }
   ],
   "source": [
    "import pandas as pd\n",
    "\n",
    "jeju_range = pd.read_excel('./data/220113/제주도_법정동_리.xlsx')\n",
    "jeju_range.head()"
   ]
  },
  {
   "cell_type": "markdown",
   "metadata": {},
   "source": [
    "##### ◽카카오 API 활용 함수"
   ]
  },
  {
   "cell_type": "markdown",
   "metadata": {},
   "source": [
    "- (키워드, 카테고리, 법정동_리) 검색 함수"
   ]
  },
  {
   "cell_type": "code",
   "execution_count": null,
   "metadata": {},
   "outputs": [],
   "source": [
    "import json\n",
    "import requests\n",
    "\n",
    "def search_result(keyword, category, jeju_name):\n",
    "    result = []\n",
    "\n",
    "    # REST 키\n",
    "    rest_api_key = '63d0926cf9b14de298157081ba8a8d02'\n",
    "    # 헤더\n",
    "    headers = {\"Authorization\" : \"KakaoAK {}\".format(rest_api_key)}\n",
    "    # 파라미터\n",
    "    params = {\"query\" : f\"{jeju_name} {keyword}\", \"page\" : 1, \"category_group_code\" : f\"{category}\"}\n",
    "    url = \"https://dapi.kakao.com/v2/local/search/keyword.json\"\n",
    "\n",
    "    while True:\n",
    "        # GET을 이용하여 획득\n",
    "        res = requests.get(url, headers=headers, params=params)\n",
    "        if res.status_code == 200:\n",
    "            # Json을 이용하여 해제\n",
    "            doc = json.loads(res.text)\n",
    "            result.extend(doc['documents'])\n",
    "            if doc['meta']['is_end'] == True:\n",
    "                break\n",
    "            else:\n",
    "                params['page'] += 1\n",
    "    return result"
   ]
  },
  {
   "cell_type": "markdown",
   "metadata": {},
   "source": [
    "- 전체 결과 데이터 프레임 반환 함수"
   ]
  },
  {
   "cell_type": "code",
   "execution_count": null,
   "metadata": {},
   "outputs": [],
   "source": [
    "import pandas as pd\n",
    "from tqdm.notebook import tqdm\n",
    "\n",
    "def search_df():\n",
    "    results = []\n",
    "    for idx, row in tqdm(jeju_range.iterrows()):\n",
    "        for jeju in row['법정동_리'].split(','):\n",
    "            for category in categorys:\n",
    "                for key in keywords:\n",
    "                    r = pd.DataFrame(search_result(key, category, jeju))\n",
    "                    r['keyword'] = key\n",
    "                    results.append(r.copy())\n",
    "    return pd.concat(results).reset_index(drop=True)"
   ]
  },
  {
   "cell_type": "markdown",
   "metadata": {},
   "source": [
    "##### ◽카카오 API 활용 데이터 획득"
   ]
  },
  {
   "cell_type": "code",
   "execution_count": null,
   "metadata": {},
   "outputs": [
    {
     "data": {
      "application/vnd.jupyter.widget-view+json": {
       "model_id": "50636938c9bb4b408f8fd1937983d845",
       "version_major": 2,
       "version_minor": 0
      },
      "text/plain": [
       "0it [00:00, ?it/s]"
      ]
     },
     "metadata": {},
     "output_type": "display_data"
    }
   ],
   "source": [
    "jeju_poi = search_df()"
   ]
  },
  {
   "cell_type": "code",
   "execution_count": null,
   "metadata": {},
   "outputs": [],
   "source": [
    "# jeju_poi.to_excel('./data/220114/제주도_POI(API).xlsx',index=False)"
   ]
  },
  {
   "cell_type": "code",
   "execution_count": null,
   "metadata": {},
   "outputs": [
    {
     "data": {
      "text/html": [
       "<div>\n",
       "<style scoped>\n",
       "    .dataframe tbody tr th:only-of-type {\n",
       "        vertical-align: middle;\n",
       "    }\n",
       "\n",
       "    .dataframe tbody tr th {\n",
       "        vertical-align: top;\n",
       "    }\n",
       "\n",
       "    .dataframe thead th {\n",
       "        text-align: right;\n",
       "    }\n",
       "</style>\n",
       "<table border=\"1\" class=\"dataframe\">\n",
       "  <thead>\n",
       "    <tr style=\"text-align: right;\">\n",
       "      <th></th>\n",
       "      <th>keyword</th>\n",
       "      <th>address_name</th>\n",
       "      <th>category_group_code</th>\n",
       "      <th>category_group_name</th>\n",
       "      <th>category_name</th>\n",
       "      <th>distance</th>\n",
       "      <th>id</th>\n",
       "      <th>phone</th>\n",
       "      <th>place_name</th>\n",
       "      <th>place_url</th>\n",
       "      <th>road_address_name</th>\n",
       "      <th>x</th>\n",
       "      <th>y</th>\n",
       "    </tr>\n",
       "  </thead>\n",
       "  <tbody>\n",
       "    <tr>\n",
       "      <th>0</th>\n",
       "      <td>테마파크</td>\n",
       "      <td>제주특별자치도 제주시 연동 1320</td>\n",
       "      <td>CT1</td>\n",
       "      <td>문화시설</td>\n",
       "      <td>문화,예술 &gt; 문화시설 &gt; 박물관</td>\n",
       "      <td></td>\n",
       "      <td>26388484</td>\n",
       "      <td>064-742-3700</td>\n",
       "      <td>수목원테마파크 아이스뮤지엄</td>\n",
       "      <td>http://place.map.kakao.com/26388484</td>\n",
       "      <td>제주특별자치도 제주시 은수길 69</td>\n",
       "      <td>126.488397743899</td>\n",
       "      <td>33.4707773213401</td>\n",
       "    </tr>\n",
       "    <tr>\n",
       "      <th>1</th>\n",
       "      <td>테마파크</td>\n",
       "      <td>제주특별자치도 제주시 애월읍 신엄리 2880-12</td>\n",
       "      <td>AT4</td>\n",
       "      <td>관광명소</td>\n",
       "      <td>여행 &gt; 관광,명소 &gt; 테마파크</td>\n",
       "      <td></td>\n",
       "      <td>1129394481</td>\n",
       "      <td>064-748-4245</td>\n",
       "      <td>고스트타운</td>\n",
       "      <td>http://place.map.kakao.com/1129394481</td>\n",
       "      <td>제주특별자치도 제주시 애월읍 부룡수길 35-14</td>\n",
       "      <td>126.35693587972</td>\n",
       "      <td>33.4761948388957</td>\n",
       "    </tr>\n",
       "  </tbody>\n",
       "</table>\n",
       "</div>"
      ],
      "text/plain": [
       "  keyword                 address_name category_group_code  \\\n",
       "0    테마파크          제주특별자치도 제주시 연동 1320                 CT1   \n",
       "1    테마파크  제주특별자치도 제주시 애월읍 신엄리 2880-12                 AT4   \n",
       "\n",
       "  category_group_name       category_name distance          id         phone  \\\n",
       "0                문화시설  문화,예술 > 문화시설 > 박물관             26388484  064-742-3700   \n",
       "1                관광명소   여행 > 관광,명소 > 테마파크           1129394481  064-748-4245   \n",
       "\n",
       "       place_name                              place_url  \\\n",
       "0  수목원테마파크 아이스뮤지엄    http://place.map.kakao.com/26388484   \n",
       "1           고스트타운  http://place.map.kakao.com/1129394481   \n",
       "\n",
       "            road_address_name                 x                 y  \n",
       "0          제주특별자치도 제주시 은수길 69  126.488397743899  33.4707773213401  \n",
       "1  제주특별자치도 제주시 애월읍 부룡수길 35-14   126.35693587972  33.4761948388957  "
      ]
     },
     "metadata": {},
     "output_type": "display_data"
    }
   ],
   "source": [
    "jeju_poi.head(2)"
   ]
  },
  {
   "cell_type": "markdown",
   "metadata": {},
   "source": [
    "##### ◽데이터 확인(제주도_POI(API))"
   ]
  },
  {
   "cell_type": "markdown",
   "metadata": {},
   "source": [
    "- 기본 정보 확인\n",
    "  - NaN 데이터는 존재하지 않는다."
   ]
  },
  {
   "cell_type": "markdown",
   "metadata": {},
   "source": [
    "- distance 컬럼은 값이 존재하지 않음"
   ]
  },
  {
   "cell_type": "code",
   "execution_count": null,
   "metadata": {},
   "outputs": [
    {
     "name": "stdout",
     "output_type": "stream",
     "text": [
      "<class 'pandas.core.frame.DataFrame'>\n",
      "RangeIndex: 17843 entries, 0 to 17842\n",
      "Data columns (total 13 columns):\n",
      " #   Column               Non-Null Count  Dtype \n",
      "---  ------               --------------  ----- \n",
      " 0   keyword              17843 non-null  object\n",
      " 1   address_name         17843 non-null  object\n",
      " 2   category_group_code  17843 non-null  object\n",
      " 3   category_group_name  17843 non-null  object\n",
      " 4   category_name        17843 non-null  object\n",
      " 5   distance             17843 non-null  object\n",
      " 6   id                   17843 non-null  object\n",
      " 7   phone                17843 non-null  object\n",
      " 8   place_name           17843 non-null  object\n",
      " 9   place_url            17843 non-null  object\n",
      " 10  road_address_name    17843 non-null  object\n",
      " 11  x                    17843 non-null  object\n",
      " 12  y                    17843 non-null  object\n",
      "dtypes: object(13)\n",
      "memory usage: 1.8+ MB\n"
     ]
    }
   ],
   "source": [
    "jeju_poi.info()"
   ]
  },
  {
   "cell_type": "markdown",
   "metadata": {},
   "source": [
    "- 검색한 키워드 중 존재하지않는 키워드 확인"
   ]
  },
  {
   "cell_type": "code",
   "execution_count": null,
   "metadata": {},
   "outputs": [
    {
     "name": "stdout",
     "output_type": "stream",
     "text": [
      "커플여행 | 경치 | 재미있는 | 친구여행 | "
     ]
    }
   ],
   "source": [
    "for key in keywords:\n",
    "    if key not in jeju_poi['keyword'].unique():\n",
    "        print(key, end = ' | ')"
   ]
  },
  {
   "cell_type": "markdown",
   "metadata": {},
   "source": [
    "- keyword별 불균형이 존재"
   ]
  },
  {
   "cell_type": "code",
   "execution_count": null,
   "metadata": {},
   "outputs": [
    {
     "data": {
      "text/html": [
       "<div>\n",
       "<style scoped>\n",
       "    .dataframe tbody tr th:only-of-type {\n",
       "        vertical-align: middle;\n",
       "    }\n",
       "\n",
       "    .dataframe tbody tr th {\n",
       "        vertical-align: top;\n",
       "    }\n",
       "\n",
       "    .dataframe thead th {\n",
       "        text-align: right;\n",
       "    }\n",
       "</style>\n",
       "<table border=\"1\" class=\"dataframe\">\n",
       "  <thead>\n",
       "    <tr style=\"text-align: right;\">\n",
       "      <th></th>\n",
       "      <th>keyword</th>\n",
       "    </tr>\n",
       "  </thead>\n",
       "  <tbody>\n",
       "    <tr>\n",
       "      <th>맛집</th>\n",
       "      <td>9915</td>\n",
       "    </tr>\n",
       "    <tr>\n",
       "      <th>분위기 좋은</th>\n",
       "      <td>5605</td>\n",
       "    </tr>\n",
       "    <tr>\n",
       "      <th>테마파크</th>\n",
       "      <td>1050</td>\n",
       "    </tr>\n",
       "    <tr>\n",
       "      <th>감성</th>\n",
       "      <td>577</td>\n",
       "    </tr>\n",
       "    <tr>\n",
       "      <th>오션뷰</th>\n",
       "      <td>482</td>\n",
       "    </tr>\n",
       "    <tr>\n",
       "      <th>체험</th>\n",
       "      <td>69</td>\n",
       "    </tr>\n",
       "    <tr>\n",
       "      <th>휴식</th>\n",
       "      <td>56</td>\n",
       "    </tr>\n",
       "    <tr>\n",
       "      <th>레포츠</th>\n",
       "      <td>43</td>\n",
       "    </tr>\n",
       "    <tr>\n",
       "      <th>가족여행</th>\n",
       "      <td>33</td>\n",
       "    </tr>\n",
       "    <tr>\n",
       "      <th>관람</th>\n",
       "      <td>7</td>\n",
       "    </tr>\n",
       "    <tr>\n",
       "      <th>화려한</th>\n",
       "      <td>4</td>\n",
       "    </tr>\n",
       "    <tr>\n",
       "      <th>핫플레이스</th>\n",
       "      <td>1</td>\n",
       "    </tr>\n",
       "    <tr>\n",
       "      <th>조용한</th>\n",
       "      <td>1</td>\n",
       "    </tr>\n",
       "  </tbody>\n",
       "</table>\n",
       "</div>"
      ],
      "text/plain": [
       "        keyword\n",
       "맛집         9915\n",
       "분위기 좋은     5605\n",
       "테마파크       1050\n",
       "감성          577\n",
       "오션뷰         482\n",
       "체험           69\n",
       "휴식           56\n",
       "레포츠          43\n",
       "가족여행         33\n",
       "관람            7\n",
       "화려한           4\n",
       "핫플레이스         1\n",
       "조용한           1"
      ]
     },
     "metadata": {},
     "output_type": "display_data"
    }
   ],
   "source": [
    "pd.DataFrame(jeju_poi['keyword'].value_counts())"
   ]
  },
  {
   "cell_type": "code",
   "execution_count": null,
   "metadata": {},
   "outputs": [
    {
     "data": {
      "text/plain": [
       "(7286,)"
      ]
     },
     "metadata": {},
     "output_type": "display_data"
    }
   ],
   "source": [
    "jeju_poi['id'].unique().shape"
   ]
  },
  {
   "cell_type": "markdown",
   "metadata": {},
   "source": [
    "##### ◽데이터 확인(제주도_POI(API)2)"
   ]
  },
  {
   "cell_type": "markdown",
   "metadata": {},
   "source": [
    "- 주소가 제주도가 아닌 경우를 삭제한 버전"
   ]
  },
  {
   "cell_type": "code",
   "execution_count": null,
   "metadata": {},
   "outputs": [],
   "source": [
    "import pandas as pd\n",
    "\n",
    "api_poi = pd.read_excel('./data/220114/제주도_POI(API)2.xlsx', index_col=False)"
   ]
  },
  {
   "cell_type": "markdown",
   "metadata": {},
   "source": [
    "- distance 컬럼은 값이 존재하지 않음"
   ]
  },
  {
   "cell_type": "code",
   "execution_count": null,
   "metadata": {},
   "outputs": [
    {
     "name": "stdout",
     "output_type": "stream",
     "text": [
      "<class 'pandas.core.frame.DataFrame'>\n",
      "RangeIndex: 5207 entries, 0 to 5206\n",
      "Data columns (total 13 columns):\n",
      " #   Column               Non-Null Count  Dtype  \n",
      "---  ------               --------------  -----  \n",
      " 0   keyword              5207 non-null   object \n",
      " 1   address_name         5207 non-null   object \n",
      " 2   category_group_code  5207 non-null   object \n",
      " 3   category_group_name  5207 non-null   object \n",
      " 4   category_name        5207 non-null   object \n",
      " 5   distance             0 non-null      float64\n",
      " 6   id                   5207 non-null   int64  \n",
      " 7   phone                3884 non-null   object \n",
      " 8   place_name           5207 non-null   object \n",
      " 9   place_url            5207 non-null   object \n",
      " 10  road_address_name    5154 non-null   object \n",
      " 11  x                    5207 non-null   float64\n",
      " 12  y                    5207 non-null   float64\n",
      "dtypes: float64(3), int64(1), object(9)\n",
      "memory usage: 529.0+ KB\n"
     ]
    }
   ],
   "source": [
    "api_poi.info()"
   ]
  },
  {
   "cell_type": "markdown",
   "metadata": {},
   "source": [
    "- keyword별 불균형이 존재"
   ]
  },
  {
   "cell_type": "code",
   "execution_count": null,
   "metadata": {},
   "outputs": [
    {
     "data": {
      "text/html": [
       "<div>\n",
       "<style scoped>\n",
       "    .dataframe tbody tr th:only-of-type {\n",
       "        vertical-align: middle;\n",
       "    }\n",
       "\n",
       "    .dataframe tbody tr th {\n",
       "        vertical-align: top;\n",
       "    }\n",
       "\n",
       "    .dataframe thead th {\n",
       "        text-align: right;\n",
       "    }\n",
       "</style>\n",
       "<table border=\"1\" class=\"dataframe\">\n",
       "  <thead>\n",
       "    <tr style=\"text-align: right;\">\n",
       "      <th></th>\n",
       "      <th>keyword</th>\n",
       "    </tr>\n",
       "  </thead>\n",
       "  <tbody>\n",
       "    <tr>\n",
       "      <th>맛집</th>\n",
       "      <td>4857</td>\n",
       "    </tr>\n",
       "    <tr>\n",
       "      <th>분위기 좋은</th>\n",
       "      <td>245</td>\n",
       "    </tr>\n",
       "    <tr>\n",
       "      <th>테마파크</th>\n",
       "      <td>54</td>\n",
       "    </tr>\n",
       "    <tr>\n",
       "      <th>오션뷰</th>\n",
       "      <td>22</td>\n",
       "    </tr>\n",
       "    <tr>\n",
       "      <th>감성</th>\n",
       "      <td>19</td>\n",
       "    </tr>\n",
       "    <tr>\n",
       "      <th>가족여행</th>\n",
       "      <td>3</td>\n",
       "    </tr>\n",
       "    <tr>\n",
       "      <th>체험</th>\n",
       "      <td>3</td>\n",
       "    </tr>\n",
       "    <tr>\n",
       "      <th>휴식</th>\n",
       "      <td>2</td>\n",
       "    </tr>\n",
       "    <tr>\n",
       "      <th>레포츠</th>\n",
       "      <td>2</td>\n",
       "    </tr>\n",
       "  </tbody>\n",
       "</table>\n",
       "</div>"
      ],
      "text/plain": [
       "        keyword\n",
       "맛집         4857\n",
       "분위기 좋은      245\n",
       "테마파크         54\n",
       "오션뷰          22\n",
       "감성           19\n",
       "가족여행          3\n",
       "체험            3\n",
       "휴식            2\n",
       "레포츠           2"
      ]
     },
     "metadata": {},
     "output_type": "display_data"
    }
   ],
   "source": [
    "pd.DataFrame(api_poi['keyword'].value_counts())"
   ]
  },
  {
   "cell_type": "code",
   "execution_count": null,
   "metadata": {},
   "outputs": [
    {
     "data": {
      "text/html": [
       "<div>\n",
       "<style scoped>\n",
       "    .dataframe tbody tr th:only-of-type {\n",
       "        vertical-align: middle;\n",
       "    }\n",
       "\n",
       "    .dataframe tbody tr th {\n",
       "        vertical-align: top;\n",
       "    }\n",
       "\n",
       "    .dataframe thead th {\n",
       "        text-align: right;\n",
       "    }\n",
       "</style>\n",
       "<table border=\"1\" class=\"dataframe\">\n",
       "  <thead>\n",
       "    <tr style=\"text-align: right;\">\n",
       "      <th></th>\n",
       "      <th>category_group_name</th>\n",
       "    </tr>\n",
       "  </thead>\n",
       "  <tbody>\n",
       "    <tr>\n",
       "      <th>음식점</th>\n",
       "      <td>3106</td>\n",
       "    </tr>\n",
       "    <tr>\n",
       "      <th>카페</th>\n",
       "      <td>2043</td>\n",
       "    </tr>\n",
       "    <tr>\n",
       "      <th>관광명소</th>\n",
       "      <td>46</td>\n",
       "    </tr>\n",
       "    <tr>\n",
       "      <th>문화시설</th>\n",
       "      <td>12</td>\n",
       "    </tr>\n",
       "  </tbody>\n",
       "</table>\n",
       "</div>"
      ],
      "text/plain": [
       "      category_group_name\n",
       "음식점                  3106\n",
       "카페                   2043\n",
       "관광명소                   46\n",
       "문화시설                   12"
      ]
     },
     "metadata": {},
     "output_type": "display_data"
    }
   ],
   "source": [
    "pd.DataFrame(api_poi['category_group_name'].value_counts())"
   ]
  },
  {
   "cell_type": "code",
   "execution_count": null,
   "metadata": {},
   "outputs": [
    {
     "data": {
      "text/plain": [
       "(7286,)"
      ]
     },
     "metadata": {},
     "output_type": "display_data"
    }
   ],
   "source": [
    "jeju_poi['id'].unique().shape"
   ]
  },
  {
   "cell_type": "markdown",
   "metadata": {},
   "source": [
    "### - 카카오 API(키워드 검색) : 데이터 획득 (재시도)"
   ]
  },
  {
   "cell_type": "markdown",
   "metadata": {},
   "source": [
    "- 키워드 검색\n",
    "  - 질의어를 통해 장소 검색 결과 반환\n",
    "  - category_group_name, category_name, place_url\n",
    "- 키워드 장소 검색 : 일간 100,000건\n",
    "- 검색 키워드 선정 : **위 결과를 바탕으로 검색되지 않는 경우 삭제, 새로운 키워드 추가**\n",
    "  - '맛집', '분위기 좋은', '테마파크' ,'오션뷰', '감성', '가족여행', '체험', '휴식', '레포츠', '가볼만한 곳'\n",
    "- 검색할 카테고리 선정 : 숙박을 제외하고 검색 진행\n",
    "  - CT1(문화시설), AT4(관광명소), FD6(음식점), CE7(카페), AD5(숙박)\n",
    "- 법정동·리 별로 검색 : <a href = 'https://ko.wikipedia.org/wiki/%EC%A0%9C%EC%A3%BC%EC%8B%9C%EC%9D%98_%ED%96%89%EC%A0%95_%EA%B5%AC%EC%97%AD' target='_blink'>위키백과</a>"
   ]
  },
  {
   "cell_type": "markdown",
   "metadata": {},
   "source": [
    "#### 1. 데이터 획득"
   ]
  },
  {
   "cell_type": "markdown",
   "metadata": {},
   "source": [
    "##### ◽카테고리, 키워드, 지역 변수"
   ]
  },
  {
   "cell_type": "code",
   "execution_count": null,
   "metadata": {},
   "outputs": [],
   "source": [
    "keywords = ['맛집', '분위기 좋은', '테마파크' ,'오션뷰', '감성', '가족여행', '체험', '휴식', '레포츠', '가볼만한 곳']\n",
    "categorys = ['CT1', 'AT4', 'FD6', 'CE7']\n",
    "categorys_info = {'CT1' : '문화시설', 'AT4' : '관광명소', 'FD6' : '음식점', 'CE7' : '카페'}"
   ]
  },
  {
   "cell_type": "code",
   "execution_count": null,
   "metadata": {},
   "outputs": [
    {
     "data": {
      "text/html": [
       "<div>\n",
       "<style scoped>\n",
       "    .dataframe tbody tr th:only-of-type {\n",
       "        vertical-align: middle;\n",
       "    }\n",
       "\n",
       "    .dataframe tbody tr th {\n",
       "        vertical-align: top;\n",
       "    }\n",
       "\n",
       "    .dataframe thead th {\n",
       "        text-align: right;\n",
       "    }\n",
       "</style>\n",
       "<table border=\"1\" class=\"dataframe\">\n",
       "  <thead>\n",
       "    <tr style=\"text-align: right;\">\n",
       "      <th></th>\n",
       "      <th>이름</th>\n",
       "      <th>한자</th>\n",
       "      <th>인구</th>\n",
       "      <th>면적</th>\n",
       "      <th>법정동_리</th>\n",
       "    </tr>\n",
       "  </thead>\n",
       "  <tbody>\n",
       "    <tr>\n",
       "      <th>0</th>\n",
       "      <td>애월읍</td>\n",
       "      <td>涯月邑</td>\n",
       "      <td>31790</td>\n",
       "      <td>202.16</td>\n",
       "      <td>고내리,고성리,곽지리,광령리,구엄리,금성리,남읍리,봉성리,상가리,상귀리,소길리,수산...</td>\n",
       "    </tr>\n",
       "    <tr>\n",
       "      <th>1</th>\n",
       "      <td>조천읍</td>\n",
       "      <td>朝天邑</td>\n",
       "      <td>21547</td>\n",
       "      <td>150.64</td>\n",
       "      <td>교래리,대흘리,북촌리,선흘리,신촌리,신흥리,와산리,와흘리,조천리,함덕리</td>\n",
       "    </tr>\n",
       "    <tr>\n",
       "      <th>2</th>\n",
       "      <td>한림읍</td>\n",
       "      <td>翰林邑</td>\n",
       "      <td>23143</td>\n",
       "      <td>91.09</td>\n",
       "      <td>귀덕리,금능리,금악리,대림리,동명리,명월리,상대리,상명리,수원리,옹포리,월령리,월림...</td>\n",
       "    </tr>\n",
       "    <tr>\n",
       "      <th>3</th>\n",
       "      <td>구좌읍</td>\n",
       "      <td>舊左邑</td>\n",
       "      <td>15216</td>\n",
       "      <td>185.93</td>\n",
       "      <td>김녕리,덕천리,동복리,상도리,세화리,송당리,월정리,종달리,평대리,하도리,한동리,행원리</td>\n",
       "    </tr>\n",
       "    <tr>\n",
       "      <th>4</th>\n",
       "      <td>한경면</td>\n",
       "      <td>翰京面</td>\n",
       "      <td>8775</td>\n",
       "      <td>79.03</td>\n",
       "      <td>고산리,금등리,낙천리,두모리,신창리,용수리,저지리,조수리,청수리,판포리</td>\n",
       "    </tr>\n",
       "  </tbody>\n",
       "</table>\n",
       "</div>"
      ],
      "text/plain": [
       "    이름   한자     인구      면적                                              법정동_리\n",
       "0  애월읍  涯月邑  31790  202.16  고내리,고성리,곽지리,광령리,구엄리,금성리,남읍리,봉성리,상가리,상귀리,소길리,수산...\n",
       "1  조천읍  朝天邑  21547  150.64            교래리,대흘리,북촌리,선흘리,신촌리,신흥리,와산리,와흘리,조천리,함덕리\n",
       "2  한림읍  翰林邑  23143   91.09  귀덕리,금능리,금악리,대림리,동명리,명월리,상대리,상명리,수원리,옹포리,월령리,월림...\n",
       "3  구좌읍  舊左邑  15216  185.93    김녕리,덕천리,동복리,상도리,세화리,송당리,월정리,종달리,평대리,하도리,한동리,행원리\n",
       "4  한경면  翰京面   8775   79.03            고산리,금등리,낙천리,두모리,신창리,용수리,저지리,조수리,청수리,판포리"
      ]
     },
     "metadata": {},
     "output_type": "display_data"
    }
   ],
   "source": [
    "import pandas as pd\n",
    "\n",
    "jeju_range = pd.read_excel('./data/220113/제주도_법정동_리.xlsx')\n",
    "jeju_range.head()"
   ]
  },
  {
   "cell_type": "markdown",
   "metadata": {},
   "source": [
    "##### ◽카카오 API 활용 함수"
   ]
  },
  {
   "cell_type": "markdown",
   "metadata": {},
   "source": [
    "- (키워드, 카테고리, 법정동_리) 검색 함수"
   ]
  },
  {
   "cell_type": "code",
   "execution_count": null,
   "metadata": {},
   "outputs": [],
   "source": [
    "import json\n",
    "import requests\n",
    "\n",
    "def search_result(keyword, category, jeju_name):\n",
    "    result = []\n",
    "\n",
    "    # REST 키\n",
    "    rest_api_key = ''\n",
    "    # 헤더\n",
    "    headers = {\"Authorization\" : \"KakaoAK {}\".format(rest_api_key)}\n",
    "    # 파라미터\n",
    "    params = {\"query\" : f\"제주특별자치도 {jeju_name} {keyword}\", \"page\" : 1, \"category_group_code\" : f\"{category}\"}\n",
    "    url = \"https://dapi.kakao.com/v2/local/search/keyword.json\"\n",
    "\n",
    "    while True:\n",
    "        # GET을 이용하여 획득\n",
    "        res = requests.get(url, headers=headers, params=params)\n",
    "        if res.status_code == 200:\n",
    "            # Json을 이용하여 해제\n",
    "            doc = json.loads(res.text)\n",
    "            result.extend(doc['documents'])\n",
    "            if doc['meta']['is_end'] == True:\n",
    "                break\n",
    "            else:\n",
    "                params['page'] += 1\n",
    "    return result"
   ]
  },
  {
   "cell_type": "markdown",
   "metadata": {},
   "source": [
    "- 전체 결과 데이터 프레임 반환 함수"
   ]
  },
  {
   "cell_type": "code",
   "execution_count": null,
   "metadata": {},
   "outputs": [],
   "source": [
    "import pandas as pd\n",
    "from tqdm.notebook import tqdm\n",
    "\n",
    "def search_df():\n",
    "    results = []\n",
    "    for idx, row in tqdm(jeju_range.iterrows()):\n",
    "        for jeju in row['법정동_리'].split(','):\n",
    "            for category in categorys:\n",
    "                for key in keywords:\n",
    "                    r = pd.DataFrame(search_result(key, category, jeju))\n",
    "                    r['keyword'] = key\n",
    "                    results.append(r.copy())\n",
    "    return pd.concat(results).reset_index(drop=True)"
   ]
  },
  {
   "cell_type": "markdown",
   "metadata": {},
   "source": [
    "##### ◽카카오 API 활용 데이터 획득"
   ]
  },
  {
   "cell_type": "code",
   "execution_count": null,
   "metadata": {},
   "outputs": [
    {
     "data": {
      "application/vnd.jupyter.widget-view+json": {
       "model_id": "fbf6862f7106489087bd7e596245647e",
       "version_major": 2,
       "version_minor": 0
      },
      "text/plain": [
       "0it [00:00, ?it/s]"
      ]
     },
     "metadata": {},
     "output_type": "display_data"
    }
   ],
   "source": [
    "jeju_poi = search_df()"
   ]
  },
  {
   "cell_type": "code",
   "execution_count": null,
   "metadata": {},
   "outputs": [],
   "source": [
    "# jeju_poi.to_excel('./data/220114/제주도_POI(API)3.xlsx',index=False)"
   ]
  },
  {
   "cell_type": "code",
   "execution_count": null,
   "metadata": {},
   "outputs": [
    {
     "data": {
      "text/html": [
       "<div>\n",
       "<style scoped>\n",
       "    .dataframe tbody tr th:only-of-type {\n",
       "        vertical-align: middle;\n",
       "    }\n",
       "\n",
       "    .dataframe tbody tr th {\n",
       "        vertical-align: top;\n",
       "    }\n",
       "\n",
       "    .dataframe thead th {\n",
       "        text-align: right;\n",
       "    }\n",
       "</style>\n",
       "<table border=\"1\" class=\"dataframe\">\n",
       "  <thead>\n",
       "    <tr style=\"text-align: right;\">\n",
       "      <th></th>\n",
       "      <th>keyword</th>\n",
       "      <th>address_name</th>\n",
       "      <th>category_group_code</th>\n",
       "      <th>category_group_name</th>\n",
       "      <th>category_name</th>\n",
       "      <th>distance</th>\n",
       "      <th>id</th>\n",
       "      <th>phone</th>\n",
       "      <th>place_name</th>\n",
       "      <th>place_url</th>\n",
       "      <th>road_address_name</th>\n",
       "      <th>x</th>\n",
       "      <th>y</th>\n",
       "    </tr>\n",
       "  </thead>\n",
       "  <tbody>\n",
       "    <tr>\n",
       "      <th>0</th>\n",
       "      <td>테마파크</td>\n",
       "      <td>제주특별자치도 제주시 연동 1320</td>\n",
       "      <td>CT1</td>\n",
       "      <td>문화시설</td>\n",
       "      <td>문화,예술 &gt; 문화시설 &gt; 박물관</td>\n",
       "      <td></td>\n",
       "      <td>26388484</td>\n",
       "      <td>064-742-3700</td>\n",
       "      <td>수목원테마파크 아이스뮤지엄</td>\n",
       "      <td>http://place.map.kakao.com/26388484</td>\n",
       "      <td>제주특별자치도 제주시 은수길 69</td>\n",
       "      <td>126.488397743899</td>\n",
       "      <td>33.4707773213401</td>\n",
       "    </tr>\n",
       "    <tr>\n",
       "      <th>1</th>\n",
       "      <td>테마파크</td>\n",
       "      <td>제주특별자치도 제주시 애월읍 신엄리 2880-12</td>\n",
       "      <td>AT4</td>\n",
       "      <td>관광명소</td>\n",
       "      <td>여행 &gt; 관광,명소 &gt; 테마파크</td>\n",
       "      <td></td>\n",
       "      <td>1129394481</td>\n",
       "      <td>064-748-4245</td>\n",
       "      <td>고스트타운</td>\n",
       "      <td>http://place.map.kakao.com/1129394481</td>\n",
       "      <td>제주특별자치도 제주시 애월읍 부룡수길 35-14</td>\n",
       "      <td>126.35693587972</td>\n",
       "      <td>33.4761948388957</td>\n",
       "    </tr>\n",
       "  </tbody>\n",
       "</table>\n",
       "</div>"
      ],
      "text/plain": [
       "  keyword                 address_name category_group_code  \\\n",
       "0    테마파크          제주특별자치도 제주시 연동 1320                 CT1   \n",
       "1    테마파크  제주특별자치도 제주시 애월읍 신엄리 2880-12                 AT4   \n",
       "\n",
       "  category_group_name       category_name distance          id         phone  \\\n",
       "0                문화시설  문화,예술 > 문화시설 > 박물관             26388484  064-742-3700   \n",
       "1                관광명소   여행 > 관광,명소 > 테마파크           1129394481  064-748-4245   \n",
       "\n",
       "       place_name                              place_url  \\\n",
       "0  수목원테마파크 아이스뮤지엄    http://place.map.kakao.com/26388484   \n",
       "1           고스트타운  http://place.map.kakao.com/1129394481   \n",
       "\n",
       "            road_address_name                 x                 y  \n",
       "0          제주특별자치도 제주시 은수길 69  126.488397743899  33.4707773213401  \n",
       "1  제주특별자치도 제주시 애월읍 부룡수길 35-14   126.35693587972  33.4761948388957  "
      ]
     },
     "metadata": {},
     "output_type": "display_data"
    }
   ],
   "source": [
    "jeju_poi.head(2)"
   ]
  },
  {
   "cell_type": "markdown",
   "metadata": {},
   "source": [
    "##### ◽데이터 확인(제주도_POI(API)3)"
   ]
  },
  {
   "cell_type": "markdown",
   "metadata": {},
   "source": [
    "- 엑셀을 통해 중복(id) 제거"
   ]
  },
  {
   "cell_type": "code",
   "execution_count": null,
   "metadata": {},
   "outputs": [],
   "source": [
    "import pandas as pd\n",
    "\n",
    "api_poi = pd.read_excel('./data/220114/제주도_POI(API)3.xlsx', index_col=False)"
   ]
  },
  {
   "cell_type": "code",
   "execution_count": null,
   "metadata": {},
   "outputs": [
    {
     "name": "stdout",
     "output_type": "stream",
     "text": [
      "<class 'pandas.core.frame.DataFrame'>\n",
      "RangeIndex: 5943 entries, 0 to 5942\n",
      "Data columns (total 13 columns):\n",
      " #   Column               Non-Null Count  Dtype  \n",
      "---  ------               --------------  -----  \n",
      " 0   keyword              5943 non-null   object \n",
      " 1   address_name         5943 non-null   object \n",
      " 2   category_group_code  5943 non-null   object \n",
      " 3   category_group_name  5943 non-null   object \n",
      " 4   category_name        5943 non-null   object \n",
      " 5   distance             0 non-null      float64\n",
      " 6   id                   5943 non-null   int64  \n",
      " 7   phone                3915 non-null   object \n",
      " 8   place_name           5943 non-null   object \n",
      " 9   place_url            5943 non-null   object \n",
      " 10  road_address_name    5224 non-null   object \n",
      " 11  x                    5943 non-null   float64\n",
      " 12  y                    5943 non-null   float64\n",
      "dtypes: float64(3), int64(1), object(9)\n",
      "memory usage: 603.7+ KB\n"
     ]
    }
   ],
   "source": [
    "api_poi.info()"
   ]
  },
  {
   "cell_type": "code",
   "execution_count": null,
   "metadata": {},
   "outputs": [
    {
     "data": {
      "text/html": [
       "<div>\n",
       "<style scoped>\n",
       "    .dataframe tbody tr th:only-of-type {\n",
       "        vertical-align: middle;\n",
       "    }\n",
       "\n",
       "    .dataframe tbody tr th {\n",
       "        vertical-align: top;\n",
       "    }\n",
       "\n",
       "    .dataframe thead th {\n",
       "        text-align: right;\n",
       "    }\n",
       "</style>\n",
       "<table border=\"1\" class=\"dataframe\">\n",
       "  <thead>\n",
       "    <tr style=\"text-align: right;\">\n",
       "      <th></th>\n",
       "      <th>keyword</th>\n",
       "    </tr>\n",
       "  </thead>\n",
       "  <tbody>\n",
       "    <tr>\n",
       "      <th>맛집</th>\n",
       "      <td>4768</td>\n",
       "    </tr>\n",
       "    <tr>\n",
       "      <th>가볼만한 곳</th>\n",
       "      <td>802</td>\n",
       "    </tr>\n",
       "    <tr>\n",
       "      <th>분위기 좋은</th>\n",
       "      <td>260</td>\n",
       "    </tr>\n",
       "    <tr>\n",
       "      <th>테마파크</th>\n",
       "      <td>59</td>\n",
       "    </tr>\n",
       "    <tr>\n",
       "      <th>오션뷰</th>\n",
       "      <td>22</td>\n",
       "    </tr>\n",
       "    <tr>\n",
       "      <th>감성</th>\n",
       "      <td>19</td>\n",
       "    </tr>\n",
       "    <tr>\n",
       "      <th>체험</th>\n",
       "      <td>5</td>\n",
       "    </tr>\n",
       "    <tr>\n",
       "      <th>가족여행</th>\n",
       "      <td>4</td>\n",
       "    </tr>\n",
       "    <tr>\n",
       "      <th>휴식</th>\n",
       "      <td>2</td>\n",
       "    </tr>\n",
       "    <tr>\n",
       "      <th>레포츠</th>\n",
       "      <td>2</td>\n",
       "    </tr>\n",
       "  </tbody>\n",
       "</table>\n",
       "</div>"
      ],
      "text/plain": [
       "        keyword\n",
       "맛집         4768\n",
       "가볼만한 곳      802\n",
       "분위기 좋은      260\n",
       "테마파크         59\n",
       "오션뷰          22\n",
       "감성           19\n",
       "체험            5\n",
       "가족여행          4\n",
       "휴식            2\n",
       "레포츠           2"
      ]
     },
     "metadata": {},
     "output_type": "display_data"
    }
   ],
   "source": [
    "pd.DataFrame(api_poi['keyword'].value_counts())"
   ]
  },
  {
   "cell_type": "code",
   "execution_count": null,
   "metadata": {},
   "outputs": [
    {
     "data": {
      "text/html": [
       "<div>\n",
       "<style scoped>\n",
       "    .dataframe tbody tr th:only-of-type {\n",
       "        vertical-align: middle;\n",
       "    }\n",
       "\n",
       "    .dataframe tbody tr th {\n",
       "        vertical-align: top;\n",
       "    }\n",
       "\n",
       "    .dataframe thead th {\n",
       "        text-align: right;\n",
       "    }\n",
       "</style>\n",
       "<table border=\"1\" class=\"dataframe\">\n",
       "  <thead>\n",
       "    <tr style=\"text-align: right;\">\n",
       "      <th></th>\n",
       "      <th>category_group_name</th>\n",
       "    </tr>\n",
       "  </thead>\n",
       "  <tbody>\n",
       "    <tr>\n",
       "      <th>음식점</th>\n",
       "      <td>3028</td>\n",
       "    </tr>\n",
       "    <tr>\n",
       "      <th>카페</th>\n",
       "      <td>2048</td>\n",
       "    </tr>\n",
       "    <tr>\n",
       "      <th>관광명소</th>\n",
       "      <td>855</td>\n",
       "    </tr>\n",
       "    <tr>\n",
       "      <th>문화시설</th>\n",
       "      <td>12</td>\n",
       "    </tr>\n",
       "  </tbody>\n",
       "</table>\n",
       "</div>"
      ],
      "text/plain": [
       "      category_group_name\n",
       "음식점                  3028\n",
       "카페                   2048\n",
       "관광명소                  855\n",
       "문화시설                   12"
      ]
     },
     "metadata": {},
     "output_type": "display_data"
    }
   ],
   "source": [
    "pd.DataFrame(api_poi['category_group_name'].value_counts())"
   ]
  },
  {
   "cell_type": "markdown",
   "metadata": {},
   "source": [
    "#### 2. id 중복 처리 : 키워드 합치기"
   ]
  },
  {
   "cell_type": "markdown",
   "metadata": {},
   "source": [
    "##### ◽id 중복 확인"
   ]
  },
  {
   "cell_type": "code",
   "execution_count": null,
   "metadata": {},
   "outputs": [],
   "source": [
    "import pandas as pd\n",
    "\n",
    "api_poi = pd.read_excel('./data/220114/제주도_POI(API)3.xlsx', index_col=False)"
   ]
  },
  {
   "cell_type": "markdown",
   "metadata": {},
   "source": [
    "- id 값으로 조회하여 값이 2개이상인 경우\n",
    "  - 각 데이터의 키워드를 합치고 1개의 행만 남긴다.\n",
    "  - included : 중복된 id일 경우를 식별하기 위해 dict형으로 확인한 경우 추가\n",
    "  - del_index : 중복된 id의 인덱스 중 1개만 사용할 것이기에 삭제할 인덱스 추가"
   ]
  },
  {
   "cell_type": "code",
   "execution_count": null,
   "metadata": {},
   "outputs": [],
   "source": [
    "included = {}\n",
    "del_index = []\n",
    "for idx, row in api_poi.iterrows():\n",
    "    id = row['id']\n",
    "    temp = api_poi[api_poi['id'] == id].copy()\n",
    "    cnt = len(temp)\n",
    "    if id not in included and cnt > 1:\n",
    "        included[id] = True\n",
    "        for i, r in temp.iterrows():\n",
    "            if idx == i:\n",
    "                continue\n",
    "            else:\n",
    "                api_poi.loc[idx, 'keyword'] = api_poi.loc[idx, 'keyword'] + ',' + r['keyword']\n",
    "                del_index.append(i)"
   ]
  },
  {
   "cell_type": "code",
   "execution_count": null,
   "metadata": {},
   "outputs": [
    {
     "data": {
      "text/plain": [
       "(194, 197)"
      ]
     },
     "metadata": {},
     "output_type": "display_data"
    }
   ],
   "source": [
    "# 중복 id의 수, 삭제할 인덱스의 수\n",
    "len(included.keys()), len(del_index)"
   ]
  },
  {
   "cell_type": "code",
   "execution_count": null,
   "metadata": {},
   "outputs": [],
   "source": [
    "# 중복 id의 인덱스 삭제\n",
    "api_poi_del = api_poi.drop(del_index, axis=0)"
   ]
  },
  {
   "cell_type": "code",
   "execution_count": null,
   "metadata": {},
   "outputs": [
    {
     "name": "stdout",
     "output_type": "stream",
     "text": [
      "<class 'pandas.core.frame.DataFrame'>\n",
      "Int64Index: 5746 entries, 0 to 5942\n",
      "Data columns (total 13 columns):\n",
      " #   Column               Non-Null Count  Dtype  \n",
      "---  ------               --------------  -----  \n",
      " 0   keyword              5746 non-null   object \n",
      " 1   address_name         5746 non-null   object \n",
      " 2   category_group_code  5746 non-null   object \n",
      " 3   category_group_name  5746 non-null   object \n",
      " 4   category_name        5746 non-null   object \n",
      " 5   distance             0 non-null      float64\n",
      " 6   id                   5746 non-null   int64  \n",
      " 7   phone                3765 non-null   object \n",
      " 8   place_name           5746 non-null   object \n",
      " 9   place_url            5746 non-null   object \n",
      " 10  road_address_name    5030 non-null   object \n",
      " 11  x                    5746 non-null   float64\n",
      " 12  y                    5746 non-null   float64\n",
      "dtypes: float64(3), int64(1), object(9)\n",
      "memory usage: 628.5+ KB\n"
     ]
    }
   ],
   "source": [
    "api_poi_del.info()"
   ]
  },
  {
   "cell_type": "code",
   "execution_count": null,
   "metadata": {},
   "outputs": [],
   "source": [
    "# api_poi_del.to_excel('./data/220114/제주도_POI(API)4.xlsx', index=False)"
   ]
  },
  {
   "cell_type": "markdown",
   "metadata": {},
   "source": [
    "##### ◽id 중복 제거 데이터 확인(제주도_POI(API)4)"
   ]
  },
  {
   "cell_type": "code",
   "execution_count": null,
   "metadata": {},
   "outputs": [],
   "source": [
    "import pandas as pd\n",
    "\n",
    "api_poi_del = pd.read_excel('./data/220114/제주도_POI(API)4.xlsx', index_col=False)"
   ]
  },
  {
   "cell_type": "code",
   "execution_count": null,
   "metadata": {},
   "outputs": [
    {
     "name": "stdout",
     "output_type": "stream",
     "text": [
      "<class 'pandas.core.frame.DataFrame'>\n",
      "RangeIndex: 5746 entries, 0 to 5745\n",
      "Data columns (total 13 columns):\n",
      " #   Column               Non-Null Count  Dtype  \n",
      "---  ------               --------------  -----  \n",
      " 0   keyword              5746 non-null   object \n",
      " 1   address_name         5746 non-null   object \n",
      " 2   category_group_code  5746 non-null   object \n",
      " 3   category_group_name  5746 non-null   object \n",
      " 4   category_name        5746 non-null   object \n",
      " 5   distance             0 non-null      float64\n",
      " 6   id                   5746 non-null   int64  \n",
      " 7   phone                3765 non-null   object \n",
      " 8   place_name           5746 non-null   object \n",
      " 9   place_url            5746 non-null   object \n",
      " 10  road_address_name    5030 non-null   object \n",
      " 11  x                    5746 non-null   float64\n",
      " 12  y                    5746 non-null   float64\n",
      "dtypes: float64(3), int64(1), object(9)\n",
      "memory usage: 583.7+ KB\n"
     ]
    }
   ],
   "source": [
    "api_poi_del.info()"
   ]
  },
  {
   "cell_type": "markdown",
   "metadata": {},
   "source": [
    "- 행의 수와 id의 수가 일치하므로 중복된 id가 없음을 확인할 수 있다."
   ]
  },
  {
   "cell_type": "code",
   "execution_count": null,
   "metadata": {},
   "outputs": [
    {
     "data": {
      "text/plain": [
       "5746"
      ]
     },
     "metadata": {},
     "output_type": "display_data"
    }
   ],
   "source": [
    "len(api_poi_del['id'].unique())"
   ]
  },
  {
   "cell_type": "code",
   "execution_count": null,
   "metadata": {},
   "outputs": [
    {
     "data": {
      "text/html": [
       "<div>\n",
       "<style scoped>\n",
       "    .dataframe tbody tr th:only-of-type {\n",
       "        vertical-align: middle;\n",
       "    }\n",
       "\n",
       "    .dataframe tbody tr th {\n",
       "        vertical-align: top;\n",
       "    }\n",
       "\n",
       "    .dataframe thead th {\n",
       "        text-align: right;\n",
       "    }\n",
       "</style>\n",
       "<table border=\"1\" class=\"dataframe\">\n",
       "  <thead>\n",
       "    <tr style=\"text-align: right;\">\n",
       "      <th></th>\n",
       "      <th>category_group_name</th>\n",
       "    </tr>\n",
       "  </thead>\n",
       "  <tbody>\n",
       "    <tr>\n",
       "      <th>음식점</th>\n",
       "      <td>2969</td>\n",
       "    </tr>\n",
       "    <tr>\n",
       "      <th>카페</th>\n",
       "      <td>1950</td>\n",
       "    </tr>\n",
       "    <tr>\n",
       "      <th>관광명소</th>\n",
       "      <td>815</td>\n",
       "    </tr>\n",
       "    <tr>\n",
       "      <th>문화시설</th>\n",
       "      <td>12</td>\n",
       "    </tr>\n",
       "  </tbody>\n",
       "</table>\n",
       "</div>"
      ],
      "text/plain": [
       "      category_group_name\n",
       "음식점                  2969\n",
       "카페                   1950\n",
       "관광명소                  815\n",
       "문화시설                   12"
      ]
     },
     "metadata": {},
     "output_type": "display_data"
    }
   ],
   "source": [
    "pd.DataFrame(api_poi_del['category_group_name'].value_counts())"
   ]
  }
 ],
 "metadata": {
  "interpreter": {
   "hash": "51b46dc78c05e2d39b28ced298f5e3e2fec06f080b2991ae6dc0981efed4b363"
  },
  "kernelspec": {
   "display_name": "Python 3.8.11 64-bit ('ds_study(38)': conda)",
   "language": "python",
   "name": "python3"
  },
  "language_info": {
   "codemirror_mode": {
    "name": "ipython",
    "version": 3
   },
   "file_extension": ".py",
   "mimetype": "text/x-python",
   "name": "python",
   "nbconvert_exporter": "python",
   "pygments_lexer": "ipython3",
   "version": "3.8.11"
  },
  "orig_nbformat": 4
 },
 "nbformat": 4,
 "nbformat_minor": 2
}
