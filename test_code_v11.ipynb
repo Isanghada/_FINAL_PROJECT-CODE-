{
 "cells": [
  {
   "cell_type": "markdown",
   "metadata": {},
   "source": [
    "### - 자연어 처리 테스트"
   ]
  },
  {
   "cell_type": "markdown",
   "metadata": {},
   "source": [
    "- 자연어 처리.."
   ]
  },
  {
   "cell_type": "markdown",
   "metadata": {},
   "source": [
    "#### 1. 데이터 읽기"
   ]
  },
  {
   "cell_type": "code",
   "execution_count": null,
   "metadata": {},
   "outputs": [],
   "source": [
    "import pandas as pd\n",
    "\n",
    "jeju_poi = pd.read_excel('./data/220119/_제주도_POI_컬럼 정리.xlsx', index_col=0)"
   ]
  },
  {
   "cell_type": "code",
   "execution_count": null,
   "metadata": {},
   "outputs": [
    {
     "name": "stdout",
     "output_type": "stream",
     "text": [
      "<class 'pandas.core.frame.DataFrame'>\n",
      "Int64Index: 2306 entries, 0 to 5740\n",
      "Data columns (total 9 columns):\n",
      " #   Column               Non-Null Count  Dtype  \n",
      "---  ------               --------------  -----  \n",
      " 0   keyword              2306 non-null   object \n",
      " 1   address_name         2306 non-null   object \n",
      " 2   category_group_name  2306 non-null   object \n",
      " 3   category_name        2306 non-null   object \n",
      " 4   id                   2306 non-null   int64  \n",
      " 5   place_name           2306 non-null   object \n",
      " 6   x                    2306 non-null   float64\n",
      " 7   y                    2306 non-null   float64\n",
      " 8   rating               2306 non-null   float64\n",
      "dtypes: float64(3), int64(1), object(5)\n",
      "memory usage: 180.2+ KB\n"
     ]
    }
   ],
   "source": [
    "jeju_poi.info()"
   ]
  },
  {
   "cell_type": "code",
   "execution_count": null,
   "metadata": {},
   "outputs": [
    {
     "data": {
      "text/html": [
       "<div>\n",
       "<style scoped>\n",
       "    .dataframe tbody tr th:only-of-type {\n",
       "        vertical-align: middle;\n",
       "    }\n",
       "\n",
       "    .dataframe tbody tr th {\n",
       "        vertical-align: top;\n",
       "    }\n",
       "\n",
       "    .dataframe thead th {\n",
       "        text-align: right;\n",
       "    }\n",
       "</style>\n",
       "<table border=\"1\" class=\"dataframe\">\n",
       "  <thead>\n",
       "    <tr style=\"text-align: right;\">\n",
       "      <th></th>\n",
       "      <th>keyword</th>\n",
       "      <th>address_name</th>\n",
       "      <th>category_group_name</th>\n",
       "      <th>category_name</th>\n",
       "      <th>id</th>\n",
       "      <th>place_name</th>\n",
       "      <th>x</th>\n",
       "      <th>y</th>\n",
       "      <th>rating</th>\n",
       "    </tr>\n",
       "  </thead>\n",
       "  <tbody>\n",
       "    <tr>\n",
       "      <th>0</th>\n",
       "      <td>테마파크</td>\n",
       "      <td>제주특별자치도 제주시 연동 1320</td>\n",
       "      <td>관광명소</td>\n",
       "      <td>문화,예술 &gt; 문화시설 &gt; 박물관</td>\n",
       "      <td>26388484</td>\n",
       "      <td>수목원테마파크 아이스뮤지엄</td>\n",
       "      <td>126.488398</td>\n",
       "      <td>33.470777</td>\n",
       "      <td>1.0</td>\n",
       "    </tr>\n",
       "    <tr>\n",
       "      <th>1</th>\n",
       "      <td>테마파크,가볼만한 곳</td>\n",
       "      <td>제주특별자치도 제주시 애월읍 신엄리 2880-12</td>\n",
       "      <td>관광명소</td>\n",
       "      <td>여행 &gt; 관광,명소 &gt; 테마파크</td>\n",
       "      <td>1129394481</td>\n",
       "      <td>고스트타운</td>\n",
       "      <td>126.356936</td>\n",
       "      <td>33.476195</td>\n",
       "      <td>3.4</td>\n",
       "    </tr>\n",
       "  </tbody>\n",
       "</table>\n",
       "</div>"
      ],
      "text/plain": [
       "       keyword                 address_name category_group_name  \\\n",
       "0         테마파크          제주특별자치도 제주시 연동 1320                관광명소   \n",
       "1  테마파크,가볼만한 곳  제주특별자치도 제주시 애월읍 신엄리 2880-12                관광명소   \n",
       "\n",
       "        category_name          id      place_name           x          y  \\\n",
       "0  문화,예술 > 문화시설 > 박물관    26388484  수목원테마파크 아이스뮤지엄  126.488398  33.470777   \n",
       "1   여행 > 관광,명소 > 테마파크  1129394481           고스트타운  126.356936  33.476195   \n",
       "\n",
       "   rating  \n",
       "0     1.0  \n",
       "1     3.4  "
      ]
     },
     "metadata": {},
     "output_type": "display_data"
    }
   ],
   "source": [
    "jeju_poi.head(2)"
   ]
  },
  {
   "cell_type": "markdown",
   "metadata": {},
   "source": [
    "#### 2. 자연어 선택"
   ]
  },
  {
   "cell_type": "markdown",
   "metadata": {},
   "source": [
    "- keyword와 category_group_name 사용"
   ]
  },
  {
   "cell_type": "code",
   "execution_count": null,
   "metadata": {},
   "outputs": [],
   "source": [
    "keywords = set()\n",
    "for keyword in jeju_poi['keyword'].unique():\n",
    "    for k in keyword.split(','):\n",
    "        keywords.add(k)\n",
    "keywords = list(keywords)"
   ]
  },
  {
   "cell_type": "code",
   "execution_count": null,
   "metadata": {},
   "outputs": [
    {
     "data": {
      "text/plain": [
       "['레포츠', '가볼만한 곳', '맛집', '감성', '오션뷰', '테마파크', '가족여행', '체험', '분위기 좋은']"
      ]
     },
     "metadata": {},
     "output_type": "display_data"
    }
   ],
   "source": [
    "keywords"
   ]
  },
  {
   "cell_type": "code",
   "execution_count": null,
   "metadata": {},
   "outputs": [],
   "source": [
    "groups = []\n",
    "for category in jeju_poi['category_group_name'].unique():\n",
    "    groups.append(category)"
   ]
  },
  {
   "cell_type": "code",
   "execution_count": null,
   "metadata": {},
   "outputs": [
    {
     "data": {
      "text/plain": [
       "['관광명소', '음식점', '카페']"
      ]
     },
     "metadata": {},
     "output_type": "display_data"
    }
   ],
   "source": [
    "groups"
   ]
  },
  {
   "cell_type": "code",
   "execution_count": null,
   "metadata": {},
   "outputs": [
    {
     "data": {
      "text/html": [
       "<div>\n",
       "<style scoped>\n",
       "    .dataframe tbody tr th:only-of-type {\n",
       "        vertical-align: middle;\n",
       "    }\n",
       "\n",
       "    .dataframe tbody tr th {\n",
       "        vertical-align: top;\n",
       "    }\n",
       "\n",
       "    .dataframe thead th {\n",
       "        text-align: right;\n",
       "    }\n",
       "</style>\n",
       "<table border=\"1\" class=\"dataframe\">\n",
       "  <thead>\n",
       "    <tr style=\"text-align: right;\">\n",
       "      <th></th>\n",
       "      <th>id</th>\n",
       "      <th>place_name</th>\n",
       "      <th>keyword</th>\n",
       "      <th>category_group_name</th>\n",
       "    </tr>\n",
       "  </thead>\n",
       "  <tbody>\n",
       "    <tr>\n",
       "      <th>0</th>\n",
       "      <td>26388484</td>\n",
       "      <td>수목원테마파크 아이스뮤지엄</td>\n",
       "      <td>테마파크</td>\n",
       "      <td>관광명소</td>\n",
       "    </tr>\n",
       "    <tr>\n",
       "      <th>1</th>\n",
       "      <td>1129394481</td>\n",
       "      <td>고스트타운</td>\n",
       "      <td>테마파크,가볼만한 곳</td>\n",
       "      <td>관광명소</td>\n",
       "    </tr>\n",
       "  </tbody>\n",
       "</table>\n",
       "</div>"
      ],
      "text/plain": [
       "           id      place_name      keyword category_group_name\n",
       "0    26388484  수목원테마파크 아이스뮤지엄         테마파크                관광명소\n",
       "1  1129394481           고스트타운  테마파크,가볼만한 곳                관광명소"
      ]
     },
     "metadata": {},
     "output_type": "display_data"
    }
   ],
   "source": [
    "jeju_poi[['id', 'place_name', 'keyword', 'category_group_name']].head(2)"
   ]
  },
  {
   "cell_type": "markdown",
   "metadata": {},
   "source": [
    "#### 3. content 만들기"
   ]
  },
  {
   "cell_type": "markdown",
   "metadata": {},
   "source": [
    "- keyword와 category_group_name를 합쳐 content 컬럼을 추가한다.\n",
    "  - 자연어를 이용한 유사도 측정을 위해"
   ]
  },
  {
   "cell_type": "code",
   "execution_count": null,
   "metadata": {},
   "outputs": [
    {
     "data": {
      "application/vnd.jupyter.widget-view+json": {
       "model_id": "d491cf2f8eb6401d93b06e6ad31b8b15",
       "version_major": 2,
       "version_minor": 0
      },
      "text/plain": [
       "0it [00:00, ?it/s]"
      ]
     },
     "metadata": {},
     "output_type": "display_data"
    }
   ],
   "source": [
    "from tqdm.notebook import tqdm\n",
    "jeju_poi['content'] = ''\n",
    "\n",
    "for idx, row in tqdm(jeju_poi.iterrows()):\n",
    "    content = (row['keyword']+','+row['category_group_name']).replace(' ', '').replace(',', ' ')\n",
    "    jeju_poi.loc[idx, 'content'] = content"
   ]
  },
  {
   "cell_type": "code",
   "execution_count": null,
   "metadata": {},
   "outputs": [
    {
     "data": {
      "text/html": [
       "<div>\n",
       "<style scoped>\n",
       "    .dataframe tbody tr th:only-of-type {\n",
       "        vertical-align: middle;\n",
       "    }\n",
       "\n",
       "    .dataframe tbody tr th {\n",
       "        vertical-align: top;\n",
       "    }\n",
       "\n",
       "    .dataframe thead th {\n",
       "        text-align: right;\n",
       "    }\n",
       "</style>\n",
       "<table border=\"1\" class=\"dataframe\">\n",
       "  <thead>\n",
       "    <tr style=\"text-align: right;\">\n",
       "      <th></th>\n",
       "      <th>id</th>\n",
       "      <th>place_name</th>\n",
       "      <th>keyword</th>\n",
       "      <th>category_group_name</th>\n",
       "      <th>content</th>\n",
       "    </tr>\n",
       "  </thead>\n",
       "  <tbody>\n",
       "    <tr>\n",
       "      <th>0</th>\n",
       "      <td>26388484</td>\n",
       "      <td>수목원테마파크 아이스뮤지엄</td>\n",
       "      <td>테마파크</td>\n",
       "      <td>관광명소</td>\n",
       "      <td>테마파크 관광명소</td>\n",
       "    </tr>\n",
       "    <tr>\n",
       "      <th>1</th>\n",
       "      <td>1129394481</td>\n",
       "      <td>고스트타운</td>\n",
       "      <td>테마파크,가볼만한 곳</td>\n",
       "      <td>관광명소</td>\n",
       "      <td>테마파크 가볼만한곳 관광명소</td>\n",
       "    </tr>\n",
       "  </tbody>\n",
       "</table>\n",
       "</div>"
      ],
      "text/plain": [
       "           id      place_name      keyword category_group_name  \\\n",
       "0    26388484  수목원테마파크 아이스뮤지엄         테마파크                관광명소   \n",
       "1  1129394481           고스트타운  테마파크,가볼만한 곳                관광명소   \n",
       "\n",
       "           content  \n",
       "0        테마파크 관광명소  \n",
       "1  테마파크 가볼만한곳 관광명소  "
      ]
     },
     "metadata": {},
     "output_type": "display_data"
    }
   ],
   "source": [
    "jeju_poi[['id', 'place_name', 'keyword', 'category_group_name', 'content']].head(2)"
   ]
  },
  {
   "cell_type": "code",
   "execution_count": null,
   "metadata": {},
   "outputs": [
    {
     "data": {
      "text/plain": [
       "'테마파크 관광명소'"
      ]
     },
     "metadata": {},
     "output_type": "display_data"
    }
   ],
   "source": [
    "jeju_poi.loc[0, 'content']"
   ]
  },
  {
   "cell_type": "markdown",
   "metadata": {},
   "source": [
    "#### 4. CountVectorizer"
   ]
  },
  {
   "cell_type": "markdown",
   "metadata": {},
   "source": [
    "- 새로 생선한 'content'를 기준으로 CountVectorizer 진행"
   ]
  },
  {
   "cell_type": "code",
   "execution_count": null,
   "metadata": {},
   "outputs": [
    {
     "data": {
      "text/plain": [
       "(2306, 38)"
      ]
     },
     "metadata": {},
     "output_type": "display_data"
    }
   ],
   "source": [
    "from sklearn.feature_extraction.text import CountVectorizer\n",
    "\n",
    "count_vect = CountVectorizer(min_df=0, ngram_range=(1, 2))\n",
    "content_mat = count_vect.fit_transform(jeju_poi['content'])\n",
    "content_mat.shape"
   ]
  },
  {
   "cell_type": "code",
   "execution_count": null,
   "metadata": {},
   "outputs": [
    {
     "data": {
      "text/plain": [
       "array(['가볼만한곳', '가볼만한곳 관광명소', '가족여행', '가족여행 관광명소', '가족여행 음식점', '감성',\n",
       "       '감성 가볼만한곳', '감성 맛집', '감성 음식점', '감성 카페', '관광명소', '레포츠', '레포츠 가볼만한곳',\n",
       "       '맛집', '맛집 감성', '맛집 분위기좋은', '맛집 오션뷰', '맛집 음식점', '맛집 카페', '분위기좋은',\n",
       "       '분위기좋은 감성', '분위기좋은 맛집', '분위기좋은 오션뷰', '분위기좋은 음식점', '분위기좋은 카페',\n",
       "       '오션뷰', '오션뷰 맛집', '오션뷰 음식점', '오션뷰 카페', '음식점', '체험', '체험 가볼만한곳',\n",
       "       '카페', '테마파크', '테마파크 가볼만한곳', '테마파크 관광명소', '테마파크 레포츠', '테마파크 음식점'],\n",
       "      dtype=object)"
      ]
     },
     "metadata": {},
     "output_type": "display_data"
    }
   ],
   "source": [
    "count_vect.get_feature_names_out()"
   ]
  },
  {
   "cell_type": "markdown",
   "metadata": {},
   "source": [
    "#### 5. Cosine Similarity"
   ]
  },
  {
   "cell_type": "markdown",
   "metadata": {},
   "source": [
    "- content_mat을 활용하여 코사인 유사도 계산"
   ]
  },
  {
   "cell_type": "code",
   "execution_count": null,
   "metadata": {},
   "outputs": [
    {
     "name": "stdout",
     "output_type": "stream",
     "text": [
      "(2306, 2306)\n",
      "[[1.         0.51639778 0.51639778 ... 0.         0.         0.        ]\n",
      " [0.51639778 1.         1.         ... 0.         0.         0.        ]]\n"
     ]
    }
   ],
   "source": [
    "from sklearn.metrics.pairwise import cosine_similarity\n",
    "\n",
    "content_sim = cosine_similarity(content_mat, content_mat)\n",
    "print(content_sim.shape)\n",
    "print(content_sim[:2])"
   ]
  },
  {
   "cell_type": "code",
   "execution_count": null,
   "metadata": {},
   "outputs": [
    {
     "name": "stdout",
     "output_type": "stream",
     "text": [
      "[[   0 1083   82 ... 1526 1527 1152]\n",
      " [  81  610  887 ... 1526 1527 1152]]\n"
     ]
    }
   ],
   "source": [
    "content_sim_sorted_idx = content_sim.argsort()[:, ::-1]\n",
    "print(content_sim_sorted_idx[:2])"
   ]
  },
  {
   "cell_type": "code",
   "execution_count": null,
   "metadata": {},
   "outputs": [
    {
     "name": "stdout",
     "output_type": "stream",
     "text": [
      "0.5163977794943223 11\n"
     ]
    },
    {
     "data": {
      "text/plain": [
       "array([[1.        , 0.51639778, 0.51639778, ..., 0.        , 0.        ,\n",
       "        0.        ],\n",
       "       [0.51639778, 1.        , 1.        , ..., 0.        , 0.        ,\n",
       "        0.        ]])"
      ]
     },
     "metadata": {},
     "output_type": "display_data"
    }
   ],
   "source": [
    "for idx, key in enumerate(content_sim_sorted_idx[0]):\n",
    "    if content_sim[0][key] < content_sim[0][0]:\n",
    "        print(content_sim[0][key], idx)\n",
    "        break\n",
    "content_sim[:2]"
   ]
  },
  {
   "cell_type": "code",
   "execution_count": null,
   "metadata": {},
   "outputs": [],
   "source": [
    "import numpy as np\n",
    "\n",
    "# np.save('content_sim_test.npy', content_sim)"
   ]
  },
  {
   "cell_type": "markdown",
   "metadata": {},
   "source": [
    "##### ◽ㅇ"
   ]
  },
  {
   "cell_type": "markdown",
   "metadata": {},
   "source": [
    "### - 서귀포 데이터 : 잘못된 이미지 삭제"
   ]
  },
  {
   "cell_type": "code",
   "execution_count": null,
   "metadata": {},
   "outputs": [],
   "source": [
    "import pandas as pd\n",
    "\n",
    "seogipo_poi = pd.read_excel('./data/220120/서귀포_POI_이미지 정리(전).xlsx', index_col=0)"
   ]
  },
  {
   "cell_type": "code",
   "execution_count": null,
   "metadata": {},
   "outputs": [
    {
     "data": {
      "text/html": [
       "<div>\n",
       "<style scoped>\n",
       "    .dataframe tbody tr th:only-of-type {\n",
       "        vertical-align: middle;\n",
       "    }\n",
       "\n",
       "    .dataframe tbody tr th {\n",
       "        vertical-align: top;\n",
       "    }\n",
       "\n",
       "    .dataframe thead th {\n",
       "        text-align: right;\n",
       "    }\n",
       "</style>\n",
       "<table border=\"1\" class=\"dataframe\">\n",
       "  <thead>\n",
       "    <tr style=\"text-align: right;\">\n",
       "      <th></th>\n",
       "      <th>keyword</th>\n",
       "      <th>address_name</th>\n",
       "      <th>category_group_code</th>\n",
       "      <th>category_group_name</th>\n",
       "      <th>category_name</th>\n",
       "      <th>distance</th>\n",
       "      <th>id</th>\n",
       "      <th>phone</th>\n",
       "      <th>place_name</th>\n",
       "      <th>place_url</th>\n",
       "      <th>road_address_name</th>\n",
       "      <th>x</th>\n",
       "      <th>y</th>\n",
       "      <th>rating</th>\n",
       "      <th>img_link</th>\n",
       "    </tr>\n",
       "  </thead>\n",
       "  <tbody>\n",
       "    <tr>\n",
       "      <th>0</th>\n",
       "      <td>테마파크,가볼만한 곳</td>\n",
       "      <td>제주특별자치도 서귀포시 법환동 877-3</td>\n",
       "      <td>AT4</td>\n",
       "      <td>관광명소</td>\n",
       "      <td>여행 &gt; 관광,명소 &gt; 테마파크</td>\n",
       "      <td>NaN</td>\n",
       "      <td>10472331</td>\n",
       "      <td>064-739-8254</td>\n",
       "      <td>세리월드</td>\n",
       "      <td>http://place.map.kakao.com/10472331</td>\n",
       "      <td>제주특별자치도 서귀포시 법환상로2번길 97-17</td>\n",
       "      <td>126.511874</td>\n",
       "      <td>33.247016</td>\n",
       "      <td>3.7</td>\n",
       "      <td>https://img1.kakaocdn.net/relay/local/R640x320...</td>\n",
       "    </tr>\n",
       "  </tbody>\n",
       "</table>\n",
       "</div>"
      ],
      "text/plain": [
       "       keyword            address_name category_group_code  \\\n",
       "0  테마파크,가볼만한 곳  제주특별자치도 서귀포시 법환동 877-3                 AT4   \n",
       "\n",
       "  category_group_name      category_name  distance        id         phone  \\\n",
       "0                관광명소  여행 > 관광,명소 > 테마파크       NaN  10472331  064-739-8254   \n",
       "\n",
       "  place_name                            place_url           road_address_name  \\\n",
       "0       세리월드  http://place.map.kakao.com/10472331  제주특별자치도 서귀포시 법환상로2번길 97-17   \n",
       "\n",
       "            x          y  rating  \\\n",
       "0  126.511874  33.247016     3.7   \n",
       "\n",
       "                                            img_link  \n",
       "0  https://img1.kakaocdn.net/relay/local/R640x320...  "
      ]
     },
     "metadata": {},
     "output_type": "display_data"
    }
   ],
   "source": [
    "seogipo_poi.head(1)"
   ]
  },
  {
   "cell_type": "markdown",
   "metadata": {},
   "source": [
    "#### 1. 사용할 이미지 확인"
   ]
  },
  {
   "cell_type": "markdown",
   "metadata": {},
   "source": [
    "- 로고, 장소와 다른 이미지를 삭제하고 남은 이미지 확인\n",
    "  - 파일명 : (idx)_(plac ename).jpg\n",
    "- .jpg를 삭제하고 '_'를 기준으로 split"
   ]
  },
  {
   "cell_type": "code",
   "execution_count": null,
   "metadata": {},
   "outputs": [
    {
     "name": "stdout",
     "output_type": "stream",
     "text": [
      "관광명소\n",
      "음식점\n",
      "카페\n"
     ]
    }
   ],
   "source": [
    "import os\n",
    "\n",
    "path = './data/220120/_이미지_서귀포/'\n",
    "use_idx = []\n",
    "for dir_name in os.listdir(path):\n",
    "    if '삭제' in dir_name:\n",
    "        continue\n",
    "    print(dir_name)\n",
    "    for image in os.listdir(path + dir_name):\n",
    "        image = image.replace('.jpg', '')\n",
    "        idx, p_name = image.split('_')\n",
    "        use_idx.append(int(idx))"
   ]
  },
  {
   "cell_type": "code",
   "execution_count": null,
   "metadata": {},
   "outputs": [
    {
     "data": {
      "text/plain": [
       "([0, 1039, 1077, 1080, 1083, 1084, 1086, 1087, 1089, 1091], 702)"
      ]
     },
     "metadata": {},
     "output_type": "display_data"
    }
   ],
   "source": [
    "use_idx[:10], len(use_idx)"
   ]
  },
  {
   "cell_type": "markdown",
   "metadata": {},
   "source": [
    "#### 2. 남은 이미지만 사용"
   ]
  },
  {
   "cell_type": "markdown",
   "metadata": {},
   "source": [
    "- use_idx를 이용하여 해당하는 인덱스만 사용"
   ]
  },
  {
   "cell_type": "code",
   "execution_count": null,
   "metadata": {},
   "outputs": [],
   "source": [
    "use_idx.sort()"
   ]
  },
  {
   "cell_type": "code",
   "execution_count": null,
   "metadata": {},
   "outputs": [],
   "source": [
    "seogipo_poi = seogipo_poi.loc[use_idx, :].copy()"
   ]
  },
  {
   "cell_type": "code",
   "execution_count": null,
   "metadata": {},
   "outputs": [
    {
     "name": "stdout",
     "output_type": "stream",
     "text": [
      "<class 'pandas.core.frame.DataFrame'>\n",
      "Int64Index: 702 entries, 0 to 1576\n",
      "Data columns (total 15 columns):\n",
      " #   Column               Non-Null Count  Dtype  \n",
      "---  ------               --------------  -----  \n",
      " 0   keyword              702 non-null    object \n",
      " 1   address_name         702 non-null    object \n",
      " 2   category_group_code  702 non-null    object \n",
      " 3   category_group_name  702 non-null    object \n",
      " 4   category_name        702 non-null    object \n",
      " 5   distance             0 non-null      float64\n",
      " 6   id                   702 non-null    int64  \n",
      " 7   phone                514 non-null    object \n",
      " 8   place_name           702 non-null    object \n",
      " 9   place_url            702 non-null    object \n",
      " 10  road_address_name    621 non-null    object \n",
      " 11  x                    702 non-null    float64\n",
      " 12  y                    702 non-null    float64\n",
      " 13  rating               702 non-null    float64\n",
      " 14  img_link             702 non-null    object \n",
      "dtypes: float64(4), int64(1), object(10)\n",
      "memory usage: 87.8+ KB\n"
     ]
    }
   ],
   "source": [
    "seogipo_poi.info()"
   ]
  },
  {
   "cell_type": "code",
   "execution_count": null,
   "metadata": {},
   "outputs": [
    {
     "data": {
      "text/html": [
       "<div>\n",
       "<style scoped>\n",
       "    .dataframe tbody tr th:only-of-type {\n",
       "        vertical-align: middle;\n",
       "    }\n",
       "\n",
       "    .dataframe tbody tr th {\n",
       "        vertical-align: top;\n",
       "    }\n",
       "\n",
       "    .dataframe thead th {\n",
       "        text-align: right;\n",
       "    }\n",
       "</style>\n",
       "<table border=\"1\" class=\"dataframe\">\n",
       "  <thead>\n",
       "    <tr style=\"text-align: right;\">\n",
       "      <th></th>\n",
       "      <th>keyword</th>\n",
       "      <th>address_name</th>\n",
       "      <th>category_group_code</th>\n",
       "      <th>category_group_name</th>\n",
       "      <th>category_name</th>\n",
       "      <th>distance</th>\n",
       "      <th>id</th>\n",
       "      <th>phone</th>\n",
       "      <th>place_name</th>\n",
       "      <th>place_url</th>\n",
       "      <th>road_address_name</th>\n",
       "      <th>x</th>\n",
       "      <th>y</th>\n",
       "      <th>rating</th>\n",
       "      <th>img_link</th>\n",
       "    </tr>\n",
       "  </thead>\n",
       "  <tbody>\n",
       "    <tr>\n",
       "      <th>0</th>\n",
       "      <td>테마파크,가볼만한 곳</td>\n",
       "      <td>제주특별자치도 서귀포시 법환동 877-3</td>\n",
       "      <td>AT4</td>\n",
       "      <td>관광명소</td>\n",
       "      <td>여행 &gt; 관광,명소 &gt; 테마파크</td>\n",
       "      <td>NaN</td>\n",
       "      <td>10472331</td>\n",
       "      <td>064-739-8254</td>\n",
       "      <td>세리월드</td>\n",
       "      <td>http://place.map.kakao.com/10472331</td>\n",
       "      <td>제주특별자치도 서귀포시 법환상로2번길 97-17</td>\n",
       "      <td>126.511874</td>\n",
       "      <td>33.247016</td>\n",
       "      <td>3.7</td>\n",
       "      <td>https://img1.kakaocdn.net/relay/local/R640x320...</td>\n",
       "    </tr>\n",
       "  </tbody>\n",
       "</table>\n",
       "</div>"
      ],
      "text/plain": [
       "       keyword            address_name category_group_code  \\\n",
       "0  테마파크,가볼만한 곳  제주특별자치도 서귀포시 법환동 877-3                 AT4   \n",
       "\n",
       "  category_group_name      category_name  distance        id         phone  \\\n",
       "0                관광명소  여행 > 관광,명소 > 테마파크       NaN  10472331  064-739-8254   \n",
       "\n",
       "  place_name                            place_url           road_address_name  \\\n",
       "0       세리월드  http://place.map.kakao.com/10472331  제주특별자치도 서귀포시 법환상로2번길 97-17   \n",
       "\n",
       "            x          y  rating  \\\n",
       "0  126.511874  33.247016     3.7   \n",
       "\n",
       "                                            img_link  \n",
       "0  https://img1.kakaocdn.net/relay/local/R640x320...  "
      ]
     },
     "metadata": {},
     "output_type": "display_data"
    }
   ],
   "source": [
    "seogipo_poi.head(1)"
   ]
  },
  {
   "cell_type": "markdown",
   "metadata": {},
   "source": [
    "#### 3. 데이터 저장"
   ]
  },
  {
   "cell_type": "code",
   "execution_count": null,
   "metadata": {},
   "outputs": [],
   "source": [
    "# seogipo_poi.to_excel('./data/220120/_서귀포_POI_final_use.xlsx')"
   ]
  },
  {
   "cell_type": "markdown",
   "metadata": {},
   "source": [
    "### - 서귀포 데이터 : 이미지 RESIZE"
   ]
  },
  {
   "cell_type": "markdown",
   "metadata": {},
   "source": [
    "- 이미지의 크기가 다르기 때문에 동일한 크기로 조절\n",
    "  - (224, 224)"
   ]
  },
  {
   "cell_type": "markdown",
   "metadata": {},
   "source": [
    "#### 1. 이미지 Path 확인"
   ]
  },
  {
   "cell_type": "markdown",
   "metadata": {},
   "source": [
    "- 폴더별로 이미지가 나누어져 있으므로 폴더를 key 값으로 dict형 구성"
   ]
  },
  {
   "cell_type": "code",
   "execution_count": null,
   "metadata": {},
   "outputs": [
    {
     "name": "stdout",
     "output_type": "stream",
     "text": [
      "관광명소\n",
      "음식점\n",
      "카페\n"
     ]
    }
   ],
   "source": [
    "import os\n",
    "\n",
    "path = './data/220120/_서귀포_이미지/'\n",
    "image_path = {'관광명소' : [], '음식점' : [], '카페' : []}\n",
    "for dir_name in os.listdir(path):\n",
    "    print(dir_name)\n",
    "    for image in os.listdir(path + dir_name):\n",
    "        image_path[dir_name].append(path + dir_name + '/' + image)"
   ]
  },
  {
   "cell_type": "code",
   "execution_count": null,
   "metadata": {},
   "outputs": [
    {
     "data": {
      "text/plain": [
       "(['./data/220120/_서귀포_이미지/관광명소/0_세리월드.jpg',\n",
       "  './data/220120/_서귀포_이미지/관광명소/1039_신례천생태로2코스.jpg'],\n",
       " ['./data/220120/_서귀포_이미지/음식점/1001_서귀포밀면.jpg',\n",
       "  './data/220120/_서귀포_이미지/음식점/1003_토평 해뜨는집.jpg'],\n",
       " ['./data/220120/_서귀포_이미지/카페/1028_사우스포레스트.jpg',\n",
       "  './data/220120/_서귀포_이미지/카페/1073_네이처캔버스.jpg'])"
      ]
     },
     "metadata": {},
     "output_type": "display_data"
    }
   ],
   "source": [
    "image_path['관광명소'][:2], image_path['음식점'][:2], image_path['카페'][:2]"
   ]
  },
  {
   "cell_type": "markdown",
   "metadata": {},
   "source": [
    "#### 2. 이미지 Resize"
   ]
  },
  {
   "cell_type": "markdown",
   "metadata": {},
   "source": [
    "##### ◽PIL 사용"
   ]
  },
  {
   "cell_type": "markdown",
   "metadata": {},
   "source": [
    "- jpg의 경우 중간에 오류가 발생하여 png로 변경"
   ]
  },
  {
   "cell_type": "code",
   "execution_count": null,
   "metadata": {},
   "outputs": [],
   "source": [
    "from PIL import Image\n",
    "\n",
    "home = 'C:/Users/Isanghada/Desktop/서귀포_테스트/'\n",
    "for kind in image_path.keys():\n",
    "    for image in image_path[kind]:    \n",
    "        name = image.split('/')[-1]\n",
    "        img = Image.open(image)\n",
    "        img.resize((224, 224)).save(home+kind+'/'+name[:-3]+'png', 'png')"
   ]
  },
  {
   "cell_type": "markdown",
   "metadata": {},
   "source": [
    "#### 3. 이미지명 엑셀 파일"
   ]
  },
  {
   "cell_type": "code",
   "execution_count": null,
   "metadata": {},
   "outputs": [
    {
     "name": "stdout",
     "output_type": "stream",
     "text": [
      "관광명소\n",
      "음식점\n",
      "카페\n"
     ]
    }
   ],
   "source": [
    "import os\n",
    "\n",
    "home = 'C:/Users/Isanghada/Desktop/서귀포_테스트/'\n",
    "dir_list = []\n",
    "img_list = []\n",
    "for dir_name in os.listdir(home):\n",
    "    print(dir_name)\n",
    "    for img in os.listdir(home+dir_name):\n",
    "        dir_list.append(dir_name)\n",
    "        img_list.append(img)"
   ]
  },
  {
   "cell_type": "code",
   "execution_count": null,
   "metadata": {},
   "outputs": [
    {
     "data": {
      "text/plain": [
       "(702, 702)"
      ]
     },
     "metadata": {},
     "output_type": "display_data"
    }
   ],
   "source": [
    "len(dir_list), len(img_list)"
   ]
  },
  {
   "cell_type": "code",
   "execution_count": null,
   "metadata": {},
   "outputs": [],
   "source": [
    "import pandas as pd\n",
    "\n",
    "all_image = pd.DataFrame({\n",
    "    'dir' : dir_list,\n",
    "    'image' : img_list\n",
    "})"
   ]
  },
  {
   "cell_type": "code",
   "execution_count": null,
   "metadata": {},
   "outputs": [],
   "source": [
    "# all_image.to_excel('./data/220120/서귀포_image_info.xlsx')"
   ]
  },
  {
   "cell_type": "markdown",
   "metadata": {},
   "source": [
    "##### ◽ㅇ"
   ]
  }
 ],
 "metadata": {
  "language_info": {
   "name": "python"
  },
  "orig_nbformat": 4
 },
 "nbformat": 4,
 "nbformat_minor": 2
}
