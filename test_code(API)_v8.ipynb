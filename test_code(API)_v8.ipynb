{
 "cells": [
  {
   "cell_type": "markdown",
   "metadata": {},
   "source": [
    "### - 카카오 API(키워드 검색) : 숙박 시설 데이터"
   ]
  },
  {
   "cell_type": "markdown",
   "metadata": {},
   "source": [
    "- 키워드 검색\n",
    "  - 질의어를 통해 장소 검색 결과 반환\n",
    "  - category_group_name, category_name, place_url\n",
    "- 키워드 장소 검색 : 일간 100,000건\n",
    "- 검색할 카테고리 선정 : 숙박\n",
    "  - AD5(숙박)\n",
    "- 법정동·리 별로 검색 : <a href = 'https://ko.wikipedia.org/wiki/%EC%A0%9C%EC%A3%BC%EC%8B%9C%EC%9D%98_%ED%96%89%EC%A0%95_%EA%B5%AC%EC%97%AD' target='_blink'>위키백과</a>"
   ]
  },
  {
   "cell_type": "markdown",
   "metadata": {},
   "source": [
    "#### 1. 데이터 획득"
   ]
  },
  {
   "cell_type": "markdown",
   "metadata": {},
   "source": [
    "##### ◽카테고리, 키워드, 지역 변수"
   ]
  },
  {
   "cell_type": "code",
   "execution_count": null,
   "metadata": {},
   "outputs": [],
   "source": [
    "keywords = ['호텔', '리조트', '콘도', '게스트하우스', '민박', '펜션']\n",
    "categorys = ['AD5']\n",
    "categorys_info = {'AD5' : '숙박'}"
   ]
  },
  {
   "cell_type": "code",
   "execution_count": null,
   "metadata": {},
   "outputs": [
    {
     "data": {
      "text/html": [
       "<div>\n",
       "<style scoped>\n",
       "    .dataframe tbody tr th:only-of-type {\n",
       "        vertical-align: middle;\n",
       "    }\n",
       "\n",
       "    .dataframe tbody tr th {\n",
       "        vertical-align: top;\n",
       "    }\n",
       "\n",
       "    .dataframe thead th {\n",
       "        text-align: right;\n",
       "    }\n",
       "</style>\n",
       "<table border=\"1\" class=\"dataframe\">\n",
       "  <thead>\n",
       "    <tr style=\"text-align: right;\">\n",
       "      <th></th>\n",
       "      <th>이름</th>\n",
       "      <th>한자</th>\n",
       "      <th>인구</th>\n",
       "      <th>면적</th>\n",
       "      <th>법정동_리</th>\n",
       "    </tr>\n",
       "  </thead>\n",
       "  <tbody>\n",
       "    <tr>\n",
       "      <th>0</th>\n",
       "      <td>애월읍</td>\n",
       "      <td>涯月邑</td>\n",
       "      <td>31790</td>\n",
       "      <td>202.16</td>\n",
       "      <td>고내리,고성리,곽지리,광령리,구엄리,금성리,남읍리,봉성리,상가리,상귀리,소길리,수산...</td>\n",
       "    </tr>\n",
       "    <tr>\n",
       "      <th>1</th>\n",
       "      <td>조천읍</td>\n",
       "      <td>朝天邑</td>\n",
       "      <td>21547</td>\n",
       "      <td>150.64</td>\n",
       "      <td>교래리,대흘리,북촌리,선흘리,신촌리,신흥리,와산리,와흘리,조천리,함덕리</td>\n",
       "    </tr>\n",
       "    <tr>\n",
       "      <th>2</th>\n",
       "      <td>한림읍</td>\n",
       "      <td>翰林邑</td>\n",
       "      <td>23143</td>\n",
       "      <td>91.09</td>\n",
       "      <td>귀덕리,금능리,금악리,대림리,동명리,명월리,상대리,상명리,수원리,옹포리,월령리,월림...</td>\n",
       "    </tr>\n",
       "    <tr>\n",
       "      <th>3</th>\n",
       "      <td>구좌읍</td>\n",
       "      <td>舊左邑</td>\n",
       "      <td>15216</td>\n",
       "      <td>185.93</td>\n",
       "      <td>김녕리,덕천리,동복리,상도리,세화리,송당리,월정리,종달리,평대리,하도리,한동리,행원리</td>\n",
       "    </tr>\n",
       "    <tr>\n",
       "      <th>4</th>\n",
       "      <td>한경면</td>\n",
       "      <td>翰京面</td>\n",
       "      <td>8775</td>\n",
       "      <td>79.03</td>\n",
       "      <td>고산리,금등리,낙천리,두모리,신창리,용수리,저지리,조수리,청수리,판포리</td>\n",
       "    </tr>\n",
       "  </tbody>\n",
       "</table>\n",
       "</div>"
      ],
      "text/plain": [
       "    이름   한자     인구      면적                                              법정동_리\n",
       "0  애월읍  涯月邑  31790  202.16  고내리,고성리,곽지리,광령리,구엄리,금성리,남읍리,봉성리,상가리,상귀리,소길리,수산...\n",
       "1  조천읍  朝天邑  21547  150.64            교래리,대흘리,북촌리,선흘리,신촌리,신흥리,와산리,와흘리,조천리,함덕리\n",
       "2  한림읍  翰林邑  23143   91.09  귀덕리,금능리,금악리,대림리,동명리,명월리,상대리,상명리,수원리,옹포리,월령리,월림...\n",
       "3  구좌읍  舊左邑  15216  185.93    김녕리,덕천리,동복리,상도리,세화리,송당리,월정리,종달리,평대리,하도리,한동리,행원리\n",
       "4  한경면  翰京面   8775   79.03            고산리,금등리,낙천리,두모리,신창리,용수리,저지리,조수리,청수리,판포리"
      ]
     },
     "metadata": {},
     "output_type": "display_data"
    }
   ],
   "source": [
    "import pandas as pd\n",
    "\n",
    "jeju_range = pd.read_excel('./data/220113/제주도_법정동_리.xlsx')\n",
    "jeju_range.head()"
   ]
  },
  {
   "cell_type": "markdown",
   "metadata": {},
   "source": [
    "##### ◽카카오 API 활용 함수 : 함수 재활용"
   ]
  },
  {
   "cell_type": "markdown",
   "metadata": {},
   "source": [
    "- search_result(keyword, category, jeju_name)\n",
    "  - (카테고리, 법정동_리) 검색 함수"
   ]
  },
  {
   "cell_type": "code",
   "execution_count": null,
   "metadata": {},
   "outputs": [],
   "source": [
    "import json\n",
    "import requests\n",
    "\n",
    "def search_result(keyword, category, jeju_name):\n",
    "    result = []\n",
    "\n",
    "    # REST 키\n",
    "    rest_api_key = '63d0926cf9b14de298157081ba8a8d02'\n",
    "    # 헤더\n",
    "    headers = {\"Authorization\" : \"KakaoAK {}\".format(rest_api_key)}\n",
    "    # 파라미터\n",
    "    params = {\"query\" : f\"제주특별자치도 {jeju_name} {keyword}\", \"page\" : 1, \"category_group_code\" : f\"{category}\"}\n",
    "    url = \"https://dapi.kakao.com/v2/local/search/keyword.json\"\n",
    "\n",
    "    while True:\n",
    "        # GET을 이용하여 획득\n",
    "        res = requests.get(url, headers=headers, params=params)\n",
    "        if res.status_code == 200:\n",
    "            # Json을 이용하여 해제\n",
    "            doc = json.loads(res.text)\n",
    "            result.extend(doc['documents'])\n",
    "            if doc['meta']['is_end'] == True:\n",
    "                break\n",
    "            else:\n",
    "                params['page'] += 1\n",
    "    return result"
   ]
  },
  {
   "cell_type": "markdown",
   "metadata": {},
   "source": [
    "- search_df()\n",
    "  - 전체 숙박 데이터 프레임 반환 함수"
   ]
  },
  {
   "cell_type": "code",
   "execution_count": null,
   "metadata": {},
   "outputs": [],
   "source": [
    "import pandas as pd\n",
    "from tqdm.notebook import tqdm\n",
    "\n",
    "def search_df():\n",
    "    results = []\n",
    "    for idx, row in tqdm(jeju_range.iterrows()):\n",
    "        for jeju in row['법정동_리'].split(','):\n",
    "            for category in categorys:\n",
    "                for key in keywords:\n",
    "                    r = pd.DataFrame(search_result(key, category, jeju))\n",
    "                    r['keyword'] = key\n",
    "                    results.append(r.copy())\n",
    "    return pd.concat(results).reset_index(drop=True)"
   ]
  },
  {
   "cell_type": "markdown",
   "metadata": {},
   "source": [
    "##### ◽카카오 API 활용 데이터 획득"
   ]
  },
  {
   "cell_type": "code",
   "execution_count": null,
   "metadata": {},
   "outputs": [
    {
     "data": {
      "application/vnd.jupyter.widget-view+json": {
       "model_id": "ace8de6847174f29a55837903dd51cd5",
       "version_major": 2,
       "version_minor": 0
      },
      "text/plain": [
       "0it [00:00, ?it/s]"
      ]
     },
     "metadata": {},
     "output_type": "display_data"
    }
   ],
   "source": [
    "accommodation_poi = search_df()"
   ]
  },
  {
   "cell_type": "code",
   "execution_count": null,
   "metadata": {},
   "outputs": [],
   "source": [
    "# accommodation_poi.to_excel('./data/220114/숙박_POI(API).xlsx',index=False)"
   ]
  },
  {
   "cell_type": "code",
   "execution_count": null,
   "metadata": {},
   "outputs": [
    {
     "data": {
      "text/html": [
       "<div>\n",
       "<style scoped>\n",
       "    .dataframe tbody tr th:only-of-type {\n",
       "        vertical-align: middle;\n",
       "    }\n",
       "\n",
       "    .dataframe tbody tr th {\n",
       "        vertical-align: top;\n",
       "    }\n",
       "\n",
       "    .dataframe thead th {\n",
       "        text-align: right;\n",
       "    }\n",
       "</style>\n",
       "<table border=\"1\" class=\"dataframe\">\n",
       "  <thead>\n",
       "    <tr style=\"text-align: right;\">\n",
       "      <th></th>\n",
       "      <th>address_name</th>\n",
       "      <th>category_group_code</th>\n",
       "      <th>category_group_name</th>\n",
       "      <th>category_name</th>\n",
       "      <th>distance</th>\n",
       "      <th>id</th>\n",
       "      <th>phone</th>\n",
       "      <th>place_name</th>\n",
       "      <th>place_url</th>\n",
       "      <th>road_address_name</th>\n",
       "      <th>x</th>\n",
       "      <th>y</th>\n",
       "      <th>keyword</th>\n",
       "    </tr>\n",
       "  </thead>\n",
       "  <tbody>\n",
       "    <tr>\n",
       "      <th>0</th>\n",
       "      <td>제주특별자치도 제주시 애월읍 고내리 84</td>\n",
       "      <td>AD5</td>\n",
       "      <td>숙박</td>\n",
       "      <td>여행 &gt; 숙박 &gt; 호텔</td>\n",
       "      <td></td>\n",
       "      <td>233994951</td>\n",
       "      <td>1811-0012</td>\n",
       "      <td>다인오세아노호텔</td>\n",
       "      <td>http://place.map.kakao.com/233994951</td>\n",
       "      <td>제주특별자치도 제주시 애월읍 애월해안로 394</td>\n",
       "      <td>126.3504708281553</td>\n",
       "      <td>33.4724871676714</td>\n",
       "      <td>호텔</td>\n",
       "    </tr>\n",
       "    <tr>\n",
       "      <th>1</th>\n",
       "      <td>제주특별자치도 제주시 애월읍 고내리 332-1</td>\n",
       "      <td>AD5</td>\n",
       "      <td>숙박</td>\n",
       "      <td>여행 &gt; 숙박 &gt; 호텔</td>\n",
       "      <td></td>\n",
       "      <td>26635911</td>\n",
       "      <td>064-799-1991</td>\n",
       "      <td>리치호텔</td>\n",
       "      <td>http://place.map.kakao.com/26635911</td>\n",
       "      <td>제주특별자치도 제주시 애월읍 고내로13길 100</td>\n",
       "      <td>126.34894090405</td>\n",
       "      <td>33.4720743292895</td>\n",
       "      <td>호텔</td>\n",
       "    </tr>\n",
       "  </tbody>\n",
       "</table>\n",
       "</div>"
      ],
      "text/plain": [
       "                address_name category_group_code category_group_name  \\\n",
       "0     제주특별자치도 제주시 애월읍 고내리 84                 AD5                  숙박   \n",
       "1  제주특별자치도 제주시 애월읍 고내리 332-1                 AD5                  숙박   \n",
       "\n",
       "  category_name distance         id         phone place_name  \\\n",
       "0  여행 > 숙박 > 호텔           233994951     1811-0012   다인오세아노호텔   \n",
       "1  여행 > 숙박 > 호텔            26635911  064-799-1991       리치호텔   \n",
       "\n",
       "                              place_url           road_address_name  \\\n",
       "0  http://place.map.kakao.com/233994951   제주특별자치도 제주시 애월읍 애월해안로 394   \n",
       "1   http://place.map.kakao.com/26635911  제주특별자치도 제주시 애월읍 고내로13길 100   \n",
       "\n",
       "                   x                 y keyword  \n",
       "0  126.3504708281553  33.4724871676714      호텔  \n",
       "1    126.34894090405  33.4720743292895      호텔  "
      ]
     },
     "metadata": {},
     "output_type": "display_data"
    }
   ],
   "source": [
    "accommodation_poi.head(2)"
   ]
  },
  {
   "cell_type": "markdown",
   "metadata": {},
   "source": [
    "##### ◽데이터 확인(숙박_POI(API))"
   ]
  },
  {
   "cell_type": "markdown",
   "metadata": {},
   "source": [
    "- 엑셀을 통해 중복(keyword, id) 제거"
   ]
  },
  {
   "cell_type": "code",
   "execution_count": null,
   "metadata": {},
   "outputs": [],
   "source": [
    "import pandas as pd\n",
    "\n",
    "accommodation_poi = pd.read_excel('./data/220114/숙박_POI(API).xlsx', index_col=False)"
   ]
  },
  {
   "cell_type": "code",
   "execution_count": null,
   "metadata": {},
   "outputs": [
    {
     "name": "stdout",
     "output_type": "stream",
     "text": [
      "<class 'pandas.core.frame.DataFrame'>\n",
      "RangeIndex: 3747 entries, 0 to 3746\n",
      "Data columns (total 13 columns):\n",
      " #   Column               Non-Null Count  Dtype  \n",
      "---  ------               --------------  -----  \n",
      " 0   address_name         3747 non-null   object \n",
      " 1   category_group_code  3747 non-null   object \n",
      " 2   category_group_name  3747 non-null   object \n",
      " 3   category_name        3747 non-null   object \n",
      " 4   distance             0 non-null      float64\n",
      " 5   id                   3747 non-null   int64  \n",
      " 6   phone                2336 non-null   object \n",
      " 7   place_name           3747 non-null   object \n",
      " 8   place_url            3747 non-null   object \n",
      " 9   road_address_name    3718 non-null   object \n",
      " 10  x                    3747 non-null   float64\n",
      " 11  y                    3747 non-null   float64\n",
      " 12  keyword              3747 non-null   object \n",
      "dtypes: float64(3), int64(1), object(9)\n",
      "memory usage: 380.7+ KB\n"
     ]
    }
   ],
   "source": [
    "accommodation_poi.info()"
   ]
  },
  {
   "cell_type": "code",
   "execution_count": null,
   "metadata": {},
   "outputs": [
    {
     "data": {
      "text/html": [
       "<div>\n",
       "<style scoped>\n",
       "    .dataframe tbody tr th:only-of-type {\n",
       "        vertical-align: middle;\n",
       "    }\n",
       "\n",
       "    .dataframe tbody tr th {\n",
       "        vertical-align: top;\n",
       "    }\n",
       "\n",
       "    .dataframe thead th {\n",
       "        text-align: right;\n",
       "    }\n",
       "</style>\n",
       "<table border=\"1\" class=\"dataframe\">\n",
       "  <thead>\n",
       "    <tr style=\"text-align: right;\">\n",
       "      <th></th>\n",
       "      <th>keyword</th>\n",
       "    </tr>\n",
       "  </thead>\n",
       "  <tbody>\n",
       "    <tr>\n",
       "      <th>펜션</th>\n",
       "      <td>1795</td>\n",
       "    </tr>\n",
       "    <tr>\n",
       "      <th>민박</th>\n",
       "      <td>718</td>\n",
       "    </tr>\n",
       "    <tr>\n",
       "      <th>게스트하우스</th>\n",
       "      <td>652</td>\n",
       "    </tr>\n",
       "    <tr>\n",
       "      <th>호텔</th>\n",
       "      <td>293</td>\n",
       "    </tr>\n",
       "    <tr>\n",
       "      <th>리조트</th>\n",
       "      <td>166</td>\n",
       "    </tr>\n",
       "    <tr>\n",
       "      <th>콘도</th>\n",
       "      <td>123</td>\n",
       "    </tr>\n",
       "  </tbody>\n",
       "</table>\n",
       "</div>"
      ],
      "text/plain": [
       "        keyword\n",
       "펜션         1795\n",
       "민박          718\n",
       "게스트하우스      652\n",
       "호텔          293\n",
       "리조트         166\n",
       "콘도          123"
      ]
     },
     "metadata": {},
     "output_type": "display_data"
    }
   ],
   "source": [
    "pd.DataFrame(accommodation_poi['keyword'].value_counts())"
   ]
  },
  {
   "cell_type": "markdown",
   "metadata": {},
   "source": [
    "#### 2. id 중복 처리 : 키워드 합치기"
   ]
  },
  {
   "cell_type": "markdown",
   "metadata": {},
   "source": [
    "##### ◽id 중복 확인"
   ]
  },
  {
   "cell_type": "code",
   "execution_count": null,
   "metadata": {},
   "outputs": [],
   "source": [
    "import pandas as pd\n",
    "\n",
    "accommodation_poi = pd.read_excel('./data/220114/숙박_POI(API).xlsx', index_col=False)"
   ]
  },
  {
   "cell_type": "markdown",
   "metadata": {},
   "source": [
    "- id 값으로 조회\n",
    "  - keyword와 category를 비교하여 맞지않는 경우 삭제"
   ]
  },
  {
   "cell_type": "code",
   "execution_count": null,
   "metadata": {},
   "outputs": [],
   "source": [
    "del_index = []\n",
    "for idx, row in accommodation_poi.iterrows():\n",
    "    if row['keyword'] not in row['category_name']:\n",
    "            del_index.append(idx)"
   ]
  },
  {
   "cell_type": "code",
   "execution_count": null,
   "metadata": {},
   "outputs": [
    {
     "data": {
      "text/plain": [
       "155"
      ]
     },
     "metadata": {},
     "output_type": "display_data"
    }
   ],
   "source": [
    "# 삭제할 인덱스의 수\n",
    "len(del_index)"
   ]
  },
  {
   "cell_type": "code",
   "execution_count": null,
   "metadata": {},
   "outputs": [],
   "source": [
    "# 중복 id의 인덱스 삭제\n",
    "accommodation_poi_del = accommodation_poi.drop(del_index, axis=0)"
   ]
  },
  {
   "cell_type": "code",
   "execution_count": null,
   "metadata": {},
   "outputs": [
    {
     "name": "stdout",
     "output_type": "stream",
     "text": [
      "<class 'pandas.core.frame.DataFrame'>\n",
      "Int64Index: 3592 entries, 0 to 3746\n",
      "Data columns (total 13 columns):\n",
      " #   Column               Non-Null Count  Dtype  \n",
      "---  ------               --------------  -----  \n",
      " 0   address_name         3592 non-null   object \n",
      " 1   category_group_code  3592 non-null   object \n",
      " 2   category_group_name  3592 non-null   object \n",
      " 3   category_name        3592 non-null   object \n",
      " 4   distance             0 non-null      float64\n",
      " 5   id                   3592 non-null   int64  \n",
      " 6   phone                2209 non-null   object \n",
      " 7   place_name           3592 non-null   object \n",
      " 8   place_url            3592 non-null   object \n",
      " 9   road_address_name    3563 non-null   object \n",
      " 10  x                    3592 non-null   float64\n",
      " 11  y                    3592 non-null   float64\n",
      " 12  keyword              3592 non-null   object \n",
      "dtypes: float64(3), int64(1), object(9)\n",
      "memory usage: 392.9+ KB\n"
     ]
    }
   ],
   "source": [
    "accommodation_poi_del.info()"
   ]
  },
  {
   "cell_type": "code",
   "execution_count": null,
   "metadata": {},
   "outputs": [],
   "source": [
    "# accommodation_poi_del.to_excel('./data/220114/숙박_POI(API)2.xlsx', index=False)"
   ]
  },
  {
   "cell_type": "markdown",
   "metadata": {},
   "source": [
    "##### ◽id 중복 제거 데이터 확인"
   ]
  },
  {
   "cell_type": "code",
   "execution_count": null,
   "metadata": {},
   "outputs": [],
   "source": [
    "import pandas as pd\n",
    "\n",
    "accommodation_poi_del = pd.read_excel('./data/220114/숙박_POI(API)2.xlsx', index_col=False)"
   ]
  },
  {
   "cell_type": "code",
   "execution_count": null,
   "metadata": {},
   "outputs": [
    {
     "name": "stdout",
     "output_type": "stream",
     "text": [
      "<class 'pandas.core.frame.DataFrame'>\n",
      "RangeIndex: 3477 entries, 0 to 3476\n",
      "Data columns (total 13 columns):\n",
      " #   Column               Non-Null Count  Dtype  \n",
      "---  ------               --------------  -----  \n",
      " 0   address_name         3477 non-null   object \n",
      " 1   category_group_code  3477 non-null   object \n",
      " 2   category_group_name  3477 non-null   object \n",
      " 3   category_name        3477 non-null   object \n",
      " 4   distance             0 non-null      float64\n",
      " 5   id                   3477 non-null   int64  \n",
      " 6   phone                2110 non-null   object \n",
      " 7   place_name           3477 non-null   object \n",
      " 8   place_url            3477 non-null   object \n",
      " 9   road_address_name    3454 non-null   object \n",
      " 10  x                    3477 non-null   float64\n",
      " 11  y                    3477 non-null   float64\n",
      " 12  keyword              3477 non-null   object \n",
      "dtypes: float64(3), int64(1), object(9)\n",
      "memory usage: 353.3+ KB\n"
     ]
    }
   ],
   "source": [
    "accommodation_poi_del.info()"
   ]
  },
  {
   "cell_type": "markdown",
   "metadata": {},
   "source": [
    "- 행의 수와 id의 수가 일치하므로 중복된 id가 없음을 확인할 수 있다."
   ]
  },
  {
   "cell_type": "code",
   "execution_count": null,
   "metadata": {},
   "outputs": [
    {
     "data": {
      "text/plain": [
       "3477"
      ]
     },
     "metadata": {},
     "output_type": "display_data"
    }
   ],
   "source": [
    "len(accommodation_poi_del['id'].unique())"
   ]
  },
  {
   "cell_type": "markdown",
   "metadata": {},
   "source": [
    "- '리조트', '콘도'는 리조트/콘도로 변경"
   ]
  },
  {
   "cell_type": "code",
   "execution_count": null,
   "metadata": {},
   "outputs": [],
   "source": [
    "index = list(accommodation_poi_del[accommodation_poi_del['keyword'] == '리조트'].index)\n",
    "accommodation_poi_del.loc[index, 'keyword'] = '리조트/콘도'"
   ]
  },
  {
   "cell_type": "code",
   "execution_count": null,
   "metadata": {},
   "outputs": [
    {
     "data": {
      "text/html": [
       "<div>\n",
       "<style scoped>\n",
       "    .dataframe tbody tr th:only-of-type {\n",
       "        vertical-align: middle;\n",
       "    }\n",
       "\n",
       "    .dataframe tbody tr th {\n",
       "        vertical-align: top;\n",
       "    }\n",
       "\n",
       "    .dataframe thead th {\n",
       "        text-align: right;\n",
       "    }\n",
       "</style>\n",
       "<table border=\"1\" class=\"dataframe\">\n",
       "  <thead>\n",
       "    <tr style=\"text-align: right;\">\n",
       "      <th></th>\n",
       "      <th>keyword</th>\n",
       "    </tr>\n",
       "  </thead>\n",
       "  <tbody>\n",
       "    <tr>\n",
       "      <th>펜션</th>\n",
       "      <td>1791</td>\n",
       "    </tr>\n",
       "    <tr>\n",
       "      <th>민박</th>\n",
       "      <td>695</td>\n",
       "    </tr>\n",
       "    <tr>\n",
       "      <th>게스트하우스</th>\n",
       "      <td>645</td>\n",
       "    </tr>\n",
       "    <tr>\n",
       "      <th>호텔</th>\n",
       "      <td>232</td>\n",
       "    </tr>\n",
       "    <tr>\n",
       "      <th>리조트/콘도</th>\n",
       "      <td>114</td>\n",
       "    </tr>\n",
       "  </tbody>\n",
       "</table>\n",
       "</div>"
      ],
      "text/plain": [
       "        keyword\n",
       "펜션         1791\n",
       "민박          695\n",
       "게스트하우스      645\n",
       "호텔          232\n",
       "리조트/콘도      114"
      ]
     },
     "metadata": {},
     "output_type": "display_data"
    }
   ],
   "source": [
    "pd.DataFrame(accommodation_poi_del['keyword'].value_counts())"
   ]
  },
  {
   "cell_type": "code",
   "execution_count": null,
   "metadata": {},
   "outputs": [],
   "source": [
    "# accommodation_poi_del.to_excel('./data/220114/숙박_POI(API)3.xlsx', index=False)"
   ]
  },
  {
   "cell_type": "markdown",
   "metadata": {},
   "source": [
    "#### 3. 셀레니움 : 이미지, 평점, 호텔 등급 데이터 확보"
   ]
  },
  {
   "cell_type": "markdown",
   "metadata": {},
   "source": [
    "##### ◽데이터 확인"
   ]
  },
  {
   "cell_type": "code",
   "execution_count": null,
   "metadata": {},
   "outputs": [],
   "source": [
    "import pandas as pd\n",
    "\n",
    "accommodation = pd.read_excel('./data/220114/_숙박_POI(API)_keyword정리.xlsx', index_col=False)"
   ]
  },
  {
   "cell_type": "code",
   "execution_count": null,
   "metadata": {},
   "outputs": [
    {
     "data": {
      "text/plain": [
       "Index(['address_name', 'category_group_code', 'category_group_name',\n",
       "       'category_name', 'distance', 'id', 'phone', 'place_name', 'place_url',\n",
       "       'road_address_name', 'x', 'y', 'keyword'],\n",
       "      dtype='object')"
      ]
     },
     "metadata": {},
     "output_type": "display_data"
    }
   ],
   "source": [
    "accommodation.columns"
   ]
  },
  {
   "cell_type": "code",
   "execution_count": null,
   "metadata": {},
   "outputs": [
    {
     "data": {
      "text/plain": [
       "(3477, 13)"
      ]
     },
     "metadata": {},
     "output_type": "display_data"
    }
   ],
   "source": [
    "accommodation.shape"
   ]
  },
  {
   "cell_type": "code",
   "execution_count": null,
   "metadata": {},
   "outputs": [
    {
     "data": {
      "text/html": [
       "<div>\n",
       "<style scoped>\n",
       "    .dataframe tbody tr th:only-of-type {\n",
       "        vertical-align: middle;\n",
       "    }\n",
       "\n",
       "    .dataframe tbody tr th {\n",
       "        vertical-align: top;\n",
       "    }\n",
       "\n",
       "    .dataframe thead th {\n",
       "        text-align: right;\n",
       "    }\n",
       "</style>\n",
       "<table border=\"1\" class=\"dataframe\">\n",
       "  <thead>\n",
       "    <tr style=\"text-align: right;\">\n",
       "      <th></th>\n",
       "      <th>address_name</th>\n",
       "      <th>category_group_code</th>\n",
       "      <th>category_group_name</th>\n",
       "      <th>category_name</th>\n",
       "      <th>distance</th>\n",
       "      <th>id</th>\n",
       "      <th>phone</th>\n",
       "      <th>place_name</th>\n",
       "      <th>place_url</th>\n",
       "      <th>road_address_name</th>\n",
       "      <th>x</th>\n",
       "      <th>y</th>\n",
       "      <th>keyword</th>\n",
       "    </tr>\n",
       "  </thead>\n",
       "  <tbody>\n",
       "    <tr>\n",
       "      <th>0</th>\n",
       "      <td>제주특별자치도 제주시 구좌읍 월정리 699-3</td>\n",
       "      <td>AD5</td>\n",
       "      <td>숙박</td>\n",
       "      <td>여행 &gt; 숙박 &gt; 펜션</td>\n",
       "      <td>NaN</td>\n",
       "      <td>907075</td>\n",
       "      <td>010-6858-2257</td>\n",
       "      <td>월정힐펜션</td>\n",
       "      <td>http://place.map.kakao.com/907075</td>\n",
       "      <td>제주특별자치도 제주시 구좌읍 월정중길 19-9</td>\n",
       "      <td>126.791441</td>\n",
       "      <td>33.557925</td>\n",
       "      <td>펜션</td>\n",
       "    </tr>\n",
       "    <tr>\n",
       "      <th>1</th>\n",
       "      <td>제주특별자치도 제주시 조천읍 와산리 877-1</td>\n",
       "      <td>AD5</td>\n",
       "      <td>숙박</td>\n",
       "      <td>여행 &gt; 숙박 &gt; 펜션</td>\n",
       "      <td>NaN</td>\n",
       "      <td>1351121</td>\n",
       "      <td>010-3735-7524</td>\n",
       "      <td>동화키즈풀빌라펜션</td>\n",
       "      <td>http://place.map.kakao.com/1351121</td>\n",
       "      <td>제주특별자치도 제주시 조천읍 함와로 559</td>\n",
       "      <td>126.680315</td>\n",
       "      <td>33.494145</td>\n",
       "      <td>펜션</td>\n",
       "    </tr>\n",
       "  </tbody>\n",
       "</table>\n",
       "</div>"
      ],
      "text/plain": [
       "                address_name category_group_code category_group_name  \\\n",
       "0  제주특별자치도 제주시 구좌읍 월정리 699-3                 AD5                  숙박   \n",
       "1  제주특별자치도 제주시 조천읍 와산리 877-1                 AD5                  숙박   \n",
       "\n",
       "  category_name  distance       id          phone place_name  \\\n",
       "0  여행 > 숙박 > 펜션       NaN   907075  010-6858-2257      월정힐펜션   \n",
       "1  여행 > 숙박 > 펜션       NaN  1351121  010-3735-7524  동화키즈풀빌라펜션   \n",
       "\n",
       "                            place_url          road_address_name           x  \\\n",
       "0   http://place.map.kakao.com/907075  제주특별자치도 제주시 구좌읍 월정중길 19-9  126.791441   \n",
       "1  http://place.map.kakao.com/1351121    제주특별자치도 제주시 조천읍 함와로 559  126.680315   \n",
       "\n",
       "           y keyword  \n",
       "0  33.557925      펜션  \n",
       "1  33.494145      펜션  "
      ]
     },
     "metadata": {},
     "output_type": "display_data"
    }
   ],
   "source": [
    "accommodation.head(2)"
   ]
  },
  {
   "cell_type": "markdown",
   "metadata": {},
   "source": [
    "##### ◽셀레니움 함수"
   ]
  },
  {
   "cell_type": "markdown",
   "metadata": {},
   "source": [
    "- 평점 : #mArticle > div.cont_essential > div:nth-child(1) > div.place_details > div > div > a:nth-child(3) > span.color_b\n",
    "- 호텔등급 : span.txt_location\n",
    "- 이미지 : #mArticle > div.cont_photo.no_category > div.photo_area > ul > li.size_l > a"
   ]
  },
  {
   "cell_type": "code",
   "execution_count": null,
   "metadata": {},
   "outputs": [],
   "source": [
    "import json\n",
    "import requests\n",
    "import time\n",
    "from tqdm.notebook import tqdm\n",
    "from selenium import webdriver\n",
    "from selenium.webdriver.common.keys import Keys\n",
    "from fake_useragent import UserAgent\n",
    "\n",
    "def selenium_result(url):    \n",
    "    rate = 0\n",
    "    grade = False\n",
    "    image = False\n",
    "    ua = UserAgent()\n",
    "    options = webdriver.ChromeOptions()\n",
    "    options.add_argument(\"--headless\")\n",
    "    options.add_argument(\"--incognito\")\n",
    "    options.add_argument(\"--no-sandbox\")\n",
    "    options.add_argument(\"--disable-setuid-sandbox\")\n",
    "    options.add_argument('--disable-dev-shm-usage')\n",
    "    options.add_argument(f'user-agent={ua.ie}')\n",
    "    # options.add_argument('--proxy-server=socks5://127.0.0.1:9150')\n",
    "    options.add_experimental_option('excludeSwitches', ['enable-logging'])\n",
    "\n",
    "    driver = webdriver.Chrome('./driver/chromedriver.exe', options=options)\n",
    "    time.sleep(0.5)\n",
    "    driver.implicitly_wait(8)\n",
    "    driver.get(url)\n",
    "    try:\n",
    "        rate = driver.find_element_by_css_selector('''#mArticle > div.cont_essential > div:nth-child(1) > div.place_details > div > div > a:nth-child(3) > span.color_b''').text\n",
    "    except:\n",
    "        pass\n",
    "    try:\n",
    "        grade = driver.find_element_by_css_selector('''span.txt_location''').text\n",
    "    except:\n",
    "        pass\n",
    "    try :\n",
    "        image = driver.find_element_by_css_selector('''#mArticle > div.cont_photo.no_category > div.photo_area > ul > li.size_l > a''')\n",
    "    except:\n",
    "        pass\n",
    "    else:\n",
    "        image = 'https:'+image.get_attribute('style')[23:-3]\n",
    "    driver.quit()\n",
    "\n",
    "    return rate, grade, image"
   ]
  },
  {
   "cell_type": "markdown",
   "metadata": {},
   "source": [
    "- 각 행의 place_url을 통해 해당 정보 추출"
   ]
  },
  {
   "cell_type": "code",
   "execution_count": null,
   "metadata": {},
   "outputs": [],
   "source": [
    "from tqdm.notebook import tqdm\n",
    "\n",
    "accommodation['rating'] = 0\n",
    "accommodation['grade'] = accommodation['keyword']\n",
    "accommodation['image'] = 'Not Image'\n",
    "\n",
    "for idx in tqdm(range(len(accommodation))):\n",
    "    url = accommodation.loc[idx, 'place_url']\n",
    "    rate, grade, image = selenium_result(url)\n",
    "    accommodation.loc[idx, 'rating'] = rate\n",
    "    if grade != False:\n",
    "        accommodation.loc[idx, 'grade'] = grade\n",
    "    if image != False:\n",
    "        accommodation.loc[idx, 'image'] = image"
   ]
  },
  {
   "cell_type": "markdown",
   "metadata": {},
   "source": [
    "- 오류가 발생하므로 각각의 데이터를 저장 후 합쳐주었다."
   ]
  },
  {
   "cell_type": "code",
   "execution_count": null,
   "metadata": {},
   "outputs": [],
   "source": [
    "accommodation.to_excel('./data/220115/숙박_selenium.xlsx', index=False)"
   ]
  },
  {
   "cell_type": "markdown",
   "metadata": {},
   "source": [
    "##### ◽셀레니움 데이터 확인"
   ]
  },
  {
   "cell_type": "markdown",
   "metadata": {},
   "source": [
    "- 최종 합본 데이터 확인"
   ]
  },
  {
   "cell_type": "code",
   "execution_count": null,
   "metadata": {},
   "outputs": [],
   "source": [
    "import pandas as pd\n",
    "\n",
    "accommodation_all = pd.read_excel('./data/220115/숙박_selenium_합본.xlsx', index_col=False)"
   ]
  },
  {
   "cell_type": "code",
   "execution_count": null,
   "metadata": {},
   "outputs": [
    {
     "name": "stdout",
     "output_type": "stream",
     "text": [
      "<class 'pandas.core.frame.DataFrame'>\n",
      "RangeIndex: 3477 entries, 0 to 3476\n",
      "Data columns (total 16 columns):\n",
      " #   Column               Non-Null Count  Dtype  \n",
      "---  ------               --------------  -----  \n",
      " 0   address_name         3477 non-null   object \n",
      " 1   category_group_code  3477 non-null   object \n",
      " 2   category_group_name  3477 non-null   object \n",
      " 3   category_name        3477 non-null   object \n",
      " 4   distance             0 non-null      float64\n",
      " 5   id                   3477 non-null   int64  \n",
      " 6   phone                2110 non-null   object \n",
      " 7   place_name           3477 non-null   object \n",
      " 8   place_url            3477 non-null   object \n",
      " 9   road_address_name    3454 non-null   object \n",
      " 10  x                    3477 non-null   float64\n",
      " 11  y                    3477 non-null   float64\n",
      " 12  keyword              3477 non-null   object \n",
      " 13  rating               3477 non-null   float64\n",
      " 14  grade                3477 non-null   object \n",
      " 15  image                3477 non-null   object \n",
      "dtypes: float64(4), int64(1), object(11)\n",
      "memory usage: 434.8+ KB\n"
     ]
    }
   ],
   "source": [
    "accommodation_all.info()"
   ]
  },
  {
   "cell_type": "code",
   "execution_count": null,
   "metadata": {},
   "outputs": [
    {
     "data": {
      "text/html": [
       "<div>\n",
       "<style scoped>\n",
       "    .dataframe tbody tr th:only-of-type {\n",
       "        vertical-align: middle;\n",
       "    }\n",
       "\n",
       "    .dataframe tbody tr th {\n",
       "        vertical-align: top;\n",
       "    }\n",
       "\n",
       "    .dataframe thead th {\n",
       "        text-align: right;\n",
       "    }\n",
       "</style>\n",
       "<table border=\"1\" class=\"dataframe\">\n",
       "  <thead>\n",
       "    <tr style=\"text-align: right;\">\n",
       "      <th></th>\n",
       "      <th>id</th>\n",
       "      <th>rating</th>\n",
       "      <th>grade</th>\n",
       "      <th>image</th>\n",
       "    </tr>\n",
       "  </thead>\n",
       "  <tbody>\n",
       "    <tr>\n",
       "      <th>0</th>\n",
       "      <td>907075</td>\n",
       "      <td>5.0</td>\n",
       "      <td>펜션</td>\n",
       "      <td>https://img1.kakaocdn.net/relay/local/R640x320...</td>\n",
       "    </tr>\n",
       "    <tr>\n",
       "      <th>1</th>\n",
       "      <td>1351121</td>\n",
       "      <td>0.0</td>\n",
       "      <td>펜션</td>\n",
       "      <td>https://img1.kakaocdn.net/relay/local/R640x320...</td>\n",
       "    </tr>\n",
       "    <tr>\n",
       "      <th>2</th>\n",
       "      <td>1887234</td>\n",
       "      <td>0.0</td>\n",
       "      <td>게스트하우스</td>\n",
       "      <td>https://img1.kakaocdn.net/relay/local/R640x320...</td>\n",
       "    </tr>\n",
       "  </tbody>\n",
       "</table>\n",
       "</div>"
      ],
      "text/plain": [
       "        id  rating   grade                                              image\n",
       "0   907075     5.0      펜션  https://img1.kakaocdn.net/relay/local/R640x320...\n",
       "1  1351121     0.0      펜션  https://img1.kakaocdn.net/relay/local/R640x320...\n",
       "2  1887234     0.0  게스트하우스  https://img1.kakaocdn.net/relay/local/R640x320..."
      ]
     },
     "metadata": {},
     "output_type": "display_data"
    }
   ],
   "source": [
    "accommodation_all[['id', 'rating', 'grade', 'image']].head(3)"
   ]
  },
  {
   "cell_type": "markdown",
   "metadata": {},
   "source": [
    "- 1000개 정도의 숙박 시설은 이미지가 없는 것 확인"
   ]
  },
  {
   "cell_type": "code",
   "execution_count": null,
   "metadata": {},
   "outputs": [
    {
     "data": {
      "text/plain": [
       "True     2360\n",
       "False    1117\n",
       "Name: image, dtype: int64"
      ]
     },
     "metadata": {},
     "output_type": "display_data"
    }
   ],
   "source": [
    "(accommodation_all['image'] != 'Not Image').value_counts()"
   ]
  },
  {
   "cell_type": "code",
   "execution_count": null,
   "metadata": {},
   "outputs": [
    {
     "data": {
      "text/plain": [
       "펜션        1791\n",
       "민박         695\n",
       "게스트하우스     645\n",
       "호텔         232\n",
       "리조트/콘도     114\n",
       "Name: keyword, dtype: int64"
      ]
     },
     "metadata": {},
     "output_type": "display_data"
    }
   ],
   "source": [
    "accommodation_all['keyword'].value_counts()"
   ]
  },
  {
   "cell_type": "code",
   "execution_count": null,
   "metadata": {},
   "outputs": [
    {
     "data": {
      "text/plain": [
       "펜션        1791\n",
       "민박         695\n",
       "게스트하우스     645\n",
       "호텔         215\n",
       "리조트/콘도     114\n",
       "특급호텔        17\n",
       "Name: grade, dtype: int64"
      ]
     },
     "metadata": {},
     "output_type": "display_data"
    }
   ],
   "source": [
    "accommodation_all['grade'].value_counts()"
   ]
  },
  {
   "cell_type": "markdown",
   "metadata": {},
   "source": [
    "##### ◽이미지 데이터 다운로드"
   ]
  },
  {
   "cell_type": "markdown",
   "metadata": {},
   "source": [
    "- 이미지 다운로드 함수 작성\n",
    "  - image_download(place_name, place_id, place_image_url):"
   ]
  },
  {
   "cell_type": "code",
   "execution_count": null,
   "metadata": {},
   "outputs": [],
   "source": [
    "import requests\n",
    "\n",
    "def image_download(place_name, place_id, place_image_url):    \n",
    "    response = requests.get(place_image_url)\n",
    "    name = f'{place_name}_{place_id}'\n",
    "    # 이름 내에 슬래시('/')가 있으면 디렉터리로 인식하므로\n",
    "    # replace를 통해 변경해준다.\n",
    "    if '/' in name:\n",
    "        name = name.replace('/', '-')\n",
    "    with open(\"./data/220116/숙박 시설 이미지/{}.png\".format(name), \"wb\") as f:\n",
    "        f.write(response.content)"
   ]
  },
  {
   "cell_type": "markdown",
   "metadata": {},
   "source": [
    "- 데이터 불러오기"
   ]
  },
  {
   "cell_type": "code",
   "execution_count": null,
   "metadata": {},
   "outputs": [],
   "source": [
    "import pandas as pd\n",
    "\n",
    "accommodation_all = pd.read_excel('./data/220115/숙박_selenium_합본.xlsx', index_col=False)"
   ]
  },
  {
   "cell_type": "code",
   "execution_count": null,
   "metadata": {},
   "outputs": [
    {
     "data": {
      "text/html": [
       "<div>\n",
       "<style scoped>\n",
       "    .dataframe tbody tr th:only-of-type {\n",
       "        vertical-align: middle;\n",
       "    }\n",
       "\n",
       "    .dataframe tbody tr th {\n",
       "        vertical-align: top;\n",
       "    }\n",
       "\n",
       "    .dataframe thead th {\n",
       "        text-align: right;\n",
       "    }\n",
       "</style>\n",
       "<table border=\"1\" class=\"dataframe\">\n",
       "  <thead>\n",
       "    <tr style=\"text-align: right;\">\n",
       "      <th></th>\n",
       "      <th>address_name</th>\n",
       "      <th>category_group_code</th>\n",
       "      <th>category_group_name</th>\n",
       "      <th>category_name</th>\n",
       "      <th>distance</th>\n",
       "      <th>id</th>\n",
       "      <th>phone</th>\n",
       "      <th>place_name</th>\n",
       "      <th>place_url</th>\n",
       "      <th>road_address_name</th>\n",
       "      <th>x</th>\n",
       "      <th>y</th>\n",
       "      <th>keyword</th>\n",
       "      <th>rating</th>\n",
       "      <th>grade</th>\n",
       "      <th>image</th>\n",
       "    </tr>\n",
       "  </thead>\n",
       "  <tbody>\n",
       "    <tr>\n",
       "      <th>0</th>\n",
       "      <td>제주특별자치도 제주시 구좌읍 월정리 699-3</td>\n",
       "      <td>AD5</td>\n",
       "      <td>숙박</td>\n",
       "      <td>여행 &gt; 숙박 &gt; 펜션</td>\n",
       "      <td>NaN</td>\n",
       "      <td>907075</td>\n",
       "      <td>010-6858-2257</td>\n",
       "      <td>월정힐펜션</td>\n",
       "      <td>http://place.map.kakao.com/907075</td>\n",
       "      <td>제주특별자치도 제주시 구좌읍 월정중길 19-9</td>\n",
       "      <td>126.791441</td>\n",
       "      <td>33.557925</td>\n",
       "      <td>펜션</td>\n",
       "      <td>5.0</td>\n",
       "      <td>펜션</td>\n",
       "      <td>https://img1.kakaocdn.net/relay/local/R640x320...</td>\n",
       "    </tr>\n",
       "    <tr>\n",
       "      <th>1</th>\n",
       "      <td>제주특별자치도 제주시 조천읍 와산리 877-1</td>\n",
       "      <td>AD5</td>\n",
       "      <td>숙박</td>\n",
       "      <td>여행 &gt; 숙박 &gt; 펜션</td>\n",
       "      <td>NaN</td>\n",
       "      <td>1351121</td>\n",
       "      <td>010-3735-7524</td>\n",
       "      <td>동화키즈풀빌라펜션</td>\n",
       "      <td>http://place.map.kakao.com/1351121</td>\n",
       "      <td>제주특별자치도 제주시 조천읍 함와로 559</td>\n",
       "      <td>126.680315</td>\n",
       "      <td>33.494145</td>\n",
       "      <td>펜션</td>\n",
       "      <td>0.0</td>\n",
       "      <td>펜션</td>\n",
       "      <td>https://img1.kakaocdn.net/relay/local/R640x320...</td>\n",
       "    </tr>\n",
       "  </tbody>\n",
       "</table>\n",
       "</div>"
      ],
      "text/plain": [
       "                address_name category_group_code category_group_name  \\\n",
       "0  제주특별자치도 제주시 구좌읍 월정리 699-3                 AD5                  숙박   \n",
       "1  제주특별자치도 제주시 조천읍 와산리 877-1                 AD5                  숙박   \n",
       "\n",
       "  category_name  distance       id          phone place_name  \\\n",
       "0  여행 > 숙박 > 펜션       NaN   907075  010-6858-2257      월정힐펜션   \n",
       "1  여행 > 숙박 > 펜션       NaN  1351121  010-3735-7524  동화키즈풀빌라펜션   \n",
       "\n",
       "                            place_url          road_address_name           x  \\\n",
       "0   http://place.map.kakao.com/907075  제주특별자치도 제주시 구좌읍 월정중길 19-9  126.791441   \n",
       "1  http://place.map.kakao.com/1351121    제주특별자치도 제주시 조천읍 함와로 559  126.680315   \n",
       "\n",
       "           y keyword  rating grade  \\\n",
       "0  33.557925      펜션     5.0    펜션   \n",
       "1  33.494145      펜션     0.0    펜션   \n",
       "\n",
       "                                               image  \n",
       "0  https://img1.kakaocdn.net/relay/local/R640x320...  \n",
       "1  https://img1.kakaocdn.net/relay/local/R640x320...  "
      ]
     },
     "metadata": {},
     "output_type": "display_data"
    }
   ],
   "source": [
    "accommodation_all.head(2)"
   ]
  },
  {
   "cell_type": "markdown",
   "metadata": {},
   "source": [
    "- 이미지 저장"
   ]
  },
  {
   "cell_type": "code",
   "execution_count": null,
   "metadata": {},
   "outputs": [
    {
     "data": {
      "application/vnd.jupyter.widget-view+json": {
       "model_id": "4c5ceedf457e48e0bd97c51483d178d0",
       "version_major": 2,
       "version_minor": 0
      },
      "text/plain": [
       "  0%|          | 0/3477 [00:00<?, ?it/s]"
      ]
     },
     "metadata": {},
     "output_type": "display_data"
    }
   ],
   "source": [
    "import pandas as pd\n",
    "import time\n",
    "from tqdm.notebook import tqdm\n",
    "\n",
    "not_image = pd.DataFrame({'place_name' : [], 'id' : [], 'idx' : []})\n",
    "cnt = 0\n",
    "for idx in tqdm(range(len(accommodation_all))):\n",
    "    p_name, p_id, p_image = accommodation_all.loc[idx, ['place_name', 'id', 'image']]\n",
    "    if p_image != 'Not Image':\n",
    "        image_download(p_name, p_id, p_image)\n",
    "        time.sleep(0.5)\n",
    "    else:\n",
    "        not_image.loc[cnt] = {'place_name' : p_image, 'id' : str(p_id), 'idx' : idx}\n",
    "        cnt += 1\n",
    "\n",
    "not_image.loc[:, 'idx'] = not_image.loc[:, 'idx'].astype('int')"
   ]
  },
  {
   "cell_type": "code",
   "execution_count": null,
   "metadata": {},
   "outputs": [
    {
     "name": "stdout",
     "output_type": "stream",
     "text": [
      "<class 'pandas.core.frame.DataFrame'>\n",
      "Int64Index: 1117 entries, 0 to 1116\n",
      "Data columns (total 3 columns):\n",
      " #   Column      Non-Null Count  Dtype \n",
      "---  ------      --------------  ----- \n",
      " 0   place_name  1117 non-null   object\n",
      " 1   id          1117 non-null   object\n",
      " 2   idx         1117 non-null   int32 \n",
      "dtypes: int32(1), object(2)\n",
      "memory usage: 30.5+ KB\n"
     ]
    }
   ],
   "source": [
    "not_image.info()"
   ]
  },
  {
   "cell_type": "code",
   "execution_count": null,
   "metadata": {},
   "outputs": [],
   "source": [
    "# not_image.to_excel('./data/220116/not_image.xlsx', index=False)"
   ]
  },
  {
   "cell_type": "markdown",
   "metadata": {},
   "source": [
    "#### 4. 셀레니움 : 이미지없는 경우 재확인"
   ]
  },
  {
   "cell_type": "markdown",
   "metadata": {},
   "source": [
    "- 이미지의 경우 태그가 2개로 나뉘어진 것을 확인\n",
    "  - 이미지1 : #mArticle > div.cont_photo.no_category > div.photo_area > ul > li.size_l > a\n",
    "  - 이미지2 : #mArticle > div.cont_photo > div.photo_area > ul > li.size_l > a"
   ]
  },
  {
   "cell_type": "markdown",
   "metadata": {},
   "source": [
    "##### ◽데이터 읽기"
   ]
  },
  {
   "cell_type": "code",
   "execution_count": null,
   "metadata": {},
   "outputs": [],
   "source": [
    "import pandas as pd"
   ]
  },
  {
   "cell_type": "code",
   "execution_count": null,
   "metadata": {},
   "outputs": [],
   "source": [
    "accom_all = pd.read_excel('./data/220115/숙박_selenium_합본.xlsx', index_col=False)\n",
    "not_image = pd.read_excel('./data/220116/not_image.xlsx', index_col=False)"
   ]
  },
  {
   "cell_type": "markdown",
   "metadata": {},
   "source": [
    "- 숙박 셀레니움 합본 데이터"
   ]
  },
  {
   "cell_type": "code",
   "execution_count": null,
   "metadata": {},
   "outputs": [
    {
     "data": {
      "text/html": [
       "<div>\n",
       "<style scoped>\n",
       "    .dataframe tbody tr th:only-of-type {\n",
       "        vertical-align: middle;\n",
       "    }\n",
       "\n",
       "    .dataframe tbody tr th {\n",
       "        vertical-align: top;\n",
       "    }\n",
       "\n",
       "    .dataframe thead th {\n",
       "        text-align: right;\n",
       "    }\n",
       "</style>\n",
       "<table border=\"1\" class=\"dataframe\">\n",
       "  <thead>\n",
       "    <tr style=\"text-align: right;\">\n",
       "      <th></th>\n",
       "      <th>address_name</th>\n",
       "      <th>category_group_code</th>\n",
       "      <th>category_group_name</th>\n",
       "      <th>category_name</th>\n",
       "      <th>distance</th>\n",
       "      <th>id</th>\n",
       "      <th>phone</th>\n",
       "      <th>place_name</th>\n",
       "      <th>place_url</th>\n",
       "      <th>road_address_name</th>\n",
       "      <th>x</th>\n",
       "      <th>y</th>\n",
       "      <th>keyword</th>\n",
       "      <th>rating</th>\n",
       "      <th>grade</th>\n",
       "      <th>image</th>\n",
       "    </tr>\n",
       "  </thead>\n",
       "  <tbody>\n",
       "    <tr>\n",
       "      <th>0</th>\n",
       "      <td>제주특별자치도 제주시 구좌읍 월정리 699-3</td>\n",
       "      <td>AD5</td>\n",
       "      <td>숙박</td>\n",
       "      <td>여행 &gt; 숙박 &gt; 펜션</td>\n",
       "      <td>NaN</td>\n",
       "      <td>907075</td>\n",
       "      <td>010-6858-2257</td>\n",
       "      <td>월정힐펜션</td>\n",
       "      <td>http://place.map.kakao.com/907075</td>\n",
       "      <td>제주특별자치도 제주시 구좌읍 월정중길 19-9</td>\n",
       "      <td>126.791441</td>\n",
       "      <td>33.557925</td>\n",
       "      <td>펜션</td>\n",
       "      <td>5.0</td>\n",
       "      <td>펜션</td>\n",
       "      <td>https://img1.kakaocdn.net/relay/local/R640x320...</td>\n",
       "    </tr>\n",
       "  </tbody>\n",
       "</table>\n",
       "</div>"
      ],
      "text/plain": [
       "                address_name category_group_code category_group_name  \\\n",
       "0  제주특별자치도 제주시 구좌읍 월정리 699-3                 AD5                  숙박   \n",
       "\n",
       "  category_name  distance      id          phone place_name  \\\n",
       "0  여행 > 숙박 > 펜션       NaN  907075  010-6858-2257      월정힐펜션   \n",
       "\n",
       "                           place_url          road_address_name           x  \\\n",
       "0  http://place.map.kakao.com/907075  제주특별자치도 제주시 구좌읍 월정중길 19-9  126.791441   \n",
       "\n",
       "           y keyword  rating grade  \\\n",
       "0  33.557925      펜션     5.0    펜션   \n",
       "\n",
       "                                               image  \n",
       "0  https://img1.kakaocdn.net/relay/local/R640x320...  "
      ]
     },
     "metadata": {},
     "output_type": "display_data"
    }
   ],
   "source": [
    "accom_all.head(1)"
   ]
  },
  {
   "cell_type": "markdown",
   "metadata": {},
   "source": [
    "- 숙박 데이터 중 image가 없는 경우의 데이터"
   ]
  },
  {
   "cell_type": "code",
   "execution_count": null,
   "metadata": {},
   "outputs": [
    {
     "data": {
      "text/html": [
       "<div>\n",
       "<style scoped>\n",
       "    .dataframe tbody tr th:only-of-type {\n",
       "        vertical-align: middle;\n",
       "    }\n",
       "\n",
       "    .dataframe tbody tr th {\n",
       "        vertical-align: top;\n",
       "    }\n",
       "\n",
       "    .dataframe thead th {\n",
       "        text-align: right;\n",
       "    }\n",
       "</style>\n",
       "<table border=\"1\" class=\"dataframe\">\n",
       "  <thead>\n",
       "    <tr style=\"text-align: right;\">\n",
       "      <th></th>\n",
       "      <th>place_name</th>\n",
       "      <th>id</th>\n",
       "      <th>idx</th>\n",
       "    </tr>\n",
       "  </thead>\n",
       "  <tbody>\n",
       "    <tr>\n",
       "      <th>0</th>\n",
       "      <td>Not Image</td>\n",
       "      <td>5262743</td>\n",
       "      <td>7</td>\n",
       "    </tr>\n",
       "  </tbody>\n",
       "</table>\n",
       "</div>"
      ],
      "text/plain": [
       "  place_name       id  idx\n",
       "0  Not Image  5262743    7"
      ]
     },
     "metadata": {},
     "output_type": "display_data"
    }
   ],
   "source": [
    "not_image.head(1)"
   ]
  },
  {
   "cell_type": "markdown",
   "metadata": {},
   "source": [
    "- not_image의 ['idx'] 컬럼 검증\n",
    "   - 각 컬럼의 연결이 잘 되어있음을 확인할 수 있다!!"
   ]
  },
  {
   "cell_type": "code",
   "execution_count": null,
   "metadata": {},
   "outputs": [],
   "source": [
    "for idx, row in not_image.iterrows():\n",
    "    if accom_all[accom_all['id'] == row['id']].index != row['idx']:\n",
    "        print('Fail!!!!!')"
   ]
  },
  {
   "cell_type": "markdown",
   "metadata": {},
   "source": [
    "##### ◽셀레니움 함수 : 이미지만 추가로 확인"
   ]
  },
  {
   "cell_type": "markdown",
   "metadata": {},
   "source": [
    "- 이미지(기존) : #mArticle > div.cont_photo.no_category > div.photo_area > ul > li.size_l > a\n",
    "- 이미지(변경) : #mArticle > div.cont_photo > div.photo_area > ul > li.size_l > a"
   ]
  },
  {
   "cell_type": "code",
   "execution_count": null,
   "metadata": {},
   "outputs": [],
   "source": [
    "import json\n",
    "import requests\n",
    "import time\n",
    "from tqdm.notebook import tqdm\n",
    "from selenium import webdriver\n",
    "from selenium.webdriver.common.keys import Keys\n",
    "from fake_useragent import UserAgent\n",
    "\n",
    "def selenium_only_image(url):    \n",
    "    image = False\n",
    "    ua = UserAgent()\n",
    "    options = webdriver.ChromeOptions()\n",
    "    options.add_argument(\"--headless\")\n",
    "    options.add_argument(\"--incognito\")\n",
    "    options.add_argument(\"--no-sandbox\")\n",
    "    options.add_argument(\"--disable-setuid-sandbox\")\n",
    "    options.add_argument('--disable-dev-shm-usage')\n",
    "    options.add_argument(f'user-agent={ua.ie}')\n",
    "    # options.add_argument('--proxy-server=socks5://127.0.0.1:9150')\n",
    "    options.add_experimental_option('excludeSwitches', ['enable-logging'])\n",
    "\n",
    "    driver = webdriver.Chrome('./driver/chromedriver.exe', options=options)\n",
    "    driver.implicitly_wait(8)\n",
    "    driver.get(url)\n",
    "    try :\n",
    "        image = driver.find_element_by_css_selector('''#mArticle > div.cont_photo > div.photo_area > ul > li.size_l > a''')\n",
    "    except:\n",
    "        pass\n",
    "    else:\n",
    "        image = 'https:'+image.get_attribute('style')[23:-3]\n",
    "    driver.quit()\n",
    "    time.sleep(0.5)\n",
    "\n",
    "    return image"
   ]
  },
  {
   "cell_type": "code",
   "execution_count": null,
   "metadata": {},
   "outputs": [
    {
     "data": {
      "text/plain": [
       "1117"
      ]
     },
     "metadata": {},
     "output_type": "display_data"
    }
   ],
   "source": [
    "len(not_image)"
   ]
  },
  {
   "cell_type": "code",
   "execution_count": null,
   "metadata": {},
   "outputs": [],
   "source": [
    "#mArticle > div.cont_photo.no_category > div.photo_area > ul > li > a"
   ]
  },
  {
   "cell_type": "markdown",
   "metadata": {},
   "source": [
    "- 각 행의 place_url을 통해 해당 정보 추출"
   ]
  },
  {
   "cell_type": "code",
   "execution_count": null,
   "metadata": {},
   "outputs": [
    {
     "data": {
      "application/vnd.jupyter.widget-view+json": {
       "model_id": "5f763d808c2d461c92f3bcf4de72070c",
       "version_major": 2,
       "version_minor": 0
      },
      "text/plain": [
       "  0%|          | 0/112 [00:00<?, ?it/s]"
      ]
     },
     "metadata": {},
     "output_type": "display_data"
    }
   ],
   "source": [
    "from tqdm.notebook import tqdm\n",
    "# len(not_image) == 1117\n",
    "for idx in tqdm(range(1005, len(not_image), 1)):\n",
    "    target_idx = not_image.loc[idx, 'idx']\n",
    "    url = accom_all.loc[target_idx, 'place_url']\n",
    "    image = selenium_only_image(url)\n",
    "    if image != False:\n",
    "        accom_all.loc[target_idx, 'image'] = image\n",
    "        not_image.loc[idx, 'image'] = image"
   ]
  },
  {
   "cell_type": "markdown",
   "metadata": {},
   "source": [
    "- 오류가 발생하므로 각각의 데이터를 저장 후 합쳐주었다."
   ]
  },
  {
   "cell_type": "code",
   "execution_count": null,
   "metadata": {},
   "outputs": [],
   "source": [
    "# accom_all.to_excel('./data/220117/숙박_selenium.xlsx', index=False)\n",
    "# not_image.to_excel('./data/220116/not_image.xlsx', index=False)"
   ]
  },
  {
   "cell_type": "markdown",
   "metadata": {},
   "source": [
    "##### ◽이미지 데이터 다운로드"
   ]
  },
  {
   "cell_type": "markdown",
   "metadata": {},
   "source": [
    "- 이미지 다운로드 함수 : 위에서 사용한 함수 그대로 사용"
   ]
  },
  {
   "cell_type": "code",
   "execution_count": null,
   "metadata": {},
   "outputs": [],
   "source": [
    "import requests\n",
    "\n",
    "def image_download(place_name, place_id, place_image_url):    \n",
    "    response = requests.get(place_image_url)\n",
    "    name = f'{place_name}_{place_id}'\n",
    "    # 이름 내에 슬래시('/')가 있으면 디렉터리로 인식하므로\n",
    "    # replace를 통해 변경해준다.\n",
    "    if '/' in name:\n",
    "        name = name.replace('/', '-')\n",
    "    # with open(\"./data/220116/숙박 시설 이미지/{}.png\".format(name), \"wb\") as f:\n",
    "    with open(\"./data/220116/숙박 시설 없던 것들/{}.png\".format(name), \"wb\") as f:\n",
    "        f.write(response.content)"
   ]
  },
  {
   "cell_type": "markdown",
   "metadata": {},
   "source": [
    "- 데이터 불러오기"
   ]
  },
  {
   "cell_type": "code",
   "execution_count": null,
   "metadata": {},
   "outputs": [],
   "source": [
    "import pandas as pd\n",
    "\n",
    "not_image_down = pd.read_excel('./data/220116/not_image_all.xlsx', index_col=False)\n",
    "accom_all = pd.read_excel('./data/220117/숙박_selenium_all.xlsx', index_col = False)"
   ]
  },
  {
   "cell_type": "code",
   "execution_count": null,
   "metadata": {},
   "outputs": [
    {
     "data": {
      "text/html": [
       "<div>\n",
       "<style scoped>\n",
       "    .dataframe tbody tr th:only-of-type {\n",
       "        vertical-align: middle;\n",
       "    }\n",
       "\n",
       "    .dataframe tbody tr th {\n",
       "        vertical-align: top;\n",
       "    }\n",
       "\n",
       "    .dataframe thead th {\n",
       "        text-align: right;\n",
       "    }\n",
       "</style>\n",
       "<table border=\"1\" class=\"dataframe\">\n",
       "  <thead>\n",
       "    <tr style=\"text-align: right;\">\n",
       "      <th></th>\n",
       "      <th>address_name</th>\n",
       "      <th>category_group_code</th>\n",
       "      <th>category_group_name</th>\n",
       "      <th>category_name</th>\n",
       "      <th>distance</th>\n",
       "      <th>id</th>\n",
       "      <th>phone</th>\n",
       "      <th>place_name</th>\n",
       "      <th>place_url</th>\n",
       "      <th>road_address_name</th>\n",
       "      <th>x</th>\n",
       "      <th>y</th>\n",
       "      <th>keyword</th>\n",
       "      <th>rating</th>\n",
       "      <th>grade</th>\n",
       "      <th>image</th>\n",
       "    </tr>\n",
       "  </thead>\n",
       "  <tbody>\n",
       "    <tr>\n",
       "      <th>0</th>\n",
       "      <td>제주특별자치도 제주시 구좌읍 월정리 699-3</td>\n",
       "      <td>AD5</td>\n",
       "      <td>숙박</td>\n",
       "      <td>여행 &gt; 숙박 &gt; 펜션</td>\n",
       "      <td>NaN</td>\n",
       "      <td>907075</td>\n",
       "      <td>010-6858-2257</td>\n",
       "      <td>월정힐펜션</td>\n",
       "      <td>http://place.map.kakao.com/907075</td>\n",
       "      <td>제주특별자치도 제주시 구좌읍 월정중길 19-9</td>\n",
       "      <td>126.791441</td>\n",
       "      <td>33.557925</td>\n",
       "      <td>펜션</td>\n",
       "      <td>5.0</td>\n",
       "      <td>펜션</td>\n",
       "      <td>https://img1.kakaocdn.net/relay/local/R640x320...</td>\n",
       "    </tr>\n",
       "  </tbody>\n",
       "</table>\n",
       "</div>"
      ],
      "text/plain": [
       "                address_name category_group_code category_group_name  \\\n",
       "0  제주특별자치도 제주시 구좌읍 월정리 699-3                 AD5                  숙박   \n",
       "\n",
       "  category_name  distance      id          phone place_name  \\\n",
       "0  여행 > 숙박 > 펜션       NaN  907075  010-6858-2257      월정힐펜션   \n",
       "\n",
       "                           place_url          road_address_name           x  \\\n",
       "0  http://place.map.kakao.com/907075  제주특별자치도 제주시 구좌읍 월정중길 19-9  126.791441   \n",
       "\n",
       "           y keyword  rating grade  \\\n",
       "0  33.557925      펜션     5.0    펜션   \n",
       "\n",
       "                                               image  \n",
       "0  https://img1.kakaocdn.net/relay/local/R640x320...  "
      ]
     },
     "metadata": {},
     "output_type": "display_data"
    }
   ],
   "source": [
    "accom_all.head(1)"
   ]
  },
  {
   "cell_type": "code",
   "execution_count": null,
   "metadata": {},
   "outputs": [
    {
     "data": {
      "text/html": [
       "<div>\n",
       "<style scoped>\n",
       "    .dataframe tbody tr th:only-of-type {\n",
       "        vertical-align: middle;\n",
       "    }\n",
       "\n",
       "    .dataframe tbody tr th {\n",
       "        vertical-align: top;\n",
       "    }\n",
       "\n",
       "    .dataframe thead th {\n",
       "        text-align: right;\n",
       "    }\n",
       "</style>\n",
       "<table border=\"1\" class=\"dataframe\">\n",
       "  <thead>\n",
       "    <tr style=\"text-align: right;\">\n",
       "      <th></th>\n",
       "      <th>image</th>\n",
       "      <th>id</th>\n",
       "      <th>idx</th>\n",
       "    </tr>\n",
       "  </thead>\n",
       "  <tbody>\n",
       "    <tr>\n",
       "      <th>0</th>\n",
       "      <td>Not Image</td>\n",
       "      <td>5262743</td>\n",
       "      <td>7</td>\n",
       "    </tr>\n",
       "  </tbody>\n",
       "</table>\n",
       "</div>"
      ],
      "text/plain": [
       "       image       id  idx\n",
       "0  Not Image  5262743    7"
      ]
     },
     "metadata": {},
     "output_type": "display_data"
    }
   ],
   "source": [
    "not_image_down.head(1)"
   ]
  },
  {
   "cell_type": "code",
   "execution_count": null,
   "metadata": {},
   "outputs": [
    {
     "data": {
      "text/plain": [
       "False    908\n",
       "True     209\n",
       "Name: image, dtype: int64"
      ]
     },
     "metadata": {},
     "output_type": "display_data"
    }
   ],
   "source": [
    "(not_image_down['image'] != 'Not Image').value_counts()"
   ]
  },
  {
   "cell_type": "markdown",
   "metadata": {},
   "source": [
    "- 이미지 저장"
   ]
  },
  {
   "cell_type": "code",
   "execution_count": null,
   "metadata": {},
   "outputs": [
    {
     "data": {
      "application/vnd.jupyter.widget-view+json": {
       "model_id": "bb5c6a031c1a4ee3bef5c07296af6fd3",
       "version_major": 2,
       "version_minor": 0
      },
      "text/plain": [
       "  0%|          | 0/391 [00:00<?, ?it/s]"
      ]
     },
     "metadata": {},
     "output_type": "display_data"
    }
   ],
   "source": [
    "import pandas as pd\n",
    "import time\n",
    "from tqdm.notebook import tqdm\n",
    "\n",
    "for idx in tqdm(range(len(not_image_down))):\n",
    "    target_idx, p_id, p_image = not_image_down.loc[idx, ['idx', 'id', 'image']]\n",
    "    p_name = accom_all.loc[target_idx, 'place_name']\n",
    "    if p_image == 'Not Image':\n",
    "        continue\n",
    "    image_download(p_name, p_id, p_image)\n",
    "    time.sleep(0.5)"
   ]
  },
  {
   "cell_type": "markdown",
   "metadata": {},
   "source": [
    "#### 5. 이미지 변경 : 로고, 음식 사진인 경우 변경"
   ]
  },
  {
   "cell_type": "markdown",
   "metadata": {},
   "source": [
    "##### ◽이미지 변경할 경우 id 확인"
   ]
  },
  {
   "cell_type": "markdown",
   "metadata": {},
   "source": [
    "- 이미지가 로고, 음식 등 해당 장소를 특정하기 힘든 경우 다른 이미지로 변경한다.\n",
    "- 장소명과 id를 통해 변경할 이미지를 직접 찾는다.\n",
    "   - `https://place.map.kakao.com/[id]` : 카카오맵 장소 정보 URL\n",
    "   - 해당 페이지에 접속하여 직접 이미지를 찾고 이미지 주소를 추가한다."
   ]
  },
  {
   "cell_type": "code",
   "execution_count": null,
   "metadata": {},
   "outputs": [],
   "source": [
    "import os\n",
    "import pandas as pd\n",
    "\n",
    "id_list = []\n",
    "name_list = []\n",
    "for file in os.listdir('./data/220116/숙박 시설 확인할 것들'):\n",
    "    split_file = file.split('_')\n",
    "    id_list.append(split_file[-1][:-4])\n",
    "    name_list.append(split_file[0])"
   ]
  },
  {
   "cell_type": "code",
   "execution_count": null,
   "metadata": {},
   "outputs": [],
   "source": [
    "change_id = pd.DataFrame({'id' : id_list, 'place_name' : name_list})\n",
    "change_id['image'] = ''"
   ]
  },
  {
   "cell_type": "code",
   "execution_count": null,
   "metadata": {},
   "outputs": [],
   "source": [
    "change_id.to_excel('./data/220116/chage_id_all.xlsx',index = False)"
   ]
  },
  {
   "cell_type": "markdown",
   "metadata": {},
   "source": [
    "##### ◽이미지 다운로드"
   ]
  },
  {
   "cell_type": "markdown",
   "metadata": {},
   "source": [
    "- 데이터 확인"
   ]
  },
  {
   "cell_type": "code",
   "execution_count": null,
   "metadata": {},
   "outputs": [],
   "source": [
    "import pandas as pd\n",
    "\n",
    "change_image = pd.read_excel('./data/220116/chage_id_all.xlsx', index_col=False)"
   ]
  },
  {
   "cell_type": "code",
   "execution_count": null,
   "metadata": {},
   "outputs": [
    {
     "data": {
      "text/html": [
       "<div>\n",
       "<style scoped>\n",
       "    .dataframe tbody tr th:only-of-type {\n",
       "        vertical-align: middle;\n",
       "    }\n",
       "\n",
       "    .dataframe tbody tr th {\n",
       "        vertical-align: top;\n",
       "    }\n",
       "\n",
       "    .dataframe thead th {\n",
       "        text-align: right;\n",
       "    }\n",
       "</style>\n",
       "<table border=\"1\" class=\"dataframe\">\n",
       "  <thead>\n",
       "    <tr style=\"text-align: right;\">\n",
       "      <th></th>\n",
       "      <th>id</th>\n",
       "      <th>place_name</th>\n",
       "      <th>image</th>\n",
       "    </tr>\n",
       "  </thead>\n",
       "  <tbody>\n",
       "    <tr>\n",
       "      <th>0</th>\n",
       "      <td>17217756</td>\n",
       "      <td>go제주스마일펜션</td>\n",
       "      <td>https://img1.kakaocdn.net/relay/local/R680x420...</td>\n",
       "    </tr>\n",
       "  </tbody>\n",
       "</table>\n",
       "</div>"
      ],
      "text/plain": [
       "         id place_name                                              image\n",
       "0  17217756  go제주스마일펜션  https://img1.kakaocdn.net/relay/local/R680x420..."
      ]
     },
     "metadata": {},
     "output_type": "display_data"
    }
   ],
   "source": [
    "change_image.head(1)"
   ]
  },
  {
   "cell_type": "markdown",
   "metadata": {},
   "source": [
    "- 이미지 다운로드 함수"
   ]
  },
  {
   "cell_type": "code",
   "execution_count": null,
   "metadata": {},
   "outputs": [],
   "source": [
    "import requests\n",
    "\n",
    "def image_download(place_name, place_id, place_image_url):    \n",
    "    response = requests.get(place_image_url)\n",
    "    name = f'{place_name}_{place_id}'\n",
    "    # 이름 내에 슬래시('/')가 있으면 디렉터리로 인식하므로\n",
    "    # replace를 통해 변경해준다.\n",
    "    if '/' in name:\n",
    "        name = name.replace('/', '-')\n",
    "    with open(\"./data/220116/숙박 시설 확인_추가/{}.png\".format(name), \"wb\") as f:\n",
    "        f.write(response.content)"
   ]
  },
  {
   "cell_type": "markdown",
   "metadata": {},
   "source": [
    "- 이미지 다운로드"
   ]
  },
  {
   "cell_type": "code",
   "execution_count": null,
   "metadata": {},
   "outputs": [
    {
     "data": {
      "application/vnd.jupyter.widget-view+json": {
       "model_id": "4e80c7ecb00b49c4ae5439953a7e7c9a",
       "version_major": 2,
       "version_minor": 0
      },
      "text/plain": [
       "  0%|          | 0/129 [00:00<?, ?it/s]"
      ]
     },
     "metadata": {},
     "output_type": "display_data"
    }
   ],
   "source": [
    "import pandas as pd\n",
    "import time\n",
    "from tqdm.notebook import tqdm\n",
    "\n",
    "not_image = pd.DataFrame({'place_name' : [], 'id' : [], 'idx' : []})\n",
    "cnt = 0\n",
    "for idx in tqdm(range(len(change_image))):\n",
    "    p_name, p_id, p_image = change_image.loc[idx, ['place_name', 'id', 'image']]\n",
    "\n",
    "    image_download(p_name, p_id, p_image)\n",
    "    time.sleep(0.5)"
   ]
  },
  {
   "cell_type": "markdown",
   "metadata": {},
   "source": [
    "##### ◽URL 업데이트"
   ]
  },
  {
   "cell_type": "markdown",
   "metadata": {},
   "source": [
    "- 최종 데이터에 URL을 변경 버전으로 업데이트한다."
   ]
  },
  {
   "cell_type": "code",
   "execution_count": null,
   "metadata": {},
   "outputs": [],
   "source": [
    "import pandas as pd\n",
    "\n",
    "change_image = pd.read_excel('./data/220116/chage_id_all.xlsx', index_col=False)\n",
    "accom_all = pd.read_excel('./data/220117/숙박_selenium_all.xlsx', index_col = False)"
   ]
  },
  {
   "cell_type": "code",
   "execution_count": null,
   "metadata": {},
   "outputs": [
    {
     "data": {
      "text/html": [
       "<div>\n",
       "<style scoped>\n",
       "    .dataframe tbody tr th:only-of-type {\n",
       "        vertical-align: middle;\n",
       "    }\n",
       "\n",
       "    .dataframe tbody tr th {\n",
       "        vertical-align: top;\n",
       "    }\n",
       "\n",
       "    .dataframe thead th {\n",
       "        text-align: right;\n",
       "    }\n",
       "</style>\n",
       "<table border=\"1\" class=\"dataframe\">\n",
       "  <thead>\n",
       "    <tr style=\"text-align: right;\">\n",
       "      <th></th>\n",
       "      <th>id</th>\n",
       "      <th>place_name</th>\n",
       "      <th>image</th>\n",
       "    </tr>\n",
       "  </thead>\n",
       "  <tbody>\n",
       "    <tr>\n",
       "      <th>0</th>\n",
       "      <td>17217756</td>\n",
       "      <td>go제주스마일펜션</td>\n",
       "      <td>https://img1.kakaocdn.net/relay/local/R680x420...</td>\n",
       "    </tr>\n",
       "  </tbody>\n",
       "</table>\n",
       "</div>"
      ],
      "text/plain": [
       "         id place_name                                              image\n",
       "0  17217756  go제주스마일펜션  https://img1.kakaocdn.net/relay/local/R680x420..."
      ]
     },
     "metadata": {},
     "output_type": "display_data"
    }
   ],
   "source": [
    "change_image.head(1)"
   ]
  },
  {
   "cell_type": "code",
   "execution_count": null,
   "metadata": {},
   "outputs": [
    {
     "data": {
      "text/html": [
       "<div>\n",
       "<style scoped>\n",
       "    .dataframe tbody tr th:only-of-type {\n",
       "        vertical-align: middle;\n",
       "    }\n",
       "\n",
       "    .dataframe tbody tr th {\n",
       "        vertical-align: top;\n",
       "    }\n",
       "\n",
       "    .dataframe thead th {\n",
       "        text-align: right;\n",
       "    }\n",
       "</style>\n",
       "<table border=\"1\" class=\"dataframe\">\n",
       "  <thead>\n",
       "    <tr style=\"text-align: right;\">\n",
       "      <th></th>\n",
       "      <th>address_name</th>\n",
       "      <th>category_group_code</th>\n",
       "      <th>category_group_name</th>\n",
       "      <th>category_name</th>\n",
       "      <th>distance</th>\n",
       "      <th>id</th>\n",
       "      <th>phone</th>\n",
       "      <th>place_name</th>\n",
       "      <th>place_url</th>\n",
       "      <th>road_address_name</th>\n",
       "      <th>x</th>\n",
       "      <th>y</th>\n",
       "      <th>keyword</th>\n",
       "      <th>rating</th>\n",
       "      <th>grade</th>\n",
       "      <th>image</th>\n",
       "    </tr>\n",
       "  </thead>\n",
       "  <tbody>\n",
       "    <tr>\n",
       "      <th>0</th>\n",
       "      <td>제주특별자치도 제주시 구좌읍 월정리 699-3</td>\n",
       "      <td>AD5</td>\n",
       "      <td>숙박</td>\n",
       "      <td>여행 &gt; 숙박 &gt; 펜션</td>\n",
       "      <td>NaN</td>\n",
       "      <td>907075</td>\n",
       "      <td>010-6858-2257</td>\n",
       "      <td>월정힐펜션</td>\n",
       "      <td>http://place.map.kakao.com/907075</td>\n",
       "      <td>제주특별자치도 제주시 구좌읍 월정중길 19-9</td>\n",
       "      <td>126.791441</td>\n",
       "      <td>33.557925</td>\n",
       "      <td>펜션</td>\n",
       "      <td>5.0</td>\n",
       "      <td>펜션</td>\n",
       "      <td>https://img1.kakaocdn.net/relay/local/R640x320...</td>\n",
       "    </tr>\n",
       "  </tbody>\n",
       "</table>\n",
       "</div>"
      ],
      "text/plain": [
       "                address_name category_group_code category_group_name  \\\n",
       "0  제주특별자치도 제주시 구좌읍 월정리 699-3                 AD5                  숙박   \n",
       "\n",
       "  category_name  distance      id          phone place_name  \\\n",
       "0  여행 > 숙박 > 펜션       NaN  907075  010-6858-2257      월정힐펜션   \n",
       "\n",
       "                           place_url          road_address_name           x  \\\n",
       "0  http://place.map.kakao.com/907075  제주특별자치도 제주시 구좌읍 월정중길 19-9  126.791441   \n",
       "\n",
       "           y keyword  rating grade  \\\n",
       "0  33.557925      펜션     5.0    펜션   \n",
       "\n",
       "                                               image  \n",
       "0  https://img1.kakaocdn.net/relay/local/R640x320...  "
      ]
     },
     "metadata": {},
     "output_type": "display_data"
    }
   ],
   "source": [
    "accom_all.head(1)"
   ]
  },
  {
   "cell_type": "code",
   "execution_count": null,
   "metadata": {},
   "outputs": [
    {
     "data": {
      "text/plain": [
       "(218, 218)"
      ]
     },
     "metadata": {},
     "output_type": "display_data"
    }
   ],
   "source": [
    "len(change_image), len(change_image['id'].unique())"
   ]
  },
  {
   "cell_type": "markdown",
   "metadata": {},
   "source": [
    "- 이미지 URL 업데이트"
   ]
  },
  {
   "cell_type": "code",
   "execution_count": null,
   "metadata": {},
   "outputs": [
    {
     "data": {
      "application/vnd.jupyter.widget-view+json": {
       "model_id": "e062c591778849bfa58091dbc5068a69",
       "version_major": 2,
       "version_minor": 0
      },
      "text/plain": [
       "  0%|          | 0/218 [00:00<?, ?it/s]"
      ]
     },
     "metadata": {},
     "output_type": "display_data"
    }
   ],
   "source": [
    "from tqdm.notebook import tqdm\n",
    "\n",
    "for idx in tqdm(range(len(change_image))):\n",
    "    accom_id = change_image.loc[idx, 'id']\n",
    "    accom_idx = accom_all[accom_all['id'] == accom_id].index\n",
    "    accom_all.loc[accom_idx, 'image'] = change_image.loc[idx, 'image']"
   ]
  },
  {
   "cell_type": "code",
   "execution_count": null,
   "metadata": {},
   "outputs": [],
   "source": [
    "# accom_all.to_excel('./data/220117/숙박_selenium_최종.xlsx', index=False)"
   ]
  },
  {
   "cell_type": "markdown",
   "metadata": {},
   "source": [
    "- 총 이미지 2569개 확보"
   ]
  },
  {
   "cell_type": "code",
   "execution_count": null,
   "metadata": {},
   "outputs": [
    {
     "data": {
      "text/plain": [
       "True     2569\n",
       "False     908\n",
       "Name: image, dtype: int64"
      ]
     },
     "metadata": {},
     "output_type": "display_data"
    }
   ],
   "source": [
    "(accom_all['image'] != 'Not Image').value_counts()"
   ]
  }
 ],
 "metadata": {
  "interpreter": {
   "hash": "51b46dc78c05e2d39b28ced298f5e3e2fec06f080b2991ae6dc0981efed4b363"
  },
  "kernelspec": {
   "display_name": "Python 3.8.11 64-bit ('ds_study(38)': conda)",
   "language": "python",
   "name": "python3"
  },
  "language_info": {
   "codemirror_mode": {
    "name": "ipython",
    "version": 3
   },
   "file_extension": ".py",
   "mimetype": "text/x-python",
   "name": "python",
   "nbconvert_exporter": "python",
   "pygments_lexer": "ipython3",
   "version": "3.8.11"
  },
  "orig_nbformat": 4
 },
 "nbformat": 4,
 "nbformat_minor": 2
}
