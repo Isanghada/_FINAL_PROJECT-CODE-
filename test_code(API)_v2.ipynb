{
 "cells": [
  {
   "cell_type": "markdown",
   "metadata": {},
   "source": [
    "### - 카카오 API : 키워드 검색"
   ]
  },
  {
   "cell_type": "markdown",
   "metadata": {},
   "source": [
    "- 카카오 API 테스트\n",
    "  - 앱 ID : \n",
    "  - 네이티브 앱 키 : \n",
    "  - REST API 키 : \n",
    "  - JavaScript 키 : \n",
    "  - Admin 키 : \n",
    "- 키워드 검색\n",
    "  - 질의어를 통해 장소 검색 결과 반환\n",
    "  - category_group_name, category_name, place_url"
   ]
  },
  {
   "cell_type": "code",
   "execution_count": null,
   "metadata": {},
   "outputs": [
    {
     "data": {
      "text/plain": [
       "200"
      ]
     },
     "metadata": {},
     "output_type": "display_data"
    }
   ],
   "source": [
    "import json\n",
    "import requests\n",
    "# REST 키\n",
    "rest_api_key = ''\n",
    "# 헤더\n",
    "headers = {\"Authorization\" : \"KakaoAK {}\".format(rest_api_key)}\n",
    "# 파라미터\n",
    "params = {\"query\" : \"제주도 추자도\"}\n",
    "url = \"https://dapi.kakao.com/v2/local/search/keyword.json\"\n",
    "\n",
    "# GET을 이용하여 획득\n",
    "res = requests.get(url, headers=headers, params=params)\n",
    "# Json을 이용하여 해제\n",
    "doc = json.loads(res.text)\n",
    "# 200일 경우 정상\n",
    "res.status_code"
   ]
  },
  {
   "cell_type": "code",
   "execution_count": null,
   "metadata": {},
   "outputs": [
    {
     "data": {
      "text/plain": [
       "{'documents': [{'address_name': '제주특별자치도 제주시 추자면 묵리',\n",
       "   'category_group_code': 'AT4',\n",
       "   'category_group_name': '관광명소',\n",
       "   'category_name': '여행 > 관광,명소 > 섬',\n",
       "   'distance': '',\n",
       "   'id': '10839940',\n",
       "   'phone': '064-728-4281',\n",
       "   'place_name': '추자도',\n",
       "   'place_url': 'http://place.map.kakao.com/10839940',\n",
       "   'road_address_name': '',\n",
       "   'x': '126.314847295503',\n",
       "   'y': '33.9528630502803'},\n",
       "  {'address_name': '제주특별자치도 제주시 추자면 대서리 4-9',\n",
       "   'category_group_code': '',\n",
       "   'category_group_name': '',\n",
       "   'category_name': '금융,보험 > 금융서비스 > 협동,소비조합 > 수산업협동조합',\n",
       "   'distance': '',\n",
       "   'id': '12868902',\n",
       "   'phone': '064-742-8193',\n",
       "   'place_name': '추자도수협',\n",
       "   'place_url': 'http://place.map.kakao.com/12868902',\n",
       "   'road_address_name': '제주특별자치도 제주시 추자면 추자로 2',\n",
       "   'x': '126.29819666571721',\n",
       "   'y': '33.96255605970134'},\n",
       "  {'address_name': '제주특별자치도 제주시 추자면 대서리 4-41',\n",
       "   'category_group_code': '',\n",
       "   'category_group_name': '',\n",
       "   'category_name': '교통,수송 > 교통시설 > 항구,포구',\n",
       "   'distance': '',\n",
       "   'id': '8115207',\n",
       "   'phone': '',\n",
       "   'place_name': '상추자도항',\n",
       "   'place_url': 'http://place.map.kakao.com/8115207',\n",
       "   'road_address_name': '',\n",
       "   'x': '126.29748114024576',\n",
       "   'y': '33.96220669891634'},\n",
       "  {'address_name': '제주특별자치도 제주시 추자면 예초리 343',\n",
       "   'category_group_code': 'AD5',\n",
       "   'category_group_name': '숙박',\n",
       "   'category_name': '여행 > 숙박 > 펜션',\n",
       "   'distance': '',\n",
       "   'id': '23406950',\n",
       "   'phone': '010-2715-5979',\n",
       "   'place_name': '추자도에코하우스펜션',\n",
       "   'place_url': 'http://place.map.kakao.com/23406950',\n",
       "   'road_address_name': '제주특별자치도 제주시 추자면 추자로 657',\n",
       "   'x': '126.32925982416374',\n",
       "   'y': '33.949734836007586'},\n",
       "  {'address_name': '제주특별자치도 제주시 추자면 묵리 399-1',\n",
       "   'category_group_code': 'AD5',\n",
       "   'category_group_name': '숙박',\n",
       "   'category_name': '여행 > 숙박 > 민박',\n",
       "   'distance': '',\n",
       "   'id': '1545775404',\n",
       "   'phone': '064-744-0907',\n",
       "   'place_name': '추자도민박',\n",
       "   'place_url': 'http://place.map.kakao.com/1545775404',\n",
       "   'road_address_name': '제주특별자치도 제주시 추자면 묵리2길 37-7',\n",
       "   'x': '126.31457363935306',\n",
       "   'y': '33.94543665536303'},\n",
       "  {'address_name': '제주특별자치도 제주시 도두일동 2635-1',\n",
       "   'category_group_code': '',\n",
       "   'category_group_name': '',\n",
       "   'category_name': '가정,생활 > 식품판매 > 수산물판매',\n",
       "   'distance': '',\n",
       "   'id': '994154563',\n",
       "   'phone': '064-746-3162',\n",
       "   'place_name': '추자도수산',\n",
       "   'place_url': 'http://place.map.kakao.com/994154563',\n",
       "   'road_address_name': '제주특별자치도 제주시 도두항서길 26',\n",
       "   'x': '126.4658085726156',\n",
       "   'y': '33.506498620943155'},\n",
       "  {'address_name': '제주특별자치도 제주시 추자면 묵리',\n",
       "   'category_group_code': 'AT4',\n",
       "   'category_group_name': '관광명소',\n",
       "   'category_name': '여행 > 관광,명소 > 섬',\n",
       "   'distance': '',\n",
       "   'id': '18376919',\n",
       "   'phone': '',\n",
       "   'place_name': '하추자도',\n",
       "   'place_url': 'http://place.map.kakao.com/18376919',\n",
       "   'road_address_name': '',\n",
       "   'x': '126.320623866253',\n",
       "   'y': '33.945816373877'},\n",
       "  {'address_name': '제주특별자치도 제주시 추자면 영흥리 77-3',\n",
       "   'category_group_code': '',\n",
       "   'category_group_name': '',\n",
       "   'category_name': '교통,수송 > 교통시설 > 등대',\n",
       "   'distance': '',\n",
       "   'id': '13723853',\n",
       "   'phone': '064-742-3780',\n",
       "   'place_name': '추자도등대',\n",
       "   'place_url': 'http://place.map.kakao.com/13723853',\n",
       "   'road_address_name': '',\n",
       "   'x': '126.29669880634921',\n",
       "   'y': '33.9552515767028'},\n",
       "  {'address_name': '제주특별자치도 제주시 추자면 영흥리',\n",
       "   'category_group_code': 'AT4',\n",
       "   'category_group_name': '관광명소',\n",
       "   'category_name': '여행 > 관광,명소 > 섬',\n",
       "   'distance': '',\n",
       "   'id': '18376814',\n",
       "   'phone': '',\n",
       "   'place_name': '상추자도',\n",
       "   'place_url': 'http://place.map.kakao.com/18376814',\n",
       "   'road_address_name': '',\n",
       "   'x': '126.293272487492',\n",
       "   'y': '33.960111834008'},\n",
       "  {'address_name': '제주특별자치도 제주시 추자면 신양리 874-11',\n",
       "   'category_group_code': 'AD5',\n",
       "   'category_group_name': '숙박',\n",
       "   'category_name': '여행 > 숙박 > 펜션',\n",
       "   'distance': '',\n",
       "   'id': '1884148888',\n",
       "   'phone': '010-2726-6921',\n",
       "   'place_name': '추자도휴양펜션',\n",
       "   'place_url': 'http://place.map.kakao.com/1884148888',\n",
       "   'road_address_name': '제주특별자치도 제주시 추자면 석두리길 4',\n",
       "   'x': '126.3234871180682',\n",
       "   'y': '33.9399425387159'},\n",
       "  {'address_name': '제주특별자치도 제주시 추자면 대서리 9',\n",
       "   'category_group_code': '',\n",
       "   'category_group_name': '',\n",
       "   'category_name': '사회,공공기관 > 행정기관 > 과학기술정보통신부 > 우체국',\n",
       "   'distance': '',\n",
       "   'id': '10839944',\n",
       "   'phone': '064-742-3588',\n",
       "   'place_name': '추자도우체국',\n",
       "   'place_url': 'http://place.map.kakao.com/10839944',\n",
       "   'road_address_name': '제주특별자치도 제주시 추자면 대서2길 11',\n",
       "   'x': '126.297005914133',\n",
       "   'y': '33.9639484092359'},\n",
       "  {'address_name': '제주특별자치도 제주시 노형동 2590-4',\n",
       "   'category_group_code': '',\n",
       "   'category_group_name': '',\n",
       "   'category_name': '가정,생활 > 식품판매 > 수산물판매',\n",
       "   'distance': '',\n",
       "   'id': '10839941',\n",
       "   'phone': '064-746-0060',\n",
       "   'place_name': '추자도수산물직매장 만재수산',\n",
       "   'place_url': 'http://place.map.kakao.com/10839941',\n",
       "   'road_address_name': '제주특별자치도 제주시 광평동로 24',\n",
       "   'x': '126.470490919783',\n",
       "   'y': '33.4823326669326'},\n",
       "  {'address_name': '제주특별자치도 제주시 추자면 대서리 4-4',\n",
       "   'category_group_code': 'AD5',\n",
       "   'category_group_name': '숙박',\n",
       "   'category_name': '여행 > 숙박 > 여관,모텔',\n",
       "   'distance': '',\n",
       "   'id': '12170792',\n",
       "   'phone': '064-742-8111',\n",
       "   'place_name': '추자도여정여관',\n",
       "   'place_url': 'http://place.map.kakao.com/12170792',\n",
       "   'road_address_name': '제주특별자치도 제주시 추자면 추자로 4-1',\n",
       "   'x': '126.297860040612',\n",
       "   'y': '33.9627055936595'},\n",
       "  {'address_name': '제주특별자치도 제주시 추자면 대서리 19-1',\n",
       "   'category_group_code': '',\n",
       "   'category_group_name': '',\n",
       "   'category_name': '여행 > 관광,명소 > 관광안내소',\n",
       "   'distance': '',\n",
       "   'id': '1317879688',\n",
       "   'phone': '',\n",
       "   'place_name': '추자도여행자센터',\n",
       "   'place_url': 'http://place.map.kakao.com/1317879688',\n",
       "   'road_address_name': '제주특별자치도 제주시 추자면 추자로 26',\n",
       "   'x': '126.296065099635',\n",
       "   'y': '33.9634967840242'},\n",
       "  {'address_name': '제주특별자치도 제주시 추자면 예초리 311-1',\n",
       "   'category_group_code': '',\n",
       "   'category_group_name': '',\n",
       "   'category_name': '서비스,산업 > 농축산',\n",
       "   'distance': '',\n",
       "   'id': '22453826',\n",
       "   'phone': '064-742-1009',\n",
       "   'place_name': '추자도참굴비수산',\n",
       "   'place_url': 'http://place.map.kakao.com/22453826',\n",
       "   'road_address_name': '제주특별자치도 제주시 추자면 예초1길 15',\n",
       "   'x': '126.331677954114',\n",
       "   'y': '33.9536984269262'}],\n",
       " 'meta': {'is_end': False,\n",
       "  'pageable_count': 31,\n",
       "  'same_name': {'keyword': '추자도', 'region': [], 'selected_region': '제주특별자치도'},\n",
       "  'total_count': 31}}"
      ]
     },
     "metadata": {},
     "output_type": "display_data"
    }
   ],
   "source": [
    "# 결과(Dict형으로 표현)\n",
    "# documets : 각 검색 결과 정보\n",
    "#  - address_name(String) : 전체 지번 주소\n",
    "#  - category_group_code(String) : 중요 카테고리만 그룹핑한 카테고리 그룹 코드\n",
    "#  - category_group_name(String) : 중요 카테고리만 그룹핑한 카테고리 그룹명\n",
    "#  - category_name(String) : 카테고리 이름\n",
    "#  - distance(String) : 중심좌표까지의 거리 (단, x,y 파라미터를 준 경우에만 존재), 단위 meter\n",
    "#  - id(String) : 장소 ID\n",
    "#  - phone(String) : 전화번호\n",
    "#  - place_name(String) : 장소명, 업체명\n",
    "#  - place_url(String) : 장소 상세페이지 URL\n",
    "#  - road_address_name(String) : 전체 도로명 주소\n",
    "#  - x(String) : X 좌표값, 경위도인 경우 longitude (경도)\n",
    "#  - y(String) : Y 좌표값, 경위도인 경우 latitude(위도)\n",
    "# meta : 검색 결과 메타 정보\n",
    "doc"
   ]
  },
  {
   "cell_type": "markdown",
   "metadata": {},
   "source": [
    "### - 네이버 API : 지역 검색"
   ]
  },
  {
   "cell_type": "markdown",
   "metadata": {},
   "source": [
    "- 네이버 API 테스트\n",
    "  - Client ID : \n",
    "  - Client Secret : \n",
    "- 지역 검색\n",
    "  - 질의어를 통해 장소 검색 결과 반환\n",
    "  - category, description 사용 가능"
   ]
  },
  {
   "cell_type": "code",
   "execution_count": null,
   "metadata": {},
   "outputs": [
    {
     "data": {
      "text/plain": [
       "200"
      ]
     },
     "metadata": {},
     "output_type": "display_data"
    }
   ],
   "source": [
    "import json\n",
    "import urllib\n",
    "import requests\n",
    "# REST 키\n",
    "client_key = ''\n",
    "client_secret = ''\n",
    "# 헤더\n",
    "headers = {\"X-Naver-Client-Id\" : client_key, \n",
    "           \"X-Naver-Client-Secret\" : client_secret}\n",
    "# 파라미터\n",
    "encText = urllib.parse.quote(\"제주도 신례토종닭식당\")\n",
    "url = \"https://openapi.naver.com/v1/search/local.json?query=\"+encText\n",
    "\n",
    "# GET을 이용하여 획득\n",
    "res = requests.get(url, headers=headers)\n",
    "# Json을 이용하여 해제\n",
    "doc = json.loads(res.text)\n",
    "# 200일 경우 정상\n",
    "res.status_code"
   ]
  },
  {
   "cell_type": "code",
   "execution_count": null,
   "metadata": {},
   "outputs": [
    {
     "data": {
      "text/plain": [
       "{'lastBuildDate': 'Thu, 06 Jan 2022 18:46:25 +0900',\n",
       " 'total': 1,\n",
       " 'start': 1,\n",
       " 'display': 1,\n",
       " 'items': [{'title': '<b>신례토종닭식당</b>',\n",
       "   'link': '',\n",
       "   'category': '한식>닭요리',\n",
       "   'description': '',\n",
       "   'telephone': '',\n",
       "   'address': '제주특별자치도 서귀포시 남원읍 신례리 2162-50',\n",
       "   'roadAddress': '제주특별자치도 서귀포시 남원읍 신례천로 267-110',\n",
       "   'mapx': '272667',\n",
       "   'mapy': '80629'}]}"
      ]
     },
     "metadata": {},
     "output_type": "display_data"
    }
   ],
   "source": [
    "# 결과(Dict형으로 표현)\n",
    "# items : 각 검색 결과 정보\n",
    "#  - title(String) : 업체, 기관명\n",
    "#  - link(String) : 기관의 상세 정보가 제공되는 네이버 페이지의 하이퍼텍스트 link\n",
    "#  - category(String) : 중요 카테고리만 그룹핑한 카테고리 그룹명\n",
    "#  - description(String) : 기관명에 대한 설명을 제공\n",
    "#  - telephone(String) : 하위 호환성을 위해 존재\n",
    "#  - address(String) : 기관명의 주소를 제공\n",
    "#  - roadAddress(String) : 기관명의 도로명 주소를 제공\n",
    "#  - mapx(String) : x좌표를 제공한다. 제공값은 카텍좌표계 값으로 제공\n",
    "#  - mapy(String) : y좌표를 제공한다. 제공값은 카텍 좌표계 값으로 제공\n",
    "doc"
   ]
  },
  {
   "cell_type": "markdown",
   "metadata": {},
   "source": [
    "### - 관광 / 숙박 분리"
   ]
  },
  {
   "cell_type": "markdown",
   "metadata": {},
   "source": [
    "- 관광 / 숙박은 카테고리상 차이가 나기 때문에 분리해주도록 한다."
   ]
  },
  {
   "cell_type": "markdown",
   "metadata": {},
   "source": [
    "#### 1. 데이터 확인"
   ]
  },
  {
   "cell_type": "markdown",
   "metadata": {},
   "source": [
    "- 필터링1 버전으로 실행\n",
    "- 필터링2는 레저/스포츠 부분만 전처리를 진행하였기 때문에 관광/숙박 시설은 필터링1과 동일"
   ]
  },
  {
   "cell_type": "code",
   "execution_count": null,
   "metadata": {},
   "outputs": [
    {
     "data": {
      "text/html": [
       "<div>\n",
       "<style scoped>\n",
       "    .dataframe tbody tr th:only-of-type {\n",
       "        vertical-align: middle;\n",
       "    }\n",
       "\n",
       "    .dataframe tbody tr th {\n",
       "        vertical-align: top;\n",
       "    }\n",
       "\n",
       "    .dataframe thead th {\n",
       "        text-align: right;\n",
       "    }\n",
       "</style>\n",
       "<table border=\"1\" class=\"dataframe\">\n",
       "  <thead>\n",
       "    <tr style=\"text-align: right;\">\n",
       "      <th></th>\n",
       "      <th>위치좌표 X축값</th>\n",
       "      <th>위치좌표 Y축값</th>\n",
       "      <th>구분</th>\n",
       "      <th>장소명</th>\n",
       "      <th>소재지</th>\n",
       "    </tr>\n",
       "  </thead>\n",
       "  <tbody>\n",
       "    <tr>\n",
       "      <th>0</th>\n",
       "      <td>126.495979</td>\n",
       "      <td>33.486592</td>\n",
       "      <td>관광/숙박</td>\n",
       "      <td>코리아나호텔</td>\n",
       "      <td>제주특별자치도 제주시 연동 303-10</td>\n",
       "    </tr>\n",
       "    <tr>\n",
       "      <th>1</th>\n",
       "      <td>126.385364</td>\n",
       "      <td>33.470809</td>\n",
       "      <td>관광/숙박</td>\n",
       "      <td>수산유원지</td>\n",
       "      <td>제주특별자치도 제주시 애월읍 수산리 1918</td>\n",
       "    </tr>\n",
       "    <tr>\n",
       "      <th>2</th>\n",
       "      <td>126.771241</td>\n",
       "      <td>33.529109</td>\n",
       "      <td>관광/숙박</td>\n",
       "      <td>만장굴</td>\n",
       "      <td>제주특별자치도 제주시 구좌읍 월정리 41</td>\n",
       "    </tr>\n",
       "    <tr>\n",
       "      <th>3</th>\n",
       "      <td>126.941753</td>\n",
       "      <td>33.458386</td>\n",
       "      <td>관광/숙박</td>\n",
       "      <td>성산일출봉</td>\n",
       "      <td>제주특별자치도 서귀포시 성산읍 신천리 114</td>\n",
       "    </tr>\n",
       "    <tr>\n",
       "      <th>4</th>\n",
       "      <td>126.394439</td>\n",
       "      <td>33.408524</td>\n",
       "      <td>관광/숙박</td>\n",
       "      <td>제주경마공원</td>\n",
       "      <td>제주특별자치도 제주시 애월읍 소길리 1206</td>\n",
       "    </tr>\n",
       "  </tbody>\n",
       "</table>\n",
       "</div>"
      ],
      "text/plain": [
       "    위치좌표 X축값   위치좌표 Y축값      구분     장소명                       소재지\n",
       "0  126.495979  33.486592  관광/숙박  코리아나호텔     제주특별자치도 제주시 연동 303-10\n",
       "1  126.385364  33.470809  관광/숙박   수산유원지  제주특별자치도 제주시 애월읍 수산리 1918\n",
       "2  126.771241  33.529109  관광/숙박     만장굴    제주특별자치도 제주시 구좌읍 월정리 41\n",
       "3  126.941753  33.458386  관광/숙박   성산일출봉  제주특별자치도 서귀포시 성산읍 신천리 114\n",
       "4  126.394439  33.408524  관광/숙박  제주경마공원  제주특별자치도 제주시 애월읍 소길리 1206"
      ]
     },
     "metadata": {},
     "output_type": "display_data"
    }
   ],
   "source": [
    "import pandas as pd\n",
    "\n",
    "df = pd.read_excel('./data/제주도 장소(POI) - 필터링1.xlsx')\n",
    "df.head()"
   ]
  },
  {
   "cell_type": "code",
   "execution_count": null,
   "metadata": {},
   "outputs": [
    {
     "name": "stdout",
     "output_type": "stream",
     "text": [
      "<class 'pandas.core.frame.DataFrame'>\n",
      "RangeIndex: 7466 entries, 0 to 7465\n",
      "Data columns (total 5 columns):\n",
      " #   Column     Non-Null Count  Dtype  \n",
      "---  ------     --------------  -----  \n",
      " 0   위치좌표 X축값   7466 non-null   float64\n",
      " 1   위치좌표 Y축값   7466 non-null   float64\n",
      " 2   구분         7466 non-null   object \n",
      " 3   장소명        7466 non-null   object \n",
      " 4   소재지        7466 non-null   object \n",
      "dtypes: float64(2), object(3)\n",
      "memory usage: 291.8+ KB\n"
     ]
    }
   ],
   "source": [
    "df.info()"
   ]
  },
  {
   "cell_type": "markdown",
   "metadata": {},
   "source": [
    "- 구분 컬럼으로 카운트 확인"
   ]
  },
  {
   "cell_type": "code",
   "execution_count": null,
   "metadata": {},
   "outputs": [
    {
     "data": {
      "text/plain": [
       "array(['관광/숙박', '문화/종교/예술', '공원/산/동.식물원', '레져/스포츠'], dtype=object)"
      ]
     },
     "metadata": {},
     "output_type": "display_data"
    }
   ],
   "source": [
    "df['구분'].unique()"
   ]
  },
  {
   "cell_type": "code",
   "execution_count": null,
   "metadata": {},
   "outputs": [
    {
     "data": {
      "text/plain": [
       "관광/숙박         4621\n",
       "레져/스포츠        2230\n",
       "문화/종교/예술       347\n",
       "공원/산/동.식물원     268\n",
       "Name: 구분, dtype: int64"
      ]
     },
     "metadata": {},
     "output_type": "display_data"
    }
   ],
   "source": [
    "df['구분'].value_counts()"
   ]
  },
  {
   "cell_type": "markdown",
   "metadata": {},
   "source": [
    "#### 2. 관광 / 숙박 : 숙박 시설 확인"
   ]
  },
  {
   "cell_type": "markdown",
   "metadata": {},
   "source": [
    "- 관광/숙박 컬럼 선택"
   ]
  },
  {
   "cell_type": "code",
   "execution_count": null,
   "metadata": {},
   "outputs": [
    {
     "data": {
      "text/html": [
       "<div>\n",
       "<style scoped>\n",
       "    .dataframe tbody tr th:only-of-type {\n",
       "        vertical-align: middle;\n",
       "    }\n",
       "\n",
       "    .dataframe tbody tr th {\n",
       "        vertical-align: top;\n",
       "    }\n",
       "\n",
       "    .dataframe thead th {\n",
       "        text-align: right;\n",
       "    }\n",
       "</style>\n",
       "<table border=\"1\" class=\"dataframe\">\n",
       "  <thead>\n",
       "    <tr style=\"text-align: right;\">\n",
       "      <th></th>\n",
       "      <th>위치좌표 X축값</th>\n",
       "      <th>위치좌표 Y축값</th>\n",
       "      <th>구분</th>\n",
       "      <th>장소명</th>\n",
       "      <th>소재지</th>\n",
       "    </tr>\n",
       "  </thead>\n",
       "  <tbody>\n",
       "    <tr>\n",
       "      <th>0</th>\n",
       "      <td>126.495979</td>\n",
       "      <td>33.486592</td>\n",
       "      <td>관광/숙박</td>\n",
       "      <td>코리아나호텔</td>\n",
       "      <td>제주특별자치도 제주시 연동 303-10</td>\n",
       "    </tr>\n",
       "    <tr>\n",
       "      <th>1</th>\n",
       "      <td>126.385364</td>\n",
       "      <td>33.470809</td>\n",
       "      <td>관광/숙박</td>\n",
       "      <td>수산유원지</td>\n",
       "      <td>제주특별자치도 제주시 애월읍 수산리 1918</td>\n",
       "    </tr>\n",
       "    <tr>\n",
       "      <th>2</th>\n",
       "      <td>126.771241</td>\n",
       "      <td>33.529109</td>\n",
       "      <td>관광/숙박</td>\n",
       "      <td>만장굴</td>\n",
       "      <td>제주특별자치도 제주시 구좌읍 월정리 41</td>\n",
       "    </tr>\n",
       "    <tr>\n",
       "      <th>3</th>\n",
       "      <td>126.941753</td>\n",
       "      <td>33.458386</td>\n",
       "      <td>관광/숙박</td>\n",
       "      <td>성산일출봉</td>\n",
       "      <td>제주특별자치도 서귀포시 성산읍 신천리 114</td>\n",
       "    </tr>\n",
       "    <tr>\n",
       "      <th>4</th>\n",
       "      <td>126.394439</td>\n",
       "      <td>33.408524</td>\n",
       "      <td>관광/숙박</td>\n",
       "      <td>제주경마공원</td>\n",
       "      <td>제주특별자치도 제주시 애월읍 소길리 1206</td>\n",
       "    </tr>\n",
       "  </tbody>\n",
       "</table>\n",
       "</div>"
      ],
      "text/plain": [
       "    위치좌표 X축값   위치좌표 Y축값      구분     장소명                       소재지\n",
       "0  126.495979  33.486592  관광/숙박  코리아나호텔     제주특별자치도 제주시 연동 303-10\n",
       "1  126.385364  33.470809  관광/숙박   수산유원지  제주특별자치도 제주시 애월읍 수산리 1918\n",
       "2  126.771241  33.529109  관광/숙박     만장굴    제주특별자치도 제주시 구좌읍 월정리 41\n",
       "3  126.941753  33.458386  관광/숙박   성산일출봉  제주특별자치도 서귀포시 성산읍 신천리 114\n",
       "4  126.394439  33.408524  관광/숙박  제주경마공원  제주특별자치도 제주시 애월읍 소길리 1206"
      ]
     },
     "metadata": {},
     "output_type": "display_data"
    }
   ],
   "source": [
    "# all = df.query('구분 == \"관광/숙박\"')\n",
    "all = df[df['구분'] == '관광/숙박']\n",
    "all.head()"
   ]
  },
  {
   "cell_type": "code",
   "execution_count": null,
   "metadata": {},
   "outputs": [
    {
     "name": "stdout",
     "output_type": "stream",
     "text": [
      "<class 'pandas.core.frame.DataFrame'>\n",
      "Int64Index: 4621 entries, 0 to 7465\n",
      "Data columns (total 5 columns):\n",
      " #   Column     Non-Null Count  Dtype  \n",
      "---  ------     --------------  -----  \n",
      " 0   위치좌표 X축값   4621 non-null   float64\n",
      " 1   위치좌표 Y축값   4621 non-null   float64\n",
      " 2   구분         4621 non-null   object \n",
      " 3   장소명        4621 non-null   object \n",
      " 4   소재지        4621 non-null   object \n",
      "dtypes: float64(2), object(3)\n",
      "memory usage: 216.6+ KB\n"
     ]
    }
   ],
   "source": [
    "all.info()"
   ]
  },
  {
   "cell_type": "markdown",
   "metadata": {},
   "source": [
    "- 숙박 시설 확인\n",
    "  - '호텔', '민박', '모텔', '여관', '리조트', '펜션', '여인숙', '별장', '팬션', '콘도', '호스텔', '하우스'\n",
    "  - '--텔'로 끝나는 경우\n",
    "  - 2480개"
   ]
  },
  {
   "cell_type": "code",
   "execution_count": null,
   "metadata": {},
   "outputs": [],
   "source": [
    "accommodations = ['호텔', '민박', '모텔', '여관', '리조트', '펜션', '여인숙', '별장', '팬션', '콘도', '호스텔', '하우스']\n",
    "\n",
    "accommodation_df = all.query(f'장소명.str.contains(\"{\"|\".join(accommodations)}\") or 장소명.str.endswith(\"텔\")', engine='python').copy()"
   ]
  },
  {
   "cell_type": "markdown",
   "metadata": {},
   "source": [
    "- 숙박 시설 DataFrame"
   ]
  },
  {
   "cell_type": "code",
   "execution_count": null,
   "metadata": {},
   "outputs": [
    {
     "name": "stdout",
     "output_type": "stream",
     "text": [
      "<class 'pandas.core.frame.DataFrame'>\n",
      "Int64Index: 2480 entries, 0 to 7465\n",
      "Data columns (total 5 columns):\n",
      " #   Column     Non-Null Count  Dtype  \n",
      "---  ------     --------------  -----  \n",
      " 0   위치좌표 X축값   2480 non-null   float64\n",
      " 1   위치좌표 Y축값   2480 non-null   float64\n",
      " 2   구분         2480 non-null   object \n",
      " 3   장소명        2480 non-null   object \n",
      " 4   소재지        2480 non-null   object \n",
      "dtypes: float64(2), object(3)\n",
      "memory usage: 116.2+ KB\n"
     ]
    }
   ],
   "source": [
    "accommodation_df.info()"
   ]
  },
  {
   "cell_type": "code",
   "execution_count": null,
   "metadata": {},
   "outputs": [
    {
     "data": {
      "text/plain": [
       "2388"
      ]
     },
     "metadata": {},
     "output_type": "display_data"
    }
   ],
   "source": [
    "len(accommodation_df['장소명'].unique())"
   ]
  },
  {
   "cell_type": "code",
   "execution_count": null,
   "metadata": {},
   "outputs": [],
   "source": [
    "# accommodation_df.to_excel('./accomodation.xlsx')"
   ]
  },
  {
   "cell_type": "markdown",
   "metadata": {},
   "source": [
    "#### 3. 관광 / 숙박 : 관광 시설 확인"
   ]
  },
  {
   "cell_type": "markdown",
   "metadata": {},
   "source": [
    "- 숙박 시설의 인덱스를 제거하여 관광 시설 판별"
   ]
  },
  {
   "cell_type": "code",
   "execution_count": null,
   "metadata": {},
   "outputs": [
    {
     "name": "stdout",
     "output_type": "stream",
     "text": [
      "<class 'pandas.core.frame.DataFrame'>\n",
      "Int64Index: 2141 entries, 1 to 7454\n",
      "Data columns (total 5 columns):\n",
      " #   Column     Non-Null Count  Dtype  \n",
      "---  ------     --------------  -----  \n",
      " 0   위치좌표 X축값   2141 non-null   float64\n",
      " 1   위치좌표 Y축값   2141 non-null   float64\n",
      " 2   구분         2141 non-null   object \n",
      " 3   장소명        2141 non-null   object \n",
      " 4   소재지        2141 non-null   object \n",
      "dtypes: float64(2), object(3)\n",
      "memory usage: 100.4+ KB\n"
     ]
    }
   ],
   "source": [
    "tourism_df = all.drop(accommodation_df.index, axis=0).copy()\n",
    "tourism_df.info()"
   ]
  },
  {
   "cell_type": "code",
   "execution_count": null,
   "metadata": {},
   "outputs": [
    {
     "data": {
      "text/plain": [
       "2067"
      ]
     },
     "metadata": {},
     "output_type": "display_data"
    }
   ],
   "source": [
    "len(tourism_df['장소명'].unique())"
   ]
  },
  {
   "cell_type": "code",
   "execution_count": null,
   "metadata": {},
   "outputs": [],
   "source": [
    "# tourism_df.to_excel('tourism.xlsx')"
   ]
  },
  {
   "cell_type": "markdown",
   "metadata": {},
   "source": [
    "#### 4. 관광 / 숙박 : 관광 시설 추가 관찰"
   ]
  },
  {
   "cell_type": "markdown",
   "metadata": {},
   "source": [
    "- 엑셀을 이용해 직접 확인"
   ]
  },
  {
   "cell_type": "markdown",
   "metadata": {},
   "source": [
    "### - 중복 좌표 처리"
   ]
  },
  {
   "cell_type": "markdown",
   "metadata": {},
   "source": [
    "#### 1. 데이터 확인"
   ]
  },
  {
   "cell_type": "markdown",
   "metadata": {},
   "source": [
    "- 필터링2 버전으로 실행\n",
    "- 같은 좌표가 2개 이상인 경우만 추가하여 확인"
   ]
  },
  {
   "cell_type": "code",
   "execution_count": 1,
   "metadata": {},
   "outputs": [
    {
     "data": {
      "text/html": [
       "<div>\n",
       "<style scoped>\n",
       "    .dataframe tbody tr th:only-of-type {\n",
       "        vertical-align: middle;\n",
       "    }\n",
       "\n",
       "    .dataframe tbody tr th {\n",
       "        vertical-align: top;\n",
       "    }\n",
       "\n",
       "    .dataframe thead th {\n",
       "        text-align: right;\n",
       "    }\n",
       "</style>\n",
       "<table border=\"1\" class=\"dataframe\">\n",
       "  <thead>\n",
       "    <tr style=\"text-align: right;\">\n",
       "      <th></th>\n",
       "      <th>위치좌표 X축값</th>\n",
       "      <th>위치좌표 Y축값</th>\n",
       "      <th>구분</th>\n",
       "      <th>장소명</th>\n",
       "      <th>소재지</th>\n",
       "    </tr>\n",
       "  </thead>\n",
       "  <tbody>\n",
       "    <tr>\n",
       "      <th>0</th>\n",
       "      <td>126.495979</td>\n",
       "      <td>33.486592</td>\n",
       "      <td>관광/숙박</td>\n",
       "      <td>코리아나호텔</td>\n",
       "      <td>제주특별자치도 제주시 연동 303-10</td>\n",
       "    </tr>\n",
       "    <tr>\n",
       "      <th>1</th>\n",
       "      <td>126.385364</td>\n",
       "      <td>33.470809</td>\n",
       "      <td>관광/숙박</td>\n",
       "      <td>수산유원지</td>\n",
       "      <td>제주특별자치도 제주시 애월읍 수산리 1918</td>\n",
       "    </tr>\n",
       "    <tr>\n",
       "      <th>2</th>\n",
       "      <td>126.771241</td>\n",
       "      <td>33.529109</td>\n",
       "      <td>관광/숙박</td>\n",
       "      <td>만장굴</td>\n",
       "      <td>제주특별자치도 제주시 구좌읍 월정리 41</td>\n",
       "    </tr>\n",
       "    <tr>\n",
       "      <th>3</th>\n",
       "      <td>126.941753</td>\n",
       "      <td>33.458386</td>\n",
       "      <td>관광/숙박</td>\n",
       "      <td>성산일출봉</td>\n",
       "      <td>제주특별자치도 서귀포시 성산읍 신천리 114</td>\n",
       "    </tr>\n",
       "    <tr>\n",
       "      <th>4</th>\n",
       "      <td>126.394439</td>\n",
       "      <td>33.408524</td>\n",
       "      <td>관광/숙박</td>\n",
       "      <td>제주경마공원</td>\n",
       "      <td>제주특별자치도 제주시 애월읍 소길리 1206</td>\n",
       "    </tr>\n",
       "  </tbody>\n",
       "</table>\n",
       "</div>"
      ],
      "text/plain": [
       "    위치좌표 X축값   위치좌표 Y축값      구분     장소명                       소재지\n",
       "0  126.495979  33.486592  관광/숙박  코리아나호텔     제주특별자치도 제주시 연동 303-10\n",
       "1  126.385364  33.470809  관광/숙박   수산유원지  제주특별자치도 제주시 애월읍 수산리 1918\n",
       "2  126.771241  33.529109  관광/숙박     만장굴    제주특별자치도 제주시 구좌읍 월정리 41\n",
       "3  126.941753  33.458386  관광/숙박   성산일출봉  제주특별자치도 서귀포시 성산읍 신천리 114\n",
       "4  126.394439  33.408524  관광/숙박  제주경마공원  제주특별자치도 제주시 애월읍 소길리 1206"
      ]
     },
     "execution_count": 1,
     "metadata": {},
     "output_type": "execute_result"
    }
   ],
   "source": [
    "import pandas as pd\n",
    "\n",
    "df = pd.read_excel('./data/제주도 장소(POI) - 필터링2.xlsx')\n",
    "df.head()"
   ]
  },
  {
   "cell_type": "code",
   "execution_count": 2,
   "metadata": {},
   "outputs": [
    {
     "name": "stdout",
     "output_type": "stream",
     "text": [
      "<class 'pandas.core.frame.DataFrame'>\n",
      "RangeIndex: 6510 entries, 0 to 6509\n",
      "Data columns (total 5 columns):\n",
      " #   Column     Non-Null Count  Dtype  \n",
      "---  ------     --------------  -----  \n",
      " 0   위치좌표 X축값   6510 non-null   float64\n",
      " 1   위치좌표 Y축값   6510 non-null   float64\n",
      " 2   구분         6510 non-null   object \n",
      " 3   장소명        6510 non-null   object \n",
      " 4   소재지        6510 non-null   object \n",
      "dtypes: float64(2), object(3)\n",
      "memory usage: 254.4+ KB\n"
     ]
    }
   ],
   "source": [
    "df.info()"
   ]
  },
  {
   "cell_type": "code",
   "execution_count": 3,
   "metadata": {},
   "outputs": [
    {
     "data": {
      "text/plain": [
       "Index(['위치좌표 X축값 ', '위치좌표 Y축값 ', '구분', '장소명', '소재지'], dtype='object')"
      ]
     },
     "execution_count": 3,
     "metadata": {},
     "output_type": "execute_result"
    }
   ],
   "source": [
    "df.columns"
   ]
  },
  {
   "cell_type": "code",
   "execution_count": 4,
   "metadata": {},
   "outputs": [],
   "source": [
    "include_index = []      # 탐색한 좌표\n",
    "duplicate_index = []    # 중복 좌표\n",
    "\n",
    "for idx, row in df.iterrows():\n",
    "    # 중복 좌표가 아닌 경우 탐색\n",
    "    if idx not in include_index:\n",
    "        # 중복 좌표의 인덱스 확인\n",
    "        temp = list(df[((df['위치좌표 X축값 '] == row['위치좌표 X축값 ']) & (df['위치좌표 Y축값 '] == row['위치좌표 Y축값 ']))].index)\n",
    "        # 길이가 2 이상인 경우 : 중복 좌표가 존재함을 의미\n",
    "        if len(temp) >=2 :\n",
    "            include_index.extend(temp)\n",
    "            duplicate_index.append(temp)\n",
    "        # 길이가 1인 경우 : 중복 좌표가 존재하지 않음을 의미\n",
    "        else:\n",
    "            include_index.append(idx)"
   ]
  },
  {
   "cell_type": "markdown",
   "metadata": {},
   "source": [
    "- 전체 인덱스 개수"
   ]
  },
  {
   "cell_type": "code",
   "execution_count": 5,
   "metadata": {},
   "outputs": [
    {
     "data": {
      "text/plain": [
       "6510"
      ]
     },
     "execution_count": 5,
     "metadata": {},
     "output_type": "execute_result"
    }
   ],
   "source": [
    "len(include_index)"
   ]
  },
  {
   "cell_type": "markdown",
   "metadata": {},
   "source": [
    "- 중복 좌표 개수"
   ]
  },
  {
   "cell_type": "code",
   "execution_count": 6,
   "metadata": {},
   "outputs": [
    {
     "data": {
      "text/plain": [
       "1073"
      ]
     },
     "execution_count": 6,
     "metadata": {},
     "output_type": "execute_result"
    }
   ],
   "source": [
    "len(duplicate_index)"
   ]
  },
  {
   "cell_type": "markdown",
   "metadata": {},
   "source": [
    "#### 2. 중복 좌표 삭제"
   ]
  },
  {
   "cell_type": "code",
   "execution_count": 7,
   "metadata": {},
   "outputs": [],
   "source": [
    "total = 0\n",
    "names = {}\n",
    "for idx, index_list in enumerate(duplicate_index, start=1):\n",
    "    total += len(index_list)    # 중복 좌표의 개수 확인\n",
    "    names[index_list[0]] = []   # 중복 좌표의 다른 이름 추가\n",
    "    for idx2, index in enumerate(index_list):\n",
    "        if idx2 != 0:\n",
    "            # 다른 이름 추가\n",
    "            names[index_list[0]].append(df.loc[index, '장소명'])\n",
    "            # 행 삭제\n",
    "            df.drop(index, axis=0, inplace=True)"
   ]
  },
  {
   "cell_type": "markdown",
   "metadata": {},
   "source": [
    "- 전체 중복 좌표 수"
   ]
  },
  {
   "cell_type": "code",
   "execution_count": 8,
   "metadata": {},
   "outputs": [
    {
     "data": {
      "text/plain": [
       "2634"
      ]
     },
     "execution_count": 8,
     "metadata": {},
     "output_type": "execute_result"
    }
   ],
   "source": [
    "total"
   ]
  },
  {
   "cell_type": "markdown",
   "metadata": {},
   "source": [
    "- 삭제한 행의 수"
   ]
  },
  {
   "cell_type": "code",
   "execution_count": 9,
   "metadata": {},
   "outputs": [
    {
     "data": {
      "text/plain": [
       "1561"
      ]
     },
     "execution_count": 9,
     "metadata": {},
     "output_type": "execute_result"
    }
   ],
   "source": [
    "total - len(duplicate_index)"
   ]
  },
  {
   "cell_type": "markdown",
   "metadata": {},
   "source": [
    "- 중복 컬럼 삭제 후 정보"
   ]
  },
  {
   "cell_type": "code",
   "execution_count": 10,
   "metadata": {},
   "outputs": [
    {
     "name": "stdout",
     "output_type": "stream",
     "text": [
      "<class 'pandas.core.frame.DataFrame'>\n",
      "Int64Index: 4949 entries, 0 to 6431\n",
      "Data columns (total 5 columns):\n",
      " #   Column     Non-Null Count  Dtype  \n",
      "---  ------     --------------  -----  \n",
      " 0   위치좌표 X축값   4949 non-null   float64\n",
      " 1   위치좌표 Y축값   4949 non-null   float64\n",
      " 2   구분         4949 non-null   object \n",
      " 3   장소명        4949 non-null   object \n",
      " 4   소재지        4949 non-null   object \n",
      "dtypes: float64(2), object(3)\n",
      "memory usage: 232.0+ KB\n"
     ]
    }
   ],
   "source": [
    "df.info()"
   ]
  },
  {
   "cell_type": "code",
   "execution_count": 11,
   "metadata": {},
   "outputs": [
    {
     "data": {
      "text/plain": [
       "관광/숙박         3701\n",
       "레져/스포츠         805\n",
       "문화/종교/예술       234\n",
       "공원/산/동.식물원     209\n",
       "Name: 구분, dtype: int64"
      ]
     },
     "execution_count": 11,
     "metadata": {},
     "output_type": "execute_result"
    }
   ],
   "source": [
    "df['구분'].value_counts()"
   ]
  },
  {
   "cell_type": "code",
   "execution_count": 12,
   "metadata": {},
   "outputs": [],
   "source": [
    "# 추가 이름 컬럼 생성\n",
    "# 중복 좌표의 '이름' 추가, 없을 경우 '.'으로 표현\n",
    "df['Additional_Name'] = '.'\n",
    "for idx, value in names.items():\n",
    "    df.loc[idx, 'Additional_Name'] = ','.join(value)"
   ]
  },
  {
   "cell_type": "code",
   "execution_count": 13,
   "metadata": {},
   "outputs": [
    {
     "data": {
      "text/html": [
       "<div>\n",
       "<style scoped>\n",
       "    .dataframe tbody tr th:only-of-type {\n",
       "        vertical-align: middle;\n",
       "    }\n",
       "\n",
       "    .dataframe tbody tr th {\n",
       "        vertical-align: top;\n",
       "    }\n",
       "\n",
       "    .dataframe thead th {\n",
       "        text-align: right;\n",
       "    }\n",
       "</style>\n",
       "<table border=\"1\" class=\"dataframe\">\n",
       "  <thead>\n",
       "    <tr style=\"text-align: right;\">\n",
       "      <th></th>\n",
       "      <th>위치좌표 X축값</th>\n",
       "      <th>위치좌표 Y축값</th>\n",
       "      <th>구분</th>\n",
       "      <th>장소명</th>\n",
       "      <th>소재지</th>\n",
       "      <th>Additional_Name</th>\n",
       "    </tr>\n",
       "  </thead>\n",
       "  <tbody>\n",
       "    <tr>\n",
       "      <th>0</th>\n",
       "      <td>126.495979</td>\n",
       "      <td>33.486592</td>\n",
       "      <td>관광/숙박</td>\n",
       "      <td>코리아나호텔</td>\n",
       "      <td>제주특별자치도 제주시 연동 303-10</td>\n",
       "      <td>.</td>\n",
       "    </tr>\n",
       "    <tr>\n",
       "      <th>1</th>\n",
       "      <td>126.385364</td>\n",
       "      <td>33.470809</td>\n",
       "      <td>관광/숙박</td>\n",
       "      <td>수산유원지</td>\n",
       "      <td>제주특별자치도 제주시 애월읍 수산리 1918</td>\n",
       "      <td>.</td>\n",
       "    </tr>\n",
       "    <tr>\n",
       "      <th>2</th>\n",
       "      <td>126.771241</td>\n",
       "      <td>33.529109</td>\n",
       "      <td>관광/숙박</td>\n",
       "      <td>만장굴</td>\n",
       "      <td>제주특별자치도 제주시 구좌읍 월정리 41</td>\n",
       "      <td>(거문오름용암동굴계)만장굴,(제주화산섬과용암동굴)만장굴</td>\n",
       "    </tr>\n",
       "    <tr>\n",
       "      <th>3</th>\n",
       "      <td>126.941753</td>\n",
       "      <td>33.458386</td>\n",
       "      <td>관광/숙박</td>\n",
       "      <td>성산일출봉</td>\n",
       "      <td>제주특별자치도 서귀포시 성산읍 신천리 114</td>\n",
       "      <td>일출봉,(제주화산섬과용암동굴)성산일출봉</td>\n",
       "    </tr>\n",
       "    <tr>\n",
       "      <th>4</th>\n",
       "      <td>126.394439</td>\n",
       "      <td>33.408524</td>\n",
       "      <td>관광/숙박</td>\n",
       "      <td>제주경마공원</td>\n",
       "      <td>제주특별자치도 제주시 애월읍 소길리 1206</td>\n",
       "      <td>경마공원,제주경마장</td>\n",
       "    </tr>\n",
       "  </tbody>\n",
       "</table>\n",
       "</div>"
      ],
      "text/plain": [
       "    위치좌표 X축값   위치좌표 Y축값      구분     장소명                       소재지  \\\n",
       "0  126.495979  33.486592  관광/숙박  코리아나호텔     제주특별자치도 제주시 연동 303-10   \n",
       "1  126.385364  33.470809  관광/숙박   수산유원지  제주특별자치도 제주시 애월읍 수산리 1918   \n",
       "2  126.771241  33.529109  관광/숙박     만장굴    제주특별자치도 제주시 구좌읍 월정리 41   \n",
       "3  126.941753  33.458386  관광/숙박   성산일출봉  제주특별자치도 서귀포시 성산읍 신천리 114   \n",
       "4  126.394439  33.408524  관광/숙박  제주경마공원  제주특별자치도 제주시 애월읍 소길리 1206   \n",
       "\n",
       "                  Additional_Name  \n",
       "0                               .  \n",
       "1                               .  \n",
       "2  (거문오름용암동굴계)만장굴,(제주화산섬과용암동굴)만장굴  \n",
       "3           일출봉,(제주화산섬과용암동굴)성산일출봉  \n",
       "4                      경마공원,제주경마장  "
      ]
     },
     "execution_count": 13,
     "metadata": {},
     "output_type": "execute_result"
    }
   ],
   "source": [
    "df.head()"
   ]
  },
  {
   "cell_type": "markdown",
   "metadata": {},
   "source": [
    "- 중복 좌표 삭제"
   ]
  },
  {
   "cell_type": "code",
   "execution_count": null,
   "metadata": {},
   "outputs": [],
   "source": [
    "# df.to_excel('./data/제주도 장소(POI) - 필터링3.xlsx')"
   ]
  }
 ],
 "metadata": {
  "interpreter": {
   "hash": "51b46dc78c05e2d39b28ced298f5e3e2fec06f080b2991ae6dc0981efed4b363"
  },
  "kernelspec": {
   "display_name": "Python 3.8.11 64-bit ('ds_study(38)': conda)",
   "language": "python",
   "name": "python3"
  },
  "language_info": {
   "codemirror_mode": {
    "name": "ipython",
    "version": 3
   },
   "file_extension": ".py",
   "mimetype": "text/x-python",
   "name": "python",
   "nbconvert_exporter": "python",
   "pygments_lexer": "ipython3",
   "version": "3.8.11"
  },
  "orig_nbformat": 4
 },
 "nbformat": 4,
 "nbformat_minor": 2
}
