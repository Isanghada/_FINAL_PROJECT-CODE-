{
 "cells": [
  {
   "cell_type": "markdown",
   "metadata": {},
   "source": [
    "### - POI 데이터 : 잘못된 이미지 삭제"
   ]
  },
  {
   "cell_type": "code",
   "execution_count": null,
   "metadata": {},
   "outputs": [],
   "source": [
    "import pandas as pd\n",
    "\n",
    "jeju_poi = pd.read_excel('./data/220118/_제주도_POI_have_image.xlsx', index_col=0)"
   ]
  },
  {
   "cell_type": "code",
   "execution_count": null,
   "metadata": {},
   "outputs": [
    {
     "data": {
      "text/html": [
       "<div>\n",
       "<style scoped>\n",
       "    .dataframe tbody tr th:only-of-type {\n",
       "        vertical-align: middle;\n",
       "    }\n",
       "\n",
       "    .dataframe tbody tr th {\n",
       "        vertical-align: top;\n",
       "    }\n",
       "\n",
       "    .dataframe thead th {\n",
       "        text-align: right;\n",
       "    }\n",
       "</style>\n",
       "<table border=\"1\" class=\"dataframe\">\n",
       "  <thead>\n",
       "    <tr style=\"text-align: right;\">\n",
       "      <th></th>\n",
       "      <th>keyword</th>\n",
       "      <th>address_name</th>\n",
       "      <th>category_group_code</th>\n",
       "      <th>category_group_name</th>\n",
       "      <th>category_name</th>\n",
       "      <th>distance</th>\n",
       "      <th>id</th>\n",
       "      <th>phone</th>\n",
       "      <th>place_name</th>\n",
       "      <th>place_url</th>\n",
       "      <th>road_address_name</th>\n",
       "      <th>x</th>\n",
       "      <th>y</th>\n",
       "      <th>rating</th>\n",
       "      <th>img_link</th>\n",
       "    </tr>\n",
       "  </thead>\n",
       "  <tbody>\n",
       "    <tr>\n",
       "      <th>0</th>\n",
       "      <td>테마파크</td>\n",
       "      <td>제주특별자치도 제주시 연동 1320</td>\n",
       "      <td>CT1</td>\n",
       "      <td>관광명소</td>\n",
       "      <td>문화,예술 &gt; 문화시설 &gt; 박물관</td>\n",
       "      <td>NaN</td>\n",
       "      <td>26388484</td>\n",
       "      <td>064-742-3700</td>\n",
       "      <td>수목원테마파크 아이스뮤지엄</td>\n",
       "      <td>http://place.map.kakao.com/26388484</td>\n",
       "      <td>제주특별자치도 제주시 은수길 69</td>\n",
       "      <td>126.488398</td>\n",
       "      <td>33.470777</td>\n",
       "      <td>1.0</td>\n",
       "      <td>https://img1.kakaocdn.net/relay/local/R640x320...</td>\n",
       "    </tr>\n",
       "  </tbody>\n",
       "</table>\n",
       "</div>"
      ],
      "text/plain": [
       "  keyword         address_name category_group_code category_group_name  \\\n",
       "0    테마파크  제주특별자치도 제주시 연동 1320                 CT1                관광명소   \n",
       "\n",
       "        category_name  distance        id         phone      place_name  \\\n",
       "0  문화,예술 > 문화시설 > 박물관       NaN  26388484  064-742-3700  수목원테마파크 아이스뮤지엄   \n",
       "\n",
       "                             place_url   road_address_name           x  \\\n",
       "0  http://place.map.kakao.com/26388484  제주특별자치도 제주시 은수길 69  126.488398   \n",
       "\n",
       "           y  rating                                           img_link  \n",
       "0  33.470777     1.0  https://img1.kakaocdn.net/relay/local/R640x320...  "
      ]
     },
     "metadata": {},
     "output_type": "display_data"
    }
   ],
   "source": [
    "jeju_poi.head(1)"
   ]
  },
  {
   "cell_type": "markdown",
   "metadata": {},
   "source": [
    "#### 1. 사용할 이미지 확인"
   ]
  },
  {
   "cell_type": "markdown",
   "metadata": {},
   "source": [
    "- 로고, 장소와 다른 이미지를 삭제하고 남은 이미지 확인\n",
    "  - 파일명 : (idx)_(plac ename).jpg\n",
    "- .jpg를 삭제하고 '_'를 기준으로 split"
   ]
  },
  {
   "cell_type": "code",
   "execution_count": null,
   "metadata": {},
   "outputs": [
    {
     "name": "stdout",
     "output_type": "stream",
     "text": [
      "관광명소\n",
      "음식점\n",
      "카페\n"
     ]
    }
   ],
   "source": [
    "import os\n",
    "\n",
    "path = './data/220118/_제주도_POI_IMAGE/'\n",
    "use_idx = []\n",
    "for dir_name in os.listdir(path):\n",
    "    print(dir_name)\n",
    "    for image in os.listdir(path + dir_name):\n",
    "        image = image.replace('.jpg', '')\n",
    "        idx, p_name = image.split('_')\n",
    "        use_idx.append(int(idx))"
   ]
  },
  {
   "cell_type": "code",
   "execution_count": null,
   "metadata": {},
   "outputs": [
    {
     "data": {
      "text/plain": [
       "([0, 1031, 1032, 1035, 1036, 1037, 1039, 1045, 1046, 1047], 2306)"
      ]
     },
     "metadata": {},
     "output_type": "display_data"
    }
   ],
   "source": [
    "use_idx[:10], len(use_idx)"
   ]
  },
  {
   "cell_type": "markdown",
   "metadata": {},
   "source": [
    "#### 2. 남은 이미지만 사용"
   ]
  },
  {
   "cell_type": "markdown",
   "metadata": {},
   "source": [
    "- use_idx를 이용하여 해당하는 인덱스만 사용"
   ]
  },
  {
   "cell_type": "code",
   "execution_count": null,
   "metadata": {},
   "outputs": [],
   "source": [
    "use_idx.sort()"
   ]
  },
  {
   "cell_type": "code",
   "execution_count": null,
   "metadata": {},
   "outputs": [],
   "source": [
    "jeju_use = jeju_poi.loc[use_idx, :].copy()"
   ]
  },
  {
   "cell_type": "code",
   "execution_count": null,
   "metadata": {},
   "outputs": [
    {
     "name": "stdout",
     "output_type": "stream",
     "text": [
      "<class 'pandas.core.frame.DataFrame'>\n",
      "Int64Index: 2306 entries, 0 to 5740\n",
      "Data columns (total 15 columns):\n",
      " #   Column               Non-Null Count  Dtype  \n",
      "---  ------               --------------  -----  \n",
      " 0   keyword              2306 non-null   object \n",
      " 1   address_name         2306 non-null   object \n",
      " 2   category_group_code  2306 non-null   object \n",
      " 3   category_group_name  2306 non-null   object \n",
      " 4   category_name        2306 non-null   object \n",
      " 5   distance             0 non-null      float64\n",
      " 6   id                   2306 non-null   int64  \n",
      " 7   phone                1588 non-null   object \n",
      " 8   place_name           2306 non-null   object \n",
      " 9   place_url            2306 non-null   object \n",
      " 10  road_address_name    1989 non-null   object \n",
      " 11  x                    2306 non-null   float64\n",
      " 12  y                    2306 non-null   float64\n",
      " 13  rating               2306 non-null   float64\n",
      " 14  img_link             2306 non-null   object \n",
      "dtypes: float64(4), int64(1), object(10)\n",
      "memory usage: 288.2+ KB\n"
     ]
    }
   ],
   "source": [
    "jeju_use.info()"
   ]
  },
  {
   "cell_type": "code",
   "execution_count": null,
   "metadata": {},
   "outputs": [
    {
     "data": {
      "text/html": [
       "<div>\n",
       "<style scoped>\n",
       "    .dataframe tbody tr th:only-of-type {\n",
       "        vertical-align: middle;\n",
       "    }\n",
       "\n",
       "    .dataframe tbody tr th {\n",
       "        vertical-align: top;\n",
       "    }\n",
       "\n",
       "    .dataframe thead th {\n",
       "        text-align: right;\n",
       "    }\n",
       "</style>\n",
       "<table border=\"1\" class=\"dataframe\">\n",
       "  <thead>\n",
       "    <tr style=\"text-align: right;\">\n",
       "      <th></th>\n",
       "      <th>keyword</th>\n",
       "      <th>address_name</th>\n",
       "      <th>category_group_code</th>\n",
       "      <th>category_group_name</th>\n",
       "      <th>category_name</th>\n",
       "      <th>distance</th>\n",
       "      <th>id</th>\n",
       "      <th>phone</th>\n",
       "      <th>place_name</th>\n",
       "      <th>place_url</th>\n",
       "      <th>road_address_name</th>\n",
       "      <th>x</th>\n",
       "      <th>y</th>\n",
       "      <th>rating</th>\n",
       "      <th>img_link</th>\n",
       "    </tr>\n",
       "  </thead>\n",
       "  <tbody>\n",
       "    <tr>\n",
       "      <th>0</th>\n",
       "      <td>테마파크</td>\n",
       "      <td>제주특별자치도 제주시 연동 1320</td>\n",
       "      <td>CT1</td>\n",
       "      <td>관광명소</td>\n",
       "      <td>문화,예술 &gt; 문화시설 &gt; 박물관</td>\n",
       "      <td>NaN</td>\n",
       "      <td>26388484</td>\n",
       "      <td>064-742-3700</td>\n",
       "      <td>수목원테마파크 아이스뮤지엄</td>\n",
       "      <td>http://place.map.kakao.com/26388484</td>\n",
       "      <td>제주특별자치도 제주시 은수길 69</td>\n",
       "      <td>126.488398</td>\n",
       "      <td>33.470777</td>\n",
       "      <td>1.0</td>\n",
       "      <td>https://img1.kakaocdn.net/relay/local/R640x320...</td>\n",
       "    </tr>\n",
       "  </tbody>\n",
       "</table>\n",
       "</div>"
      ],
      "text/plain": [
       "  keyword         address_name category_group_code category_group_name  \\\n",
       "0    테마파크  제주특별자치도 제주시 연동 1320                 CT1                관광명소   \n",
       "\n",
       "        category_name  distance        id         phone      place_name  \\\n",
       "0  문화,예술 > 문화시설 > 박물관       NaN  26388484  064-742-3700  수목원테마파크 아이스뮤지엄   \n",
       "\n",
       "                             place_url   road_address_name           x  \\\n",
       "0  http://place.map.kakao.com/26388484  제주특별자치도 제주시 은수길 69  126.488398   \n",
       "\n",
       "           y  rating                                           img_link  \n",
       "0  33.470777     1.0  https://img1.kakaocdn.net/relay/local/R640x320...  "
      ]
     },
     "metadata": {},
     "output_type": "display_data"
    }
   ],
   "source": [
    "jeju_use.head(1)"
   ]
  },
  {
   "cell_type": "markdown",
   "metadata": {},
   "source": [
    "#### 3. 데이터 저장"
   ]
  },
  {
   "cell_type": "code",
   "execution_count": null,
   "metadata": {},
   "outputs": [],
   "source": [
    "# jeju_use.to_excel('./data/220118/_제주도_POI_final_use.xlsx')"
   ]
  },
  {
   "cell_type": "markdown",
   "metadata": {},
   "source": [
    "##### ◽ㅇ"
   ]
  },
  {
   "cell_type": "markdown",
   "metadata": {},
   "source": [
    "### - 이미지 RESIZE"
   ]
  },
  {
   "cell_type": "markdown",
   "metadata": {},
   "source": [
    "- 이미지의 크기가 다르기 때문에 동일한 크기로 조절\n",
    "  - 현재 : (256, 256)"
   ]
  },
  {
   "cell_type": "markdown",
   "metadata": {},
   "source": [
    "#### 1. 이미지 Path 확인"
   ]
  },
  {
   "cell_type": "markdown",
   "metadata": {},
   "source": [
    "- 폴더별로 이미지가 나누어져 있으므로 폴더를 key 값으로 dict형 구성"
   ]
  },
  {
   "cell_type": "code",
   "execution_count": null,
   "metadata": {},
   "outputs": [
    {
     "name": "stdout",
     "output_type": "stream",
     "text": [
      "관광명소\n",
      "음식점\n",
      "카페\n"
     ]
    }
   ],
   "source": [
    "import os\n",
    "\n",
    "path = './data/220118/_제주도_POI_IMAGE/'\n",
    "image_path = {'관광명소' : [], '음식점' : [], '카페' : []}\n",
    "for dir_name in os.listdir(path):\n",
    "    print(dir_name)\n",
    "    for image in os.listdir(path + dir_name):\n",
    "        image_path[dir_name].append(path + dir_name + '/' + image)"
   ]
  },
  {
   "cell_type": "code",
   "execution_count": null,
   "metadata": {},
   "outputs": [
    {
     "data": {
      "text/plain": [
       "(['./data/220118/_제주도_POI_IMAGE/관광명소/0_수목원테마파크 아이스뮤지엄.jpg',\n",
       "  './data/220118/_제주도_POI_IMAGE/관광명소/1031_메이즈랜드.jpg'],\n",
       " ['./data/220118/_제주도_POI_IMAGE/음식점/1003_화랑스시.jpg',\n",
       "  './data/220118/_제주도_POI_IMAGE/음식점/1005_폭폭.jpg'],\n",
       " ['./data/220118/_제주도_POI_IMAGE/카페/1014_퍼시몬.jpg',\n",
       "  './data/220118/_제주도_POI_IMAGE/카페/1020_플로레종.jpg'])"
      ]
     },
     "metadata": {},
     "output_type": "display_data"
    }
   ],
   "source": [
    "image_path['관광명소'][:2], image_path['음식점'][:2], image_path['카페'][:2]"
   ]
  },
  {
   "cell_type": "markdown",
   "metadata": {},
   "source": [
    "#### 2. 이미지 Resize"
   ]
  },
  {
   "cell_type": "markdown",
   "metadata": {},
   "source": [
    "##### ◽PIL 사용"
   ]
  },
  {
   "cell_type": "markdown",
   "metadata": {},
   "source": [
    "- jpg의 경우 중간에 오류가 발생하여 png로 변경"
   ]
  },
  {
   "cell_type": "code",
   "execution_count": null,
   "metadata": {},
   "outputs": [],
   "source": [
    "from PIL import Image\n",
    "\n",
    "home = 'C:/Users/Isanghada/Desktop/테스트/'\n",
    "for kind in image_path.keys():\n",
    "    for image in image_path[kind]:    \n",
    "        name = image.split('/')[-1]\n",
    "        img = Image.open(image)\n",
    "        img.resize((256, 256)).save(home+kind+'/'+name[:-3]+'png', 'png')"
   ]
  }
 ],
 "metadata": {
  "interpreter": {
   "hash": "51b46dc78c05e2d39b28ced298f5e3e2fec06f080b2991ae6dc0981efed4b363"
  },
  "kernelspec": {
   "display_name": "Python 3.8.11 64-bit ('ds_study(38)': conda)",
   "language": "python",
   "name": "python3"
  },
  "language_info": {
   "codemirror_mode": {
    "name": "ipython",
    "version": 3
   },
   "file_extension": ".py",
   "mimetype": "text/x-python",
   "name": "python",
   "nbconvert_exporter": "python",
   "pygments_lexer": "ipython3",
   "version": "3.8.11"
  },
  "orig_nbformat": 4
 },
 "nbformat": 4,
 "nbformat_minor": 2
}
